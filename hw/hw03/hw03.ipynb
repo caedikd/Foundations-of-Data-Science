{
 "cells": [
  {
   "cell_type": "code",
   "execution_count": 1,
   "metadata": {
    "deletable": false,
    "editable": false
   },
   "outputs": [
    {
     "name": "stdout",
     "output_type": "stream",
     "text": [
      "=====================================================================\n",
      "Assignment: Homework 3: Table Manipulation and Visualization\n",
      "OK, version v1.18.1\n",
      "=====================================================================\n",
      "\n"
     ]
    }
   ],
   "source": [
    "# Initialize OK\n",
    "from client.api.notebook import Notebook\n",
    "ok = Notebook('hw03.ok')"
   ]
  },
  {
   "cell_type": "markdown",
   "metadata": {},
   "source": [
    "# Homework 3: Table Manipulation and Visualization"
   ]
  },
  {
   "cell_type": "markdown",
   "metadata": {},
   "source": [
    "**Helpful Resource:**\n",
    "- [Python Reference](http://data8.org/sp21/python-reference.html): Cheat sheet of helpful array & table methods used in Data 8!\n",
    "\n",
    "**Reading**: \n",
    "* [Visualization](https://www.inferentialthinking.com/chapters/07/visualization.html)"
   ]
  },
  {
   "cell_type": "markdown",
   "metadata": {},
   "source": [
    "Please complete this notebook by filling in the cells provided. Before you begin, execute the following cell to load the provided tests. Each time you start your server, you will need to execute this cell again to load the tests.\n",
    "\n",
    "For all problems that you must write explanations and sentences for, you **must** provide your answer in the designated space. **Moreover, throughout this homework and all future ones, please be sure to not re-assign variables throughout the notebook!** For example, if you use `max_temperature` in your answer to one question, do not reassign it later on. Otherwise, you will fail tests that you thought you were passing previously!\n",
    "\n",
    "**Deadline:**\n",
    "\n",
    "This assignment is due Thursday, February 11 at 11:59 P.M PST. You will receive an early submission bonus point if you turn in your final submission by Wednesday, February 10 at 11:59 P.M PST. Late work will not be accepted as per the [policies](http://data8.org/sp21/policies.html) page.\n",
    "\n",
    "\n",
    "### **Note: This homework has hidden tests on it. That means even though tests may say 100% passed, doesn't mean your final grade will be 100%. We will be running more tests for correctness once everyone turns in the homework.**\n",
    "\n",
    "\n",
    "Directly sharing answers is not okay, but discussing problems with the course staff or with other students is encouraged. Refer to the policies page to learn more about how to learn cooperatively.\n",
    "\n",
    "You should start early so that you have time to get help if you're stuck. Office hours are held Monday-Friday. The schedule appears on [http://data8.org/sp21/office-hours.html](http://data8.org/sp21/office-hours.html)."
   ]
  },
  {
   "cell_type": "code",
   "execution_count": 2,
   "metadata": {},
   "outputs": [
    {
     "name": "stdout",
     "output_type": "stream",
     "text": [
      "=====================================================================\n",
      "Assignment: Homework 3: Table Manipulation and Visualization\n",
      "OK, version v1.18.1\n",
      "=====================================================================\n",
      "\n",
      "\n",
      "Open the following URL:\n",
      "\n",
      "https://okpy.org/client/login/\n",
      "\n",
      "After logging in, copy the code from the web page and paste it into the box.\n",
      "Then press the \"Enter\" key on your keyboard.\n",
      "\n",
      "Paste your code here: GjeACRDD4Us9g0D2UVlxvq3QVaiTNg\n",
      "Successfully logged in as caediseim@berkeley.edu\n",
      "Successfully logged in as caediseim@berkeley.edu\n"
     ]
    }
   ],
   "source": [
    "# Don't change this cell; just run it. \n",
    "\n",
    "import numpy as np\n",
    "from datascience import *\n",
    "\n",
    "\n",
    "# These lines do some fancy plotting magic.\\n\",\n",
    "import matplotlib\n",
    "%matplotlib inline\n",
    "import matplotlib.pyplot as plots\n",
    "plots.style.use('fivethirtyeight')\n",
    "\n",
    "from client.api.notebook import *\n",
    "def new_save_notebook(self):\n",
    "    \"\"\" Saves the current notebook by\n",
    "        injecting JavaScript to save to .ipynb file.\n",
    "    \"\"\"\n",
    "    try:\n",
    "        from IPython.display import display, Javascript\n",
    "    except ImportError:\n",
    "        log.warning(\"Could not import IPython Display Function\")\n",
    "        print(\"Make sure to save your notebook before sending it to OK!\")\n",
    "        return\n",
    "\n",
    "    if self.mode == \"jupyter\":\n",
    "        display(Javascript('IPython.notebook.save_checkpoint();'))\n",
    "        display(Javascript('IPython.notebook.save_notebook();'))\n",
    "    elif self.mode == \"jupyterlab\":\n",
    "        display(Javascript('document.querySelector(\\'[data-command=\"docmanager:save\"]\\').click();'))   \n",
    "\n",
    "    print('Saving notebook...', end=' ')\n",
    "\n",
    "    ipynbs = [path for path in self.assignment.src\n",
    "              if os.path.splitext(path)[1] == '.ipynb']\n",
    "    # Wait for first .ipynb to save\n",
    "    if ipynbs:\n",
    "        if wait_for_save(ipynbs[0]):\n",
    "            print(\"Saved '{}'.\".format(ipynbs[0]))\n",
    "        else:\n",
    "            log.warning(\"Timed out waiting for IPython save\")\n",
    "            print(\"Could not automatically save \\'{}\\'\".format(ipynbs[0]))\n",
    "            print(\"Make sure your notebook\"\n",
    "                  \" is correctly named and saved before submitting to OK!\".format(ipynbs[0]))\n",
    "            return False                \n",
    "    else:\n",
    "        print(\"No valid file sources found\")\n",
    "    return True\n",
    "\n",
    "def wait_for_save(filename, timeout=600):\n",
    "    \"\"\"Waits for FILENAME to update, waiting up to TIMEOUT seconds.\n",
    "    Returns True if a save was detected, and False otherwise.\n",
    "    \"\"\"\n",
    "    modification_time = os.path.getmtime(filename)\n",
    "    start_time = time.time()\n",
    "    while time.time() < start_time + timeout:\n",
    "        if (os.path.getmtime(filename) > modification_time and\n",
    "            os.path.getsize(filename) > 0):\n",
    "            return True\n",
    "        time.sleep(0.2)\n",
    "    print(\"\\nERROR!\\n YOUR SUBMISSION DID NOT GO THROUGH. PLEASE TRY AGAIN. IF THIS PROBLEM PERSISTS POST ON PIAZZA RIGHT AWAY.\\n ERROR!\" + \"\\n\" * 20)\n",
    "\n",
    "    return False\n",
    "\n",
    "Notebook.save_notebook = new_save_notebook\n",
    "\n",
    "ok = Notebook('hw03.ok')\n",
    "ok.auth(force=True) \n",
    "_ = ok.auth(inline=True)"
   ]
  },
  {
   "cell_type": "markdown",
   "metadata": {},
   "source": [
    "Before continuing the assignment, select \"Save and Checkpoint\" in the File menu and then execute the submit cell below. The result will contain a link that you can use to check that your assignment has been submitted successfully. If you submit more than once before the deadline, we will only grade your final submission. If you mistakenly submit the wrong one, you can head to okpy.org and flag the correct version. There will be another submit cell at the end of the assignment when you finish!"
   ]
  },
  {
   "cell_type": "code",
   "execution_count": 3,
   "metadata": {},
   "outputs": [
    {
     "data": {
      "application/javascript": [
       "IPython.notebook.save_checkpoint();"
      ],
      "text/plain": [
       "<IPython.core.display.Javascript object>"
      ]
     },
     "metadata": {},
     "output_type": "display_data"
    },
    {
     "data": {
      "application/javascript": [
       "IPython.notebook.save_notebook();"
      ],
      "text/plain": [
       "<IPython.core.display.Javascript object>"
      ]
     },
     "metadata": {},
     "output_type": "display_data"
    },
    {
     "name": "stdout",
     "output_type": "stream",
     "text": [
      "Saving notebook... Saved 'hw03.ipynb'.\n",
      "Submit... 100% complete\n",
      "Submission successful for user: caediseim@berkeley.edu\n",
      "URL: https://okpy.org/cal/data8/sp21/hw03/submissions/0LPZl5\n",
      "\n"
     ]
    }
   ],
   "source": [
    "_ = ok.submit()"
   ]
  },
  {
   "cell_type": "markdown",
   "metadata": {},
   "source": [
    "## 1. Unemployment\n"
   ]
  },
  {
   "cell_type": "markdown",
   "metadata": {},
   "source": [
    "The Federal Reserve Bank of St. Louis publishes data about jobs in the US.  Below, we've loaded data on unemployment in the United States. There are many ways of defining unemployment, and our dataset includes two notions of the unemployment rate:\n",
    "\n",
    "1. Among people who are able to work and are looking for a full-time job, the percentage who can't find a job.  This is called the Non-Employment Index, or NEI.\n",
    "2. Among people who are able to work and are looking for a full-time job, the percentage who can't find any job *or* are only working at a part-time job.  The latter group is called \"Part-Time for Economic Reasons\", so the acronym for this index is NEI-PTER.  (Economists are great at marketing.)\n",
    "\n",
    "The source of the data is [here](https://fred.stlouisfed.org/categories/33509)."
   ]
  },
  {
   "cell_type": "markdown",
   "metadata": {
    "deletable": false,
    "editable": false
   },
   "source": [
    "**Question 1.** The data are in a CSV file called `unemployment.csv`.  Load that file into a table called `unemployment`.\n",
    "\n",
    "<!--\n",
    "BEGIN QUESTION\n",
    "name: q1_1\n",
    "-->"
   ]
  },
  {
   "cell_type": "code",
   "execution_count": 4,
   "metadata": {},
   "outputs": [
    {
     "data": {
      "text/html": [
       "<table border=\"1\" class=\"dataframe\">\n",
       "    <thead>\n",
       "        <tr>\n",
       "            <th>Date</th> <th>NEI</th> <th>NEI-PTER</th>\n",
       "        </tr>\n",
       "    </thead>\n",
       "    <tbody>\n",
       "        <tr>\n",
       "            <td>1994-01-01</td> <td>10.0974</td> <td>11.172  </td>\n",
       "        </tr>\n",
       "        <tr>\n",
       "            <td>1994-04-01</td> <td>9.6239 </td> <td>10.7883 </td>\n",
       "        </tr>\n",
       "        <tr>\n",
       "            <td>1994-07-01</td> <td>9.3276 </td> <td>10.4831 </td>\n",
       "        </tr>\n",
       "        <tr>\n",
       "            <td>1994-10-01</td> <td>9.1071 </td> <td>10.2361 </td>\n",
       "        </tr>\n",
       "        <tr>\n",
       "            <td>1995-01-01</td> <td>8.9693 </td> <td>10.1832 </td>\n",
       "        </tr>\n",
       "        <tr>\n",
       "            <td>1995-04-01</td> <td>9.0314 </td> <td>10.1071 </td>\n",
       "        </tr>\n",
       "        <tr>\n",
       "            <td>1995-07-01</td> <td>8.9802 </td> <td>10.1084 </td>\n",
       "        </tr>\n",
       "        <tr>\n",
       "            <td>1995-10-01</td> <td>8.9932 </td> <td>10.1046 </td>\n",
       "        </tr>\n",
       "        <tr>\n",
       "            <td>1996-01-01</td> <td>9.0002 </td> <td>10.0531 </td>\n",
       "        </tr>\n",
       "        <tr>\n",
       "            <td>1996-04-01</td> <td>8.9038 </td> <td>9.9782  </td>\n",
       "        </tr>\n",
       "    </tbody>\n",
       "</table>\n",
       "<p>... (80 rows omitted)</p>"
      ],
      "text/plain": [
       "Date       | NEI     | NEI-PTER\n",
       "1994-01-01 | 10.0974 | 11.172\n",
       "1994-04-01 | 9.6239  | 10.7883\n",
       "1994-07-01 | 9.3276  | 10.4831\n",
       "1994-10-01 | 9.1071  | 10.2361\n",
       "1995-01-01 | 8.9693  | 10.1832\n",
       "1995-04-01 | 9.0314  | 10.1071\n",
       "1995-07-01 | 8.9802  | 10.1084\n",
       "1995-10-01 | 8.9932  | 10.1046\n",
       "1996-01-01 | 9.0002  | 10.0531\n",
       "1996-04-01 | 8.9038  | 9.9782\n",
       "... (80 rows omitted)"
      ]
     },
     "execution_count": 4,
     "metadata": {},
     "output_type": "execute_result"
    }
   ],
   "source": [
    "unemployment = Table.read_table('unemployment.csv')\n",
    "unemployment"
   ]
  },
  {
   "cell_type": "code",
   "execution_count": 5,
   "metadata": {
    "deletable": false,
    "editable": false
   },
   "outputs": [
    {
     "name": "stdout",
     "output_type": "stream",
     "text": [
      "~~~~~~~~~~~~~~~~~~~~~~~~~~~~~~~~~~~~~~~~~~~~~~~~~~~~~~~~~~~~~~~~~~~~~\n",
      "Running tests\n",
      "\n",
      "---------------------------------------------------------------------\n",
      "Test summary\n",
      "    Passed: 1\n",
      "    Failed: 0\n",
      "[ooooooooook] 100.0% passed\n",
      "\n"
     ]
    }
   ],
   "source": [
    "ok.grade(\"q1_1\");"
   ]
  },
  {
   "cell_type": "markdown",
   "metadata": {
    "deletable": false,
    "editable": false
   },
   "source": [
    "**Question 2.** Sort the data in descending order by NEI, naming the sorted table `by_nei`.  Create another table called `by_nei_pter` that's sorted in descending order by NEI-PTER instead.\n",
    "\n",
    "<!--\n",
    "BEGIN QUESTION\n",
    "name: q1_2\n",
    "-->"
   ]
  },
  {
   "cell_type": "code",
   "execution_count": 6,
   "metadata": {},
   "outputs": [],
   "source": [
    "by_nei = unemployment.sort('NEI', descending=True)\n",
    "by_nei_pter = unemployment.sort('NEI-PTER', descending=True)"
   ]
  },
  {
   "cell_type": "code",
   "execution_count": 7,
   "metadata": {
    "deletable": false,
    "editable": false
   },
   "outputs": [
    {
     "name": "stdout",
     "output_type": "stream",
     "text": [
      "~~~~~~~~~~~~~~~~~~~~~~~~~~~~~~~~~~~~~~~~~~~~~~~~~~~~~~~~~~~~~~~~~~~~~\n",
      "Running tests\n",
      "\n",
      "---------------------------------------------------------------------\n",
      "Test summary\n",
      "    Passed: 2\n",
      "    Failed: 0\n",
      "[ooooooooook] 100.0% passed\n",
      "\n"
     ]
    }
   ],
   "source": [
    "ok.grade(\"q1_2\");"
   ]
  },
  {
   "cell_type": "code",
   "execution_count": 8,
   "metadata": {},
   "outputs": [
    {
     "data": {
      "text/html": [
       "<table border=\"1\" class=\"dataframe\">\n",
       "    <thead>\n",
       "        <tr>\n",
       "            <th>Date</th> <th>NEI</th> <th>NEI-PTER</th>\n",
       "        </tr>\n",
       "    </thead>\n",
       "    <tbody>\n",
       "        <tr>\n",
       "            <td>2009-10-01</td> <td>10.9698</td> <td>12.8557 </td>\n",
       "        </tr>\n",
       "        <tr>\n",
       "            <td>2010-01-01</td> <td>10.9054</td> <td>12.7311 </td>\n",
       "        </tr>\n",
       "        <tr>\n",
       "            <td>2009-07-01</td> <td>10.8089</td> <td>12.7404 </td>\n",
       "        </tr>\n",
       "        <tr>\n",
       "            <td>2009-04-01</td> <td>10.7082</td> <td>12.5497 </td>\n",
       "        </tr>\n",
       "        <tr>\n",
       "            <td>2010-04-01</td> <td>10.6597</td> <td>12.5664 </td>\n",
       "        </tr>\n",
       "    </tbody>\n",
       "</table>\n",
       "<p>... (85 rows omitted)</p>"
      ],
      "text/plain": [
       "<IPython.core.display.HTML object>"
      ]
     },
     "metadata": {},
     "output_type": "display_data"
    }
   ],
   "source": [
    "# Run this cell to check your by_nei table. You do not need to change the code.\n",
    "by_nei.show(5)"
   ]
  },
  {
   "cell_type": "code",
   "execution_count": 9,
   "metadata": {},
   "outputs": [
    {
     "data": {
      "text/html": [
       "<table border=\"1\" class=\"dataframe\">\n",
       "    <thead>\n",
       "        <tr>\n",
       "            <th>Date</th> <th>NEI</th> <th>NEI-PTER</th>\n",
       "        </tr>\n",
       "    </thead>\n",
       "    <tbody>\n",
       "        <tr>\n",
       "            <td>2009-10-01</td> <td>10.9698</td> <td>12.8557 </td>\n",
       "        </tr>\n",
       "        <tr>\n",
       "            <td>2009-07-01</td> <td>10.8089</td> <td>12.7404 </td>\n",
       "        </tr>\n",
       "        <tr>\n",
       "            <td>2010-01-01</td> <td>10.9054</td> <td>12.7311 </td>\n",
       "        </tr>\n",
       "        <tr>\n",
       "            <td>2010-04-01</td> <td>10.6597</td> <td>12.5664 </td>\n",
       "        </tr>\n",
       "        <tr>\n",
       "            <td>2009-04-01</td> <td>10.7082</td> <td>12.5497 </td>\n",
       "        </tr>\n",
       "    </tbody>\n",
       "</table>\n",
       "<p>... (85 rows omitted)</p>"
      ],
      "text/plain": [
       "<IPython.core.display.HTML object>"
      ]
     },
     "metadata": {},
     "output_type": "display_data"
    }
   ],
   "source": [
    "# Run this cell to check your by_nei_pter table. You do not need to change the code.\n",
    "by_nei_pter.show(5)"
   ]
  },
  {
   "cell_type": "markdown",
   "metadata": {
    "deletable": false,
    "editable": false
   },
   "source": [
    "**Question 3.** Use `take` to make a table containing the data for the 11 quarters when NEI was greatest.  Call that table `greatest_nei`.\n",
    "\n",
    "`greatest_nei` should be sorted in descending order of `NEI`. Note that each row of `unemployment` represents a quarter.\n",
    "\n",
    "<!--\n",
    "BEGIN QUESTION\n",
    "name: q1_3\n",
    "-->"
   ]
  },
  {
   "cell_type": "code",
   "execution_count": 10,
   "metadata": {},
   "outputs": [
    {
     "data": {
      "text/html": [
       "<table border=\"1\" class=\"dataframe\">\n",
       "    <thead>\n",
       "        <tr>\n",
       "            <th>Date</th> <th>NEI</th> <th>NEI-PTER</th>\n",
       "        </tr>\n",
       "    </thead>\n",
       "    <tbody>\n",
       "        <tr>\n",
       "            <td>2009-10-01</td> <td>10.9698</td> <td>12.8557 </td>\n",
       "        </tr>\n",
       "        <tr>\n",
       "            <td>2010-01-01</td> <td>10.9054</td> <td>12.7311 </td>\n",
       "        </tr>\n",
       "        <tr>\n",
       "            <td>2009-07-01</td> <td>10.8089</td> <td>12.7404 </td>\n",
       "        </tr>\n",
       "        <tr>\n",
       "            <td>2009-04-01</td> <td>10.7082</td> <td>12.5497 </td>\n",
       "        </tr>\n",
       "        <tr>\n",
       "            <td>2010-04-01</td> <td>10.6597</td> <td>12.5664 </td>\n",
       "        </tr>\n",
       "        <tr>\n",
       "            <td>2010-10-01</td> <td>10.5856</td> <td>12.4329 </td>\n",
       "        </tr>\n",
       "        <tr>\n",
       "            <td>2010-07-01</td> <td>10.5521</td> <td>12.3897 </td>\n",
       "        </tr>\n",
       "        <tr>\n",
       "            <td>2011-01-01</td> <td>10.5024</td> <td>12.3017 </td>\n",
       "        </tr>\n",
       "        <tr>\n",
       "            <td>2011-07-01</td> <td>10.4856</td> <td>12.2507 </td>\n",
       "        </tr>\n",
       "        <tr>\n",
       "            <td>2011-04-01</td> <td>10.4409</td> <td>12.247  </td>\n",
       "        </tr>\n",
       "    </tbody>\n",
       "</table>\n",
       "<p>... (1 rows omitted)</p>"
      ],
      "text/plain": [
       "Date       | NEI     | NEI-PTER\n",
       "2009-10-01 | 10.9698 | 12.8557\n",
       "2010-01-01 | 10.9054 | 12.7311\n",
       "2009-07-01 | 10.8089 | 12.7404\n",
       "2009-04-01 | 10.7082 | 12.5497\n",
       "2010-04-01 | 10.6597 | 12.5664\n",
       "2010-10-01 | 10.5856 | 12.4329\n",
       "2010-07-01 | 10.5521 | 12.3897\n",
       "2011-01-01 | 10.5024 | 12.3017\n",
       "2011-07-01 | 10.4856 | 12.2507\n",
       "2011-04-01 | 10.4409 | 12.247\n",
       "... (1 rows omitted)"
      ]
     },
     "execution_count": 10,
     "metadata": {},
     "output_type": "execute_result"
    }
   ],
   "source": [
    "greatest_nei = by_nei.take(np.arange(0, 11))\n",
    "greatest_nei"
   ]
  },
  {
   "cell_type": "code",
   "execution_count": 11,
   "metadata": {
    "deletable": false,
    "editable": false
   },
   "outputs": [
    {
     "name": "stdout",
     "output_type": "stream",
     "text": [
      "~~~~~~~~~~~~~~~~~~~~~~~~~~~~~~~~~~~~~~~~~~~~~~~~~~~~~~~~~~~~~~~~~~~~~\n",
      "Running tests\n",
      "\n",
      "---------------------------------------------------------------------\n",
      "Test summary\n",
      "    Passed: 1\n",
      "    Failed: 0\n",
      "[ooooooooook] 100.0% passed\n",
      "\n"
     ]
    }
   ],
   "source": [
    "ok.grade(\"q1_3\");"
   ]
  },
  {
   "cell_type": "markdown",
   "metadata": {
    "deletable": false,
    "editable": false
   },
   "source": [
    "**Question 4.** It's believed that many people became PTER (recall: \"Part-Time for Economic Reasons\") in the \"Great Recession\" of 2008-2009.  NEI-PTER is the percentage of people who are unemployed (included in the NEI) plus the percentage of people who are PTER.  Compute an array containing the percentage of people who were PTER in each quarter.  (The first element of the array should correspond to the first row of `unemployment`, and so on.)\n",
    "\n",
    "*Note:* Use the original `unemployment` table for this.\n",
    "\n",
    "<!--\n",
    "BEGIN QUESTION\n",
    "name: q1_4\n",
    "-->"
   ]
  },
  {
   "cell_type": "code",
   "execution_count": 12,
   "metadata": {},
   "outputs": [
    {
     "data": {
      "text/plain": [
       "array([1.0746, 1.1644, 1.1555, 1.129 , 1.2139, 1.0757, 1.1282, 1.1114,\n",
       "       1.0529, 1.0744, 1.1004, 1.0747, 1.0705, 1.0455, 1.008 , 0.9734,\n",
       "       0.9753, 0.8931, 0.9451, 0.8367, 0.8208, 0.8105, 0.8248, 0.7578,\n",
       "       0.7251, 0.7445, 0.7543, 0.7423, 0.7399, 0.7687, 0.8418, 0.9923,\n",
       "       0.9181, 0.9629, 0.9703, 0.9575, 1.0333, 1.0781, 1.0675, 1.0354,\n",
       "       1.0601, 1.01  , 1.0042, 1.0368, 0.9704, 0.923 , 0.9759, 0.93  ,\n",
       "       0.889 , 0.821 , 0.9409, 0.955 , 0.898 , 0.8948, 0.9523, 0.9579,\n",
       "       1.0149, 1.0762, 1.2873, 1.4335, 1.7446, 1.8415, 1.9315, 1.8859,\n",
       "       1.8257, 1.9067, 1.8376, 1.8473, 1.7993, 1.8061, 1.7651, 1.7927,\n",
       "       1.7286, 1.6387, 1.6808, 1.6805, 1.6629, 1.6253, 1.6477, 1.6298,\n",
       "       1.4796, 1.5131, 1.4866, 1.4345, 1.3675, 1.3097, 1.2319, 1.1735,\n",
       "       1.1844, 1.1746])"
      ]
     },
     "execution_count": 12,
     "metadata": {},
     "output_type": "execute_result"
    }
   ],
   "source": [
    "pter = unemployment.column(2) - unemployment.column(1)\n",
    "pter"
   ]
  },
  {
   "cell_type": "code",
   "execution_count": 13,
   "metadata": {
    "deletable": false,
    "editable": false
   },
   "outputs": [
    {
     "name": "stdout",
     "output_type": "stream",
     "text": [
      "~~~~~~~~~~~~~~~~~~~~~~~~~~~~~~~~~~~~~~~~~~~~~~~~~~~~~~~~~~~~~~~~~~~~~\n",
      "Running tests\n",
      "\n",
      "---------------------------------------------------------------------\n",
      "Test summary\n",
      "    Passed: 2\n",
      "    Failed: 0\n",
      "[ooooooooook] 100.0% passed\n",
      "\n"
     ]
    }
   ],
   "source": [
    "ok.grade(\"q1_4\");"
   ]
  },
  {
   "cell_type": "markdown",
   "metadata": {
    "deletable": false,
    "editable": false
   },
   "source": [
    "**Question 5.** Add `pter` as a column to `unemployment` (name the column \"PTER\") and sort the resulting table by that column in descending order.  Call the resulting table `by_pter`.\n",
    "\n",
    "Try to do this with a single line of code, if you can.\n",
    "\n",
    "<!--\n",
    "BEGIN QUESTION\n",
    "name: q1_5\n",
    "-->"
   ]
  },
  {
   "cell_type": "code",
   "execution_count": 14,
   "metadata": {},
   "outputs": [
    {
     "data": {
      "text/html": [
       "<table border=\"1\" class=\"dataframe\">\n",
       "    <thead>\n",
       "        <tr>\n",
       "            <th>Date</th> <th>NEI</th> <th>NEI-PTER</th> <th>PTER</th>\n",
       "        </tr>\n",
       "    </thead>\n",
       "    <tbody>\n",
       "        <tr>\n",
       "            <td>2009-07-01</td> <td>10.8089</td> <td>12.7404 </td> <td>1.9315</td>\n",
       "        </tr>\n",
       "        <tr>\n",
       "            <td>2010-04-01</td> <td>10.6597</td> <td>12.5664 </td> <td>1.9067</td>\n",
       "        </tr>\n",
       "        <tr>\n",
       "            <td>2009-10-01</td> <td>10.9698</td> <td>12.8557 </td> <td>1.8859</td>\n",
       "        </tr>\n",
       "        <tr>\n",
       "            <td>2010-10-01</td> <td>10.5856</td> <td>12.4329 </td> <td>1.8473</td>\n",
       "        </tr>\n",
       "        <tr>\n",
       "            <td>2009-04-01</td> <td>10.7082</td> <td>12.5497 </td> <td>1.8415</td>\n",
       "        </tr>\n",
       "        <tr>\n",
       "            <td>2010-07-01</td> <td>10.5521</td> <td>12.3897 </td> <td>1.8376</td>\n",
       "        </tr>\n",
       "        <tr>\n",
       "            <td>2010-01-01</td> <td>10.9054</td> <td>12.7311 </td> <td>1.8257</td>\n",
       "        </tr>\n",
       "        <tr>\n",
       "            <td>2011-04-01</td> <td>10.4409</td> <td>12.247  </td> <td>1.8061</td>\n",
       "        </tr>\n",
       "        <tr>\n",
       "            <td>2011-01-01</td> <td>10.5024</td> <td>12.3017 </td> <td>1.7993</td>\n",
       "        </tr>\n",
       "        <tr>\n",
       "            <td>2011-10-01</td> <td>10.3287</td> <td>12.1214 </td> <td>1.7927</td>\n",
       "        </tr>\n",
       "    </tbody>\n",
       "</table>\n",
       "<p>... (80 rows omitted)</p>"
      ],
      "text/plain": [
       "Date       | NEI     | NEI-PTER | PTER\n",
       "2009-07-01 | 10.8089 | 12.7404  | 1.9315\n",
       "2010-04-01 | 10.6597 | 12.5664  | 1.9067\n",
       "2009-10-01 | 10.9698 | 12.8557  | 1.8859\n",
       "2010-10-01 | 10.5856 | 12.4329  | 1.8473\n",
       "2009-04-01 | 10.7082 | 12.5497  | 1.8415\n",
       "2010-07-01 | 10.5521 | 12.3897  | 1.8376\n",
       "2010-01-01 | 10.9054 | 12.7311  | 1.8257\n",
       "2011-04-01 | 10.4409 | 12.247   | 1.8061\n",
       "2011-01-01 | 10.5024 | 12.3017  | 1.7993\n",
       "2011-10-01 | 10.3287 | 12.1214  | 1.7927\n",
       "... (80 rows omitted)"
      ]
     },
     "execution_count": 14,
     "metadata": {},
     "output_type": "execute_result"
    }
   ],
   "source": [
    "by_pter = unemployment.with_column('PTER', pter).sort('PTER', descending=True)\n",
    "by_pter"
   ]
  },
  {
   "cell_type": "code",
   "execution_count": 15,
   "metadata": {
    "deletable": false,
    "editable": false
   },
   "outputs": [
    {
     "name": "stdout",
     "output_type": "stream",
     "text": [
      "~~~~~~~~~~~~~~~~~~~~~~~~~~~~~~~~~~~~~~~~~~~~~~~~~~~~~~~~~~~~~~~~~~~~~\n",
      "Running tests\n",
      "\n",
      "---------------------------------------------------------------------\n",
      "Test summary\n",
      "    Passed: 1\n",
      "    Failed: 0\n",
      "[ooooooooook] 100.0% passed\n",
      "\n"
     ]
    }
   ],
   "source": [
    "ok.grade(\"q1_5\");"
   ]
  },
  {
   "cell_type": "markdown",
   "metadata": {
    "deletable": false,
    "editable": false
   },
   "source": [
    "**Question 6.** \n",
    "\n",
    "Create a line plot of the PTER over time. \n",
    "\n",
    "To do this, create a new table called `pter_over_time` that adds the `year` array and the `pter` array to the `unemployment` table. Label these columns `Year` and `PTER`. Then, generate a line plot using one of the table methods you've learned in class.\n",
    "\n",
    "The order of the columns matter for our correctness tests, so be sure `Year` comes before `PTER`.\n",
    "\n",
    "<!--\n",
    "BEGIN QUESTION\n",
    "name: q1_6\n",
    "-->"
   ]
  },
  {
   "cell_type": "code",
   "execution_count": 16,
   "metadata": {
    "scrolled": false
   },
   "outputs": [
    {
     "data": {
      "image/png": "[encoded data removed]",
      "text/plain": [
       "<Figure size 432x432 with 1 Axes>"
      ]
     },
     "metadata": {},
     "output_type": "display_data"
    }
   ],
   "source": [
    "year = 1994 + np.arange(by_pter.num_rows)/4\n",
    "pter_over_time = unemployment.with_column('Year', year).with_column(\"PTER\", pter)\n",
    "pter_over_time.plot('Year', 'PTER')"
   ]
  },
  {
   "cell_type": "code",
   "execution_count": 17,
   "metadata": {
    "deletable": false,
    "editable": false
   },
   "outputs": [
    {
     "name": "stdout",
     "output_type": "stream",
     "text": [
      "~~~~~~~~~~~~~~~~~~~~~~~~~~~~~~~~~~~~~~~~~~~~~~~~~~~~~~~~~~~~~~~~~~~~~\n",
      "Running tests\n",
      "\n",
      "---------------------------------------------------------------------\n",
      "Test summary\n",
      "    Passed: 1\n",
      "    Failed: 0\n",
      "[ooooooooook] 100.0% passed\n",
      "\n"
     ]
    }
   ],
   "source": [
    "ok.grade(\"q1_6\");"
   ]
  },
  {
   "cell_type": "markdown",
   "metadata": {
    "deletable": false,
    "editable": false
   },
   "source": [
    "**Question 7.** Were PTER rates high during the Great Recession (that is to say, were PTER rates particularly high in the years 2008 through 2011)? Assign highPTER to `True` if you think PTER rates were high in this period, and `False` if you think they weren't. \n",
    "\n",
    "<!--\n",
    "BEGIN QUESTION\n",
    "name: q1_7\n",
    "-->"
   ]
  },
  {
   "cell_type": "code",
   "execution_count": 18,
   "metadata": {},
   "outputs": [],
   "source": [
    "highPTER = True"
   ]
  },
  {
   "cell_type": "code",
   "execution_count": 19,
   "metadata": {
    "deletable": false,
    "editable": false
   },
   "outputs": [
    {
     "name": "stdout",
     "output_type": "stream",
     "text": [
      "~~~~~~~~~~~~~~~~~~~~~~~~~~~~~~~~~~~~~~~~~~~~~~~~~~~~~~~~~~~~~~~~~~~~~\n",
      "Running tests\n",
      "\n",
      "---------------------------------------------------------------------\n",
      "Test summary\n",
      "    Passed: 1\n",
      "    Failed: 0\n",
      "[ooooooooook] 100.0% passed\n",
      "\n"
     ]
    }
   ],
   "source": [
    "ok.grade(\"q1_7\");"
   ]
  },
  {
   "cell_type": "markdown",
   "metadata": {},
   "source": [
    "## 2. Birth Rates\n"
   ]
  },
  {
   "cell_type": "markdown",
   "metadata": {},
   "source": [
    "The following table gives census-based population estimates for each state on both July 1, 2015 and July 1, 2016. The last four columns describe the components of the estimated change in population during this time interval. **For all questions below, assume that the word \"states\" refers to all 52 rows including Puerto Rico & the District of Columbia.**\n",
    "\n",
    "The data was taken from here: http://www2.census.gov/programs-surveys/popest/datasets/2010-2016/national/totals/nst-est2016-alldata.csv.\n",
    "\n",
    "If you want to read more about the different column descriptions, click [here](http://www2.census.gov/programs-surveys/popest/datasets/2010-2015/national/totals/nst-est2015-alldata.pdf)!\n",
    "\n",
    "The raw data is a bit messy - run the cell below to clean the table and make it easier to work with."
   ]
  },
  {
   "cell_type": "code",
   "execution_count": 20,
   "metadata": {},
   "outputs": [
    {
     "data": {
      "text/html": [
       "<table border=\"1\" class=\"dataframe\">\n",
       "    <thead>\n",
       "        <tr>\n",
       "            <th>REGION</th> <th>NAME</th> <th>2015</th> <th>2016</th> <th>BIRTHS</th> <th>DEATHS</th> <th>MIGRATION</th> <th>OTHER</th>\n",
       "        </tr>\n",
       "    </thead>\n",
       "    <tbody>\n",
       "        <tr>\n",
       "            <td>3     </td> <td>Alabama   </td> <td>4,853,875 </td> <td>4,863,300 </td> <td>58,556 </td> <td>52,405 </td> <td>3,874    </td> <td>-600  </td>\n",
       "        </tr>\n",
       "        <tr>\n",
       "            <td>4     </td> <td>Alaska    </td> <td>737,709   </td> <td>741,894   </td> <td>11,255 </td> <td>4,511  </td> <td>-2,557   </td> <td>-2    </td>\n",
       "        </tr>\n",
       "        <tr>\n",
       "            <td>4     </td> <td>Arizona   </td> <td>6,817,565 </td> <td>6,931,071 </td> <td>87,204 </td> <td>56,564 </td> <td>76,405   </td> <td>6,461 </td>\n",
       "        </tr>\n",
       "        <tr>\n",
       "            <td>3     </td> <td>Arkansas  </td> <td>2,977,853 </td> <td>2,988,248 </td> <td>37,936 </td> <td>30,581 </td> <td>3,530    </td> <td>-490  </td>\n",
       "        </tr>\n",
       "        <tr>\n",
       "            <td>4     </td> <td>California</td> <td>38,993,940</td> <td>39,250,017</td> <td>502,848</td> <td>273,850</td> <td>33,530   </td> <td>-6,451</td>\n",
       "        </tr>\n",
       "    </tbody>\n",
       "</table>\n",
       "<p>... (47 rows omitted)</p>"
      ],
      "text/plain": [
       "<IPython.core.display.HTML object>"
      ]
     },
     "metadata": {},
     "output_type": "display_data"
    }
   ],
   "source": [
    "# Don't change this cell; just run it.\n",
    "pop = Table.read_table('nst-est2016-alldata.csv').where('SUMLEV', 40).select([1, 4, 12, 13, 27, 34, 62, 69])\n",
    "pop = pop.relabeled('POPESTIMATE2015', '2015').relabeled('POPESTIMATE2016', '2016')\n",
    "pop = pop.relabeled('BIRTHS2016', 'BIRTHS').relabeled('DEATHS2016', 'DEATHS')\n",
    "pop = pop.relabeled('NETMIG2016', 'MIGRATION').relabeled('RESIDUAL2016', 'OTHER')\n",
    "pop = pop.with_columns(\"REGION\", np.array([int(region) if region != \"X\" else 0 for region in pop.column(\"REGION\")]))\n",
    "pop.set_format([2, 3, 4, 5, 6, 7], NumberFormatter(decimals=0)).show(5)"
   ]
  },
  {
   "cell_type": "markdown",
   "metadata": {
    "deletable": false,
    "editable": false
   },
   "source": [
    "**Question 1.** Assign `us_birth_rate` to the total US annual birth rate during this time interval. The annual birth rate for a year-long period is the total number of births in that period as a proportion of the population size at the start of the time period.\n",
    "\n",
    "**Hint:** Which year corresponds to the start of the time period?\n",
    "\n",
    "<!--\n",
    "BEGIN QUESTION\n",
    "name: q2_1\n",
    "-->"
   ]
  },
  {
   "cell_type": "code",
   "execution_count": 21,
   "metadata": {},
   "outputs": [
    {
     "data": {
      "text/plain": [
       "0.012358536498646102"
      ]
     },
     "execution_count": 21,
     "metadata": {},
     "output_type": "execute_result"
    }
   ],
   "source": [
    "us_birth_rate = sum(pop.column('BIRTHS')) / sum(pop.column('2015'))\n",
    "us_birth_rate"
   ]
  },
  {
   "cell_type": "code",
   "execution_count": 22,
   "metadata": {
    "deletable": false,
    "editable": false
   },
   "outputs": [
    {
     "name": "stdout",
     "output_type": "stream",
     "text": [
      "~~~~~~~~~~~~~~~~~~~~~~~~~~~~~~~~~~~~~~~~~~~~~~~~~~~~~~~~~~~~~~~~~~~~~\n",
      "Running tests\n",
      "\n",
      "---------------------------------------------------------------------\n",
      "Test summary\n",
      "    Passed: 1\n",
      "    Failed: 0\n",
      "[ooooooooook] 100.0% passed\n",
      "\n"
     ]
    }
   ],
   "source": [
    "ok.grade(\"q2_1\");"
   ]
  },
  {
   "cell_type": "markdown",
   "metadata": {
    "deletable": false,
    "editable": false
   },
   "source": [
    "**Question 2.** Assign `movers` to the number of states for which the **absolute value** of the **annual rate of migration** was higher than 1%. The annual rate of migration for a year-long period is the net number of migrations (in and out) as a proportion of the population size at the start of the period. The `MIGRATION` column contains estimated annual net migration counts by state.\n",
    "\n",
    "<!--\n",
    "BEGIN QUESTION\n",
    "name: q2_2\n",
    "-->"
   ]
  },
  {
   "cell_type": "code",
   "execution_count": 23,
   "metadata": {},
   "outputs": [
    {
     "data": {
      "text/plain": [
       "9"
      ]
     },
     "execution_count": 23,
     "metadata": {},
     "output_type": "execute_result"
    }
   ],
   "source": [
    "migration_rates = pop.where(abs((pop.column('MIGRATION')) / pop.column('2015')) * 100, are.above_or_equal_to(1))\n",
    "movers = migration_rates.num_rows\n",
    "movers"
   ]
  },
  {
   "cell_type": "code",
   "execution_count": 24,
   "metadata": {
    "deletable": false,
    "editable": false
   },
   "outputs": [
    {
     "name": "stdout",
     "output_type": "stream",
     "text": [
      "~~~~~~~~~~~~~~~~~~~~~~~~~~~~~~~~~~~~~~~~~~~~~~~~~~~~~~~~~~~~~~~~~~~~~\n",
      "Running tests\n",
      "\n",
      "---------------------------------------------------------------------\n",
      "Test summary\n",
      "    Passed: 1\n",
      "    Failed: 0\n",
      "[ooooooooook] 100.0% passed\n",
      "\n"
     ]
    }
   ],
   "source": [
    "ok.grade(\"q2_2\");"
   ]
  },
  {
   "cell_type": "markdown",
   "metadata": {
    "deletable": false,
    "editable": false
   },
   "source": [
    "**Question 3.** Assign `west_births` to the total number of births that occurred in region 4 (the Western US). \n",
    "\n",
    "**Hint:** Make sure you double check the type of the values in the region column, and appropriately filter (i.e. the types must match!).\n",
    "\n",
    "<!--\n",
    "BEGIN QUESTION\n",
    "name: q2_3\n",
    "-->"
   ]
  },
  {
   "cell_type": "code",
   "execution_count": 25,
   "metadata": {},
   "outputs": [
    {
     "data": {
      "text/plain": [
       "979657"
      ]
     },
     "execution_count": 25,
     "metadata": {},
     "output_type": "execute_result"
    }
   ],
   "source": [
    "west_births = sum(pop.where('REGION', are.equal_to(4)).column('BIRTHS'))\n",
    "west_births"
   ]
  },
  {
   "cell_type": "code",
   "execution_count": 26,
   "metadata": {
    "deletable": false,
    "editable": false
   },
   "outputs": [
    {
     "name": "stdout",
     "output_type": "stream",
     "text": [
      "~~~~~~~~~~~~~~~~~~~~~~~~~~~~~~~~~~~~~~~~~~~~~~~~~~~~~~~~~~~~~~~~~~~~~\n",
      "Running tests\n",
      "\n",
      "---------------------------------------------------------------------\n",
      "Test summary\n",
      "    Passed: 1\n",
      "    Failed: 0\n",
      "[ooooooooook] 100.0% passed\n",
      "\n"
     ]
    }
   ],
   "source": [
    "ok.grade(\"q2_3\");"
   ]
  },
  {
   "cell_type": "markdown",
   "metadata": {
    "deletable": false,
    "editable": false
   },
   "source": [
    "**Question 4.** Assign `less_than_west_births` to the number of states that had a total population in 2016 that was smaller than the *total number of births in region 4 (the Western US)* during this time interval.\n",
    "\n",
    "<!--\n",
    "BEGIN QUESTION\n",
    "name: q2_4\n",
    "-->"
   ]
  },
  {
   "cell_type": "code",
   "execution_count": 27,
   "metadata": {},
   "outputs": [
    {
     "data": {
      "text/plain": [
       "7"
      ]
     },
     "execution_count": 27,
     "metadata": {},
     "output_type": "execute_result"
    }
   ],
   "source": [
    "less_than_west_births = pop.where('2016', are.below(west_births)).num_rows\n",
    "less_than_west_births"
   ]
  },
  {
   "cell_type": "code",
   "execution_count": 28,
   "metadata": {
    "deletable": false,
    "editable": false
   },
   "outputs": [
    {
     "name": "stdout",
     "output_type": "stream",
     "text": [
      "~~~~~~~~~~~~~~~~~~~~~~~~~~~~~~~~~~~~~~~~~~~~~~~~~~~~~~~~~~~~~~~~~~~~~\n",
      "Running tests\n",
      "\n",
      "---------------------------------------------------------------------\n",
      "Test summary\n",
      "    Passed: 1\n",
      "    Failed: 0\n",
      "[ooooooooook] 100.0% passed\n",
      "\n"
     ]
    }
   ],
   "source": [
    "ok.grade(\"q2_4\");"
   ]
  },
  {
   "cell_type": "markdown",
   "metadata": {
    "deletable": false,
    "editable": false
   },
   "source": [
    "**Question 5.** \n",
    "\n",
    "In the next question, you will be creating a visualization to understand the relationship between birth and death rates. The annual death rate for a year-long period is the total number of deaths in that period as a proportion of the population size at the start of the time period.\n",
    "\n",
    "What visualization is most appropriate to see if there is an association between birth and death rates during a given time interval?\n",
    "\n",
    "1. Line Graph\n",
    "<br>\n",
    "2. Bar Chart\n",
    "<br>\n",
    "3. Scatter Plot\n",
    "\n",
    "Assign `visualization` below to the number corresponding to the correct visualization.\n",
    "\n",
    "<!--\n",
    "BEGIN QUESTION\n",
    "name: q2_5\n",
    "-->"
   ]
  },
  {
   "cell_type": "code",
   "execution_count": 29,
   "metadata": {},
   "outputs": [],
   "source": [
    "visualization = 3"
   ]
  },
  {
   "cell_type": "code",
   "execution_count": 30,
   "metadata": {
    "deletable": false,
    "editable": false
   },
   "outputs": [
    {
     "name": "stdout",
     "output_type": "stream",
     "text": [
      "~~~~~~~~~~~~~~~~~~~~~~~~~~~~~~~~~~~~~~~~~~~~~~~~~~~~~~~~~~~~~~~~~~~~~\n",
      "Running tests\n",
      "\n",
      "---------------------------------------------------------------------\n",
      "Test summary\n",
      "    Passed: 2\n",
      "    Failed: 0\n",
      "[ooooooooook] 100.0% passed\n",
      "\n"
     ]
    }
   ],
   "source": [
    "ok.grade(\"q2_5\");"
   ]
  },
  {
   "cell_type": "markdown",
   "metadata": {
    "deletable": false,
    "editable": false
   },
   "source": [
    "**Question 6.** \n",
    "\n",
    "In the code cell below, create a visualization that will help us determine if there is an association between birth rate and death rate during this time interval. It may be helpful to create an intermediate table here.\n",
    "\n",
    "<!--\n",
    "BEGIN QUESTION\n",
    "name: q2_6\n",
    "manual: true\n",
    "-->\n",
    "<!-- EXPORT TO PDF -->"
   ]
  },
  {
   "cell_type": "code",
   "execution_count": 53,
   "metadata": {
    "deletable": false,
    "export_pdf": true,
    "manual_problem_id": "birth_death_rates_graph"
   },
   "outputs": [
    {
     "data": {
      "image/png": "[encoded data removed]",
      "text/plain": [
       "<Figure size 360x360 with 1 Axes>"
      ]
     },
     "metadata": {},
     "output_type": "display_data"
    }
   ],
   "source": [
    "# Generate your chart in this cell\n",
    "new_table = Table().with_columns('BIRTHS', pop.column('BIRTHS')/pop.column('2015')).with_columns('DEATHS', pop.column('DEATHS')/pop.column('2015'))\n",
    "new_table\n",
    "new_table.scatter('BIRTHS','DEATHS')"
   ]
  },
  {
   "cell_type": "markdown",
   "metadata": {
    "deletable": false,
    "editable": false
   },
   "source": [
    "**Question 7.** `True` or `False`: There is an association between birth rate and death rate during this time interval. \n",
    "\n",
    "Assign `assoc` to `True` or `False` in the cell below. \n",
    "\n",
    "<!--\n",
    "BEGIN QUESTION\n",
    "name: q2_7\n",
    "-->"
   ]
  },
  {
   "cell_type": "code",
   "execution_count": 61,
   "metadata": {},
   "outputs": [],
   "source": [
    "assoc = True"
   ]
  },
  {
   "cell_type": "code",
   "execution_count": 62,
   "metadata": {
    "deletable": false,
    "editable": false
   },
   "outputs": [
    {
     "name": "stdout",
     "output_type": "stream",
     "text": [
      "~~~~~~~~~~~~~~~~~~~~~~~~~~~~~~~~~~~~~~~~~~~~~~~~~~~~~~~~~~~~~~~~~~~~~\n",
      "Running tests\n",
      "\n",
      "---------------------------------------------------------------------\n",
      "Test summary\n",
      "    Passed: 1\n",
      "    Failed: 0\n",
      "[ooooooooook] 100.0% passed\n",
      "\n"
     ]
    }
   ],
   "source": [
    "ok.grade(\"q2_7\");"
   ]
  },
  {
   "cell_type": "markdown",
   "metadata": {},
   "source": [
    "## 3. Marginal Histograms\n"
   ]
  },
  {
   "cell_type": "markdown",
   "metadata": {},
   "source": [
    "Consider the following scatter plot: ![](scatter.png)\n",
    "\n",
    "The axes of the plot represent values of two variables: $x$ and $y$. "
   ]
  },
  {
   "cell_type": "markdown",
   "metadata": {},
   "source": [
    "Suppose we have a table called `t` that has two columns in it:\n",
    "\n",
    "- `x`: a column containing the x-values of the points in the scatter plot\n",
    "- `y`: a column containing the y-values of the points in the scatter plot"
   ]
  },
  {
   "cell_type": "markdown",
   "metadata": {},
   "source": [
    "Below, you are given three histograms -- one corresponds to column `x`, one corresponds to column `y`, and one does not correspond to either column. "
   ]
  },
  {
   "cell_type": "markdown",
   "metadata": {},
   "source": [
    "**Histogram A:** ![](var3.png)\n",
    "**Histogram B:** ![](var1.png)\n",
    "**Histogram C:** ![](var2.png)"
   ]
  },
  {
   "cell_type": "markdown",
   "metadata": {
    "deletable": false,
    "editable": false
   },
   "source": [
    "**Question 1.** Suppose we run `t.hist('x')`. Which histogram does this code produce? Assign `histogram_column_x` to either 1, 2, or 3.\n",
    "\n",
    "1. Histogram A\n",
    "2. Histogram B\n",
    "3. Histogram C\n",
    "\n",
    "<!--\n",
    "BEGIN QUESTION\n",
    "name: q3_1\n",
    "manual: false\n",
    "-->"
   ]
  },
  {
   "cell_type": "code",
   "execution_count": 36,
   "metadata": {},
   "outputs": [],
   "source": [
    "histogram_column_x = 3"
   ]
  },
  {
   "cell_type": "code",
   "execution_count": 37,
   "metadata": {
    "deletable": false,
    "editable": false
   },
   "outputs": [
    {
     "name": "stdout",
     "output_type": "stream",
     "text": [
      "~~~~~~~~~~~~~~~~~~~~~~~~~~~~~~~~~~~~~~~~~~~~~~~~~~~~~~~~~~~~~~~~~~~~~\n",
      "Running tests\n",
      "\n",
      "---------------------------------------------------------------------\n",
      "Test summary\n",
      "    Passed: 2\n",
      "    Failed: 0\n",
      "[ooooooooook] 100.0% passed\n",
      "\n"
     ]
    }
   ],
   "source": [
    "ok.grade(\"q3_1\");"
   ]
  },
  {
   "cell_type": "markdown",
   "metadata": {
    "deletable": false,
    "editable": false
   },
   "source": [
    "**Question 2.** State at least one reason why you chose the histogram from Question 1. **Make sure to indicate which histogram you selected** (ex: \"I chose histogram A because ...\").\n",
    "\n",
    "<!--\n",
    "BEGIN QUESTION\n",
    "name: q3_2\n",
    "manual: true\n",
    "-->\n",
    "<!-- EXPORT TO PDF -->"
   ]
  },
  {
   "cell_type": "markdown",
   "metadata": {
    "export_pdf": true
   },
   "source": [
    "I chose histogram c because from the scatterplot I could tell there were very few plots where x was from -3 to -2 and the majority of plots were close to -1 to 0 rather than 0, and histogram c expressed this. "
   ]
  },
  {
   "cell_type": "markdown",
   "metadata": {
    "deletable": false,
    "editable": false
   },
   "source": [
    "**Question 3.** Suppose we run `t.hist('y')`. Which histogram does this code produce? `Assign histogram_column_y` to either 1, 2, or 3.\n",
    "\n",
    "1. Histogram A\n",
    "2. Histogram B\n",
    "3. Histogram C\n",
    "\n",
    "<!--\n",
    "BEGIN QUESTION\n",
    "name: q3_3\n",
    "manual: false\n",
    "-->"
   ]
  },
  {
   "cell_type": "code",
   "execution_count": 38,
   "metadata": {},
   "outputs": [],
   "source": [
    "histogram_column_y = 2"
   ]
  },
  {
   "cell_type": "code",
   "execution_count": 39,
   "metadata": {
    "deletable": false,
    "editable": false
   },
   "outputs": [
    {
     "name": "stdout",
     "output_type": "stream",
     "text": [
      "~~~~~~~~~~~~~~~~~~~~~~~~~~~~~~~~~~~~~~~~~~~~~~~~~~~~~~~~~~~~~~~~~~~~~\n",
      "Running tests\n",
      "\n",
      "---------------------------------------------------------------------\n",
      "Test summary\n",
      "    Passed: 2\n",
      "    Failed: 0\n",
      "[ooooooooook] 100.0% passed\n",
      "\n"
     ]
    }
   ],
   "source": [
    "ok.grade(\"q3_3\");"
   ]
  },
  {
   "cell_type": "markdown",
   "metadata": {
    "deletable": false,
    "editable": false
   },
   "source": [
    "**Question 4.** State at least one reason why you chose the histogram from Question 3.  **Make sure to indicate which histogram you selected** (ex: \"I chose histogram A because ...\").\n",
    "\n",
    "<!--\n",
    "BEGIN QUESTION\n",
    "name: q3_4\n",
    "manual: true\n",
    "-->\n",
    "<!-- EXPORT TO PDF -->"
   ]
  },
  {
   "cell_type": "markdown",
   "metadata": {
    "export_pdf": true
   },
   "source": [
    "I chose histogram b because no plots on the scatter plot have the y value of 0, and histogram b was the only histogram that had no 0 percent per unit at that y value."
   ]
  },
  {
   "cell_type": "markdown",
   "metadata": {},
   "source": [
    "## 4. Uber\n"
   ]
  },
  {
   "cell_type": "markdown",
   "metadata": {},
   "source": [
    "Below we load tables containing 200,000 weekday Uber rides in the Manila, Philippines, and Boston, Massachusetts metropolitan areas from the [Uber Movement](https://movement.uber.com) project. The `sourceid` and `dstid` columns contain codes corresponding to start and end locations of each ride. The `hod` column contains codes corresponding to the hour of the day the ride took place. The `ride time` column contains the length of the ride, in minutes."
   ]
  },
  {
   "cell_type": "code",
   "execution_count": 40,
   "metadata": {
    "for_question_type": "solution",
    "scrolled": true
   },
   "outputs": [
    {
     "name": "stdout",
     "output_type": "stream",
     "text": [
      "Boston Table\n"
     ]
    },
    {
     "data": {
      "text/html": [
       "<table border=\"1\" class=\"dataframe\">\n",
       "    <thead>\n",
       "        <tr>\n",
       "            <th>sourceid</th> <th>dstid</th> <th>hod</th> <th>ride time</th>\n",
       "        </tr>\n",
       "    </thead>\n",
       "    <tbody>\n",
       "        <tr>\n",
       "            <td>584     </td> <td>33   </td> <td>7   </td> <td>11.866   </td>\n",
       "        </tr>\n",
       "        <tr>\n",
       "            <td>1013    </td> <td>1116 </td> <td>13  </td> <td>17.7993  </td>\n",
       "        </tr>\n",
       "        <tr>\n",
       "            <td>884     </td> <td>1190 </td> <td>22  </td> <td>19.3488  </td>\n",
       "        </tr>\n",
       "        <tr>\n",
       "            <td>211     </td> <td>364  </td> <td>1   </td> <td>1.7235   </td>\n",
       "        </tr>\n",
       "    </tbody>\n",
       "</table>\n",
       "<p>... (199996 rows omitted)</p>"
      ],
      "text/plain": [
       "<IPython.core.display.HTML object>"
      ]
     },
     "metadata": {},
     "output_type": "display_data"
    },
    {
     "name": "stdout",
     "output_type": "stream",
     "text": [
      "Manila Table\n"
     ]
    },
    {
     "data": {
      "text/html": [
       "<table border=\"1\" class=\"dataframe\">\n",
       "    <thead>\n",
       "        <tr>\n",
       "            <th>sourceid</th> <th>dstid</th> <th>hod</th> <th>ride time</th>\n",
       "        </tr>\n",
       "    </thead>\n",
       "    <tbody>\n",
       "        <tr>\n",
       "            <td>544     </td> <td>5    </td> <td>22  </td> <td>22.8115  </td>\n",
       "        </tr>\n",
       "        <tr>\n",
       "            <td>302     </td> <td>240  </td> <td>21  </td> <td>7.02267  </td>\n",
       "        </tr>\n",
       "        <tr>\n",
       "            <td>278     </td> <td>99   </td> <td>16  </td> <td>21.6437  </td>\n",
       "        </tr>\n",
       "        <tr>\n",
       "            <td>720     </td> <td>775  </td> <td>18  </td> <td>13.0597  </td>\n",
       "        </tr>\n",
       "    </tbody>\n",
       "</table>\n",
       "<p>... (199996 rows omitted)</p>"
      ],
      "text/plain": [
       "<IPython.core.display.HTML object>"
      ]
     },
     "metadata": {},
     "output_type": "display_data"
    }
   ],
   "source": [
    "boston = Table.read_table(\"boston.csv\")\n",
    "manila = Table.read_table(\"manila.csv\")\n",
    "print(\"Boston Table\")\n",
    "boston.show(4)\n",
    "print(\"Manila Table\")\n",
    "manila.show(4)"
   ]
  },
  {
   "cell_type": "markdown",
   "metadata": {
    "deletable": false,
    "editable": false
   },
   "source": [
    "**Question 1.** Produce histograms of all ride times in Boston using the given bins. \n",
    "\n",
    "<!--\n",
    "BEGIN QUESTION\n",
    "name: q4_1\n",
    "manual: true\n",
    "-->\n",
    "<!-- EXPORT TO PDF -->"
   ]
  },
  {
   "cell_type": "markdown",
   "metadata": {
    "deletable": false,
    "export_pdf": true,
    "manual_problem_id": "uber_1",
    "scrolled": true
   },
   "source": [
    "\n"
   ]
  },
  {
   "cell_type": "code",
   "execution_count": 55,
   "metadata": {},
   "outputs": [
    {
     "data": {
      "image/png": "[encoded data removed]",
      "text/plain": [
       "<Figure size 432x288 with 1 Axes>"
      ]
     },
     "metadata": {},
     "output_type": "display_data"
    }
   ],
   "source": [
    "equal_bins = np.arange(0, 120, 5)\n",
    "boston.hist('ride time', bins=equal_bins)"
   ]
  },
  {
   "cell_type": "markdown",
   "metadata": {
    "deletable": false,
    "editable": false
   },
   "source": [
    "**Question 2.** Now, produce histograms of all ride times in Manila using the given bins.\n",
    "\n",
    "<!--\n",
    "BEGIN QUESTION\n",
    "name: q4_2\n",
    "manual: true\n",
    "-->\n",
    "<!-- EXPORT TO PDF -->"
   ]
  },
  {
   "cell_type": "code",
   "execution_count": 54,
   "metadata": {
    "export_pdf": true
   },
   "outputs": [
    {
     "data": {
      "text/plain": [
       "(0.0, 0.05)"
      ]
     },
     "execution_count": 54,
     "metadata": {},
     "output_type": "execute_result"
    },
    {
     "data": {
      "image/png": "[encoded data removed]",
      "text/plain": [
       "<Figure size 432x288 with 1 Axes>"
      ]
     },
     "metadata": {},
     "output_type": "display_data"
    }
   ],
   "source": [
    "equal_bins = np.arange(0, 120, 5)\n",
    "manila.hist('ride time', bins=equal_bins)\n",
    "\n",
    "# Don't delete the following line!\n",
    "plots.ylim(0, 0.05)"
   ]
  },
  {
   "cell_type": "markdown",
   "metadata": {
    "deletable": false,
    "editable": false
   },
   "source": [
    "**Question 3.** Assign `boston_under_15` and `manila_under_15` to the percentage of rides that are less than 15 minutes in their respective metropolitan areas. Use the height variables provided below in order to compute the percentages. Your solution should only use height variables, numbers, and mathematical operations. You should not access the tables boston and manila in any way.\n",
    "\n",
    "<!--\n",
    "BEGIN QUESTION\n",
    "name: q4_3\n",
    "manual: false\n",
    "-->"
   ]
  },
  {
   "cell_type": "code",
   "execution_count": 56,
   "metadata": {
    "deletable": false,
    "manual_problem_id": "uber_2"
   },
   "outputs": [
    {
     "data": {
      "text/plain": [
       "(46.5, 21.0)"
      ]
     },
     "execution_count": 56,
     "metadata": {},
     "output_type": "execute_result"
    }
   ],
   "source": [
    "boston_under_5_height = 1.2\n",
    "manila_under_5_height = 0.6\n",
    "boston_5_to_under_10_height = 3.2\n",
    "manila_5_to_under_10_height = 1.4\n",
    "boston_10_to_under_15_height = 4.9\n",
    "manila_10_to_under_15_height = 2.2\n",
    "\n",
    "boston_under_15 = boston_under_5_height * 5 + boston_5_to_under_10_height * 5 + boston_10_to_under_15_height * 5\n",
    "manila_under_15 = manila_under_5_height * 5 + manila_5_to_under_10_height * 5 + manila_10_to_under_15_height * 5\n",
    "\n",
    "boston_under_15, manila_under_15"
   ]
  },
  {
   "cell_type": "code",
   "execution_count": 57,
   "metadata": {
    "deletable": false,
    "editable": false
   },
   "outputs": [
    {
     "name": "stdout",
     "output_type": "stream",
     "text": [
      "~~~~~~~~~~~~~~~~~~~~~~~~~~~~~~~~~~~~~~~~~~~~~~~~~~~~~~~~~~~~~~~~~~~~~\n",
      "Running tests\n",
      "\n",
      "---------------------------------------------------------------------\n",
      "Test summary\n",
      "    Passed: 2\n",
      "    Failed: 0\n",
      "[ooooooooook] 100.0% passed\n",
      "\n"
     ]
    }
   ],
   "source": [
    "ok.grade(\"q4_3\");"
   ]
  },
  {
   "cell_type": "markdown",
   "metadata": {
    "deletable": false,
    "editable": false
   },
   "source": [
    "**Question 4.** Let's take a closer look at the distribution of ride times in Boston. Assign `boston_median_bin` to an integer (1, 2, 3, or 4) that corresponds to the bin that contains the median time. \n",
    "\n",
    "1: 0-8 minutes  \n",
    "2: 8-14 minutes  \n",
    "3: 14-20 minutes  \n",
    "4: 20-40 minutes  \n",
    "\n",
    "*Hint:* The median of a sorted list has half of the list elements to its left, and half to its right.\n",
    "\n",
    "<!--\n",
    "BEGIN QUESTION\n",
    "name: q4_4\n",
    "manual: false\n",
    "-->"
   ]
  },
  {
   "cell_type": "code",
   "execution_count": 58,
   "metadata": {},
   "outputs": [
    {
     "data": {
      "text/plain": [
       "3"
      ]
     },
     "execution_count": 58,
     "metadata": {},
     "output_type": "execute_result"
    }
   ],
   "source": [
    "boston_median_bin = 3\n",
    "boston_median_bin"
   ]
  },
  {
   "cell_type": "code",
   "execution_count": 59,
   "metadata": {
    "deletable": false,
    "editable": false
   },
   "outputs": [
    {
     "name": "stdout",
     "output_type": "stream",
     "text": [
      "~~~~~~~~~~~~~~~~~~~~~~~~~~~~~~~~~~~~~~~~~~~~~~~~~~~~~~~~~~~~~~~~~~~~~\n",
      "Running tests\n",
      "\n",
      "---------------------------------------------------------------------\n",
      "Test summary\n",
      "    Passed: 1\n",
      "    Failed: 0\n",
      "[ooooooooook] 100.0% passed\n",
      "\n"
     ]
    }
   ],
   "source": [
    "ok.grade(\"q4_4\");"
   ]
  },
  {
   "cell_type": "markdown",
   "metadata": {
    "deletable": false,
    "editable": false
   },
   "source": [
    "**Question 5.** What is the main difference between the two histograms? What might be causing this?\n",
    "\n",
    "**Hint:** Try thinking about external factors of the two cities that may be causing the difference!\n",
    "\n",
    "<!--\n",
    "BEGIN QUESTION\n",
    "name: q4_5\n",
    "manual: true\n",
    "-->\n",
    "<!-- EXPORT TO PDF -->"
   ]
  },
  {
   "cell_type": "markdown",
   "metadata": {
    "export_pdf": true
   },
   "source": [
    "The histogram for Manila has more range in its distribution whereas the histogram for Boston has its distribution more concentrated around 15-20 minutes. This might be caused by Manila having more traffic than Boston or more destinations with varying distance in Manila making the drive time longer."
   ]
  },
  {
   "cell_type": "markdown",
   "metadata": {},
   "source": [
    "## 5. Submission\n"
   ]
  },
  {
   "cell_type": "markdown",
   "metadata": {
    "collapsed": true
   },
   "source": [
    "Once you're finished, select \"Save and Checkpoint\" in the File menu and then execute the `submit` cell below. The result will contain a link that you can use to check that your assignment has been submitted successfully. **IMPORTANT: Make sure to check that your submission is not empty. We cannot guarantee that the submission will be valid, so please check it now.** If you submit more than once before the deadline, we will only grade your final submission. If you mistakenly submit the wrong one, you can head to [okpy.org](https://okpy.org/) and flag the correct version. To do so, go to the website, click on this assignment, and find the version you would like to have graded. There should be an option to flag that submission for grading!\n",
    "\n",
    "**NOTE:** The tests that are provided are not comprehensive and act as sanity checks (i.e. to make sure you answer is in the correct form, etc.). Passing the tests for a question does not mean that you answered the question correctly."
   ]
  },
  {
   "cell_type": "code",
   "execution_count": 64,
   "metadata": {},
   "outputs": [
    {
     "data": {
      "application/javascript": [
       "IPython.notebook.save_checkpoint();"
      ],
      "text/plain": [
       "<IPython.core.display.Javascript object>"
      ]
     },
     "metadata": {},
     "output_type": "display_data"
    },
    {
     "data": {
      "application/javascript": [
       "IPython.notebook.save_notebook();"
      ],
      "text/plain": [
       "<IPython.core.display.Javascript object>"
      ]
     },
     "metadata": {},
     "output_type": "display_data"
    },
    {
     "name": "stdout",
     "output_type": "stream",
     "text": [
      "Saving notebook... Saved 'hw03.ipynb'.\n",
      "Submit... 100% complete\n",
      "Submission successful for user: caediseim@berkeley.edu\n",
      "URL: https://okpy.org/cal/data8/sp21/hw03/submissions/qZm100\n",
      "\n"
     ]
    }
   ],
   "source": [
    "_ = ok.submit()"
   ]
  },
  {
   "cell_type": "code",
   "execution_count": 63,
   "metadata": {},
   "outputs": [
    {
     "name": "stdout",
     "output_type": "stream",
     "text": [
      "Running all tests...\n",
      "~~~~~~~~~~~~~~~~~~~~~~~~~~~~~~~~~~~~~~~~~~~~~~~~~~~~~~~~~~~~~~~~~~~~~\n",
      "Running tests\n",
      "\n",
      "---------------------------------------------------------------------\n",
      "Test summary\n",
      "    Passed: 1\n",
      "    Failed: 0\n",
      "[ooooooooook] 100.0% passed\n",
      "\n",
      "~~~~~~~~~~~~~~~~~~~~~~~~~~~~~~~~~~~~~~~~~~~~~~~~~~~~~~~~~~~~~~~~~~~~~\n",
      "Running tests\n",
      "\n",
      "---------------------------------------------------------------------\n",
      "Test summary\n",
      "    Passed: 2\n",
      "    Failed: 0\n",
      "[ooooooooook] 100.0% passed\n",
      "\n",
      "~~~~~~~~~~~~~~~~~~~~~~~~~~~~~~~~~~~~~~~~~~~~~~~~~~~~~~~~~~~~~~~~~~~~~\n",
      "Running tests\n",
      "\n",
      "---------------------------------------------------------------------\n",
      "Test summary\n",
      "    Passed: 1\n",
      "    Failed: 0\n",
      "[ooooooooook] 100.0% passed\n",
      "\n",
      "~~~~~~~~~~~~~~~~~~~~~~~~~~~~~~~~~~~~~~~~~~~~~~~~~~~~~~~~~~~~~~~~~~~~~\n",
      "Running tests\n",
      "\n",
      "---------------------------------------------------------------------\n",
      "Test summary\n",
      "    Passed: 2\n",
      "    Failed: 0\n",
      "[ooooooooook] 100.0% passed\n",
      "\n",
      "~~~~~~~~~~~~~~~~~~~~~~~~~~~~~~~~~~~~~~~~~~~~~~~~~~~~~~~~~~~~~~~~~~~~~\n",
      "Running tests\n",
      "\n",
      "---------------------------------------------------------------------\n",
      "Test summary\n",
      "    Passed: 1\n",
      "    Failed: 0\n",
      "[ooooooooook] 100.0% passed\n",
      "\n",
      "~~~~~~~~~~~~~~~~~~~~~~~~~~~~~~~~~~~~~~~~~~~~~~~~~~~~~~~~~~~~~~~~~~~~~\n",
      "Running tests\n",
      "\n",
      "---------------------------------------------------------------------\n",
      "Test summary\n",
      "    Passed: 1\n",
      "    Failed: 0\n",
      "[ooooooooook] 100.0% passed\n",
      "\n",
      "~~~~~~~~~~~~~~~~~~~~~~~~~~~~~~~~~~~~~~~~~~~~~~~~~~~~~~~~~~~~~~~~~~~~~\n",
      "Running tests\n",
      "\n",
      "---------------------------------------------------------------------\n",
      "Test summary\n",
      "    Passed: 1\n",
      "    Failed: 0\n",
      "[ooooooooook] 100.0% passed\n",
      "\n",
      "~~~~~~~~~~~~~~~~~~~~~~~~~~~~~~~~~~~~~~~~~~~~~~~~~~~~~~~~~~~~~~~~~~~~~\n",
      "Running tests\n",
      "\n",
      "---------------------------------------------------------------------\n",
      "Test summary\n",
      "    Passed: 1\n",
      "    Failed: 0\n",
      "[ooooooooook] 100.0% passed\n",
      "\n",
      "~~~~~~~~~~~~~~~~~~~~~~~~~~~~~~~~~~~~~~~~~~~~~~~~~~~~~~~~~~~~~~~~~~~~~\n",
      "Running tests\n",
      "\n",
      "---------------------------------------------------------------------\n",
      "Test summary\n",
      "    Passed: 1\n",
      "    Failed: 0\n",
      "[ooooooooook] 100.0% passed\n",
      "\n",
      "~~~~~~~~~~~~~~~~~~~~~~~~~~~~~~~~~~~~~~~~~~~~~~~~~~~~~~~~~~~~~~~~~~~~~\n",
      "Running tests\n",
      "\n",
      "---------------------------------------------------------------------\n",
      "Test summary\n",
      "    Passed: 1\n",
      "    Failed: 0\n",
      "[ooooooooook] 100.0% passed\n",
      "\n",
      "~~~~~~~~~~~~~~~~~~~~~~~~~~~~~~~~~~~~~~~~~~~~~~~~~~~~~~~~~~~~~~~~~~~~~\n",
      "Running tests\n",
      "\n",
      "---------------------------------------------------------------------\n",
      "Test summary\n",
      "    Passed: 1\n",
      "    Failed: 0\n",
      "[ooooooooook] 100.0% passed\n",
      "\n",
      "~~~~~~~~~~~~~~~~~~~~~~~~~~~~~~~~~~~~~~~~~~~~~~~~~~~~~~~~~~~~~~~~~~~~~\n",
      "Running tests\n",
      "\n",
      "---------------------------------------------------------------------\n",
      "Test summary\n",
      "    Passed: 2\n",
      "    Failed: 0\n",
      "[ooooooooook] 100.0% passed\n",
      "\n",
      "~~~~~~~~~~~~~~~~~~~~~~~~~~~~~~~~~~~~~~~~~~~~~~~~~~~~~~~~~~~~~~~~~~~~~\n",
      "Running tests\n",
      "\n",
      "---------------------------------------------------------------------\n",
      "Test summary\n",
      "    Passed: 1\n",
      "    Failed: 0\n",
      "[ooooooooook] 100.0% passed\n",
      "\n",
      "~~~~~~~~~~~~~~~~~~~~~~~~~~~~~~~~~~~~~~~~~~~~~~~~~~~~~~~~~~~~~~~~~~~~~\n",
      "Running tests\n",
      "\n",
      "---------------------------------------------------------------------\n",
      "Test summary\n",
      "    Passed: 2\n",
      "    Failed: 0\n",
      "[ooooooooook] 100.0% passed\n",
      "\n",
      "~~~~~~~~~~~~~~~~~~~~~~~~~~~~~~~~~~~~~~~~~~~~~~~~~~~~~~~~~~~~~~~~~~~~~\n",
      "Running tests\n",
      "\n",
      "---------------------------------------------------------------------\n",
      "Test summary\n",
      "    Passed: 2\n",
      "    Failed: 0\n",
      "[ooooooooook] 100.0% passed\n",
      "\n",
      "~~~~~~~~~~~~~~~~~~~~~~~~~~~~~~~~~~~~~~~~~~~~~~~~~~~~~~~~~~~~~~~~~~~~~\n",
      "Running tests\n",
      "\n",
      "---------------------------------------------------------------------\n",
      "Test summary\n",
      "    Passed: 2\n",
      "    Failed: 0\n",
      "[ooooooooook] 100.0% passed\n",
      "\n",
      "~~~~~~~~~~~~~~~~~~~~~~~~~~~~~~~~~~~~~~~~~~~~~~~~~~~~~~~~~~~~~~~~~~~~~\n",
      "Running tests\n",
      "\n",
      "---------------------------------------------------------------------\n",
      "Test summary\n",
      "    Passed: 1\n",
      "    Failed: 0\n",
      "[ooooooooook] 100.0% passed\n",
      "\n",
      "Finished running all tests.\n"
     ]
    }
   ],
   "source": [
    "# For your convenience, you can run this cell to run all the tests at once!\n",
    "import os\n",
    "print(\"Running all tests...\")\n",
    "_ = [ok.grade(q[:-3]) for q in os.listdir(\"tests\") if q.startswith('q') and len(q) <= 10]\n",
    "print(\"Finished running all tests.\")"
   ]
  },
  {
   "cell_type": "code",
   "execution_count": null,
   "metadata": {},
   "outputs": [],
   "source": []
  }
 ],
 "metadata": {
  "history": [
   {
    "code": "# Initialize OK\nfrom client.api.notebook import Notebook\nok = Notebook('hw03.ok')",
    "id": "329deb9a86d34cbbbaa1222a17af23ca",
    "idx": 0,
    "time": "2021-02-10T18:15:21.746Z",
    "type": "execution"
   },
   {
    "id": "329deb9a86d34cbbbaa1222a17af23ca",
    "time": "2021-02-10T18:15:23.039Z",
    "type": "completion"
   },
   {
    "code": "# Don't change this cell; just run it. \n\nimport numpy as np\nfrom datascience import *\n\n\n# These lines do some fancy plotting magic.\\n\",\nimport matplotlib\n%matplotlib inline\nimport matplotlib.pyplot as plots\nplots.style.use('fivethirtyeight')\n\nfrom client.api.notebook import *\ndef new_save_notebook(self):\n    \"\"\" Saves the current notebook by\n        injecting JavaScript to save to .ipynb file.\n    \"\"\"\n    try:\n        from IPython.display import display, Javascript\n    except ImportError:\n        log.warning(\"Could not import IPython Display Function\")\n        print(\"Make sure to save your notebook before sending it to OK!\")\n        return\n\n    if self.mode == \"jupyter\":\n        display(Javascript('IPython.notebook.save_checkpoint();'))\n        display(Javascript('IPython.notebook.save_notebook();'))\n    elif self.mode == \"jupyterlab\":\n        display(Javascript('document.querySelector(\\'[data-command=\"docmanager:save\"]\\').click();'))   \n\n    print('Saving notebook...', end=' ')\n\n    ipynbs = [path for path in self.assignment.src\n              if os.path.splitext(path)[1] == '.ipynb']\n    # Wait for first .ipynb to save\n    if ipynbs:\n        if wait_for_save(ipynbs[0]):\n            print(\"Saved '{}'.\".format(ipynbs[0]))\n        else:\n            log.warning(\"Timed out waiting for IPython save\")\n            print(\"Could not automatically save \\'{}\\'\".format(ipynbs[0]))\n            print(\"Make sure your notebook\"\n                  \" is correctly named and saved before submitting to OK!\".format(ipynbs[0]))\n            return False                \n    else:\n        print(\"No valid file sources found\")\n    return True\n\ndef wait_for_save(filename, timeout=600):\n    \"\"\"Waits for FILENAME to update, waiting up to TIMEOUT seconds.\n    Returns True if a save was detected, and False otherwise.\n    \"\"\"\n    modification_time = os.path.getmtime(filename)\n    start_time = time.time()\n    while time.time() < start_time + timeout:\n        if (os.path.getmtime(filename) > modification_time and\n            os.path.getsize(filename) > 0):\n            return True\n        time.sleep(0.2)\n    print(\"\\nERROR!\\n YOUR SUBMISSION DID NOT GO THROUGH. PLEASE TRY AGAIN. IF THIS PROBLEM PERSISTS POST ON PIAZZA RIGHT AWAY.\\n ERROR!\" + \"\\n\" * 20)\n\n    return False\n\nNotebook.save_notebook = new_save_notebook\n\nok = Notebook('hw03.ok')\nok.auth(force=True) \n_ = ok.auth(inline=True)",
    "id": "f20a8719dee043068c8ad1f81e49baa2",
    "idx": 4,
    "time": "2021-02-10T18:15:30.557Z",
    "type": "execution"
   },
   {
    "code": "_ = ok.submit()",
    "id": "281bb588d6ed41118a41e9bb692047b7",
    "idx": 6,
    "time": "2021-02-10T18:15:46.446Z",
    "type": "execution"
   },
   {
    "code": "unemployment = Tables.read_table('unemployment.csv')\nunemployment",
    "id": "1cf6b157335e46eb92b94e60d01a6597",
    "idx": 10,
    "time": "2021-02-10T18:16:52.440Z",
    "type": "execution"
   },
   {
    "code": "ok.grade(\"q1_1\");",
    "id": "c17ead80c0434c26a88f103c5edfaa21",
    "idx": 11,
    "time": "2021-02-10T18:17:02.734Z",
    "type": "execution"
   },
   {
    "id": "f20a8719dee043068c8ad1f81e49baa2",
    "time": "2021-02-10T18:17:33.421Z",
    "type": "completion"
   },
   {
    "id": "281bb588d6ed41118a41e9bb692047b7",
    "time": "2021-02-10T18:17:33.426Z",
    "type": "completion"
   },
   {
    "id": "1cf6b157335e46eb92b94e60d01a6597",
    "time": "2021-02-10T18:17:33.455Z",
    "type": "completion"
   },
   {
    "id": "c17ead80c0434c26a88f103c5edfaa21",
    "time": "2021-02-10T18:17:33.457Z",
    "type": "completion"
   },
   {
    "code": "unemployment = Tables.read_table('unemployment.csv')\nunemployment",
    "id": "1cf6b157335e46eb92b94e60d01a6597",
    "idx": 10,
    "time": "2021-02-10T18:17:34.998Z",
    "type": "execution"
   },
   {
    "id": "1cf6b157335e46eb92b94e60d01a6597",
    "time": "2021-02-10T18:17:35.170Z",
    "type": "completion"
   },
   {
    "code": "unemployment = Table.read_table('unemployment.csv')\nunemployment",
    "id": "1cf6b157335e46eb92b94e60d01a6597",
    "idx": 10,
    "time": "2021-02-10T18:17:41.662Z",
    "type": "execution"
   },
   {
    "id": "1cf6b157335e46eb92b94e60d01a6597",
    "time": "2021-02-10T18:17:41.833Z",
    "type": "completion"
   },
   {
    "code": "ok.grade(\"q1_1\");",
    "id": "c17ead80c0434c26a88f103c5edfaa21",
    "idx": 11,
    "time": "2021-02-10T18:17:44.655Z",
    "type": "execution"
   },
   {
    "id": "c17ead80c0434c26a88f103c5edfaa21",
    "time": "2021-02-10T18:17:44.907Z",
    "type": "completion"
   },
   {
    "code": "by_nei = unemployment.sort(descending=True)\nby_nei_pter = ...",
    "id": "c0580d69dd5446c796aacd8a25cf1aa4",
    "idx": 13,
    "time": "2021-02-10T18:18:46.470Z",
    "type": "execution"
   },
   {
    "id": "c0580d69dd5446c796aacd8a25cf1aa4",
    "time": "2021-02-10T18:18:46.697Z",
    "type": "completion"
   },
   {
    "code": "by_nei = unemployment.sort('NEI', descending=True)\nby_nei_pter = ...",
    "id": "c0580d69dd5446c796aacd8a25cf1aa4",
    "idx": 13,
    "time": "2021-02-10T18:19:03.268Z",
    "type": "execution"
   },
   {
    "id": "c0580d69dd5446c796aacd8a25cf1aa4",
    "time": "2021-02-10T18:19:03.402Z",
    "type": "completion"
   },
   {
    "code": "by_nei = unemployment.sort('NEI', descending=True)\nby_nei_pter = unemployement.sort('NEI-PTER', descending=True)",
    "id": "c0580d69dd5446c796aacd8a25cf1aa4",
    "idx": 13,
    "time": "2021-02-10T18:19:39.245Z",
    "type": "execution"
   },
   {
    "id": "c0580d69dd5446c796aacd8a25cf1aa4",
    "time": "2021-02-10T18:19:39.393Z",
    "type": "completion"
   },
   {
    "code": "by_nei = unemployment.sort('NEI', descending=True)\nby_nei_pter = unemployment.sort('NEI-PTER', descending=True)",
    "id": "c0580d69dd5446c796aacd8a25cf1aa4",
    "idx": 13,
    "time": "2021-02-10T18:19:45.261Z",
    "type": "execution"
   },
   {
    "id": "c0580d69dd5446c796aacd8a25cf1aa4",
    "time": "2021-02-10T18:19:45.342Z",
    "type": "completion"
   },
   {
    "code": "ok.grade(\"q1_2\");",
    "id": "b993e241533e4d068cc4174d8267c9db",
    "idx": 14,
    "time": "2021-02-10T18:19:45.492Z",
    "type": "execution"
   },
   {
    "id": "b993e241533e4d068cc4174d8267c9db",
    "time": "2021-02-10T18:19:45.690Z",
    "type": "completion"
   },
   {
    "code": "# Run this cell to check your by_nei table. You do not need to change the code.\nby_nei.show(5)",
    "id": "9e27d306cc87405486389b28edc29c62",
    "idx": 15,
    "time": "2021-02-10T18:19:49.274Z",
    "type": "execution"
   },
   {
    "id": "9e27d306cc87405486389b28edc29c62",
    "time": "2021-02-10T18:19:49.430Z",
    "type": "completion"
   },
   {
    "code": "# Run this cell to check your by_nei_pter table. You do not need to change the code.\nby_nei_pter.show(5)",
    "id": "966c1ea15083464697b80f66c676b66b",
    "idx": 16,
    "time": "2021-02-10T18:19:56.333Z",
    "type": "execution"
   },
   {
    "id": "966c1ea15083464697b80f66c676b66b",
    "time": "2021-02-10T18:20:13.710Z",
    "type": "completion"
   },
   {
    "code": "greatest_nei = by_nei.take(5)\ngreatest_nei",
    "id": "bac7136e8417446e8e21018e97e77bf0",
    "idx": 18,
    "time": "2021-02-10T18:29:06.131Z",
    "type": "execution"
   },
   {
    "id": "bac7136e8417446e8e21018e97e77bf0",
    "time": "2021-02-10T18:29:06.243Z",
    "type": "completion"
   },
   {
    "code": "greatest_nei = by_nei.take(0,5)\ngreatest_nei",
    "id": "bac7136e8417446e8e21018e97e77bf0",
    "idx": 18,
    "time": "2021-02-10T18:29:55.262Z",
    "type": "execution"
   },
   {
    "id": "bac7136e8417446e8e21018e97e77bf0",
    "time": "2021-02-10T18:29:55.430Z",
    "type": "completion"
   },
   {
    "code": "greatest_nei = by_nei.take(np.arange(0, 11))\ngreatest_nei",
    "id": "bac7136e8417446e8e21018e97e77bf0",
    "idx": 18,
    "time": "2021-02-10T18:32:51.204Z",
    "type": "execution"
   },
   {
    "id": "bac7136e8417446e8e21018e97e77bf0",
    "time": "2021-02-10T18:32:51.365Z",
    "type": "completion"
   },
   {
    "code": "ok.grade(\"q1_3\");",
    "id": "50105d1abdc34ecb9e8cbe8e8d4652b5",
    "idx": 19,
    "time": "2021-02-10T18:32:55.001Z",
    "type": "execution"
   },
   {
    "id": "50105d1abdc34ecb9e8cbe8e8d4652b5",
    "time": "2021-02-10T18:32:55.201Z",
    "type": "completion"
   },
   {
    "code": "pter = unemployment.column(2) - unemployment.column(1)\npter",
    "id": "8fd466fb396e44528aa454f2a5d729d2",
    "idx": 21,
    "time": "2021-02-10T19:27:42.436Z",
    "type": "execution"
   },
   {
    "id": "8fd466fb396e44528aa454f2a5d729d2",
    "time": "2021-02-10T19:27:42.592Z",
    "type": "completion"
   },
   {
    "code": "ok.grade(\"q1_4\");",
    "id": "0a2c3d6f98484ba78c11be08bb4731a0",
    "idx": 22,
    "time": "2021-02-10T19:27:45.441Z",
    "type": "execution"
   },
   {
    "id": "0a2c3d6f98484ba78c11be08bb4731a0",
    "time": "2021-02-10T19:27:45.635Z",
    "type": "completion"
   },
   {
    "code": "by_pter = unemployment.with_column('PTER', pter).sort('PTER', descending=True)\nby_pter",
    "id": "ff5d12e354344a9f804113b854b581d3",
    "idx": 24,
    "time": "2021-02-10T19:30:33.910Z",
    "type": "execution"
   },
   {
    "id": "ff5d12e354344a9f804113b854b581d3",
    "time": "2021-02-10T19:30:34.000Z",
    "type": "completion"
   },
   {
    "code": "ok.grade(\"q1_5\");",
    "id": "05b39710d06546ba861d0510dc04409d",
    "idx": 25,
    "time": "2021-02-10T19:30:36.775Z",
    "type": "execution"
   },
   {
    "id": "05b39710d06546ba861d0510dc04409d",
    "time": "2021-02-10T19:30:36.967Z",
    "type": "completion"
   },
   {
    "code": "year = 1994 + np.arange(by_pter.num_rows)/4\npter_over_time = unemployment.with_column('Year', year).with_column.(\"PTER\", pter)\n...",
    "id": "6718624c14454910a8d9df7b39f48968",
    "idx": 27,
    "time": "2021-02-10T19:33:33.650Z",
    "type": "execution"
   },
   {
    "id": "6718624c14454910a8d9df7b39f48968",
    "time": "2021-02-10T19:33:33.736Z",
    "type": "completion"
   },
   {
    "code": "year = 1994 + np.arange(by_pter.num_rows)/4\npter_over_time = unemployment.with_column('Year', year).with_column(\"PTER\", pter)\n...",
    "id": "6718624c14454910a8d9df7b39f48968",
    "idx": 27,
    "time": "2021-02-10T19:33:38.507Z",
    "type": "execution"
   },
   {
    "id": "6718624c14454910a8d9df7b39f48968",
    "time": "2021-02-10T19:33:38.588Z",
    "type": "completion"
   },
   {
    "code": "year = 1994 + np.arange(by_pter.num_rows)/4\npter_over_time = unemployment.with_column('Year', year).with_column(\"PTER\", pter)\npter_over_time.plot('Year', 'PTER')",
    "id": "6718624c14454910a8d9df7b39f48968",
    "idx": 27,
    "time": "2021-02-10T19:36:04.959Z",
    "type": "execution"
   },
   {
    "id": "6718624c14454910a8d9df7b39f48968",
    "time": "2021-02-10T19:36:05.549Z",
    "type": "completion"
   },
   {
    "code": "ok.grade(\"q1_6\");",
    "id": "a3313fbfd1be4695b34f502eaa1a20b0",
    "idx": 28,
    "time": "2021-02-10T19:36:12.894Z",
    "type": "execution"
   },
   {
    "id": "a3313fbfd1be4695b34f502eaa1a20b0",
    "time": "2021-02-10T19:36:13.075Z",
    "type": "completion"
   },
   {
    "code": "highPTER = True",
    "id": "e12bd4d353b84170b7e2e44469d6f14d",
    "idx": 30,
    "time": "2021-02-10T19:36:32.300Z",
    "type": "execution"
   },
   {
    "id": "e12bd4d353b84170b7e2e44469d6f14d",
    "time": "2021-02-10T19:36:32.366Z",
    "type": "completion"
   },
   {
    "code": "ok.grade(\"q1_7\");",
    "id": "882a9edd964547e8b0c93a4f3198ca6c",
    "idx": 31,
    "time": "2021-02-10T19:36:33.095Z",
    "type": "execution"
   },
   {
    "id": "882a9edd964547e8b0c93a4f3198ca6c",
    "time": "2021-02-10T19:36:33.267Z",
    "type": "completion"
   },
   {
    "code": "# Don't change this cell; just run it.\npop = Table.read_table('nst-est2016-alldata.csv').where('SUMLEV', 40).select([1, 4, 12, 13, 27, 34, 62, 69])\npop = pop.relabeled('POPESTIMATE2015', '2015').relabeled('POPESTIMATE2016', '2016')\npop = pop.relabeled('BIRTHS2016', 'BIRTHS').relabeled('DEATHS2016', 'DEATHS')\npop = pop.relabeled('NETMIG2016', 'MIGRATION').relabeled('RESIDUAL2016', 'OTHER')\npop = pop.with_columns(\"REGION\", np.array([int(region) if region != \"X\" else 0 for region in pop.column(\"REGION\")]))\npop.set_format([2, 3, 4, 5, 6, 7], NumberFormatter(decimals=0)).show(5)",
    "id": "3e3100341f904dcf884d3082c75f0b0b",
    "idx": 34,
    "time": "2021-02-10T19:37:00.234Z",
    "type": "execution"
   },
   {
    "id": "3e3100341f904dcf884d3082c75f0b0b",
    "time": "2021-02-10T19:37:00.388Z",
    "type": "completion"
   },
   {
    "code": "us_birth_rate = sum(pop.column('BIRTHS')) / sum(pop.column('2015'))\nus_birth_rate",
    "id": "34a9c6fc36a04aec82735e434d9cea7a",
    "idx": 36,
    "time": "2021-02-10T19:39:59.554Z",
    "type": "execution"
   },
   {
    "id": "34a9c6fc36a04aec82735e434d9cea7a",
    "time": "2021-02-10T19:39:59.640Z",
    "type": "completion"
   },
   {
    "code": "ok.grade(\"q2_1\");",
    "id": "977d1e324f44459e974a6b65baef79e8",
    "idx": 37,
    "time": "2021-02-10T19:40:00.574Z",
    "type": "execution"
   },
   {
    "id": "977d1e324f44459e974a6b65baef79e8",
    "time": "2021-02-10T19:40:00.737Z",
    "type": "completion"
   },
   {
    "code": "migration_rates = (pop.column('MIGRATION')) / pop.column('2015')\nmigration_rates\nmovers = ...\nmovers",
    "id": "25683d5c354a46b18cd70d1ba9608091",
    "idx": 39,
    "time": "2021-02-10T19:53:28.887Z",
    "type": "execution"
   },
   {
    "id": "25683d5c354a46b18cd70d1ba9608091",
    "time": "2021-02-10T19:53:28.972Z",
    "type": "completion"
   },
   {
    "code": "migration_rates = (pop.column('MIGRATION')) / pop.column('2015')\nmovers = ...\nmigration_rates\n",
    "id": "25683d5c354a46b18cd70d1ba9608091",
    "idx": 39,
    "time": "2021-02-10T19:53:37.834Z",
    "type": "execution"
   },
   {
    "id": "25683d5c354a46b18cd70d1ba9608091",
    "time": "2021-02-10T19:53:37.910Z",
    "type": "completion"
   },
   {
    "code": "migration_rates = abs((pop.column('MIGRATION')) / pop.column('2015')) * 100\nmovers = ...\nmovers",
    "id": "25683d5c354a46b18cd70d1ba9608091",
    "idx": 39,
    "time": "2021-02-10T19:56:19.620Z",
    "type": "execution"
   },
   {
    "id": "25683d5c354a46b18cd70d1ba9608091",
    "time": "2021-02-10T19:56:19.713Z",
    "type": "completion"
   },
   {
    "code": "migration_rates = abs((pop.column('MIGRATION')) / pop.column('2015')) * 100\nmovers = ...\nmigration_rates",
    "id": "25683d5c354a46b18cd70d1ba9608091",
    "idx": 39,
    "time": "2021-02-10T19:56:26.690Z",
    "type": "execution"
   },
   {
    "id": "25683d5c354a46b18cd70d1ba9608091",
    "time": "2021-02-10T19:56:26.767Z",
    "type": "completion"
   },
   {
    "code": "migration_rates = pop.where(abs((pop.column('MIGRATION')) / pop.column('2015')) * 100, are.above_or_equal_to(1))\nmovers = migration_rates.num_rows\nmovers",
    "id": "25683d5c354a46b18cd70d1ba9608091",
    "idx": 39,
    "time": "2021-02-10T20:26:04.135Z",
    "type": "execution"
   },
   {
    "id": "25683d5c354a46b18cd70d1ba9608091",
    "time": "2021-02-10T20:26:04.216Z",
    "type": "completion"
   },
   {
    "code": "ok.grade(\"q2_2\");",
    "id": "c9ed7b00a6e946d4886480445d6dad16",
    "idx": 40,
    "time": "2021-02-10T20:26:05.293Z",
    "type": "execution"
   },
   {
    "id": "c9ed7b00a6e946d4886480445d6dad16",
    "time": "2021-02-10T20:26:05.464Z",
    "type": "completion"
   },
   {
    "code": "west_births = pop.where('REGION', are.equal_)\nwest_births",
    "id": "fea30885bca940029779ad3f3a45d3d3",
    "idx": 42,
    "time": "2021-02-10T20:26:43.653Z",
    "type": "execution"
   },
   {
    "id": "fea30885bca940029779ad3f3a45d3d3",
    "time": "2021-02-10T20:26:43.775Z",
    "type": "completion"
   },
   {
    "code": "west_births = sum(pop.where('REGION', are.equal_to(4)).column('BIRTHS'))\nwest_births",
    "id": "fea30885bca940029779ad3f3a45d3d3",
    "idx": 42,
    "time": "2021-02-10T20:27:49.385Z",
    "type": "execution"
   },
   {
    "id": "fea30885bca940029779ad3f3a45d3d3",
    "time": "2021-02-10T20:27:49.471Z",
    "type": "completion"
   },
   {
    "code": "ok.grade(\"q2_3\");",
    "id": "aecfd5cdb239481085eea5df60db9879",
    "idx": 43,
    "time": "2021-02-10T20:27:50.346Z",
    "type": "execution"
   },
   {
    "id": "aecfd5cdb239481085eea5df60db9879",
    "time": "2021-02-10T20:27:50.479Z",
    "type": "completion"
   },
   {
    "code": "less_than_west_births = pop.where('2016', are.below(west_births)).num_rows\nless_than_west_births",
    "id": "efa830c5a6f94164a5d5881de86b915c",
    "idx": 45,
    "time": "2021-02-10T20:30:55.659Z",
    "type": "execution"
   },
   {
    "id": "efa830c5a6f94164a5d5881de86b915c",
    "time": "2021-02-10T20:30:55.749Z",
    "type": "completion"
   },
   {
    "code": "ok.grade(\"q2_4\");",
    "id": "f7bff504cc894f26893f6e5d73ce0b3e",
    "idx": 46,
    "time": "2021-02-10T20:30:56.548Z",
    "type": "execution"
   },
   {
    "id": "f7bff504cc894f26893f6e5d73ce0b3e",
    "time": "2021-02-10T20:30:56.733Z",
    "type": "completion"
   },
   {
    "code": "visualization = 1",
    "id": "d700fba7c78b4f0aa282475e47494f33",
    "idx": 48,
    "time": "2021-02-10T20:32:14.638Z",
    "type": "execution"
   },
   {
    "id": "d700fba7c78b4f0aa282475e47494f33",
    "time": "2021-02-10T20:32:14.725Z",
    "type": "completion"
   },
   {
    "code": "ok.grade(\"q2_5\");",
    "id": "bdeb8cadf7a940e8856abeea07d3dd4e",
    "idx": 49,
    "time": "2021-02-10T20:32:16.110Z",
    "type": "execution"
   },
   {
    "id": "bdeb8cadf7a940e8856abeea07d3dd4e",
    "time": "2021-02-10T20:32:16.291Z",
    "type": "completion"
   },
   {
    "code": "# Generate your chart in this cell\npop.plot('Year')",
    "id": "51277a269e0848d68dfabb8e116405f8",
    "idx": 51,
    "time": "2021-02-10T20:38:59.727Z",
    "type": "execution"
   },
   {
    "id": "51277a269e0848d68dfabb8e116405f8",
    "time": "2021-02-10T20:38:59.847Z",
    "type": "completion"
   },
   {
    "code": "# Generate your chart in this cell\npop.plot('2015', 'BIRTHS')",
    "id": "51277a269e0848d68dfabb8e116405f8",
    "idx": 51,
    "time": "2021-02-10T20:41:02.424Z",
    "type": "execution"
   },
   {
    "id": "51277a269e0848d68dfabb8e116405f8",
    "time": "2021-02-10T20:41:02.829Z",
    "type": "completion"
   },
   {
    "code": "# Generate your chart in this cell\npop.plot('2015', 'BIRTHS','DEATHS')",
    "id": "51277a269e0848d68dfabb8e116405f8",
    "idx": 51,
    "time": "2021-02-10T20:41:25.755Z",
    "type": "execution"
   },
   {
    "id": "51277a269e0848d68dfabb8e116405f8",
    "time": "2021-02-10T20:41:26.100Z",
    "type": "completion"
   },
   {
    "code": "# Generate your chart in this cell\npop.plot(BIRTHS','DEATHS')",
    "id": "51277a269e0848d68dfabb8e116405f8",
    "idx": 51,
    "time": "2021-02-10T20:42:41.505Z",
    "type": "execution"
   },
   {
    "id": "51277a269e0848d68dfabb8e116405f8",
    "time": "2021-02-10T20:42:41.579Z",
    "type": "completion"
   },
   {
    "code": "# Generate your chart in this cell\npop.plot('BIRTHS','DEATHS')",
    "id": "51277a269e0848d68dfabb8e116405f8",
    "idx": 51,
    "time": "2021-02-10T20:42:47.168Z",
    "type": "execution"
   },
   {
    "id": "51277a269e0848d68dfabb8e116405f8",
    "time": "2021-02-10T20:42:47.756Z",
    "type": "completion"
   },
   {
    "code": "assoc = True",
    "id": "a3f5db1ffee045048c0f9caba4ab122e",
    "idx": 53,
    "time": "2021-02-10T20:44:40.379Z",
    "type": "execution"
   },
   {
    "id": "a3f5db1ffee045048c0f9caba4ab122e",
    "time": "2021-02-10T20:44:40.442Z",
    "type": "completion"
   },
   {
    "code": "ok.grade(\"q2_7\");",
    "id": "a8e8647eb9db46d1b5452be959df9d44",
    "idx": 54,
    "time": "2021-02-10T20:44:41.349Z",
    "type": "execution"
   },
   {
    "id": "a8e8647eb9db46d1b5452be959df9d44",
    "time": "2021-02-10T20:44:41.480Z",
    "type": "completion"
   },
   {
    "code": "visualization = 3",
    "id": "9cc60ddba8e742909b587cfe1fc036e1",
    "idx": 48,
    "time": "2021-02-11T05:20:54.539Z",
    "type": "execution"
   },
   {
    "id": "9cc60ddba8e742909b587cfe1fc036e1",
    "time": "2021-02-11T05:20:54.613Z",
    "type": "completion"
   },
   {
    "code": "ok.grade(\"q2_5\");",
    "id": "7ee7d2a1993748918eed41efb770959c",
    "idx": 49,
    "time": "2021-02-11T05:20:55.822Z",
    "type": "execution"
   },
   {
    "id": "7ee7d2a1993748918eed41efb770959c",
    "time": "2021-02-11T05:20:55.974Z",
    "type": "completion"
   },
   {
    "code": "# Initialize OK\nfrom client.api.notebook import Notebook\nok = Notebook('hw03.ok')",
    "id": "2338e4658472402489a709e7fd97fa08",
    "idx": 0,
    "time": "2021-02-11T05:21:02.813Z",
    "type": "execution"
   },
   {
    "id": "2338e4658472402489a709e7fd97fa08",
    "time": "2021-02-11T05:21:03.151Z",
    "type": "completion"
   },
   {
    "code": "# Don't change this cell; just run it. \n\nimport numpy as np\nfrom datascience import *\n\n\n# These lines do some fancy plotting magic.\\n\",\nimport matplotlib\n%matplotlib inline\nimport matplotlib.pyplot as plots\nplots.style.use('fivethirtyeight')\n\nfrom client.api.notebook import *\ndef new_save_notebook(self):\n    \"\"\" Saves the current notebook by\n        injecting JavaScript to save to .ipynb file.\n    \"\"\"\n    try:\n        from IPython.display import display, Javascript\n    except ImportError:\n        log.warning(\"Could not import IPython Display Function\")\n        print(\"Make sure to save your notebook before sending it to OK!\")\n        return\n\n    if self.mode == \"jupyter\":\n        display(Javascript('IPython.notebook.save_checkpoint();'))\n        display(Javascript('IPython.notebook.save_notebook();'))\n    elif self.mode == \"jupyterlab\":\n        display(Javascript('document.querySelector(\\'[data-command=\"docmanager:save\"]\\').click();'))   \n\n    print('Saving notebook...', end=' ')\n\n    ipynbs = [path for path in self.assignment.src\n              if os.path.splitext(path)[1] == '.ipynb']\n    # Wait for first .ipynb to save\n    if ipynbs:\n        if wait_for_save(ipynbs[0]):\n            print(\"Saved '{}'.\".format(ipynbs[0]))\n        else:\n            log.warning(\"Timed out waiting for IPython save\")\n            print(\"Could not automatically save \\'{}\\'\".format(ipynbs[0]))\n            print(\"Make sure your notebook\"\n                  \" is correctly named and saved before submitting to OK!\".format(ipynbs[0]))\n            return False                \n    else:\n        print(\"No valid file sources found\")\n    return True\n\ndef wait_for_save(filename, timeout=600):\n    \"\"\"Waits for FILENAME to update, waiting up to TIMEOUT seconds.\n    Returns True if a save was detected, and False otherwise.\n    \"\"\"\n    modification_time = os.path.getmtime(filename)\n    start_time = time.time()\n    while time.time() < start_time + timeout:\n        if (os.path.getmtime(filename) > modification_time and\n            os.path.getsize(filename) > 0):\n            return True\n        time.sleep(0.2)\n    print(\"\\nERROR!\\n YOUR SUBMISSION DID NOT GO THROUGH. PLEASE TRY AGAIN. IF THIS PROBLEM PERSISTS POST ON PIAZZA RIGHT AWAY.\\n ERROR!\" + \"\\n\" * 20)\n\n    return False\n\nNotebook.save_notebook = new_save_notebook\n\nok = Notebook('hw03.ok')\nok.auth(force=True) \n_ = ok.auth(inline=True)",
    "id": "68b4fb2800ba464283d787198ae24865",
    "idx": 4,
    "time": "2021-02-11T05:21:08.741Z",
    "type": "execution"
   },
   {
    "code": "visualization = 3",
    "id": "9cc60ddba8e742909b587cfe1fc036e1",
    "idx": 48,
    "time": "2021-02-11T05:21:21.019Z",
    "type": "execution"
   },
   {
    "code": "ok.grade(\"q2_5\");",
    "id": "7ee7d2a1993748918eed41efb770959c",
    "idx": 49,
    "time": "2021-02-11T05:21:25.150Z",
    "type": "execution"
   },
   {
    "code": "# Initialize OK\nfrom client.api.notebook import Notebook\nok = Notebook('hw03.ok')",
    "id": "2338e4658472402489a709e7fd97fa08",
    "idx": 0,
    "time": "2021-02-11T05:21:40.064Z",
    "type": "execution"
   },
   {
    "code": "# Don't change this cell; just run it. \n\nimport numpy as np\nfrom datascience import *\n\n\n# These lines do some fancy plotting magic.\\n\",\nimport matplotlib\n%matplotlib inline\nimport matplotlib.pyplot as plots\nplots.style.use('fivethirtyeight')\n\nfrom client.api.notebook import *\ndef new_save_notebook(self):\n    \"\"\" Saves the current notebook by\n        injecting JavaScript to save to .ipynb file.\n    \"\"\"\n    try:\n        from IPython.display import display, Javascript\n    except ImportError:\n        log.warning(\"Could not import IPython Display Function\")\n        print(\"Make sure to save your notebook before sending it to OK!\")\n        return\n\n    if self.mode == \"jupyter\":\n        display(Javascript('IPython.notebook.save_checkpoint();'))\n        display(Javascript('IPython.notebook.save_notebook();'))\n    elif self.mode == \"jupyterlab\":\n        display(Javascript('document.querySelector(\\'[data-command=\"docmanager:save\"]\\').click();'))   \n\n    print('Saving notebook...', end=' ')\n\n    ipynbs = [path for path in self.assignment.src\n              if os.path.splitext(path)[1] == '.ipynb']\n    # Wait for first .ipynb to save\n    if ipynbs:\n        if wait_for_save(ipynbs[0]):\n            print(\"Saved '{}'.\".format(ipynbs[0]))\n        else:\n            log.warning(\"Timed out waiting for IPython save\")\n            print(\"Could not automatically save \\'{}\\'\".format(ipynbs[0]))\n            print(\"Make sure your notebook\"\n                  \" is correctly named and saved before submitting to OK!\".format(ipynbs[0]))\n            return False                \n    else:\n        print(\"No valid file sources found\")\n    return True\n\ndef wait_for_save(filename, timeout=600):\n    \"\"\"Waits for FILENAME to update, waiting up to TIMEOUT seconds.\n    Returns True if a save was detected, and False otherwise.\n    \"\"\"\n    modification_time = os.path.getmtime(filename)\n    start_time = time.time()\n    while time.time() < start_time + timeout:\n        if (os.path.getmtime(filename) > modification_time and\n            os.path.getsize(filename) > 0):\n            return True\n        time.sleep(0.2)\n    print(\"\\nERROR!\\n YOUR SUBMISSION DID NOT GO THROUGH. PLEASE TRY AGAIN. IF THIS PROBLEM PERSISTS POST ON PIAZZA RIGHT AWAY.\\n ERROR!\" + \"\\n\" * 20)\n\n    return False\n\nNotebook.save_notebook = new_save_notebook\n\nok = Notebook('hw03.ok')\nok.auth(force=True) \n_ = ok.auth(inline=True)",
    "id": "68b4fb2800ba464283d787198ae24865",
    "idx": 4,
    "time": "2021-02-11T05:21:40.067Z",
    "type": "execution"
   },
   {
    "code": "_ = ok.submit()",
    "id": "75e04bef9cc94d6e84f9735dbef0f384",
    "idx": 6,
    "time": "2021-02-11T05:21:40.069Z",
    "type": "execution"
   },
   {
    "code": "unemployment = Table.read_table('unemployment.csv')\nunemployment",
    "id": "883945b6ccf8459a8129d0264e0ad447",
    "idx": 10,
    "time": "2021-02-11T05:21:40.072Z",
    "type": "execution"
   },
   {
    "code": "ok.grade(\"q1_1\");",
    "id": "022336808c004d0a89526ebfcfddcc3e",
    "idx": 11,
    "time": "2021-02-11T05:21:40.073Z",
    "type": "execution"
   },
   {
    "code": "by_nei = unemployment.sort('NEI', descending=True)\nby_nei_pter = unemployment.sort('NEI-PTER', descending=True)",
    "id": "c62d4f00d09e4bb5943f023e80a93a0c",
    "idx": 13,
    "time": "2021-02-11T05:21:40.075Z",
    "type": "execution"
   },
   {
    "code": "ok.grade(\"q1_2\");",
    "id": "e438523ab9794b65b3fc468f2ac4edf4",
    "idx": 14,
    "time": "2021-02-11T05:21:40.076Z",
    "type": "execution"
   },
   {
    "code": "# Run this cell to check your by_nei table. You do not need to change the code.\nby_nei.show(5)",
    "id": "ee1803e3dabe48fe90dd7eafec23c1d9",
    "idx": 15,
    "time": "2021-02-11T05:21:40.078Z",
    "type": "execution"
   },
   {
    "code": "# Run this cell to check your by_nei_pter table. You do not need to change the code.\nby_nei_pter.show(5)",
    "id": "033877ff91d44f229e5bdfc60828c4d4",
    "idx": 16,
    "time": "2021-02-11T05:21:40.079Z",
    "type": "execution"
   },
   {
    "code": "greatest_nei = by_nei.take(np.arange(0, 11))\ngreatest_nei",
    "id": "1392553fa260442bb868feb3acd40ce6",
    "idx": 18,
    "time": "2021-02-11T05:21:40.081Z",
    "type": "execution"
   },
   {
    "code": "ok.grade(\"q1_3\");",
    "id": "087d987c09ac47cbb03fdf5b9534ca0f",
    "idx": 19,
    "time": "2021-02-11T05:21:40.082Z",
    "type": "execution"
   },
   {
    "code": "pter = unemployment.column(2) - unemployment.column(1)\npter",
    "id": "473d705b38404cf7b7dde3fcc0d38c2e",
    "idx": 21,
    "time": "2021-02-11T05:21:40.084Z",
    "type": "execution"
   },
   {
    "code": "ok.grade(\"q1_4\");",
    "id": "9132bc29211444f6808f995b3d6ef4c8",
    "idx": 22,
    "time": "2021-02-11T05:21:40.085Z",
    "type": "execution"
   },
   {
    "code": "by_pter = unemployment.with_column('PTER', pter).sort('PTER', descending=True)\nby_pter",
    "id": "d96d094bbdc445d4a317a29e8ce845ce",
    "idx": 24,
    "time": "2021-02-11T05:21:40.087Z",
    "type": "execution"
   },
   {
    "code": "ok.grade(\"q1_5\");",
    "id": "58cb32ffdda44becb947540cc110e1a0",
    "idx": 25,
    "time": "2021-02-11T05:21:40.088Z",
    "type": "execution"
   },
   {
    "code": "year = 1994 + np.arange(by_pter.num_rows)/4\npter_over_time = unemployment.with_column('Year', year).with_column(\"PTER\", pter)\npter_over_time.plot('Year', 'PTER')",
    "id": "e5a61f0b66e84bd9bc691e53dc1cad99",
    "idx": 27,
    "time": "2021-02-11T05:21:40.090Z",
    "type": "execution"
   },
   {
    "code": "ok.grade(\"q1_6\");",
    "id": "82c1411dca6a4878858538b14f2eb5d9",
    "idx": 28,
    "time": "2021-02-11T05:21:40.091Z",
    "type": "execution"
   },
   {
    "code": "highPTER = True",
    "id": "4c1e76dad58948f5880a4bfae250e674",
    "idx": 30,
    "time": "2021-02-11T05:21:40.092Z",
    "type": "execution"
   },
   {
    "code": "ok.grade(\"q1_7\");",
    "id": "03da675afb8c424b8391dd2850394db9",
    "idx": 31,
    "time": "2021-02-11T05:21:40.093Z",
    "type": "execution"
   },
   {
    "code": "# Don't change this cell; just run it.\npop = Table.read_table('nst-est2016-alldata.csv').where('SUMLEV', 40).select([1, 4, 12, 13, 27, 34, 62, 69])\npop = pop.relabeled('POPESTIMATE2015', '2015').relabeled('POPESTIMATE2016', '2016')\npop = pop.relabeled('BIRTHS2016', 'BIRTHS').relabeled('DEATHS2016', 'DEATHS')\npop = pop.relabeled('NETMIG2016', 'MIGRATION').relabeled('RESIDUAL2016', 'OTHER')\npop = pop.with_columns(\"REGION\", np.array([int(region) if region != \"X\" else 0 for region in pop.column(\"REGION\")]))\npop.set_format([2, 3, 4, 5, 6, 7], NumberFormatter(decimals=0)).show(5)",
    "id": "c85798a1b1044f2697f20a42717e920e",
    "idx": 34,
    "time": "2021-02-11T05:21:40.095Z",
    "type": "execution"
   },
   {
    "code": "us_birth_rate = sum(pop.column('BIRTHS')) / sum(pop.column('2015'))\nus_birth_rate",
    "id": "8ec3f8f0b3a24baa8d9512e9f064b4e6",
    "idx": 36,
    "time": "2021-02-11T05:21:40.097Z",
    "type": "execution"
   },
   {
    "code": "ok.grade(\"q2_1\");",
    "id": "01dcaa6e683b46989d3b43457a400834",
    "idx": 37,
    "time": "2021-02-11T05:21:40.098Z",
    "type": "execution"
   },
   {
    "code": "migration_rates = pop.where(abs((pop.column('MIGRATION')) / pop.column('2015')) * 100, are.above_or_equal_to(1))\nmovers = migration_rates.num_rows\nmovers",
    "id": "ef619dcc7bd3421b866375fdc33d80a4",
    "idx": 39,
    "time": "2021-02-11T05:21:40.100Z",
    "type": "execution"
   },
   {
    "code": "ok.grade(\"q2_2\");",
    "id": "0c262d2ff44a4a1785fd4006a8d31892",
    "idx": 40,
    "time": "2021-02-11T05:21:40.101Z",
    "type": "execution"
   },
   {
    "code": "west_births = sum(pop.where('REGION', are.equal_to(4)).column('BIRTHS'))\nwest_births",
    "id": "8510e2c31cc04dea89a0c7f252c144d4",
    "idx": 42,
    "time": "2021-02-11T05:21:40.102Z",
    "type": "execution"
   },
   {
    "code": "ok.grade(\"q2_3\");",
    "id": "67304ec880374214842e056cc92cbf32",
    "idx": 43,
    "time": "2021-02-11T05:21:40.103Z",
    "type": "execution"
   },
   {
    "code": "less_than_west_births = pop.where('2016', are.below(west_births)).num_rows\nless_than_west_births",
    "id": "7fd132031175444f8e7a5f23a4f1821a",
    "idx": 45,
    "time": "2021-02-11T05:21:40.105Z",
    "type": "execution"
   },
   {
    "code": "ok.grade(\"q2_4\");",
    "id": "a5188849c1a84918b1a37c827ce035d7",
    "idx": 46,
    "time": "2021-02-11T05:21:40.106Z",
    "type": "execution"
   },
   {
    "code": "visualization = 3",
    "id": "9cc60ddba8e742909b587cfe1fc036e1",
    "idx": 48,
    "time": "2021-02-11T05:21:40.107Z",
    "type": "execution"
   },
   {
    "code": "ok.grade(\"q2_5\");",
    "id": "7ee7d2a1993748918eed41efb770959c",
    "idx": 49,
    "time": "2021-02-11T05:21:40.108Z",
    "type": "execution"
   },
   {
    "code": "# Generate your chart in this cell\npop.plot(us_birth_rate,'DEATHS')",
    "id": "822e796dbcdc42029a8576da8e22b4f2",
    "idx": 51,
    "time": "2021-02-11T05:21:40.109Z",
    "type": "execution"
   },
   {
    "code": "assoc = True",
    "id": "52bf82d70e974e91895a3f57b9a87377",
    "idx": 53,
    "time": "2021-02-11T05:21:40.111Z",
    "type": "execution"
   },
   {
    "code": "ok.grade(\"q2_7\");",
    "id": "c596e4315268459c958294fb5aefe66a",
    "idx": 54,
    "time": "2021-02-11T05:21:40.112Z",
    "type": "execution"
   },
   {
    "code": "histogram_column_x = ...",
    "id": "1787ae5d350941b7a819928e5c4b245a",
    "idx": 61,
    "time": "2021-02-11T05:21:40.114Z",
    "type": "execution"
   },
   {
    "code": "ok.grade(\"q3_1\");",
    "id": "af5e8223c23e4ac2b4c9a4763da27475",
    "idx": 62,
    "time": "2021-02-11T05:21:40.115Z",
    "type": "execution"
   },
   {
    "code": "histogram_column_y = ...",
    "id": "9888629b678e43cf8650a5685ca71ac1",
    "idx": 66,
    "time": "2021-02-11T05:21:40.120Z",
    "type": "execution"
   },
   {
    "code": "ok.grade(\"q3_3\");",
    "id": "16fdda43fae245c48fbb80c7355b2397",
    "idx": 67,
    "time": "2021-02-11T05:21:40.121Z",
    "type": "execution"
   },
   {
    "code": "boston = Table.read_table(\"boston.csv\")\nmanila = Table.read_table(\"manila.csv\")\nprint(\"Boston Table\")\nboston.show(4)\nprint(\"Manila Table\")\nmanila.show(4)",
    "id": "b967b7b51fae42469dfd68d44c972735",
    "idx": 72,
    "time": "2021-02-11T05:21:40.123Z",
    "type": "execution"
   },
   {
    "code": "equal_bins = np.arange(0, 120, 5)\n...",
    "id": "475c02a5b90c4d03aa6d3711cfb0dab1",
    "idx": 74,
    "time": "2021-02-11T05:21:40.124Z",
    "type": "execution"
   },
   {
    "code": "equal_bins = np.arange(0, 120, 5)\n...\n\n# Don't delete the following line!\nplots.ylim(0, 0.05)",
    "id": "6177f0b5af31416fb5703ebd7bb973bd",
    "idx": 76,
    "time": "2021-02-11T05:21:40.126Z",
    "type": "execution"
   },
   {
    "code": "boston_under_5_height = 1.2\nmanila_under_5_height = 0.6\nboston_5_to_under_10_height = 3.2\nmanila_5_to_under_10_height = 1.4\nboston_10_to_under_15_height = 4.9\nmanila_10_to_under_15_height = 2.2\n\nboston_under_15 = ...\nmanila_under_15 = ...\n\nboston_under_15, manila_under_15",
    "id": "dc1f6a2e041f47e08bb1bbd16c69317d",
    "idx": 78,
    "time": "2021-02-11T05:21:40.127Z",
    "type": "execution"
   },
   {
    "code": "ok.grade(\"q4_3\");",
    "id": "bf376f538083428c80a975020391d246",
    "idx": 79,
    "time": "2021-02-11T05:21:40.128Z",
    "type": "execution"
   },
   {
    "code": "boston_median_bin = ...\nboston_median_bin",
    "id": "c03d3a8214e847958ec47066c344194c",
    "idx": 81,
    "time": "2021-02-11T05:21:40.129Z",
    "type": "execution"
   },
   {
    "code": "ok.grade(\"q4_4\");",
    "id": "6bf7e915bf954858a41bf6537dcdbc87",
    "idx": 82,
    "time": "2021-02-11T05:21:40.130Z",
    "type": "execution"
   },
   {
    "code": "_ = ok.submit()",
    "id": "2608387f0263482d8fb314bc6a351515",
    "idx": 87,
    "time": "2021-02-11T05:21:40.139Z",
    "type": "execution"
   },
   {
    "code": "# For your convenience, you can run this cell to run all the tests at once!\nimport os\nprint(\"Running all tests...\")\n_ = [ok.grade(q[:-3]) for q in os.listdir(\"tests\") if q.startswith('q') and len(q) <= 10]\nprint(\"Finished running all tests.\")",
    "id": "c548e2ab009247239a32a9690d378e9f",
    "idx": 88,
    "time": "2021-02-11T05:21:40.141Z",
    "type": "execution"
   },
   {
    "id": "2338e4658472402489a709e7fd97fa08",
    "time": "2021-02-11T05:21:40.428Z",
    "type": "completion"
   },
   {
    "id": "68b4fb2800ba464283d787198ae24865",
    "time": "2021-02-11T05:21:53.604Z",
    "type": "completion"
   },
   {
    "id": "68b4fb2800ba464283d787198ae24865",
    "time": "2021-02-11T05:21:53.604Z",
    "type": "completion"
   },
   {
    "id": "75e04bef9cc94d6e84f9735dbef0f384",
    "time": "2021-02-11T05:21:54.207Z",
    "type": "completion"
   },
   {
    "id": "883945b6ccf8459a8129d0264e0ad447",
    "time": "2021-02-11T05:21:54.254Z",
    "type": "completion"
   },
   {
    "id": "022336808c004d0a89526ebfcfddcc3e",
    "time": "2021-02-11T05:21:54.306Z",
    "type": "completion"
   },
   {
    "id": "c62d4f00d09e4bb5943f023e80a93a0c",
    "time": "2021-02-11T05:21:54.337Z",
    "type": "completion"
   },
   {
    "id": "e438523ab9794b65b3fc468f2ac4edf4",
    "time": "2021-02-11T05:21:54.392Z",
    "type": "completion"
   },
   {
    "id": "ee1803e3dabe48fe90dd7eafec23c1d9",
    "time": "2021-02-11T05:21:54.415Z",
    "type": "completion"
   },
   {
    "id": "033877ff91d44f229e5bdfc60828c4d4",
    "time": "2021-02-11T05:21:54.417Z",
    "type": "completion"
   },
   {
    "id": "1392553fa260442bb868feb3acd40ce6",
    "time": "2021-02-11T05:21:54.451Z",
    "type": "completion"
   },
   {
    "id": "087d987c09ac47cbb03fdf5b9534ca0f",
    "time": "2021-02-11T05:21:54.521Z",
    "type": "completion"
   },
   {
    "id": "473d705b38404cf7b7dde3fcc0d38c2e",
    "time": "2021-02-11T05:21:54.535Z",
    "type": "completion"
   },
   {
    "id": "9132bc29211444f6808f995b3d6ef4c8",
    "time": "2021-02-11T05:21:54.608Z",
    "type": "completion"
   },
   {
    "id": "d96d094bbdc445d4a317a29e8ce845ce",
    "time": "2021-02-11T05:21:54.641Z",
    "type": "completion"
   },
   {
    "id": "58cb32ffdda44becb947540cc110e1a0",
    "time": "2021-02-11T05:21:54.702Z",
    "type": "completion"
   },
   {
    "id": "e5a61f0b66e84bd9bc691e53dc1cad99",
    "time": "2021-02-11T05:21:55.026Z",
    "type": "completion"
   },
   {
    "id": "82c1411dca6a4878858538b14f2eb5d9",
    "time": "2021-02-11T05:21:55.082Z",
    "type": "completion"
   },
   {
    "id": "4c1e76dad58948f5880a4bfae250e674",
    "time": "2021-02-11T05:21:55.083Z",
    "type": "completion"
   },
   {
    "id": "03da675afb8c424b8391dd2850394db9",
    "time": "2021-02-11T05:21:55.132Z",
    "type": "completion"
   },
   {
    "id": "c85798a1b1044f2697f20a42717e920e",
    "time": "2021-02-11T05:21:55.168Z",
    "type": "completion"
   },
   {
    "id": "8ec3f8f0b3a24baa8d9512e9f064b4e6",
    "time": "2021-02-11T05:21:55.177Z",
    "type": "completion"
   },
   {
    "id": "01dcaa6e683b46989d3b43457a400834",
    "time": "2021-02-11T05:21:55.250Z",
    "type": "completion"
   },
   {
    "id": "ef619dcc7bd3421b866375fdc33d80a4",
    "time": "2021-02-11T05:21:55.266Z",
    "type": "completion"
   },
   {
    "id": "0c262d2ff44a4a1785fd4006a8d31892",
    "time": "2021-02-11T05:21:55.333Z",
    "type": "completion"
   },
   {
    "id": "8510e2c31cc04dea89a0c7f252c144d4",
    "time": "2021-02-11T05:21:55.342Z",
    "type": "completion"
   },
   {
    "id": "67304ec880374214842e056cc92cbf32",
    "time": "2021-02-11T05:21:55.416Z",
    "type": "completion"
   },
   {
    "id": "7fd132031175444f8e7a5f23a4f1821a",
    "time": "2021-02-11T05:21:55.425Z",
    "type": "completion"
   },
   {
    "id": "a5188849c1a84918b1a37c827ce035d7",
    "time": "2021-02-11T05:21:55.492Z",
    "type": "completion"
   },
   {
    "id": "9cc60ddba8e742909b587cfe1fc036e1",
    "time": "2021-02-11T05:21:55.500Z",
    "type": "completion"
   },
   {
    "id": "9cc60ddba8e742909b587cfe1fc036e1",
    "time": "2021-02-11T05:21:55.500Z",
    "type": "completion"
   },
   {
    "id": "7ee7d2a1993748918eed41efb770959c",
    "time": "2021-02-11T05:21:55.567Z",
    "type": "completion"
   },
   {
    "id": "7ee7d2a1993748918eed41efb770959c",
    "time": "2021-02-11T05:21:55.567Z",
    "type": "completion"
   },
   {
    "id": "822e796dbcdc42029a8576da8e22b4f2",
    "time": "2021-02-11T05:21:55.743Z",
    "type": "completion"
   },
   {
    "id": "52bf82d70e974e91895a3f57b9a87377",
    "time": "2021-02-11T05:21:55.752Z",
    "type": "completion"
   },
   {
    "id": "c596e4315268459c958294fb5aefe66a",
    "time": "2021-02-11T05:21:55.753Z",
    "type": "completion"
   },
   {
    "id": "1787ae5d350941b7a819928e5c4b245a",
    "time": "2021-02-11T05:21:55.754Z",
    "type": "completion"
   },
   {
    "id": "af5e8223c23e4ac2b4c9a4763da27475",
    "time": "2021-02-11T05:21:55.787Z",
    "type": "completion"
   },
   {
    "id": "9888629b678e43cf8650a5685ca71ac1",
    "time": "2021-02-11T05:21:55.789Z",
    "type": "completion"
   },
   {
    "id": "16fdda43fae245c48fbb80c7355b2397",
    "time": "2021-02-11T05:21:55.801Z",
    "type": "completion"
   },
   {
    "id": "b967b7b51fae42469dfd68d44c972735",
    "time": "2021-02-11T05:21:55.802Z",
    "type": "completion"
   },
   {
    "id": "475c02a5b90c4d03aa6d3711cfb0dab1",
    "time": "2021-02-11T05:21:55.803Z",
    "type": "completion"
   },
   {
    "id": "6177f0b5af31416fb5703ebd7bb973bd",
    "time": "2021-02-11T05:21:55.803Z",
    "type": "completion"
   },
   {
    "id": "dc1f6a2e041f47e08bb1bbd16c69317d",
    "time": "2021-02-11T05:21:55.803Z",
    "type": "completion"
   },
   {
    "id": "bf376f538083428c80a975020391d246",
    "time": "2021-02-11T05:21:55.804Z",
    "type": "completion"
   },
   {
    "id": "c03d3a8214e847958ec47066c344194c",
    "time": "2021-02-11T05:21:55.804Z",
    "type": "completion"
   },
   {
    "id": "6bf7e915bf954858a41bf6537dcdbc87",
    "time": "2021-02-11T05:21:55.804Z",
    "type": "completion"
   },
   {
    "id": "2608387f0263482d8fb314bc6a351515",
    "time": "2021-02-11T05:21:55.805Z",
    "type": "completion"
   },
   {
    "id": "c548e2ab009247239a32a9690d378e9f",
    "time": "2021-02-11T05:21:55.805Z",
    "type": "completion"
   },
   {
    "code": "# Generate your chart in this cell\npop.plot(us_birth_rate,'DEATHS')",
    "id": "822e796dbcdc42029a8576da8e22b4f2",
    "idx": 51,
    "time": "2021-02-11T05:22:17.761Z",
    "type": "execution"
   },
   {
    "id": "822e796dbcdc42029a8576da8e22b4f2",
    "time": "2021-02-11T05:22:17.894Z",
    "type": "completion"
   },
   {
    "code": "# Generate your chart in this cell\npop.scatter('BIRTHS','DEATHS')",
    "id": "822e796dbcdc42029a8576da8e22b4f2",
    "idx": 51,
    "time": "2021-02-11T05:25:27.178Z",
    "type": "execution"
   },
   {
    "id": "822e796dbcdc42029a8576da8e22b4f2",
    "time": "2021-02-11T05:25:27.616Z",
    "type": "completion"
   },
   {
    "code": "# Generate your chart in this cell\nnew_table = new_table.with_columns('BIRTHS', pop.column('BIRTHS')/pop.column('2015')).with_columns('DEATHS', pop.column('DEATHS')/pop.column('2015'))\nnew_table.scatter('BIRTHS','DEATHS')",
    "id": "822e796dbcdc42029a8576da8e22b4f2",
    "idx": 51,
    "time": "2021-02-11T05:31:00.902Z",
    "type": "execution"
   },
   {
    "id": "822e796dbcdc42029a8576da8e22b4f2",
    "time": "2021-02-11T05:31:00.992Z",
    "type": "completion"
   },
   {
    "code": "# Generate your chart in this cell\nnew_table = pop.with_columns('BIRTHS', pop.column('BIRTHS')/pop.column('2015')).with_columns('DEATHS', pop.column('DEATHS')/pop.column('2015'))\nnew_table.scatter('BIRTHS','DEATHS')",
    "id": "822e796dbcdc42029a8576da8e22b4f2",
    "idx": 51,
    "time": "2021-02-11T05:31:12.539Z",
    "type": "execution"
   },
   {
    "id": "822e796dbcdc42029a8576da8e22b4f2",
    "time": "2021-02-11T05:31:12.992Z",
    "type": "completion"
   },
   {
    "code": "histogram_column_x = 3",
    "id": "1787ae5d350941b7a819928e5c4b245a",
    "idx": 61,
    "time": "2021-02-11T05:35:44.775Z",
    "type": "execution"
   },
   {
    "id": "1787ae5d350941b7a819928e5c4b245a",
    "time": "2021-02-11T05:35:44.847Z",
    "type": "completion"
   },
   {
    "code": "ok.grade(\"q3_1\");",
    "id": "af5e8223c23e4ac2b4c9a4763da27475",
    "idx": 62,
    "time": "2021-02-11T05:35:45.580Z",
    "type": "execution"
   },
   {
    "id": "af5e8223c23e4ac2b4c9a4763da27475",
    "time": "2021-02-11T05:35:45.753Z",
    "type": "completion"
   },
   {
    "code": "histogram_column_y = 2",
    "id": "9888629b678e43cf8650a5685ca71ac1",
    "idx": 66,
    "time": "2021-02-11T05:40:13.399Z",
    "type": "execution"
   },
   {
    "id": "9888629b678e43cf8650a5685ca71ac1",
    "time": "2021-02-11T05:40:13.466Z",
    "type": "completion"
   },
   {
    "code": "ok.grade(\"q3_3\");",
    "id": "16fdda43fae245c48fbb80c7355b2397",
    "idx": 67,
    "time": "2021-02-11T05:40:15.380Z",
    "type": "execution"
   },
   {
    "id": "16fdda43fae245c48fbb80c7355b2397",
    "time": "2021-02-11T05:40:15.508Z",
    "type": "completion"
   },
   {
    "code": "boston = Table.read_table(\"boston.csv\")\nmanila = Table.read_table(\"manila.csv\")\nprint(\"Boston Table\")\nboston.show(4)\nprint(\"Manila Table\")\nmanila.show(4)",
    "id": "b967b7b51fae42469dfd68d44c972735",
    "idx": 72,
    "time": "2021-02-11T05:42:19.770Z",
    "type": "execution"
   },
   {
    "id": "b967b7b51fae42469dfd68d44c972735",
    "time": "2021-02-11T05:42:20.644Z",
    "type": "completion"
   },
   {
    "code": "equal_bins = np.arange(0, 120, 5)\nboston.hist('ride time', equal_bins)",
    "id": "475c02a5b90c4d03aa6d3711cfb0dab1",
    "idx": 74,
    "time": "2021-02-11T05:43:15.723Z",
    "type": "execution"
   },
   {
    "id": "475c02a5b90c4d03aa6d3711cfb0dab1",
    "time": "2021-02-11T05:43:15.871Z",
    "type": "completion"
   },
   {
    "code": "equal_bins = np.arange(0, 120, 5)\nboston.hist('ride time', bins=equal_bins)",
    "id": "475c02a5b90c4d03aa6d3711cfb0dab1",
    "idx": 74,
    "time": "2021-02-11T05:43:25.071Z",
    "type": "execution"
   },
   {
    "id": "475c02a5b90c4d03aa6d3711cfb0dab1",
    "time": "2021-02-11T05:43:25.566Z",
    "type": "completion"
   },
   {
    "code": "equal_bins = np.arange(0, 120, 5)\nmanila.hist('ride time', bins=equal_bins)\n\n# Don't delete the following line!\nplots.ylim(0, 0.05)",
    "id": "6177f0b5af31416fb5703ebd7bb973bd",
    "idx": 76,
    "time": "2021-02-11T05:44:43.257Z",
    "type": "execution"
   },
   {
    "id": "6177f0b5af31416fb5703ebd7bb973bd",
    "time": "2021-02-11T05:44:43.776Z",
    "type": "completion"
   },
   {
    "code": "equal_bins = np.arange(0, 120, 5)\nmanila = ('ride time', bins=equal_bins)\n\n# Don't delete the following line!\nplots.ylim(0, 0.05)",
    "id": "6177f0b5af31416fb5703ebd7bb973bd",
    "idx": 76,
    "time": "2021-02-11T05:45:50.712Z",
    "type": "execution"
   },
   {
    "id": "6177f0b5af31416fb5703ebd7bb973bd",
    "time": "2021-02-11T05:45:50.789Z",
    "type": "completion"
   },
   {
    "code": "equal_bins = np.arange(0, 120, 5)\nmanila.hist('ride time', bins=equal_bins)\n\n# Don't delete the following line!\nplots.ylim(0, 0.05)",
    "id": "6177f0b5af31416fb5703ebd7bb973bd",
    "idx": 76,
    "time": "2021-02-11T05:46:04.673Z",
    "type": "execution"
   },
   {
    "id": "6177f0b5af31416fb5703ebd7bb973bd",
    "time": "2021-02-11T05:46:05.118Z",
    "type": "completion"
   },
   {
    "code": "# Generate your chart in this cell\nnew_table = pop.with_columns('BIRTHS', pop.column('BIRTHS')/pop.column('2015')).with_columns('DEATHS', pop.column('DEATHS')/pop.column('2015'))\nnew_table\nnew_table.scatter('BIRTHS','DEATHS')",
    "id": "822e796dbcdc42029a8576da8e22b4f2",
    "idx": 51,
    "time": "2021-02-11T05:47:11.452Z",
    "type": "execution"
   },
   {
    "id": "822e796dbcdc42029a8576da8e22b4f2",
    "time": "2021-02-11T05:47:11.906Z",
    "type": "completion"
   },
   {
    "code": "# Generate your chart in this cell\nnew_table = pop.with_columns('BIRTHS', pop.column('BIRTHS')/pop.column('2015')).with_columns('DEATHS', pop.column('DEATHS')/pop.column('2015'))\nnew_table\n#new_table.scatter('BIRTHS','DEATHS')",
    "id": "822e796dbcdc42029a8576da8e22b4f2",
    "idx": 51,
    "time": "2021-02-11T05:47:17.317Z",
    "type": "execution"
   },
   {
    "id": "822e796dbcdc42029a8576da8e22b4f2",
    "time": "2021-02-11T05:47:17.424Z",
    "type": "completion"
   },
   {
    "code": "# Generate your chart in this cell\nnew_table = pop.with_columns('BIRTHS', pop.column('BIRTHS'))\n#/pop.column('2015')).with_columns('DEATHS', pop.column('DEATHS')/pop.column('2015'))\nnew_table\n#new_table.scatter('BIRTHS','DEATHS')",
    "id": "822e796dbcdc42029a8576da8e22b4f2",
    "idx": 51,
    "time": "2021-02-11T05:48:55.978Z",
    "type": "execution"
   },
   {
    "id": "822e796dbcdc42029a8576da8e22b4f2",
    "time": "2021-02-11T05:48:56.070Z",
    "type": "completion"
   },
   {
    "code": "# Generate your chart in this cell\nnew_table = pop.with_columns('BIRTHS', pop.column('BIRTHS')/pop.column('2015')).with_columns('DEATHS', pop.column('DEATHS')/pop.column('2015'))\nnew_table\n#new_table.scatter('BIRTHS','DEATHS')",
    "id": "822e796dbcdc42029a8576da8e22b4f2",
    "idx": 51,
    "time": "2021-02-11T05:54:29.848Z",
    "type": "execution"
   },
   {
    "id": "822e796dbcdc42029a8576da8e22b4f2",
    "time": "2021-02-11T05:54:29.944Z",
    "type": "completion"
   },
   {
    "code": "# Generate your chart in this cell\nnew_table = Table().with_columns('BIRTHS', pop.column('BIRTHS')/pop.column('2015')).with_columns('DEATHS', pop.column('DEATHS')/pop.column('2015'))\nnew_table\n#new_table.scatter('BIRTHS','DEATHS')",
    "id": "822e796dbcdc42029a8576da8e22b4f2",
    "idx": 51,
    "time": "2021-02-11T05:54:48.508Z",
    "type": "execution"
   },
   {
    "id": "822e796dbcdc42029a8576da8e22b4f2",
    "time": "2021-02-11T05:54:48.577Z",
    "type": "completion"
   },
   {
    "code": "# Generate your chart in this cell\nnew_table = Table().with_columns('BIRTHS', pop.column('BIRTHS')/pop.column('2015')).with_columns('DEATHS', pop.column('DEATHS')/pop.column('2015'))\nnew_table\nnew_table.scatter('BIRTHS','DEATHS')",
    "id": "822e796dbcdc42029a8576da8e22b4f2",
    "idx": 51,
    "time": "2021-02-11T05:55:12.913Z",
    "type": "execution"
   },
   {
    "id": "822e796dbcdc42029a8576da8e22b4f2",
    "time": "2021-02-11T05:55:13.308Z",
    "type": "completion"
   },
   {
    "code": "# Generate your chart in this cell\nnew_table = pop.with_columns('BIRTHS', pop.column('BIRTHS')/pop.column('2015')).with_columns('DEATHS', pop.column('DEATHS')/pop.column('2015'))\nnew_table\nnew_table.scatter('BIRTHS','DEATHS')",
    "id": "822e796dbcdc42029a8576da8e22b4f2",
    "idx": 51,
    "time": "2021-02-11T05:55:33.990Z",
    "type": "execution"
   },
   {
    "id": "822e796dbcdc42029a8576da8e22b4f2",
    "time": "2021-02-11T05:55:34.446Z",
    "type": "completion"
   },
   {
    "code": "# Generate your chart in this cell\nnew_table = Table().with_columns('BIRTHS', pop.column('BIRTHS')/pop.column('2015')).with_columns('DEATHS', pop.column('DEATHS')/pop.column('2015'))\nnew_table\nnew_table.scatter('BIRTHS','DEATHS')",
    "id": "822e796dbcdc42029a8576da8e22b4f2",
    "idx": 51,
    "time": "2021-02-11T05:55:39.153Z",
    "type": "execution"
   },
   {
    "id": "822e796dbcdc42029a8576da8e22b4f2",
    "time": "2021-02-11T05:55:39.512Z",
    "type": "completion"
   },
   {
    "code": "equal_bins = np.arange(0, 120, 5)\nmanila.hist('ride time', bins=equal_bins)\n\n# Don't delete the following line!\nplots.ylim(0, 0.05)",
    "id": "6177f0b5af31416fb5703ebd7bb973bd",
    "idx": 76,
    "time": "2021-02-11T05:55:52.562Z",
    "type": "execution"
   },
   {
    "id": "6177f0b5af31416fb5703ebd7bb973bd",
    "time": "2021-02-11T05:55:53.011Z",
    "type": "completion"
   },
   {
    "code": "equal_bins = np.arange(0, 120, 5)\nboston.hist('ride time', bins=equal_bins)",
    "id": "97ed338aeed443168f83c3171e7da7a0",
    "idx": 75,
    "time": "2021-02-11T05:56:51.698Z",
    "type": "execution"
   },
   {
    "id": "97ed338aeed443168f83c3171e7da7a0",
    "time": "2021-02-11T05:56:52.209Z",
    "type": "completion"
   },
   {
    "code": "boston_under_5_height = 1.2\nmanila_under_5_height = 0.6\nboston_5_to_under_10_height = 3.2\nmanila_5_to_under_10_height = 1.4\nboston_10_to_under_15_height = 4.9\nmanila_10_to_under_15_height = 2.2\n\nboston_under_15 = boston_under_5_height * 5 + boston_5_to_under_10_height * 5 + boston_10_to_under_15_height * 5\nmanila_under_15 = manila_under_5_height * 5 + manila_5_to_under_10_height * 5 + manila_10_to_under_15_height * 5\n\nboston_under_15, manila_under_15",
    "id": "dc1f6a2e041f47e08bb1bbd16c69317d",
    "idx": 79,
    "time": "2021-02-11T06:10:56.216Z",
    "type": "execution"
   },
   {
    "id": "dc1f6a2e041f47e08bb1bbd16c69317d",
    "time": "2021-02-11T06:10:56.344Z",
    "type": "completion"
   },
   {
    "code": "ok.grade(\"q4_3\");",
    "id": "bf376f538083428c80a975020391d246",
    "idx": 80,
    "time": "2021-02-11T06:10:57.112Z",
    "type": "execution"
   },
   {
    "id": "bf376f538083428c80a975020391d246",
    "time": "2021-02-11T06:10:57.242Z",
    "type": "completion"
   },
   {
    "code": "boston_median_bin = 3\nboston_median_bin",
    "id": "c03d3a8214e847958ec47066c344194c",
    "idx": 82,
    "time": "2021-02-11T06:12:06.052Z",
    "type": "execution"
   },
   {
    "id": "c03d3a8214e847958ec47066c344194c",
    "time": "2021-02-11T06:12:06.124Z",
    "type": "completion"
   },
   {
    "code": "ok.grade(\"q4_4\");",
    "id": "6bf7e915bf954858a41bf6537dcdbc87",
    "idx": 83,
    "time": "2021-02-11T06:12:06.674Z",
    "type": "execution"
   },
   {
    "id": "6bf7e915bf954858a41bf6537dcdbc87",
    "time": "2021-02-11T06:12:06.810Z",
    "type": "completion"
   },
   {
    "code": "# For your convenience, you can run this cell to run all the tests at once!\nimport os\nprint(\"Running all tests...\")\n_ = [ok.grade(q[:-3]) for q in os.listdir(\"tests\") if q.startswith('q') and len(q) <= 10]\nprint(\"Finished running all tests.\")",
    "id": "c548e2ab009247239a32a9690d378e9f",
    "idx": 89,
    "time": "2021-02-11T06:23:25.740Z",
    "type": "execution"
   },
   {
    "id": "c548e2ab009247239a32a9690d378e9f",
    "time": "2021-02-11T06:23:26.630Z",
    "type": "completion"
   },
   {
    "code": "assoc = True",
    "id": "52bf82d70e974e91895a3f57b9a87377",
    "idx": 53,
    "time": "2021-02-11T06:24:03.604Z",
    "type": "execution"
   },
   {
    "id": "52bf82d70e974e91895a3f57b9a87377",
    "time": "2021-02-11T06:24:03.675Z",
    "type": "completion"
   },
   {
    "code": "ok.grade(\"q2_7\");",
    "id": "c596e4315268459c958294fb5aefe66a",
    "idx": 54,
    "time": "2021-02-11T06:24:04.530Z",
    "type": "execution"
   },
   {
    "id": "c596e4315268459c958294fb5aefe66a",
    "time": "2021-02-11T06:24:04.693Z",
    "type": "completion"
   },
   {
    "code": "# For your convenience, you can run this cell to run all the tests at once!\nimport os\nprint(\"Running all tests...\")\n_ = [ok.grade(q[:-3]) for q in os.listdir(\"tests\") if q.startswith('q') and len(q) <= 10]\nprint(\"Finished running all tests.\")",
    "id": "c548e2ab009247239a32a9690d378e9f",
    "idx": 89,
    "time": "2021-02-11T06:24:10.882Z",
    "type": "execution"
   },
   {
    "id": "c548e2ab009247239a32a9690d378e9f",
    "time": "2021-02-11T06:24:11.803Z",
    "type": "completion"
   },
   {
    "code": "_ = ok.submit()",
    "id": "2608387f0263482d8fb314bc6a351515",
    "idx": 88,
    "time": "2021-02-11T06:24:21.587Z",
    "type": "execution"
   },
   {
    "id": "2608387f0263482d8fb314bc6a351515",
    "time": "2021-02-11T06:24:22.516Z",
    "type": "completion"
   }
  ],
  "kernelspec": {
   "display_name": "Python 3",
   "language": "python",
   "name": "python3"
  },
  "language_info": {
   "codemirror_mode": {
    "name": "ipython",
    "version": 3
   },
   "file_extension": ".py",
   "mimetype": "text/x-python",
   "name": "python",
   "nbconvert_exporter": "python",
   "pygments_lexer": "ipython3",
   "version": "3.8.6"
  }
 },
 "nbformat": 4,
 "nbformat_minor": 1
}
