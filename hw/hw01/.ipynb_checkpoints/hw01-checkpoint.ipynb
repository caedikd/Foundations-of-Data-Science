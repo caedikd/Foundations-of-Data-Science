{
 "cells": [
  {
   "cell_type": "code",
   "execution_count": 6,
   "metadata": {
    "deletable": false,
    "editable": false
   },
   "outputs": [
    {
     "name": "stdout",
     "output_type": "stream",
     "text": [
      "=====================================================================\n",
      "Assignment: Homework 1: Causality and Expressions\n",
      "OK, version v1.18.1\n",
      "=====================================================================\n",
      "\n"
     ]
    }
   ],
   "source": [
    "# Initialize OK\n",
    "from client.api.notebook import Notebook\n",
    "ok = Notebook('hw01.ok')"
   ]
  },
  {
   "cell_type": "markdown",
   "metadata": {},
   "source": [
    "# Homework 1: Causality and Expressions\n",
    "\n",
    "Please complete this notebook by filling in the cells provided. Before you begin, execute the following cell to load the provided tests."
   ]
  },
  {
   "cell_type": "code",
   "execution_count": 2,
   "metadata": {},
   "outputs": [
    {
     "name": "stdout",
     "output_type": "stream",
     "text": [
      "=====================================================================\n",
      "Assignment: Homework 1: Causality and Expressions\n",
      "OK, version v1.18.1\n",
      "=====================================================================\n",
      "\n",
      "Successfully logged in as caediseim@berkeley.edu\n"
     ]
    }
   ],
   "source": [
    "# Don't change this cell; just run it. \n",
    "# When you log-in please hit return (not shift + return) after typing in your email\n",
    "\n",
    "from client.api.notebook import *\n",
    "def new_save_notebook(self):\n",
    "    \"\"\" Saves the current notebook by\n",
    "        injecting JavaScript to save to .ipynb file.\n",
    "    \"\"\"\n",
    "    try:\n",
    "        from IPython.display import display, Javascript\n",
    "    except ImportError:\n",
    "        log.warning(\"Could not import IPython Display Function\")\n",
    "        print(\"Make sure to save your notebook before sending it to OK!\")\n",
    "        return\n",
    "\n",
    "    if self.mode == \"jupyter\":\n",
    "        display(Javascript('IPython.notebook.save_checkpoint();'))\n",
    "        display(Javascript('IPython.notebook.save_notebook();'))\n",
    "    elif self.mode == \"jupyterlab\":\n",
    "        display(Javascript('document.querySelector(\\'[data-command=\"docmanager:save\"]\\').click();'))   \n",
    "\n",
    "    print('Saving notebook...', end=' ')\n",
    "\n",
    "    ipynbs = [path for path in self.assignment.src\n",
    "              if os.path.splitext(path)[1] == '.ipynb']\n",
    "    # Wait for first .ipynb to save\n",
    "    if ipynbs:\n",
    "        if wait_for_save(ipynbs[0]):\n",
    "            print(\"Saved '{}'.\".format(ipynbs[0]))\n",
    "        else:\n",
    "            log.warning(\"Timed out waiting for IPython save\")\n",
    "            print(\"Could not automatically save \\'{}\\'\".format(ipynbs[0]))\n",
    "            print(\"Make sure your notebook\"\n",
    "                  \" is correctly named and saved before submitting to OK!\".format(ipynbs[0]))\n",
    "            return False                \n",
    "    else:\n",
    "        print(\"No valid file sources found\")\n",
    "    return True\n",
    "\n",
    "def wait_for_save(filename, timeout=600):\n",
    "    \"\"\"Waits for FILENAME to update, waiting up to TIMEOUT seconds.\n",
    "    Returns True if a save was detected, and False otherwise.\n",
    "    \"\"\"\n",
    "    modification_time = os.path.getmtime(filename)\n",
    "    start_time = time.time()\n",
    "    while time.time() < start_time + timeout:\n",
    "        if (os.path.getmtime(filename) > modification_time and\n",
    "            os.path.getsize(filename) > 0):\n",
    "            return True\n",
    "        time.sleep(0.2)\n",
    "    print(\"\\nERROR!\\n YOUR SUBMISSION DID NOT GO THROUGH. PLEASE TRY AGAIN. IF THIS PROBLEM PERSISTS POST ON PIAZZA RIGHT AWAY.\\n ERROR!\" + \"\\n\" * 20)\n",
    "    return False\n",
    "\n",
    "Notebook.save_notebook = new_save_notebook\n",
    "\n",
    "ok = Notebook('hw01.ok')\n",
    "_ = ok.auth(inline=True)"
   ]
  },
  {
   "cell_type": "markdown",
   "metadata": {},
   "source": [
    "**Recommended Reading:**\n",
    "- [What is Data Science](http://www.inferentialthinking.com/chapters/01/what-is-data-science.html)\n",
    "- [Causality and Experiments](http://www.inferentialthinking.com/chapters/02/causality-and-experiments.html) \n",
    "- [Programming in Python](http://www.inferentialthinking.com/chapters/03/programming-in-python.html)\n",
    "\n",
    "For all problems that you must write explanations and sentences for, you **must** provide your answer in the designated space. Moreover, throughout this homework and all future ones, please be sure to not re-assign variables throughout the notebook! For example, if you use `max_temperature` in your answer to one question, do not reassign it later on. Otherwise, you will fail tests that you thought you were passing previously!\n",
    "\n",
    "**Deadline:**\n",
    "\n",
    "This assignment is due Thursday, January 28 at 11:59 P.M. You will receive an early submission bonus point if you turn in your final submission by Wednesday, January 27 at 11:59 P.M. Late work will not be accepted as per the [policies](http://data8.org/sp21/policies.html) page.\n",
    "\n",
    "**Note: This homework has hidden tests on it. That means even though tests may say 100% passed, doesn't mean your final grade will be 100%. We will be running more tests for correctness once everyone turns in the homework.**\n",
    "\n",
    "Directly sharing answers is not okay, but discussing problems with the course staff or with other students is encouraged. Refer to the policies page to learn more about how to learn cooperatively.\n",
    "\n",
    "You should start early so that you have time to get help if you're stuck. Office hours are held Monday-Friday. The schedule appears on [http://data8.org/sp21/office-hours.html](http://data8.org/sp21/office-hours.html)."
   ]
  },
  {
   "cell_type": "markdown",
   "metadata": {},
   "source": [
    "Before continuing the assignment, select \"Save and Checkpoint\" in the File menu and then execute the `submit` cell below. The result will contain a link that you can use to check that your assignment has been submitted successfully. **Make sure to check that your submission is not empty.** If you submit more than once before the deadline, we will only grade your final submission. If you mistakenly submit the wrong one, you can head to okpy.org and flag the correct version. There will be another `submit` cell at the end of the assignment when you finish! "
   ]
  },
  {
   "cell_type": "code",
   "execution_count": 3,
   "metadata": {},
   "outputs": [
    {
     "data": {
      "application/javascript": [
       "IPython.notebook.save_checkpoint();"
      ],
      "text/plain": [
       "<IPython.core.display.Javascript object>"
      ]
     },
     "metadata": {},
     "output_type": "display_data"
    },
    {
     "data": {
      "application/javascript": [
       "IPython.notebook.save_notebook();"
      ],
      "text/plain": [
       "<IPython.core.display.Javascript object>"
      ]
     },
     "metadata": {},
     "output_type": "display_data"
    },
    {
     "name": "stdout",
     "output_type": "stream",
     "text": [
      "Saving notebook... Saved 'hw01.ipynb'.\n",
      "Submit... 100% complete\n",
      "Submission successful for user: caediseim@berkeley.edu\n",
      "URL: https://okpy.org/cal/data8/sp21/hw01/submissions/14zBzR\n",
      "\n"
     ]
    }
   ],
   "source": [
    "_ = ok.submit()"
   ]
  },
  {
   "cell_type": "markdown",
   "metadata": {},
   "source": [
    "## 1. Scary Arithmetic\n"
   ]
  },
  {
   "cell_type": "markdown",
   "metadata": {
    "deletable": false,
    "editable": false
   },
   "source": [
    "An ad for ADT Security Systems says,\n",
    "\n",
    "> \"When you go on vacation, burglars go to work [...] According to FBI statistics, over 25% of home burglaries occur between Memorial Day to Labor Day.\"\n",
    "\n",
    "Do the data in the ad support the claim that burglars are more likely to go to work during the time between Memorial Day to Labor Day? Please explain your answer.\n",
    "\n",
    "**Note:** You can assume that \"over 25%\" means only slightly over. Had it been much over, say closer to 30%, then the marketers would have said so.\n",
    "\n",
    "**Note:** Memorial Day is observed on the last Monday of May and Labor Day is observed on the first Monday of September.\n",
    "\n",
    "<!--\n",
    "BEGIN QUESTION\n",
    "name: q1\n",
    "manual: True\n",
    "-->\n",
    "<!-- EXPORT TO PDF -->"
   ]
  },
  {
   "cell_type": "markdown",
   "metadata": {
    "deletable": false,
    "export_pdf": true
   },
   "source": [
    "No the data in the ad does not support the claim that burglars are more likely to do that the data just shows that over 25% of home burglaries happen during the reported time, and makes no association or clarification to what burglars are doing in the time that isn't reported on."
   ]
  },
  {
   "cell_type": "markdown",
   "metadata": {},
   "source": [
    "## 2. Characters in Little Women\n"
   ]
  },
  {
   "cell_type": "markdown",
   "metadata": {},
   "source": [
    "In lecture, we counted the number of times that the literary characters were named in each chapter of the classic book, [*Little Women*](https://www.inferentialthinking.com/chapters/01/3/1/literary-characters). In computer science, the word \"character\" also refers to a letter, digit, space, or punctuation mark; any single element of a text. The following code generates a scatter plot in which each dot corresponds to a chapter of *Little Women*. The horizontal position of a dot measures the number of periods in the chapter. The vertical position measures the total number of characters."
   ]
  },
  {
   "cell_type": "code",
   "execution_count": 45,
   "metadata": {
    "scrolled": true
   },
   "outputs": [
    {
     "data": {
      "image/png": "[encoded data removed]",
      "text/plain": [
       "<Figure size 360x360 with 1 Axes>"
      ]
     },
     "metadata": {
      "needs_background": "light"
     },
     "output_type": "display_data"
    }
   ],
   "source": [
    "# This cell contains code that hasn't yet been covered in the course,\n",
    "# but you should be able to interpret the scatter plot it generates.\n",
    "\n",
    "from datascience import *\n",
    "from urllib.request import urlopen\n",
    "import numpy as np\n",
    "%matplotlib inline\n",
    "\n",
    "little_women_url = 'https://www.inferentialthinking.com/data/little_women.txt'\n",
    "chapters = urlopen(little_women_url).read().decode().split('CHAPTER ')[1:]\n",
    "text = Table().with_column('Chapters', chapters)\n",
    "Table().with_columns(\n",
    "    'Periods',    np.char.count(chapters, '.'),\n",
    "    'Characters', text.apply(len, 0)\n",
    "    ).scatter(0)"
   ]
  },
  {
   "cell_type": "markdown",
   "metadata": {
    "deletable": false,
    "editable": false
   },
   "source": [
    "**Question 1.** Around how many periods are there in the chapter with the most characters? Assign either 1, 2, 3, 4, or 5 to the name `characters_q1` below.\n",
    "\n",
    "1. 250\n",
    "2. 390\n",
    "3. 440\n",
    "4. 32,000\n",
    "5. 40,000\n",
    "\n",
    "<!--\n",
    "BEGIN QUESTION\n",
    "name: q2_1\n",
    "manual: false\n",
    "-->"
   ]
  },
  {
   "cell_type": "code",
   "execution_count": 46,
   "metadata": {},
   "outputs": [],
   "source": [
    "characters_q1 = 2"
   ]
  },
  {
   "cell_type": "code",
   "execution_count": 47,
   "metadata": {
    "deletable": false,
    "editable": false
   },
   "outputs": [
    {
     "name": "stdout",
     "output_type": "stream",
     "text": [
      "~~~~~~~~~~~~~~~~~~~~~~~~~~~~~~~~~~~~~~~~~~~~~~~~~~~~~~~~~~~~~~~~~~~~~\n",
      "Running tests\n",
      "\n",
      "---------------------------------------------------------------------\n",
      "Test summary\n",
      "    Passed: 1\n",
      "    Failed: 0\n",
      "[ooooooooook] 100.0% passed\n",
      "\n"
     ]
    }
   ],
   "source": [
    "ok.grade(\"q2_1\");"
   ]
  },
  {
   "cell_type": "markdown",
   "metadata": {},
   "source": [
    "The test above checks that your answers are in the correct format. **This test does not check that you answered correctly**, only that you assigned a number successfully in each multiple-choice answer cell."
   ]
  },
  {
   "cell_type": "markdown",
   "metadata": {
    "deletable": false,
    "editable": false
   },
   "source": [
    "**Question 2.** Which of the following chapters has the most characters per period? Assign either 1, 2, or 3 to the name `characters_q2` below.\n",
    "1. The chapter with about 60 periods\n",
    "2. The chapter with about 350 periods\n",
    "3. The chapter with about 440 periods\n",
    "\n",
    "<!--\n",
    "BEGIN QUESTION\n",
    "name: q2_2\n",
    "manual: false\n",
    "-->"
   ]
  },
  {
   "cell_type": "code",
   "execution_count": 7,
   "metadata": {},
   "outputs": [],
   "source": [
    "characters_q2 = 1"
   ]
  },
  {
   "cell_type": "code",
   "execution_count": 8,
   "metadata": {
    "deletable": false,
    "editable": false
   },
   "outputs": [
    {
     "name": "stdout",
     "output_type": "stream",
     "text": [
      "~~~~~~~~~~~~~~~~~~~~~~~~~~~~~~~~~~~~~~~~~~~~~~~~~~~~~~~~~~~~~~~~~~~~~\n",
      "Running tests\n",
      "\n",
      "---------------------------------------------------------------------\n",
      "Test summary\n",
      "    Passed: 1\n",
      "    Failed: 0\n",
      "[ooooooooook] 100.0% passed\n",
      "\n"
     ]
    }
   ],
   "source": [
    "ok.grade(\"q2_2\");"
   ]
  },
  {
   "cell_type": "markdown",
   "metadata": {},
   "source": [
    "Again, the test above checks that your answers are in the correct format, but not that you have answered correctly."
   ]
  },
  {
   "cell_type": "markdown",
   "metadata": {},
   "source": [
    "To discover more interesting facts from this plot, read [Section 1.3.2](https://www.inferentialthinking.com/chapters/01/3/2/another-kind-of-character) of the textbook."
   ]
  },
  {
   "cell_type": "markdown",
   "metadata": {},
   "source": [
    "## 3. Names and Assignment Statements\n"
   ]
  },
  {
   "cell_type": "markdown",
   "metadata": {},
   "source": [
    "**Question 1.** When you run the following cell, Python produces a cryptic error message."
   ]
  },
  {
   "cell_type": "code",
   "execution_count": 9,
   "metadata": {},
   "outputs": [
    {
     "ename": "SyntaxError",
     "evalue": "cannot assign to literal (<ipython-input-9-4c8b769209ad>, line 1)",
     "output_type": "error",
     "traceback": [
      "\u001b[0;36m  File \u001b[0;32m\"<ipython-input-9-4c8b769209ad>\"\u001b[0;36m, line \u001b[0;32m1\u001b[0m\n\u001b[0;31m    4 = 2 + 2\u001b[0m\n\u001b[0m    ^\u001b[0m\n\u001b[0;31mSyntaxError\u001b[0m\u001b[0;31m:\u001b[0m cannot assign to literal\n"
     ]
    }
   ],
   "source": [
    "4 = 2 + 2"
   ]
  },
  {
   "cell_type": "markdown",
   "metadata": {
    "deletable": false,
    "editable": false
   },
   "source": [
    "Choose the best explanation of what's wrong with the code, and then assign 1, 2, 3, or 4 to `names_q1` below to indicate your answer.\n",
    "\n",
    "1. Python is smart and already knows `4 = 2 + 2`.\n",
    "\n",
    "2. `4` is already a defined number, and it doesn't make sense to make a number be a name for something else. In Python, \"`x = 2 + 2`\" means \"assign `x` as the name for the value of `2 + 2`.\"\n",
    "\n",
    "3. It should be `2 + 2 = 4`.\n",
    "\n",
    "4. I don't get an error message. This is a trick question.\n",
    "\n",
    "<!--\n",
    "BEGIN QUESTION\n",
    "name: q3_1\n",
    "manual: False\n",
    "-->"
   ]
  },
  {
   "cell_type": "code",
   "execution_count": 10,
   "metadata": {},
   "outputs": [],
   "source": [
    "names_q1 = 2"
   ]
  },
  {
   "cell_type": "code",
   "execution_count": 11,
   "metadata": {
    "deletable": false,
    "editable": false
   },
   "outputs": [
    {
     "name": "stdout",
     "output_type": "stream",
     "text": [
      "~~~~~~~~~~~~~~~~~~~~~~~~~~~~~~~~~~~~~~~~~~~~~~~~~~~~~~~~~~~~~~~~~~~~~\n",
      "Running tests\n",
      "\n",
      "---------------------------------------------------------------------\n",
      "Test summary\n",
      "    Passed: 1\n",
      "    Failed: 0\n",
      "[ooooooooook] 100.0% passed\n",
      "\n"
     ]
    }
   ],
   "source": [
    "ok.grade(\"q3_1\");"
   ]
  },
  {
   "cell_type": "markdown",
   "metadata": {},
   "source": [
    "**Question 2.** When you run the following cell, Python will produce another cryptic error message."
   ]
  },
  {
   "cell_type": "code",
   "execution_count": 12,
   "metadata": {},
   "outputs": [
    {
     "ename": "SyntaxError",
     "evalue": "invalid syntax (<ipython-input-12-820d4d61e3dd>, line 2)",
     "output_type": "error",
     "traceback": [
      "\u001b[0;36m  File \u001b[0;32m\"<ipython-input-12-820d4d61e3dd>\"\u001b[0;36m, line \u001b[0;32m2\u001b[0m\n\u001b[0;31m    six = two plus two\u001b[0m\n\u001b[0m              ^\u001b[0m\n\u001b[0;31mSyntaxError\u001b[0m\u001b[0;31m:\u001b[0m invalid syntax\n"
     ]
    }
   ],
   "source": [
    "two = 3\n",
    "six = two plus two"
   ]
  },
  {
   "cell_type": "markdown",
   "metadata": {
    "deletable": false,
    "editable": false
   },
   "source": [
    "Choose the best explanation of what's wrong with the code and assign 1, 2, 3, or 4 to `names_q2` below to indicate your answer.\n",
    "\n",
    "1. The `plus` operation only applies to numbers, not the word \"two\".\n",
    "\n",
    "2. The name \"two\" cannot be assigned to the number 3.\n",
    "\n",
    "3. Two plus two is four, not six.\n",
    "\n",
    "4. Python cannot interpret the name `two` followed directly by a name that has not been defined.\n",
    "\n",
    "<!--\n",
    "BEGIN QUESTION\n",
    "name: q3_2\n",
    "manual: False\n",
    "-->"
   ]
  },
  {
   "cell_type": "code",
   "execution_count": 13,
   "metadata": {},
   "outputs": [],
   "source": [
    "names_q2 = 4"
   ]
  },
  {
   "cell_type": "code",
   "execution_count": 14,
   "metadata": {
    "deletable": false,
    "editable": false
   },
   "outputs": [
    {
     "name": "stdout",
     "output_type": "stream",
     "text": [
      "~~~~~~~~~~~~~~~~~~~~~~~~~~~~~~~~~~~~~~~~~~~~~~~~~~~~~~~~~~~~~~~~~~~~~\n",
      "Running tests\n",
      "\n",
      "---------------------------------------------------------------------\n",
      "Test summary\n",
      "    Passed: 1\n",
      "    Failed: 0\n",
      "[ooooooooook] 100.0% passed\n",
      "\n"
     ]
    }
   ],
   "source": [
    "ok.grade(\"q3_2\");"
   ]
  },
  {
   "cell_type": "markdown",
   "metadata": {},
   "source": [
    "**Question 3.** When you run the following cell, Python will, yet again, produce another cryptic error message."
   ]
  },
  {
   "cell_type": "code",
   "execution_count": 15,
   "metadata": {},
   "outputs": [
    {
     "name": "stdout",
     "output_type": "stream",
     "text": [
      "5\n"
     ]
    },
    {
     "ename": "TypeError",
     "evalue": "unsupported operand type(s) for +: 'NoneType' and 'int'",
     "output_type": "error",
     "traceback": [
      "\u001b[0;31m---------------------------------------------------------------------------\u001b[0m",
      "\u001b[0;31mTypeError\u001b[0m                                 Traceback (most recent call last)",
      "\u001b[0;32m<ipython-input-15-94f783b16b3e>\u001b[0m in \u001b[0;36m<module>\u001b[0;34m\u001b[0m\n\u001b[1;32m      1\u001b[0m \u001b[0mx\u001b[0m \u001b[0;34m=\u001b[0m \u001b[0mprint\u001b[0m\u001b[0;34m(\u001b[0m\u001b[0;36m5\u001b[0m\u001b[0;34m)\u001b[0m\u001b[0;34m\u001b[0m\u001b[0;34m\u001b[0m\u001b[0m\n\u001b[0;32m----> 2\u001b[0;31m \u001b[0my\u001b[0m \u001b[0;34m=\u001b[0m \u001b[0mx\u001b[0m \u001b[0;34m+\u001b[0m \u001b[0;36m2\u001b[0m\u001b[0;34m\u001b[0m\u001b[0;34m\u001b[0m\u001b[0m\n\u001b[0m",
      "\u001b[0;31mTypeError\u001b[0m: unsupported operand type(s) for +: 'NoneType' and 'int'"
     ]
    }
   ],
   "source": [
    "x = print(5)\n",
    "y = x + 2"
   ]
  },
  {
   "cell_type": "markdown",
   "metadata": {
    "deletable": false,
    "editable": false
   },
   "source": [
    "Choose the best explanation of what's wrong with the code and assign 1, 2, or 3 to `names_q3` below to indicate your answer.\n",
    "\n",
    "1. Python doesn't want `y` to be assigned.\n",
    "\n",
    "2. The `print` operation is meant for displaying values to the programmer, not for assigning values!\n",
    "\n",
    "3. Python can’t do addition between one name and one number. It has to be 2 numbers or 2 predefined names.\n",
    "\n",
    "<!--\n",
    "BEGIN QUESTION\n",
    "name: q3_3\n",
    "manual: false\n",
    "-->"
   ]
  },
  {
   "cell_type": "code",
   "execution_count": 16,
   "metadata": {},
   "outputs": [],
   "source": [
    "names_q3 = 2"
   ]
  },
  {
   "cell_type": "code",
   "execution_count": 17,
   "metadata": {
    "deletable": false,
    "editable": false
   },
   "outputs": [
    {
     "name": "stdout",
     "output_type": "stream",
     "text": [
      "~~~~~~~~~~~~~~~~~~~~~~~~~~~~~~~~~~~~~~~~~~~~~~~~~~~~~~~~~~~~~~~~~~~~~\n",
      "Running tests\n",
      "\n",
      "---------------------------------------------------------------------\n",
      "Test summary\n",
      "    Passed: 1\n",
      "    Failed: 0\n",
      "[ooooooooook] 100.0% passed\n",
      "\n"
     ]
    }
   ],
   "source": [
    "ok.grade(\"q3_3\");"
   ]
  },
  {
   "cell_type": "markdown",
   "metadata": {},
   "source": [
    "## 4. Job Opportunities & Education in Rural India\n"
   ]
  },
  {
   "cell_type": "markdown",
   "metadata": {
    "deletable": false
   },
   "source": [
    "A [study](http://www.nber.org/papers/w16021.pdf) at UCLA investigated factors that might result in greater attention to the health and education of girls in rural India. One such factor is information about job opportunities for women. The idea is that if people know that educated women can get good jobs, they might take more care of the health and education of girls in their families, as an investment in the girls’ future potential as earners. Without the knowledge of job opportunities, the author hypothesizes that families do not invest in women’s well-being.\n",
    "\n",
    "The study focused on 160 villages outside the capital of India, all with little access to information about call centers and similar organizations that offer job opportunities to women. In 80 of the villages chosen at random, recruiters visited the village, described the opportunities, recruited women who had some English language proficiency and experience with computers, and provided ongoing support free of charge for three years. In the other 80 villages, no recruiters visited and no other intervention was made.\n",
    "\n",
    "At the end of the study period, the researchers recorded data about the school attendance and health of the children in the villages."
   ]
  },
  {
   "cell_type": "markdown",
   "metadata": {
    "deletable": false,
    "editable": false
   },
   "source": [
    "**Question 1.** Which statement best describes the *treatment* and *control* groups for this study? Assign either 1, 2, or 3 to the name `jobs_q1` below.\n",
    "\n",
    "1. The treatment group was the 80 villages visited by recruiters, and the control group was the other 80 villages with no intervention.\n",
    "\n",
    "2. The treatment group was the 160 villages selected, and the control group was the rest of the villages outside the capital of India.\n",
    "\n",
    "3. There is no clear notion of *treatment* and *control* group in this study.\n",
    "\n",
    "<!--\n",
    "BEGIN QUESTION\n",
    "name: q4_1\n",
    "manual: false\n",
    "-->"
   ]
  },
  {
   "cell_type": "code",
   "execution_count": 3,
   "metadata": {
    "deletable": false
   },
   "outputs": [],
   "source": [
    "jobs_q1 = 1"
   ]
  },
  {
   "cell_type": "code",
   "execution_count": 7,
   "metadata": {
    "deletable": false,
    "editable": false
   },
   "outputs": [
    {
     "name": "stdout",
     "output_type": "stream",
     "text": [
      "~~~~~~~~~~~~~~~~~~~~~~~~~~~~~~~~~~~~~~~~~~~~~~~~~~~~~~~~~~~~~~~~~~~~~\n",
      "Running tests\n",
      "\n",
      "---------------------------------------------------------------------\n",
      "Test summary\n",
      "    Passed: 1\n",
      "    Failed: 0\n",
      "[ooooooooook] 100.0% passed\n",
      "\n"
     ]
    }
   ],
   "source": [
    "ok.grade(\"q4_1\");"
   ]
  },
  {
   "cell_type": "markdown",
   "metadata": {
    "deletable": false,
    "editable": false
   },
   "source": [
    "**Question 2.** Was this an observational study or a randomized controlled experiment? Assign either 1, 2, or 3 to the name `jobs_q2` below.\n",
    "\n",
    "1. This was an observational study.\n",
    "\n",
    "2. This was a randomized controlled experiment.  \n",
    "\n",
    "3. This was a randomized observational study.\n",
    "\n",
    "<!--\n",
    "BEGIN QUESTION\n",
    "name: q4_2\n",
    "manual: false\n",
    "-->"
   ]
  },
  {
   "cell_type": "code",
   "execution_count": 8,
   "metadata": {
    "deletable": false
   },
   "outputs": [],
   "source": [
    "jobs_q2 = 2"
   ]
  },
  {
   "cell_type": "code",
   "execution_count": 9,
   "metadata": {
    "deletable": false,
    "editable": false
   },
   "outputs": [
    {
     "name": "stdout",
     "output_type": "stream",
     "text": [
      "~~~~~~~~~~~~~~~~~~~~~~~~~~~~~~~~~~~~~~~~~~~~~~~~~~~~~~~~~~~~~~~~~~~~~\n",
      "Running tests\n",
      "\n",
      "---------------------------------------------------------------------\n",
      "Test summary\n",
      "    Passed: 1\n",
      "    Failed: 0\n",
      "[ooooooooook] 100.0% passed\n",
      "\n"
     ]
    }
   ],
   "source": [
    "ok.grade(\"q4_2\");"
   ]
  },
  {
   "cell_type": "markdown",
   "metadata": {
    "deletable": false,
    "editable": false
   },
   "source": [
    "**Question 3.** The study reported, \"Girls aged 5-15 in villages that received the recruiting services were 3 to 5 percentage points more likely to be in school and experienced an increase in Body Mass Index, reflecting greater nutrition and/or medical care. However, there was no net gain in height. For boys, there was no change in any of these measures.\" Why do you think the author points out the lack of change in the boys? Please explain your answer.\n",
    "\n",
    "*Hint:* Remember the original hypothesis. The author believes that educating women in job opportunities will cause families to invest more in the women's well-being.\n",
    "\n",
    "<!--\n",
    "BEGIN QUESTION\n",
    "name: q4_3\n",
    "manual: true\n",
    "-->\n",
    "<!-- EXPORT TO PDF -->"
   ]
  },
  {
   "cell_type": "markdown",
   "metadata": {
    "deletable": false,
    "export_pdf": true
   },
   "source": [
    "The author hypothesizes that families do not take care of the wellbeing of women's well being. By pointing out the lack of change in boys from the villages they have better evidence that the change is girls is significant."
   ]
  },
  {
   "cell_type": "markdown",
   "metadata": {},
   "source": [
    "## 5. Differences between Majors\n"
   ]
  },
  {
   "cell_type": "markdown",
   "metadata": {},
   "source": [
    "Berkeley’s Office of Planning and Analysis provides data on numerous aspects of the campus. Adapted from the OPA website, the table below displays the numbers of degree recipients in three majors in the academic years 2008-2009 and 2017-2018.\n",
    "\n",
    "| Major                              | 2008-2009    | 2017-2018   |\n",
    "|------------------------------------|--------------|-------------|\n",
    "| Gender and Women's Studies         |      17      |    28       |\n",
    "| Linguistics                        |      49      |    67       |\n",
    "| Rhetoric                           |      113     |    56       |\n",
    "\n"
   ]
  },
  {
   "cell_type": "markdown",
   "metadata": {
    "deletable": false,
    "editable": false
   },
   "source": [
    "**Question 1.** Suppose you want to find the **biggest** absolute difference between the numbers of degree recipients in the two years, among the three majors.\n",
    "\n",
    "In the cell below, compute this value and call it `biggest_change`. Use a single expression (a single line of code) to compute the answer. Let Python perform all the arithmetic (like subtracting 49 from 67) rather than simplifying the expression yourself. The built-in `abs` function takes a numerical input and returns the absolute value. The built-in `max` function can take in 3 arguments and returns the maximum of the three numbers\n",
    "\n",
    "<!--\n",
    "BEGIN QUESTION\n",
    "name: q5_1\n",
    "manual: True\n",
    "-->\n",
    "<!-- EXPORT TO PDF -->"
   ]
  },
  {
   "cell_type": "code",
   "execution_count": 10,
   "metadata": {
    "deletable": false,
    "export_pdf": true
   },
   "outputs": [
    {
     "data": {
      "text/plain": [
       "57"
      ]
     },
     "execution_count": 10,
     "metadata": {},
     "output_type": "execute_result"
    }
   ],
   "source": [
    "biggest_change = max(abs(17-28), abs(49-67), abs(113-56))\n",
    "biggest_change"
   ]
  },
  {
   "cell_type": "code",
   "execution_count": 11,
   "metadata": {
    "deletable": false,
    "editable": false
   },
   "outputs": [
    {
     "name": "stdout",
     "output_type": "stream",
     "text": [
      "~~~~~~~~~~~~~~~~~~~~~~~~~~~~~~~~~~~~~~~~~~~~~~~~~~~~~~~~~~~~~~~~~~~~~\n",
      "Running tests\n",
      "\n",
      "---------------------------------------------------------------------\n",
      "Test summary\n",
      "    Passed: 1\n",
      "    Failed: 0\n",
      "[ooooooooook] 100.0% passed\n",
      "\n"
     ]
    }
   ],
   "source": [
    "ok.grade(\"q5_1\");"
   ]
  },
  {
   "cell_type": "markdown",
   "metadata": {
    "deletable": false,
    "editable": false
   },
   "source": [
    "**Question 2.** Which of the three majors had the **smallest** absolute difference? Assign `smallest_change_major` to 1, 2, or 3 where each number corresponds to the following major:\n",
    "\n",
    "1: Gender and Women's Studies  \n",
    "2: Linguistics  \n",
    "3: Rhetoric\n",
    "\n",
    "Choose the number that corresponds to the major with the smallest absolute difference.\n",
    "\n",
    "You should be able to answer by rough mental arithmetic, without having to calculate the exact value for each major. \n",
    "\n",
    "<!--\n",
    "BEGIN QUESTION\n",
    "name: q5_2\n",
    "manual: False\n",
    "-->"
   ]
  },
  {
   "cell_type": "code",
   "execution_count": 12,
   "metadata": {
    "deletable": false
   },
   "outputs": [
    {
     "data": {
      "text/plain": [
       "1"
      ]
     },
     "execution_count": 12,
     "metadata": {},
     "output_type": "execute_result"
    }
   ],
   "source": [
    "smallest_change_major = 1\n",
    "smallest_change_major"
   ]
  },
  {
   "cell_type": "code",
   "execution_count": 13,
   "metadata": {
    "deletable": false,
    "editable": false
   },
   "outputs": [
    {
     "name": "stdout",
     "output_type": "stream",
     "text": [
      "~~~~~~~~~~~~~~~~~~~~~~~~~~~~~~~~~~~~~~~~~~~~~~~~~~~~~~~~~~~~~~~~~~~~~\n",
      "Running tests\n",
      "\n",
      "---------------------------------------------------------------------\n",
      "Test summary\n",
      "    Passed: 1\n",
      "    Failed: 0\n",
      "[ooooooooook] 100.0% passed\n",
      "\n"
     ]
    }
   ],
   "source": [
    "ok.grade(\"q5_2\");"
   ]
  },
  {
   "cell_type": "markdown",
   "metadata": {
    "deletable": false,
    "editable": false
   },
   "source": [
    "**Question 3.**  For each major, define the “relative change” to be the following: $\\large{\\frac{\\text{absolute difference}}{\\text{value in 2008-2009}} * 100}$ \n",
    "\n",
    "Fill in the code below such that `gws_relative_change`, `linguistics_relative_change` and `rhetoric_relative_change` are assigned to the relative changes for their respective majors.\n",
    "\n",
    "<!--\n",
    "BEGIN QUESTION\n",
    "name: q5_3\n",
    "manual: False\n",
    "-->"
   ]
  },
  {
   "cell_type": "code",
   "execution_count": 16,
   "metadata": {
    "deletable": false,
    "for_assignment_type": "student"
   },
   "outputs": [
    {
     "data": {
      "text/plain": [
       "(64.70588235294117, 36.734693877551024, 50.442477876106196)"
      ]
     },
     "execution_count": 16,
     "metadata": {},
     "output_type": "execute_result"
    }
   ],
   "source": [
    "gws_relative_change = (abs(17-28) / 17) * 100\n",
    "linguistics_relative_change = (abs(49-67) / 49) * 100\n",
    "rhetoric_relative_change = (abs(113-56) / 113) * 100\n",
    "gws_relative_change, linguistics_relative_change, rhetoric_relative_change"
   ]
  },
  {
   "cell_type": "code",
   "execution_count": 15,
   "metadata": {
    "deletable": false,
    "editable": false
   },
   "outputs": [
    {
     "name": "stdout",
     "output_type": "stream",
     "text": [
      "~~~~~~~~~~~~~~~~~~~~~~~~~~~~~~~~~~~~~~~~~~~~~~~~~~~~~~~~~~~~~~~~~~~~~\n",
      "Running tests\n",
      "\n",
      "---------------------------------------------------------------------\n",
      "Test summary\n",
      "    Passed: 3\n",
      "    Failed: 0\n",
      "[ooooooooook] 100.0% passed\n",
      "\n"
     ]
    }
   ],
   "source": [
    "ok.grade(\"q5_3\");"
   ]
  },
  {
   "cell_type": "markdown",
   "metadata": {
    "deletable": false,
    "editable": false
   },
   "source": [
    "**Question 4.** Assign `biggest_rel_change_major` to 1, 2, or 3 where each number corresponds to to the following: \n",
    "\n",
    "1: Gender and Women's Studies  \n",
    "2: Linguistics  \n",
    "3: Rhetoric\n",
    "\n",
    "Choose the number that corresponds to the major with the biggest relative change.\n",
    "\n",
    "<!--\n",
    "BEGIN QUESTION\n",
    "name: q5_4\n",
    "manual: False\n",
    "-->"
   ]
  },
  {
   "cell_type": "code",
   "execution_count": 17,
   "metadata": {
    "deletable": false
   },
   "outputs": [
    {
     "data": {
      "text/plain": [
       "1"
      ]
     },
     "execution_count": 17,
     "metadata": {},
     "output_type": "execute_result"
    }
   ],
   "source": [
    "# Assign biggest_rel_change_major to the number corresponding to the major with the biggest relative change.\n",
    "biggest_rel_change_major = 1\n",
    "biggest_rel_change_major"
   ]
  },
  {
   "cell_type": "code",
   "execution_count": 18,
   "metadata": {
    "deletable": false,
    "editable": false
   },
   "outputs": [
    {
     "name": "stdout",
     "output_type": "stream",
     "text": [
      "~~~~~~~~~~~~~~~~~~~~~~~~~~~~~~~~~~~~~~~~~~~~~~~~~~~~~~~~~~~~~~~~~~~~~\n",
      "Running tests\n",
      "\n",
      "---------------------------------------------------------------------\n",
      "Test summary\n",
      "    Passed: 1\n",
      "    Failed: 0\n",
      "[ooooooooook] 100.0% passed\n",
      "\n"
     ]
    }
   ],
   "source": [
    "ok.grade(\"q5_4\");"
   ]
  },
  {
   "cell_type": "markdown",
   "metadata": {},
   "source": [
    "## 6. Nearsightedness Study\n"
   ]
  },
  {
   "cell_type": "markdown",
   "metadata": {},
   "source": [
    "Myopia, or nearsightedness, results from a number of genetic and environmental factors. In 1999, Quinn et al studied the relation between myopia and ambient lighting at night (for example, from nightlights or room lights) during childhood."
   ]
  },
  {
   "cell_type": "markdown",
   "metadata": {
    "deletable": false,
    "editable": false
   },
   "source": [
    "**Question 1.** The data were gathered by the following procedure, reported in the study. \"Between January and June 1998, parents of children aged 2-16 years [...] that were seen as outpatients in a university pediatric ophthalmology clinic completed a questionnaire on the child's light exposure both at present and before the age of 2 years.\" Was this study observational, or was it a controlled experiment? Explain. \n",
    "\n",
    "<!--\n",
    "BEGIN QUESTION\n",
    "name: q6_1\n",
    "manual: True\n",
    "-->\n",
    "<!-- EXPORT TO PDF -->"
   ]
  },
  {
   "cell_type": "markdown",
   "metadata": {
    "deletable": false,
    "export_pdf": true
   },
   "source": [
    "This study was observational the researcher had no hand in generating the child's light exposure."
   ]
  },
  {
   "cell_type": "markdown",
   "metadata": {
    "deletable": false,
    "editable": false
   },
   "source": [
    "**Question 2.** The study found that of the children who slept with a room light on before the age of 2, 55% were myopic. Of the children who slept with a night light on before the age of 2, 34% were myopic. Of the children who slept in the dark before the age of 2, 10% were myopic. The study concluded that, \"The prevalence of myopia [...] during childhood was strongly associated with ambient light exposure during sleep at night in the first two years after birth.\"\n",
    "\n",
    "Do the data support this statement? Why or why not? You may interpret \"strongly\" in any reasonable qualitative way.\n",
    "\n",
    "<!--\n",
    "BEGIN QUESTION\n",
    "name: q6_2\n",
    "manual: True\n",
    "-->\n",
    "<!-- EXPORT TO PDF -->"
   ]
  },
  {
   "cell_type": "markdown",
   "metadata": {
    "deletable": false,
    "export_pdf": true
   },
   "source": [
    "The data does support that there is an association that is being observed because the light exposure shows that the amount of light exposure and the outcome(percent myopic) changes for each different light exposures."
   ]
  },
  {
   "cell_type": "markdown",
   "metadata": {
    "deletable": false,
    "editable": false
   },
   "source": [
    "**Question 3.** On May 13, 1999, CNN reported the results of this study under the headline, \"Night light may lead to nearsightedness.\" Does the conclusion of the study claim that night light causes nearsightedness?\n",
    "\n",
    "<!--\n",
    "BEGIN QUESTION\n",
    "name: q6_3\n",
    "manual: True\n",
    "-->\n",
    "<!-- EXPORT TO PDF -->"
   ]
  },
  {
   "cell_type": "markdown",
   "metadata": {
    "deletable": false,
    "export_pdf": true
   },
   "source": [
    "No this conclusion cannot be made because and since it was an observational study there may have been confounding factors."
   ]
  },
  {
   "cell_type": "markdown",
   "metadata": {
    "deletable": false,
    "editable": false
   },
   "source": [
    "**Question 4.** The final paragraph of the CNN report said that \"several eye specialists\" had pointed out that the study should have accounted for heredity.\n",
    "\n",
    "Myopia is passed down from parents to children. Myopic parents are more likely to have myopic children, and may also be more likely to leave lights on habitually (since the parents have poor vision). In what way does the knowledge of this possible genetic link affect how we interpret the data from the study? Explain.\n",
    "\n",
    "<!--\n",
    "BEGIN QUESTION\n",
    "name: q6_4\n",
    "manual: True\n",
    "-->\n",
    "<!-- EXPORT TO PDF -->"
   ]
  },
  {
   "cell_type": "markdown",
   "metadata": {
    "deletable": false,
    "export_pdf": true
   },
   "source": [
    "Since myopic parents are more likely to keep the light on, and are more likely to have myopic children the data about the amount of children who got myopia and slept with the lights on may have been skewed by children with myopic parents. Therefore we may have overestimated the association between myopia and leaving the lights on by the confounding factor of the genetic link."
   ]
  },
  {
   "cell_type": "markdown",
   "metadata": {},
   "source": [
    "## 7. Studying the Survivors\n"
   ]
  },
  {
   "cell_type": "markdown",
   "metadata": {
    "deletable": false,
    "editable": false
   },
   "source": [
    "The Reverend Henry Whitehead was skeptical of John Snow’s conclusion about the Broad Street pump. After the Broad Street cholera epidemic ended, Whitehead set about trying to prove Snow wrong.  (The history of the event is detailed [here](http://www.ncbi.nlm.nih.gov/pmc/articles/PMC1034367/pdf/medhist00183-0026.pdf).)\n",
    "\n",
    "He realized that Snow had focused his analysis almost entirely on those who had died. Whitehead, therefore, investigated the drinking habits of people in the Broad Street area who had not died in the outbreak.\n",
    "\n",
    "What is the main reason it was important to study this group?\n",
    "\n",
    "1) If Whitehead had found that many people had drunk water from the Broad Street pump and not caught cholera, that would have been evidence against Snow's hypothesis.\n",
    "\n",
    "2) Survivors could provide additional information about what else could have caused the cholera, potentially unearthing another cause.\n",
    "\n",
    "3) Through considering the survivors, Whitehead could have identified a cure for cholera.\n",
    "\n",
    "<!--\n",
    "BEGIN QUESTION\n",
    "name: q7_1\n",
    "manual: False\n",
    "-->"
   ]
  },
  {
   "cell_type": "code",
   "execution_count": 19,
   "metadata": {
    "deletable": false
   },
   "outputs": [],
   "source": [
    "# Assign survivor_answer to 1, 2, or 3\n",
    "survivor_answer = 1"
   ]
  },
  {
   "cell_type": "code",
   "execution_count": 20,
   "metadata": {
    "deletable": false,
    "editable": false
   },
   "outputs": [
    {
     "name": "stdout",
     "output_type": "stream",
     "text": [
      "~~~~~~~~~~~~~~~~~~~~~~~~~~~~~~~~~~~~~~~~~~~~~~~~~~~~~~~~~~~~~~~~~~~~~\n",
      "Running tests\n",
      "\n",
      "---------------------------------------------------------------------\n",
      "Test summary\n",
      "    Passed: 1\n",
      "    Failed: 0\n",
      "[ooooooooook] 100.0% passed\n",
      "\n"
     ]
    }
   ],
   "source": [
    "ok.grade(\"q7_1\");"
   ]
  },
  {
   "cell_type": "markdown",
   "metadata": {},
   "source": [
    "**Note:** Whitehead ended up finding further proof that the Broad Street pump played the central role in spreading the disease to the people who lived near it. Eventually, he became one of Snow’s greatest defenders."
   ]
  },
  {
   "cell_type": "markdown",
   "metadata": {},
   "source": [
    "## 8. Policies and Administrivia\n"
   ]
  },
  {
   "cell_type": "markdown",
   "metadata": {},
   "source": [
    "This section of the homework is to ensure that you have read over the policies and frequently asked questions for the course. \n",
    "\n",
    "**It's important that you read through this section of the homework very carefully**. If you can get through all of this section and are sure you have all of the correct resources set up, you will be able to focus on the actual material this semester!\n",
    "\n",
    "Reading through the [policies](http://data8.org/sp21/policies.html) and the [FAQ](http://data8.org/sp21/faq.html) will help you get through this section very easily. It is recommended you do this before. "
   ]
  },
  {
   "cell_type": "markdown",
   "metadata": {
    "deletable": false,
    "editable": false
   },
   "source": [
    "**Question 1:** You have a question regarding the grading of your assignments that has not been previously answered on Piazza or the FAQ. Who do you contact? Assign `contact` to the number corresponding to the best choice below. \n",
    "\n",
    "1. The Instructors\n",
    "2. Post on Piazza\n",
    "3. Contact your Discussion TA\n",
    "4. Contact your Lab TA\n",
    "\n",
    "<!--\n",
    "BEGIN QUESTION\n",
    "name: q8_1\n",
    "-->"
   ]
  },
  {
   "cell_type": "code",
   "execution_count": 21,
   "metadata": {},
   "outputs": [],
   "source": [
    "contact = 3"
   ]
  },
  {
   "cell_type": "code",
   "execution_count": 22,
   "metadata": {
    "deletable": false,
    "editable": false
   },
   "outputs": [
    {
     "name": "stdout",
     "output_type": "stream",
     "text": [
      "~~~~~~~~~~~~~~~~~~~~~~~~~~~~~~~~~~~~~~~~~~~~~~~~~~~~~~~~~~~~~~~~~~~~~\n",
      "Running tests\n",
      "\n",
      "---------------------------------------------------------------------\n",
      "Test summary\n",
      "    Passed: 1\n",
      "    Failed: 0\n",
      "[ooooooooook] 100.0% passed\n",
      "\n"
     ]
    }
   ],
   "source": [
    "ok.grade(\"q8_1\");"
   ]
  },
  {
   "cell_type": "markdown",
   "metadata": {
    "deletable": false,
    "editable": false
   },
   "source": [
    "**Question 2:** Why will the grades on Gradescope and OkPy be different? Assign `grades` to the number corresponding to the best choice below. \n",
    "\n",
    "1. There was a mistake in the grading. I should contact someone about this\n",
    "2. Gradescope grades the written portion, while OkPy grades the coded portion\n",
    "3. Trick question; the grades should be the same on both platforms\n",
    "\n",
    "<!--\n",
    "BEGIN QUESTION\n",
    "name: q8_2\n",
    "-->"
   ]
  },
  {
   "cell_type": "code",
   "execution_count": 23,
   "metadata": {},
   "outputs": [],
   "source": [
    "grades = 2"
   ]
  },
  {
   "cell_type": "code",
   "execution_count": 24,
   "metadata": {
    "deletable": false,
    "editable": false
   },
   "outputs": [
    {
     "name": "stdout",
     "output_type": "stream",
     "text": [
      "~~~~~~~~~~~~~~~~~~~~~~~~~~~~~~~~~~~~~~~~~~~~~~~~~~~~~~~~~~~~~~~~~~~~~\n",
      "Running tests\n",
      "\n",
      "---------------------------------------------------------------------\n",
      "Test summary\n",
      "    Passed: 1\n",
      "    Failed: 0\n",
      "[ooooooooook] 100.0% passed\n",
      "\n"
     ]
    }
   ],
   "source": [
    "ok.grade(\"q8_2\");"
   ]
  },
  {
   "cell_type": "markdown",
   "metadata": {
    "deletable": false,
    "editable": false
   },
   "source": [
    "**Question 3:** Regrade deadline dates will always be posted on the same Piazza post that releases the assignment grades, common mistakes, and solutions. Can you ask for parts of your assignment regraded after the regrade request window has passed? Assign `regrade` to the number corresponding to the best choice below. \n",
    "\n",
    "1. Yes\n",
    "2. No\n",
    "\n",
    "<!--\n",
    "BEGIN QUESTION\n",
    "name: q8_3\n",
    "-->"
   ]
  },
  {
   "cell_type": "code",
   "execution_count": 25,
   "metadata": {},
   "outputs": [],
   "source": [
    "regrade = 2"
   ]
  },
  {
   "cell_type": "code",
   "execution_count": 26,
   "metadata": {
    "deletable": false,
    "editable": false
   },
   "outputs": [
    {
     "name": "stdout",
     "output_type": "stream",
     "text": [
      "~~~~~~~~~~~~~~~~~~~~~~~~~~~~~~~~~~~~~~~~~~~~~~~~~~~~~~~~~~~~~~~~~~~~~\n",
      "Running tests\n",
      "\n",
      "---------------------------------------------------------------------\n",
      "Test summary\n",
      "    Passed: 1\n",
      "    Failed: 0\n",
      "[ooooooooook] 100.0% passed\n",
      "\n"
     ]
    }
   ],
   "source": [
    "ok.grade(\"q8_3\");"
   ]
  },
  {
   "cell_type": "markdown",
   "metadata": {
    "deletable": false,
    "editable": false
   },
   "source": [
    "**Question 4:** Do you have an Gradescope account? Head to [gradescope.com](http://gradescope.com) and check if you see Data 8. If you do not, please send your Discussion TA an email with your email and student ID number. \n",
    "\n",
    "Once you have been enrolled, go to the Data 8 Gradescope course website. At the end of the url (link), you should see a number. Assign `gradescope` to that number. \n",
    "\n",
    "<!--\n",
    "BEGIN QUESTION\n",
    "name: q8_4\n",
    "-->"
   ]
  },
  {
   "cell_type": "code",
   "execution_count": 29,
   "metadata": {},
   "outputs": [],
   "source": [
    "gradescope = 227046"
   ]
  },
  {
   "cell_type": "code",
   "execution_count": 30,
   "metadata": {
    "deletable": false,
    "editable": false
   },
   "outputs": [
    {
     "name": "stdout",
     "output_type": "stream",
     "text": [
      "~~~~~~~~~~~~~~~~~~~~~~~~~~~~~~~~~~~~~~~~~~~~~~~~~~~~~~~~~~~~~~~~~~~~~\n",
      "Running tests\n",
      "\n",
      "---------------------------------------------------------------------\n",
      "Test summary\n",
      "    Passed: 1\n",
      "    Failed: 0\n",
      "[ooooooooook] 100.0% passed\n",
      "\n"
     ]
    }
   ],
   "source": [
    "ok.grade(\"q8_4\");"
   ]
  },
  {
   "cell_type": "markdown",
   "metadata": {
    "deletable": false,
    "editable": false
   },
   "source": [
    "**Question 5:** Given the following scenarios, assign `acceptable` to the scenario that is permissible given the guidelines on the [policies](http://data8.org/sp21/policies.html) page. \n",
    "\n",
    "1. Alice gets stuck on a homework assignment, so she googles a fix. She stumbles across a pdf of the solutions for the homework assignment from a previous semester's offering of Data 8. After inspecting the solution, Alice writes her own solution and submits the assignment.\n",
    "\n",
    "2. After getting confused by a project, Bob asks his friend for help. His friend Emily helps by walking Bob through her own logic, without showing her code, pointing out areas that are important given the context of the question. Upon hearing his friend's logic, Bob writes his own code and completes the project.\n",
    "\n",
    "3. Eve has an extremely busy schedule, so she really wants to leave lab early by finishing it and getting checked off. Her neighbor, Charlie, simply turns his computer so Eve can see how he completed some questions. After looking at his code, Eve finishes the lab and gets checked off.\n",
    "\n",
    "<!--\n",
    "BEGIN QUESTION\n",
    "name: q8_5\n",
    "-->"
   ]
  },
  {
   "cell_type": "code",
   "execution_count": 31,
   "metadata": {},
   "outputs": [],
   "source": [
    "acceptable = 2"
   ]
  },
  {
   "cell_type": "code",
   "execution_count": 32,
   "metadata": {
    "deletable": false,
    "editable": false
   },
   "outputs": [
    {
     "name": "stdout",
     "output_type": "stream",
     "text": [
      "~~~~~~~~~~~~~~~~~~~~~~~~~~~~~~~~~~~~~~~~~~~~~~~~~~~~~~~~~~~~~~~~~~~~~\n",
      "Running tests\n",
      "\n",
      "---------------------------------------------------------------------\n",
      "Test summary\n",
      "    Passed: 1\n",
      "    Failed: 0\n",
      "[ooooooooook] 100.0% passed\n",
      "\n"
     ]
    }
   ],
   "source": [
    "ok.grade(\"q8_5\");"
   ]
  },
  {
   "cell_type": "markdown",
   "metadata": {
    "deletable": false,
    "editable": false
   },
   "source": [
    "**Question 6:** To make sure you have read through the [policies](http://data8.org/sp21/policies.html) and the [FAQ](http://data8.org/sp21/faq.html) carefully, how many HW/lab/discussion drops are there? Assign `drops` to the number corresponding to the best choice below. \n",
    "\n",
    "1. Two homework drops and two lab drops and two discussion drops\n",
    "2. One homework drop and one lab drop and one discussion drop\n",
    "3. Only one homework drop\n",
    "4. One homework drop and two lab drops and no discussion drops\n",
    "5. Only two discussion drops\n",
    "\n",
    "<!--\n",
    "BEGIN QUESTION\n",
    "name: q8_6\n",
    "-->"
   ]
  },
  {
   "cell_type": "code",
   "execution_count": 33,
   "metadata": {},
   "outputs": [],
   "source": [
    "drops = 1"
   ]
  },
  {
   "cell_type": "code",
   "execution_count": 34,
   "metadata": {
    "deletable": false,
    "editable": false
   },
   "outputs": [
    {
     "name": "stdout",
     "output_type": "stream",
     "text": [
      "~~~~~~~~~~~~~~~~~~~~~~~~~~~~~~~~~~~~~~~~~~~~~~~~~~~~~~~~~~~~~~~~~~~~~\n",
      "Running tests\n",
      "\n",
      "---------------------------------------------------------------------\n",
      "Test summary\n",
      "    Passed: 1\n",
      "    Failed: 0\n",
      "[ooooooooook] 100.0% passed\n",
      "\n"
     ]
    }
   ],
   "source": [
    "ok.grade(\"q8_6\");"
   ]
  },
  {
   "cell_type": "markdown",
   "metadata": {
    "collapsed": true,
    "deletable": false,
    "editable": false
   },
   "source": [
    "**Question 7:** Does Data 8 offer alternate exams to those with class conflicts? Assign `exams` to the number corresponding to the best choice below. \n",
    "\n",
    "1. Yes\n",
    "2. No\n",
    "\n",
    "<!--\n",
    "BEGIN QUESTION\n",
    "name: q8_7\n",
    "-->"
   ]
  },
  {
   "cell_type": "code",
   "execution_count": 35,
   "metadata": {},
   "outputs": [],
   "source": [
    "exams = 1"
   ]
  },
  {
   "cell_type": "code",
   "execution_count": 36,
   "metadata": {
    "deletable": false,
    "editable": false
   },
   "outputs": [
    {
     "name": "stdout",
     "output_type": "stream",
     "text": [
      "~~~~~~~~~~~~~~~~~~~~~~~~~~~~~~~~~~~~~~~~~~~~~~~~~~~~~~~~~~~~~~~~~~~~~\n",
      "Running tests\n",
      "\n",
      "---------------------------------------------------------------------\n",
      "Test summary\n",
      "    Passed: 1\n",
      "    Failed: 0\n",
      "[ooooooooook] 100.0% passed\n",
      "\n"
     ]
    }
   ],
   "source": [
    "ok.grade(\"q8_7\");"
   ]
  },
  {
   "cell_type": "markdown",
   "metadata": {
    "deletable": false,
    "editable": false
   },
   "source": [
    "**Question 8:** Are you actually checking Piazza? Go to this semester's [Data 8 Piazza](https://piazza.com/class/kjukuuch9zp6xi), and find an instructor posted thread with a certain secret phrase. Assign `secret` to this secret phrase in quotes (aka as a string).\n",
    "\n",
    "<!--\n",
    "BEGIN QUESTION\n",
    "name: q8_8\n",
    "-->"
   ]
  },
  {
   "cell_type": "code",
   "execution_count": 41,
   "metadata": {},
   "outputs": [],
   "source": [
    "secret = \"applesauce\""
   ]
  },
  {
   "cell_type": "code",
   "execution_count": 42,
   "metadata": {
    "deletable": false,
    "editable": false
   },
   "outputs": [
    {
     "name": "stdout",
     "output_type": "stream",
     "text": [
      "~~~~~~~~~~~~~~~~~~~~~~~~~~~~~~~~~~~~~~~~~~~~~~~~~~~~~~~~~~~~~~~~~~~~~\n",
      "Running tests\n",
      "\n",
      "---------------------------------------------------------------------\n",
      "Test summary\n",
      "    Passed: 2\n",
      "    Failed: 0\n",
      "[ooooooooook] 100.0% passed\n",
      "\n"
     ]
    }
   ],
   "source": [
    "ok.grade(\"q8_8\");"
   ]
  },
  {
   "cell_type": "markdown",
   "metadata": {},
   "source": [
    "## 9. Welcome Survey\n"
   ]
  },
  {
   "cell_type": "markdown",
   "metadata": {},
   "source": [
    "Once you have submitted, please also complete the welcome survey in order to receive credit for homework 1.\n",
    "\n",
    "Welcome survey is here: https://docs.google.com/forms/d/e/1FAIpQLSdSrpXQQdwWmikhZ8ml_CANd6iGckrMT_3fFuIPrB6Gfh031g/viewform?usp=sf_link"
   ]
  },
  {
   "cell_type": "markdown",
   "metadata": {
    "deletable": false,
    "editable": false
   },
   "source": [
    "Assign `survey` to the secret string given at the end of the welcome survey:\n",
    "<!--\n",
    "BEGIN QUESTION\n",
    "name: q8\n",
    "-->"
   ]
  },
  {
   "cell_type": "code",
   "execution_count": 37,
   "metadata": {},
   "outputs": [],
   "source": [
    "survey = \"data8 is datagr8\""
   ]
  },
  {
   "cell_type": "code",
   "execution_count": 38,
   "metadata": {
    "deletable": false,
    "editable": false
   },
   "outputs": [
    {
     "name": "stdout",
     "output_type": "stream",
     "text": [
      "~~~~~~~~~~~~~~~~~~~~~~~~~~~~~~~~~~~~~~~~~~~~~~~~~~~~~~~~~~~~~~~~~~~~~\n",
      "Running tests\n",
      "\n",
      "---------------------------------------------------------------------\n",
      "Test summary\n",
      "    Passed: 1\n",
      "    Failed: 0\n",
      "[ooooooooook] 100.0% passed\n",
      "\n"
     ]
    }
   ],
   "source": [
    "ok.grade(\"q8\");"
   ]
  },
  {
   "cell_type": "markdown",
   "metadata": {},
   "source": [
    "## 10. Submission\n"
   ]
  },
  {
   "cell_type": "markdown",
   "metadata": {
    "collapsed": true
   },
   "source": [
    "Once you're finished, select \"Save and Checkpoint\" in the File menu and then execute the `submit` cell below. The result will contain a link that you can use to check that your assignment has been submitted successfully. **IMPORTANT: Make sure to check that your submission is not empty. We cannot guarantee that the submission will be valid, so please check it now.** If you submit more than once before the deadline, we will only grade your final submission. If you mistakenly submit the wrong one, you can head to [okpy.org](https://okpy.org/) and flag the correct version. To do so, go to the website, click on this assignment, and find the version you would like to have graded. There should be an option to flag that submission for grading!"
   ]
  },
  {
   "cell_type": "code",
   "execution_count": null,
   "metadata": {},
   "outputs": [],
   "source": [
    "_ = ok.submit()"
   ]
  },
  {
   "cell_type": "code",
   "execution_count": 44,
   "metadata": {},
   "outputs": [
    {
     "name": "stdout",
     "output_type": "stream",
     "text": [
      "Running all tests...\n",
      "~~~~~~~~~~~~~~~~~~~~~~~~~~~~~~~~~~~~~~~~~~~~~~~~~~~~~~~~~~~~~~~~~~~~~\n",
      "Running tests\n",
      "\n",
      "---------------------------------------------------------------------\n",
      "q2_1 > Suite 1 > Case 1\n",
      "\n",
      ">>> 1 <= characters_q1 <= 5\n",
      "NameError: name 'characters_q1' is not defined\n",
      "\n",
      "# Error: expected\n",
      "#     True\n",
      "# but got\n",
      "#     Traceback (most recent call last):\n",
      "#       ...\n",
      "#     NameError: name 'characters_q1' is not defined\n",
      "\n",
      "Run only this test case with \"python3 ok -q q2_1 --suite 1 --case 1\"\n",
      "---------------------------------------------------------------------\n",
      "Test summary\n",
      "    Passed: 0\n",
      "    Failed: 1\n",
      "[k..........] 0.0% passed\n",
      "\n",
      "~~~~~~~~~~~~~~~~~~~~~~~~~~~~~~~~~~~~~~~~~~~~~~~~~~~~~~~~~~~~~~~~~~~~~\n",
      "Running tests\n",
      "\n",
      "---------------------------------------------------------------------\n",
      "q2_2 > Suite 1 > Case 1\n",
      "\n",
      ">>> 1 <= characters_q2 <= 3\n",
      "NameError: name 'characters_q2' is not defined\n",
      "\n",
      "# Error: expected\n",
      "#     True\n",
      "# but got\n",
      "#     Traceback (most recent call last):\n",
      "#       ...\n",
      "#     NameError: name 'characters_q2' is not defined\n",
      "\n",
      "Run only this test case with \"python3 ok -q q2_2 --suite 1 --case 1\"\n",
      "---------------------------------------------------------------------\n",
      "Test summary\n",
      "    Passed: 0\n",
      "    Failed: 1\n",
      "[k..........] 0.0% passed\n",
      "\n",
      "~~~~~~~~~~~~~~~~~~~~~~~~~~~~~~~~~~~~~~~~~~~~~~~~~~~~~~~~~~~~~~~~~~~~~\n",
      "Running tests\n",
      "\n",
      "---------------------------------------------------------------------\n",
      "q3_1 > Suite 1 > Case 1\n",
      "\n",
      ">>> 1 <= names_q1 <= 4\n",
      "NameError: name 'names_q1' is not defined\n",
      "\n",
      "# Error: expected\n",
      "#     True\n",
      "# but got\n",
      "#     Traceback (most recent call last):\n",
      "#       ...\n",
      "#     NameError: name 'names_q1' is not defined\n",
      "\n",
      "Run only this test case with \"python3 ok -q q3_1 --suite 1 --case 1\"\n",
      "---------------------------------------------------------------------\n",
      "Test summary\n",
      "    Passed: 0\n",
      "    Failed: 1\n",
      "[k..........] 0.0% passed\n",
      "\n",
      "~~~~~~~~~~~~~~~~~~~~~~~~~~~~~~~~~~~~~~~~~~~~~~~~~~~~~~~~~~~~~~~~~~~~~\n",
      "Running tests\n",
      "\n",
      "---------------------------------------------------------------------\n",
      "q3_2 > Suite 1 > Case 1\n",
      "\n",
      ">>> 1 <= names_q2 <= 4\n",
      "NameError: name 'names_q2' is not defined\n",
      "\n",
      "# Error: expected\n",
      "#     True\n",
      "# but got\n",
      "#     Traceback (most recent call last):\n",
      "#       ...\n",
      "#     NameError: name 'names_q2' is not defined\n",
      "\n",
      "Run only this test case with \"python3 ok -q q3_2 --suite 1 --case 1\"\n",
      "---------------------------------------------------------------------\n",
      "Test summary\n",
      "    Passed: 0\n",
      "    Failed: 1\n",
      "[k..........] 0.0% passed\n",
      "\n",
      "~~~~~~~~~~~~~~~~~~~~~~~~~~~~~~~~~~~~~~~~~~~~~~~~~~~~~~~~~~~~~~~~~~~~~\n",
      "Running tests\n",
      "\n",
      "---------------------------------------------------------------------\n",
      "q3_3 > Suite 1 > Case 1\n",
      "\n",
      ">>> 1 <= names_q3 <= 3\n",
      "NameError: name 'names_q3' is not defined\n",
      "\n",
      "# Error: expected\n",
      "#     True\n",
      "# but got\n",
      "#     Traceback (most recent call last):\n",
      "#       ...\n",
      "#     NameError: name 'names_q3' is not defined\n",
      "\n",
      "Run only this test case with \"python3 ok -q q3_3 --suite 1 --case 1\"\n",
      "---------------------------------------------------------------------\n",
      "Test summary\n",
      "    Passed: 0\n",
      "    Failed: 1\n",
      "[k..........] 0.0% passed\n",
      "\n",
      "~~~~~~~~~~~~~~~~~~~~~~~~~~~~~~~~~~~~~~~~~~~~~~~~~~~~~~~~~~~~~~~~~~~~~\n",
      "Running tests\n",
      "\n",
      "---------------------------------------------------------------------\n",
      "Test summary\n",
      "    Passed: 1\n",
      "    Failed: 0\n",
      "[ooooooooook] 100.0% passed\n",
      "\n",
      "~~~~~~~~~~~~~~~~~~~~~~~~~~~~~~~~~~~~~~~~~~~~~~~~~~~~~~~~~~~~~~~~~~~~~\n",
      "Running tests\n",
      "\n",
      "---------------------------------------------------------------------\n",
      "Test summary\n",
      "    Passed: 1\n",
      "    Failed: 0\n",
      "[ooooooooook] 100.0% passed\n",
      "\n",
      "~~~~~~~~~~~~~~~~~~~~~~~~~~~~~~~~~~~~~~~~~~~~~~~~~~~~~~~~~~~~~~~~~~~~~\n",
      "Running tests\n",
      "\n",
      "---------------------------------------------------------------------\n",
      "Test summary\n",
      "    Passed: 1\n",
      "    Failed: 0\n",
      "[ooooooooook] 100.0% passed\n",
      "\n",
      "~~~~~~~~~~~~~~~~~~~~~~~~~~~~~~~~~~~~~~~~~~~~~~~~~~~~~~~~~~~~~~~~~~~~~\n",
      "Running tests\n",
      "\n",
      "---------------------------------------------------------------------\n",
      "Test summary\n",
      "    Passed: 1\n",
      "    Failed: 0\n",
      "[ooooooooook] 100.0% passed\n",
      "\n",
      "~~~~~~~~~~~~~~~~~~~~~~~~~~~~~~~~~~~~~~~~~~~~~~~~~~~~~~~~~~~~~~~~~~~~~\n",
      "Running tests\n",
      "\n",
      "---------------------------------------------------------------------\n",
      "Test summary\n",
      "    Passed: 3\n",
      "    Failed: 0\n",
      "[ooooooooook] 100.0% passed\n",
      "\n",
      "~~~~~~~~~~~~~~~~~~~~~~~~~~~~~~~~~~~~~~~~~~~~~~~~~~~~~~~~~~~~~~~~~~~~~\n",
      "Running tests\n",
      "\n",
      "---------------------------------------------------------------------\n",
      "Test summary\n",
      "    Passed: 1\n",
      "    Failed: 0\n",
      "[ooooooooook] 100.0% passed\n",
      "\n",
      "~~~~~~~~~~~~~~~~~~~~~~~~~~~~~~~~~~~~~~~~~~~~~~~~~~~~~~~~~~~~~~~~~~~~~\n",
      "Running tests\n",
      "\n",
      "---------------------------------------------------------------------\n",
      "Test summary\n",
      "    Passed: 1\n",
      "    Failed: 0\n",
      "[ooooooooook] 100.0% passed\n",
      "\n",
      "~~~~~~~~~~~~~~~~~~~~~~~~~~~~~~~~~~~~~~~~~~~~~~~~~~~~~~~~~~~~~~~~~~~~~\n",
      "Running tests\n",
      "\n",
      "---------------------------------------------------------------------\n",
      "Test summary\n",
      "    Passed: 1\n",
      "    Failed: 0\n",
      "[ooooooooook] 100.0% passed\n",
      "\n",
      "~~~~~~~~~~~~~~~~~~~~~~~~~~~~~~~~~~~~~~~~~~~~~~~~~~~~~~~~~~~~~~~~~~~~~\n",
      "Running tests\n",
      "\n",
      "---------------------------------------------------------------------\n",
      "Test summary\n",
      "    Passed: 1\n",
      "    Failed: 0\n",
      "[ooooooooook] 100.0% passed\n",
      "\n",
      "~~~~~~~~~~~~~~~~~~~~~~~~~~~~~~~~~~~~~~~~~~~~~~~~~~~~~~~~~~~~~~~~~~~~~\n",
      "Running tests\n",
      "\n",
      "---------------------------------------------------------------------\n",
      "Test summary\n",
      "    Passed: 1\n",
      "    Failed: 0\n",
      "[ooooooooook] 100.0% passed\n",
      "\n",
      "~~~~~~~~~~~~~~~~~~~~~~~~~~~~~~~~~~~~~~~~~~~~~~~~~~~~~~~~~~~~~~~~~~~~~\n",
      "Running tests\n",
      "\n",
      "---------------------------------------------------------------------\n",
      "Test summary\n",
      "    Passed: 1\n",
      "    Failed: 0\n",
      "[ooooooooook] 100.0% passed\n",
      "\n",
      "~~~~~~~~~~~~~~~~~~~~~~~~~~~~~~~~~~~~~~~~~~~~~~~~~~~~~~~~~~~~~~~~~~~~~\n",
      "Running tests\n",
      "\n",
      "---------------------------------------------------------------------\n",
      "Test summary\n",
      "    Passed: 1\n",
      "    Failed: 0\n",
      "[ooooooooook] 100.0% passed\n",
      "\n",
      "~~~~~~~~~~~~~~~~~~~~~~~~~~~~~~~~~~~~~~~~~~~~~~~~~~~~~~~~~~~~~~~~~~~~~\n",
      "Running tests\n",
      "\n",
      "---------------------------------------------------------------------\n",
      "Test summary\n",
      "    Passed: 1\n",
      "    Failed: 0\n",
      "[ooooooooook] 100.0% passed\n",
      "\n",
      "~~~~~~~~~~~~~~~~~~~~~~~~~~~~~~~~~~~~~~~~~~~~~~~~~~~~~~~~~~~~~~~~~~~~~\n",
      "Running tests\n",
      "\n",
      "---------------------------------------------------------------------\n",
      "Test summary\n",
      "    Passed: 1\n",
      "    Failed: 0\n",
      "[ooooooooook] 100.0% passed\n",
      "\n",
      "~~~~~~~~~~~~~~~~~~~~~~~~~~~~~~~~~~~~~~~~~~~~~~~~~~~~~~~~~~~~~~~~~~~~~\n",
      "Running tests\n",
      "\n",
      "---------------------------------------------------------------------\n",
      "Test summary\n",
      "    Passed: 1\n",
      "    Failed: 0\n",
      "[ooooooooook] 100.0% passed\n",
      "\n",
      "~~~~~~~~~~~~~~~~~~~~~~~~~~~~~~~~~~~~~~~~~~~~~~~~~~~~~~~~~~~~~~~~~~~~~\n",
      "Running tests\n",
      "\n",
      "---------------------------------------------------------------------\n",
      "Test summary\n",
      "    Passed: 2\n",
      "    Failed: 0\n",
      "[ooooooooook] 100.0% passed\n",
      "\n",
      "Finished running all tests.\n"
     ]
    }
   ],
   "source": [
    "# For your convenience, you can run this cell to run all the tests at once!\n",
    "import os\n",
    "print(\"Running all tests...\")\n",
    "_ = [ok.grade(q[:-3]) for q in os.listdir(\"tests\") if q.startswith('q') and len(q) <= 10]\n",
    "print(\"Finished running all tests.\")"
   ]
  },
  {
   "cell_type": "code",
   "execution_count": null,
   "metadata": {},
   "outputs": [],
   "source": []
  }
 ],
 "metadata": {
  "history": [
   {
    "code": "# Initialize OK\nfrom client.api.notebook import Notebook\nok = Notebook('hw01.ok')",
    "id": "ac4b7fad2d8b4d3781b24a879ecc2954",
    "idx": 0,
    "time": "2021-01-24T06:12:39.401Z",
    "type": "execution"
   },
   {
    "id": "ac4b7fad2d8b4d3781b24a879ecc2954",
    "time": "2021-01-24T06:12:39.872Z",
    "type": "completion"
   },
   {
    "code": "# Don't change this cell; just run it. \n# When you log-in please hit return (not shift + return) after typing in your email\n\nfrom client.api.notebook import *\ndef new_save_notebook(self):\n    \"\"\" Saves the current notebook by\n        injecting JavaScript to save to .ipynb file.\n    \"\"\"\n    try:\n        from IPython.display import display, Javascript\n    except ImportError:\n        log.warning(\"Could not import IPython Display Function\")\n        print(\"Make sure to save your notebook before sending it to OK!\")\n        return\n\n    if self.mode == \"jupyter\":\n        display(Javascript('IPython.notebook.save_checkpoint();'))\n        display(Javascript('IPython.notebook.save_notebook();'))\n    elif self.mode == \"jupyterlab\":\n        display(Javascript('document.querySelector(\\'[data-command=\"docmanager:save\"]\\').click();'))   \n\n    print('Saving notebook...', end=' ')\n\n    ipynbs = [path for path in self.assignment.src\n              if os.path.splitext(path)[1] == '.ipynb']\n    # Wait for first .ipynb to save\n    if ipynbs:\n        if wait_for_save(ipynbs[0]):\n            print(\"Saved '{}'.\".format(ipynbs[0]))\n        else:\n            log.warning(\"Timed out waiting for IPython save\")\n            print(\"Could not automatically save \\'{}\\'\".format(ipynbs[0]))\n            print(\"Make sure your notebook\"\n                  \" is correctly named and saved before submitting to OK!\".format(ipynbs[0]))\n            return False                \n    else:\n        print(\"No valid file sources found\")\n    return True\n\ndef wait_for_save(filename, timeout=600):\n    \"\"\"Waits for FILENAME to update, waiting up to TIMEOUT seconds.\n    Returns True if a save was detected, and False otherwise.\n    \"\"\"\n    modification_time = os.path.getmtime(filename)\n    start_time = time.time()\n    while time.time() < start_time + timeout:\n        if (os.path.getmtime(filename) > modification_time and\n            os.path.getsize(filename) > 0):\n            return True\n        time.sleep(0.2)\n    print(\"\\nERROR!\\n YOUR SUBMISSION DID NOT GO THROUGH. PLEASE TRY AGAIN. IF THIS PROBLEM PERSISTS POST ON PIAZZA RIGHT AWAY.\\n ERROR!\" + \"\\n\" * 20)\n    return False\n\nNotebook.save_notebook = new_save_notebook\n\nok = Notebook('hw01.ok')\n_ = ok.auth(inline=True)",
    "id": "61f59250cdd648fe8db11c2a62eb30cc",
    "idx": 2,
    "time": "2021-01-24T06:12:50.305Z",
    "type": "execution"
   },
   {
    "id": "61f59250cdd648fe8db11c2a62eb30cc",
    "time": "2021-01-24T06:12:50.539Z",
    "type": "completion"
   },
   {
    "code": "# Don't change this cell; just run it. \n# When you log-in please hit return (not shift + return) after typing in your email\n\nfrom client.api.notebook import *\ndef new_save_notebook(self):\n    \"\"\" Saves the current notebook by\n        injecting JavaScript to save to .ipynb file.\n    \"\"\"\n    try:\n        from IPython.display import display, Javascript\n    except ImportError:\n        log.warning(\"Could not import IPython Display Function\")\n        print(\"Make sure to save your notebook before sending it to OK!\")\n        return\n\n    if self.mode == \"jupyter\":\n        display(Javascript('IPython.notebook.save_checkpoint();'))\n        display(Javascript('IPython.notebook.save_notebook();'))\n    elif self.mode == \"jupyterlab\":\n        display(Javascript('document.querySelector(\\'[data-command=\"docmanager:save\"]\\').click();'))   \n\n    print('Saving notebook...', end=' ')\n\n    ipynbs = [path for path in self.assignment.src\n              if os.path.splitext(path)[1] == '.ipynb']\n    # Wait for first .ipynb to save\n    if ipynbs:\n        if wait_for_save(ipynbs[0]):\n            print(\"Saved '{}'.\".format(ipynbs[0]))\n        else:\n            log.warning(\"Timed out waiting for IPython save\")\n            print(\"Could not automatically save \\'{}\\'\".format(ipynbs[0]))\n            print(\"Make sure your notebook\"\n                  \" is correctly named and saved before submitting to OK!\".format(ipynbs[0]))\n            return False                \n    else:\n        print(\"No valid file sources found\")\n    return True\n\ndef wait_for_save(filename, timeout=600):\n    \"\"\"Waits for FILENAME to update, waiting up to TIMEOUT seconds.\n    Returns True if a save was detected, and False otherwise.\n    \"\"\"\n    modification_time = os.path.getmtime(filename)\n    start_time = time.time()\n    while time.time() < start_time + timeout:\n        if (os.path.getmtime(filename) > modification_time and\n            os.path.getsize(filename) > 0):\n            return True\n        time.sleep(0.2)\n    print(\"\\nERROR!\\n YOUR SUBMISSION DID NOT GO THROUGH. PLEASE TRY AGAIN. IF THIS PROBLEM PERSISTS POST ON PIAZZA RIGHT AWAY.\\n ERROR!\" + \"\\n\" * 20)\n    return False\n\nNotebook.save_notebook = new_save_notebook\n\nok = Notebook('hw01.ok')\n_ = ok.auth(inline=True)",
    "id": "2cc574bcaddb4d508d680af8c6d2c718",
    "idx": 2,
    "time": "2021-01-26T02:26:37.503Z",
    "type": "execution"
   },
   {
    "code": "# Initialize OK\nfrom client.api.notebook import Notebook\nok = Notebook('hw01.ok')",
    "id": "d3cb8b4cb30347018cfb07026dc504c3",
    "idx": 0,
    "time": "2021-01-28T06:31:41.649Z",
    "type": "execution"
   },
   {
    "id": "d3cb8b4cb30347018cfb07026dc504c3",
    "time": "2021-01-28T06:31:41.999Z",
    "type": "completion"
   },
   {
    "code": "# Don't change this cell; just run it. \n# When you log-in please hit return (not shift + return) after typing in your email\n\nfrom client.api.notebook import *\ndef new_save_notebook(self):\n    \"\"\" Saves the current notebook by\n        injecting JavaScript to save to .ipynb file.\n    \"\"\"\n    try:\n        from IPython.display import display, Javascript\n    except ImportError:\n        log.warning(\"Could not import IPython Display Function\")\n        print(\"Make sure to save your notebook before sending it to OK!\")\n        return\n\n    if self.mode == \"jupyter\":\n        display(Javascript('IPython.notebook.save_checkpoint();'))\n        display(Javascript('IPython.notebook.save_notebook();'))\n    elif self.mode == \"jupyterlab\":\n        display(Javascript('document.querySelector(\\'[data-command=\"docmanager:save\"]\\').click();'))   \n\n    print('Saving notebook...', end=' ')\n\n    ipynbs = [path for path in self.assignment.src\n              if os.path.splitext(path)[1] == '.ipynb']\n    # Wait for first .ipynb to save\n    if ipynbs:\n        if wait_for_save(ipynbs[0]):\n            print(\"Saved '{}'.\".format(ipynbs[0]))\n        else:\n            log.warning(\"Timed out waiting for IPython save\")\n            print(\"Could not automatically save \\'{}\\'\".format(ipynbs[0]))\n            print(\"Make sure your notebook\"\n                  \" is correctly named and saved before submitting to OK!\".format(ipynbs[0]))\n            return False                \n    else:\n        print(\"No valid file sources found\")\n    return True\n\ndef wait_for_save(filename, timeout=600):\n    \"\"\"Waits for FILENAME to update, waiting up to TIMEOUT seconds.\n    Returns True if a save was detected, and False otherwise.\n    \"\"\"\n    modification_time = os.path.getmtime(filename)\n    start_time = time.time()\n    while time.time() < start_time + timeout:\n        if (os.path.getmtime(filename) > modification_time and\n            os.path.getsize(filename) > 0):\n            return True\n        time.sleep(0.2)\n    print(\"\\nERROR!\\n YOUR SUBMISSION DID NOT GO THROUGH. PLEASE TRY AGAIN. IF THIS PROBLEM PERSISTS POST ON PIAZZA RIGHT AWAY.\\n ERROR!\" + \"\\n\" * 20)\n    return False\n\nNotebook.save_notebook = new_save_notebook\n\nok = Notebook('hw01.ok')\n_ = ok.auth(inline=True)",
    "id": "e966690d49074b88831db4727e5bd875",
    "idx": 2,
    "time": "2021-01-28T06:31:45.094Z",
    "type": "execution"
   },
   {
    "id": "e966690d49074b88831db4727e5bd875",
    "time": "2021-01-28T06:31:45.575Z",
    "type": "completion"
   },
   {
    "code": "_ = ok.submit()",
    "id": "d61f07df44bb4150a57afb41e6721ab9",
    "idx": 5,
    "time": "2021-01-28T06:31:53.816Z",
    "type": "execution"
   },
   {
    "id": "d61f07df44bb4150a57afb41e6721ab9",
    "time": "2021-01-28T06:31:59.713Z",
    "type": "completion"
   },
   {
    "code": "# This cell contains code that hasn't yet been covered in the course,\n# but you should be able to interpret the scatter plot it generates.\n\nfrom datascience import *\nfrom urllib.request import urlopen\nimport numpy as np\n%matplotlib inline\n\nlittle_women_url = 'https://www.inferentialthinking.com/data/little_women.txt'\nchapters = urlopen(little_women_url).read().decode().split('CHAPTER ')[1:]\ntext = Table().with_column('Chapters', chapters)\nTable().with_columns(\n    'Periods',    np.char.count(chapters, '.'),\n    'Characters', text.apply(len, 0)\n    ).scatter(0)",
    "id": "2f9c205b3d384fc88a1b647dc9bd6ca6",
    "idx": 11,
    "time": "2021-01-28T06:34:02.165Z",
    "type": "execution"
   },
   {
    "id": "2f9c205b3d384fc88a1b647dc9bd6ca6",
    "time": "2021-01-28T06:34:07.520Z",
    "type": "completion"
   },
   {
    "code": "characters_q1 = 2",
    "id": "ef996c0fd4504136b7f831cf84d26720",
    "idx": 13,
    "time": "2021-01-28T06:35:47.545Z",
    "type": "execution"
   },
   {
    "code": "ok.grade(\"q2_1\");",
    "id": "6366a0e2f8e94ceb88021c8ed9f99d53",
    "idx": 14,
    "time": "2021-01-28T06:35:48.476Z",
    "type": "execution"
   },
   {
    "id": "ef996c0fd4504136b7f831cf84d26720",
    "time": "2021-01-28T06:35:49.263Z",
    "type": "completion"
   },
   {
    "id": "6366a0e2f8e94ceb88021c8ed9f99d53",
    "time": "2021-01-28T06:35:49.776Z",
    "type": "completion"
   },
   {
    "code": "characters_q2 = 1",
    "id": "1c6d8c05a73d45cf81f684171eb9a80e",
    "idx": 17,
    "time": "2021-01-28T06:38:42.587Z",
    "type": "execution"
   },
   {
    "id": "1c6d8c05a73d45cf81f684171eb9a80e",
    "time": "2021-01-28T06:38:42.894Z",
    "type": "completion"
   },
   {
    "code": "ok.grade(\"q2_2\");",
    "id": "5308475030d2498f82dd966ed287b9b7",
    "idx": 18,
    "time": "2021-01-28T06:38:43.309Z",
    "type": "execution"
   },
   {
    "id": "5308475030d2498f82dd966ed287b9b7",
    "time": "2021-01-28T06:38:43.480Z",
    "type": "completion"
   },
   {
    "code": "4 = 2 + 2",
    "id": "2dce67911577400c8661d22574f29e5f",
    "idx": 23,
    "time": "2021-01-28T06:38:52.939Z",
    "type": "execution"
   },
   {
    "id": "2dce67911577400c8661d22574f29e5f",
    "time": "2021-01-28T06:38:53.008Z",
    "type": "completion"
   },
   {
    "code": "names_q1 = 2",
    "id": "99c5afa72dbb41eb86d18749e78267c1",
    "idx": 25,
    "time": "2021-01-28T06:39:21.887Z",
    "type": "execution"
   },
   {
    "id": "99c5afa72dbb41eb86d18749e78267c1",
    "time": "2021-01-28T06:39:21.969Z",
    "type": "completion"
   },
   {
    "code": "ok.grade(\"q3_1\");",
    "id": "bf982c885e0a4b2f80e56eadde309d0b",
    "idx": 26,
    "time": "2021-01-28T06:41:19.389Z",
    "type": "execution"
   },
   {
    "id": "bf982c885e0a4b2f80e56eadde309d0b",
    "time": "2021-01-28T06:41:19.849Z",
    "type": "completion"
   },
   {
    "code": "two = 3\nsix = two plus two",
    "id": "e3b5af2cbdea459386964986136225e6",
    "idx": 28,
    "time": "2021-01-28T06:41:26.669Z",
    "type": "execution"
   },
   {
    "id": "e3b5af2cbdea459386964986136225e6",
    "time": "2021-01-28T06:41:27.312Z",
    "type": "completion"
   },
   {
    "code": "names_q2 = 4",
    "id": "ae1a02f7295749ab8d2c9f915b8fe09e",
    "idx": 30,
    "time": "2021-01-28T06:42:35.996Z",
    "type": "execution"
   },
   {
    "id": "ae1a02f7295749ab8d2c9f915b8fe09e",
    "time": "2021-01-28T06:42:36.346Z",
    "type": "completion"
   },
   {
    "code": "ok.grade(\"q3_2\");",
    "id": "7f61a198c56d4f758a4312af7f28a38e",
    "idx": 31,
    "time": "2021-01-28T06:42:37.111Z",
    "type": "execution"
   },
   {
    "id": "7f61a198c56d4f758a4312af7f28a38e",
    "time": "2021-01-28T06:42:37.787Z",
    "type": "completion"
   },
   {
    "code": "x = print(5)\ny = x + 2",
    "id": "8e90d0fa0a7841c48863c1ddb18fb493",
    "idx": 33,
    "time": "2021-01-28T06:42:42.765Z",
    "type": "execution"
   },
   {
    "id": "8e90d0fa0a7841c48863c1ddb18fb493",
    "time": "2021-01-28T06:42:45.226Z",
    "type": "completion"
   },
   {
    "code": "names_q3 = 2",
    "id": "77f0802ca18e45379ad668d77a0b28b0",
    "idx": 35,
    "time": "2021-01-28T06:43:03.752Z",
    "type": "execution"
   },
   {
    "id": "77f0802ca18e45379ad668d77a0b28b0",
    "time": "2021-01-28T06:43:04.228Z",
    "type": "completion"
   },
   {
    "code": "ok.grade(\"q3_3\");",
    "id": "ccbda509dfb240f58c80c63f3f46fe3a",
    "idx": 36,
    "time": "2021-01-28T06:43:04.733Z",
    "type": "execution"
   },
   {
    "id": "ccbda509dfb240f58c80c63f3f46fe3a",
    "time": "2021-01-28T06:43:05.935Z",
    "type": "completion"
   },
   {
    "code": "jobs_q1 = 1",
    "id": "7ee6fa4331cc4694b0cbba13c8f4e577",
    "idx": 40,
    "time": "2021-01-29T04:49:00.422Z",
    "type": "execution"
   },
   {
    "code": "ok.grade(\"q4_1\");",
    "id": "4fbf1aee2bed4c52a4c11d3631ff0d38",
    "idx": 41,
    "time": "2021-01-29T04:49:01.441Z",
    "type": "execution"
   },
   {
    "id": "7ee6fa4331cc4694b0cbba13c8f4e577",
    "time": "2021-01-29T04:49:01.473Z",
    "type": "completion"
   },
   {
    "id": "4fbf1aee2bed4c52a4c11d3631ff0d38",
    "time": "2021-01-29T04:49:02.787Z",
    "type": "completion"
   },
   {
    "code": "jobs_q1 = 1",
    "id": "7ee6fa4331cc4694b0cbba13c8f4e577",
    "idx": 40,
    "time": "2021-01-29T04:49:07.495Z",
    "type": "execution"
   },
   {
    "id": "7ee6fa4331cc4694b0cbba13c8f4e577",
    "time": "2021-01-29T04:49:08.100Z",
    "type": "completion"
   },
   {
    "code": "ok.grade(\"q4_1\");",
    "id": "4fbf1aee2bed4c52a4c11d3631ff0d38",
    "idx": 41,
    "time": "2021-01-29T04:49:08.549Z",
    "type": "execution"
   },
   {
    "code": "ok.grade(\"q4_1\");",
    "id": "4fbf1aee2bed4c52a4c11d3631ff0d38",
    "idx": 41,
    "time": "2021-01-29T04:49:29.330Z",
    "type": "execution"
   },
   {
    "id": "4fbf1aee2bed4c52a4c11d3631ff0d38",
    "time": "2021-01-29T04:49:36.112Z",
    "type": "completion"
   },
   {
    "id": "4fbf1aee2bed4c52a4c11d3631ff0d38",
    "time": "2021-01-29T04:49:36.113Z",
    "type": "completion"
   },
   {
    "code": "# Initialize OK\nfrom client.api.notebook import Notebook\nok = Notebook('hw01.ok')",
    "id": "bd1688c87f6a4eb48a4c3fe4b144a007",
    "idx": 0,
    "time": "2021-01-29T04:49:43.984Z",
    "type": "execution"
   },
   {
    "id": "bd1688c87f6a4eb48a4c3fe4b144a007",
    "time": "2021-01-29T04:49:47.523Z",
    "type": "completion"
   },
   {
    "code": "ok.grade(\"q4_1\");",
    "id": "4fbf1aee2bed4c52a4c11d3631ff0d38",
    "idx": 41,
    "time": "2021-01-29T04:50:15.704Z",
    "type": "execution"
   },
   {
    "id": "4fbf1aee2bed4c52a4c11d3631ff0d38",
    "time": "2021-01-29T04:50:22.097Z",
    "type": "completion"
   },
   {
    "code": "jobs_q2 = 2",
    "id": "ccb9b9ceb5654cda8964b2664b2dd30d",
    "idx": 43,
    "time": "2021-01-29T04:52:15.487Z",
    "type": "execution"
   },
   {
    "id": "ccb9b9ceb5654cda8964b2664b2dd30d",
    "time": "2021-01-29T04:52:16.160Z",
    "type": "completion"
   },
   {
    "code": "ok.grade(\"q4_2\");",
    "id": "86687a95e21c495285dfa361f8445ca3",
    "idx": 44,
    "time": "2021-01-29T04:52:19.702Z",
    "type": "execution"
   },
   {
    "id": "86687a95e21c495285dfa361f8445ca3",
    "time": "2021-01-29T04:52:22.343Z",
    "type": "completion"
   },
   {
    "code": "biggest_change = max(abs(17-28), abs(49-67), abs(113-56))\nbiggest_change",
    "id": "af762f9edcc54bfab7dfa2d54a7f0781",
    "idx": 50,
    "time": "2021-01-29T05:03:12.997Z",
    "type": "execution"
   },
   {
    "id": "af762f9edcc54bfab7dfa2d54a7f0781",
    "time": "2021-01-29T05:03:13.131Z",
    "type": "completion"
   },
   {
    "code": "ok.grade(\"q5_1\");",
    "id": "de73faf485744f6789b618101b742b73",
    "idx": 51,
    "time": "2021-01-29T05:03:14.347Z",
    "type": "execution"
   },
   {
    "id": "de73faf485744f6789b618101b742b73",
    "time": "2021-01-29T05:03:14.521Z",
    "type": "completion"
   },
   {
    "code": "smallest_change_major = 1\nsmallest_change_major",
    "id": "a5184d8593a5462392976373ed7e3de7",
    "idx": 53,
    "time": "2021-01-29T05:04:19.891Z",
    "type": "execution"
   },
   {
    "id": "a5184d8593a5462392976373ed7e3de7",
    "time": "2021-01-29T05:04:20.285Z",
    "type": "completion"
   },
   {
    "code": "ok.grade(\"q5_2\");",
    "id": "20ef0d35974943dbbfa0bcac88a26dad",
    "idx": 54,
    "time": "2021-01-29T05:04:20.860Z",
    "type": "execution"
   },
   {
    "id": "20ef0d35974943dbbfa0bcac88a26dad",
    "time": "2021-01-29T05:04:21.079Z",
    "type": "completion"
   },
   {
    "code": "gws_relative_change = (abs(11) / 17) * 100\nlinguistics_relative_change = (abs(49-67) / 49) * 100\nrhetoric_relative_change = (abs(113-56) / 113) * 100\ngws_relative_change, linguistics_relative_change, rhetoric_relative_change",
    "id": "f977f0e908a649408408a7831bb915e8",
    "idx": 56,
    "time": "2021-01-29T05:06:14.264Z",
    "type": "execution"
   },
   {
    "id": "f977f0e908a649408408a7831bb915e8",
    "time": "2021-01-29T05:06:14.387Z",
    "type": "completion"
   },
   {
    "code": "ok.grade(\"q5_3\");",
    "id": "60b5c99690ad4cf9a9261d6912608f93",
    "idx": 57,
    "time": "2021-01-29T05:06:15.382Z",
    "type": "execution"
   },
   {
    "id": "60b5c99690ad4cf9a9261d6912608f93",
    "time": "2021-01-29T05:06:16.149Z",
    "type": "completion"
   },
   {
    "code": "gws_relative_change = (abs(17-28) / 17) * 100\nlinguistics_relative_change = (abs(49-67) / 49) * 100\nrhetoric_relative_change = (abs(113-56) / 113) * 100\ngws_relative_change, linguistics_relative_change, rhetoric_relative_change",
    "id": "f977f0e908a649408408a7831bb915e8",
    "idx": 56,
    "time": "2021-01-29T05:06:50.036Z",
    "type": "execution"
   },
   {
    "id": "f977f0e908a649408408a7831bb915e8",
    "time": "2021-01-29T05:06:50.447Z",
    "type": "completion"
   },
   {
    "code": "# Assign biggest_rel_change_major to the number corresponding to the major with the biggest relative change.\nbiggest_rel_change_major = 1\nbiggest_rel_change_major",
    "id": "94e13512cb094bed8f92ecd8b7f5a909",
    "idx": 59,
    "time": "2021-01-29T05:06:54.452Z",
    "type": "execution"
   },
   {
    "id": "94e13512cb094bed8f92ecd8b7f5a909",
    "time": "2021-01-29T05:06:54.574Z",
    "type": "completion"
   },
   {
    "code": "ok.grade(\"q5_4\");",
    "id": "b94e64db106a4556bbe07041c56b2f68",
    "idx": 60,
    "time": "2021-01-29T05:06:55.356Z",
    "type": "execution"
   },
   {
    "id": "b94e64db106a4556bbe07041c56b2f68",
    "time": "2021-01-29T05:06:55.868Z",
    "type": "completion"
   },
   {
    "code": "# Assign survivor_answer to 1, 2, or 3\nsurvivor_answer = 1",
    "id": "bf6f258917224ea985359ba6bcc26a74",
    "idx": 73,
    "time": "2021-01-29T05:20:05.274Z",
    "type": "execution"
   },
   {
    "id": "bf6f258917224ea985359ba6bcc26a74",
    "time": "2021-01-29T05:20:05.711Z",
    "type": "completion"
   },
   {
    "code": "ok.grade(\"q7_1\");",
    "id": "325f8e78153645c985d74b2c7f9af4ed",
    "idx": 74,
    "time": "2021-01-29T05:20:07.889Z",
    "type": "execution"
   },
   {
    "id": "325f8e78153645c985d74b2c7f9af4ed",
    "time": "2021-01-29T05:20:08.505Z",
    "type": "completion"
   },
   {
    "code": "contact = 3",
    "id": "36760cbda9304fb2a5a64805d38c0f2b",
    "idx": 79,
    "time": "2021-01-29T05:21:54.035Z",
    "type": "execution"
   },
   {
    "code": "ok.grade(\"q8_1\");",
    "id": "be8ce160242c41d987da8819e28e1f23",
    "idx": 80,
    "time": "2021-01-29T05:21:54.622Z",
    "type": "execution"
   },
   {
    "id": "36760cbda9304fb2a5a64805d38c0f2b",
    "time": "2021-01-29T05:21:54.775Z",
    "type": "completion"
   },
   {
    "id": "be8ce160242c41d987da8819e28e1f23",
    "time": "2021-01-29T05:21:56.197Z",
    "type": "completion"
   },
   {
    "code": "grades = 2",
    "id": "366fd621290447ec8bebb22351198f5e",
    "idx": 82,
    "time": "2021-01-29T05:22:04.464Z",
    "type": "execution"
   },
   {
    "id": "366fd621290447ec8bebb22351198f5e",
    "time": "2021-01-29T05:22:04.805Z",
    "type": "completion"
   },
   {
    "code": "ok.grade(\"q8_2\");",
    "id": "19f7913a445f4116814823e12a10fe53",
    "idx": 83,
    "time": "2021-01-29T05:22:06.383Z",
    "type": "execution"
   },
   {
    "id": "19f7913a445f4116814823e12a10fe53",
    "time": "2021-01-29T05:22:07.773Z",
    "type": "completion"
   },
   {
    "code": "regrade = 2",
    "id": "a1353c0da0e14e73830fcb1b6cd1105d",
    "idx": 85,
    "time": "2021-01-29T05:22:24.985Z",
    "type": "execution"
   },
   {
    "id": "a1353c0da0e14e73830fcb1b6cd1105d",
    "time": "2021-01-29T05:22:25.102Z",
    "type": "completion"
   },
   {
    "code": "ok.grade(\"q8_3\");",
    "id": "49eb81f4c9f34e34b835c5fff4d917f0",
    "idx": 86,
    "time": "2021-01-29T05:22:26.484Z",
    "type": "execution"
   },
   {
    "id": "49eb81f4c9f34e34b835c5fff4d917f0",
    "time": "2021-01-29T05:22:26.999Z",
    "type": "completion"
   },
   {
    "code": "gradescope = 6",
    "id": "61d5f317ff8d40238090946ab01a327a",
    "idx": 88,
    "time": "2021-01-29T05:23:00.008Z",
    "type": "execution"
   },
   {
    "id": "61d5f317ff8d40238090946ab01a327a",
    "time": "2021-01-29T05:23:00.331Z",
    "type": "completion"
   },
   {
    "code": "ok.grade(\"q8_4\");",
    "id": "3ce3ecaaab3f4c76834247069944bb45",
    "idx": 89,
    "time": "2021-01-29T05:23:01.138Z",
    "type": "execution"
   },
   {
    "id": "3ce3ecaaab3f4c76834247069944bb45",
    "time": "2021-01-29T05:23:03.335Z",
    "type": "completion"
   },
   {
    "code": "gradescope = 227046",
    "id": "61d5f317ff8d40238090946ab01a327a",
    "idx": 88,
    "time": "2021-01-29T05:23:38.975Z",
    "type": "execution"
   },
   {
    "id": "61d5f317ff8d40238090946ab01a327a",
    "time": "2021-01-29T05:23:39.714Z",
    "type": "completion"
   },
   {
    "code": "ok.grade(\"q8_4\");",
    "id": "3ce3ecaaab3f4c76834247069944bb45",
    "idx": 89,
    "time": "2021-01-29T05:23:41.372Z",
    "type": "execution"
   },
   {
    "id": "3ce3ecaaab3f4c76834247069944bb45",
    "time": "2021-01-29T05:23:42.004Z",
    "type": "completion"
   },
   {
    "code": "acceptable = 2",
    "id": "290cf810413a4c77b5108c2f1d0ba87b",
    "idx": 91,
    "time": "2021-01-29T05:24:00.748Z",
    "type": "execution"
   },
   {
    "id": "290cf810413a4c77b5108c2f1d0ba87b",
    "time": "2021-01-29T05:24:00.871Z",
    "type": "completion"
   },
   {
    "code": "ok.grade(\"q8_5\");",
    "id": "b201f34d558e4d7ea11f3f71fc846e17",
    "idx": 92,
    "time": "2021-01-29T05:24:01.983Z",
    "type": "execution"
   },
   {
    "id": "b201f34d558e4d7ea11f3f71fc846e17",
    "time": "2021-01-29T05:24:02.216Z",
    "type": "completion"
   },
   {
    "code": "drops = 1",
    "id": "84b3f33ba00447df82fcac41cca57662",
    "idx": 94,
    "time": "2021-01-29T05:24:12.402Z",
    "type": "execution"
   },
   {
    "id": "84b3f33ba00447df82fcac41cca57662",
    "time": "2021-01-29T05:24:12.789Z",
    "type": "completion"
   },
   {
    "code": "ok.grade(\"q8_6\");",
    "id": "de2ba163b55e4489916ee7a4da2c561b",
    "idx": 95,
    "time": "2021-01-29T05:24:12.995Z",
    "type": "execution"
   },
   {
    "id": "de2ba163b55e4489916ee7a4da2c561b",
    "time": "2021-01-29T05:24:16.523Z",
    "type": "completion"
   },
   {
    "code": "exams = 1",
    "id": "27cb7ec9b291476fb92a5aa045aeba4f",
    "idx": 97,
    "time": "2021-01-29T05:24:20.126Z",
    "type": "execution"
   },
   {
    "id": "27cb7ec9b291476fb92a5aa045aeba4f",
    "time": "2021-01-29T05:24:20.618Z",
    "type": "completion"
   },
   {
    "code": "ok.grade(\"q8_7\");",
    "id": "3bd8ab5bef864b36b9c38b57d62a94e6",
    "idx": 98,
    "time": "2021-01-29T05:24:21.354Z",
    "type": "execution"
   },
   {
    "id": "3bd8ab5bef864b36b9c38b57d62a94e6",
    "time": "2021-01-29T05:24:21.607Z",
    "type": "completion"
   },
   {
    "code": "survey = \"data8 is datagr8\"",
    "id": "1944654111e648f0a5d569a8fed20504",
    "idx": 105,
    "time": "2021-01-29T05:26:53.344Z",
    "type": "execution"
   },
   {
    "id": "1944654111e648f0a5d569a8fed20504",
    "time": "2021-01-29T05:26:53.896Z",
    "type": "completion"
   },
   {
    "code": "ok.grade(\"q8\");",
    "id": "84b7daaefe264f838f6d34e6bac885ae",
    "idx": 106,
    "time": "2021-01-29T05:26:54.007Z",
    "type": "execution"
   },
   {
    "id": "84b7daaefe264f838f6d34e6bac885ae",
    "time": "2021-01-29T05:26:54.616Z",
    "type": "completion"
   },
   {
    "code": "secret = \"...\"",
    "id": "0999167897be4e45b26149ca21754d5a",
    "idx": 100,
    "time": "2021-01-29T05:27:26.073Z",
    "type": "execution"
   },
   {
    "id": "0999167897be4e45b26149ca21754d5a",
    "time": "2021-01-29T05:27:26.863Z",
    "type": "completion"
   },
   {
    "code": "ok.grade(\"q8_8\");",
    "id": "f086865dc46947df85072848852c2399",
    "idx": 101,
    "time": "2021-01-29T05:27:26.989Z",
    "type": "execution"
   },
   {
    "id": "f086865dc46947df85072848852c2399",
    "time": "2021-01-29T05:27:30.196Z",
    "type": "completion"
   },
   {
    "code": "secret = \"applesauce\"",
    "id": "0999167897be4e45b26149ca21754d5a",
    "idx": 100,
    "time": "2021-01-29T05:30:58.999Z",
    "type": "execution"
   },
   {
    "id": "0999167897be4e45b26149ca21754d5a",
    "time": "2021-01-29T05:30:59.718Z",
    "type": "completion"
   },
   {
    "code": "ok.grade(\"q8_8\");",
    "id": "f086865dc46947df85072848852c2399",
    "idx": 101,
    "time": "2021-01-29T05:30:59.993Z",
    "type": "execution"
   },
   {
    "id": "f086865dc46947df85072848852c2399",
    "time": "2021-01-29T05:31:00.551Z",
    "type": "completion"
   },
   {
    "code": "# For your convenience, you can run this cell to run all the tests at once!\nimport os\nprint(\"Running all tests...\")\n_ = [ok.grade(q[:-3]) for q in os.listdir(\"tests\") if q.startswith('q') and len(q) <= 10]\nprint(\"Finished running all tests.\")",
    "id": "f87cc188c4804ad48c2739bf9289f903",
    "idx": 110,
    "time": "2021-01-29T05:31:04.323Z",
    "type": "execution"
   },
   {
    "id": "f87cc188c4804ad48c2739bf9289f903",
    "time": "2021-01-29T05:32:23.746Z",
    "type": "completion"
   },
   {
    "code": "# For your convenience, you can run this cell to run all the tests at once!\nimport os\nprint(\"Running all tests...\")\n_ = [ok.grade(q[:-3]) for q in os.listdir(\"tests\") if q.startswith('q') and len(q) <= 10]\nprint(\"Finished running all tests.\")",
    "id": "f87cc188c4804ad48c2739bf9289f903",
    "idx": 110,
    "time": "2021-01-29T05:36:39.269Z",
    "type": "execution"
   },
   {
    "id": "f87cc188c4804ad48c2739bf9289f903",
    "time": "2021-01-29T05:36:43.054Z",
    "type": "completion"
   },
   {
    "code": "# This cell contains code that hasn't yet been covered in the course,\n# but you should be able to interpret the scatter plot it generates.\n\nfrom datascience import *\nfrom urllib.request import urlopen\nimport numpy as np\n%matplotlib inline\n\nlittle_women_url = 'https://www.inferentialthinking.com/data/little_women.txt'\nchapters = urlopen(little_women_url).read().decode().split('CHAPTER ')[1:]\ntext = Table().with_column('Chapters', chapters)\nTable().with_columns(\n    'Periods',    np.char.count(chapters, '.'),\n    'Characters', text.apply(len, 0)\n    ).scatter(0)",
    "id": "3567926ec9ba415d8af152344d393959",
    "idx": 11,
    "time": "2021-01-29T05:37:19.618Z",
    "type": "execution"
   },
   {
    "id": "3567926ec9ba415d8af152344d393959",
    "time": "2021-01-29T05:37:22.715Z",
    "type": "completion"
   },
   {
    "code": "characters_q1 = 2",
    "id": "b7bef036f45b4800894dc1b44feaf64e",
    "idx": 13,
    "time": "2021-01-29T05:37:26.432Z",
    "type": "execution"
   },
   {
    "id": "b7bef036f45b4800894dc1b44feaf64e",
    "time": "2021-01-29T05:37:26.556Z",
    "type": "completion"
   },
   {
    "code": "ok.grade(\"q2_1\");",
    "id": "0524ad80d64a4225b998316d4ef916ed",
    "idx": 14,
    "time": "2021-01-29T05:37:27.618Z",
    "type": "execution"
   },
   {
    "id": "0524ad80d64a4225b998316d4ef916ed",
    "time": "2021-01-29T05:37:27.795Z",
    "type": "completion"
   },
   {
    "code": "_ = ok.submit()",
    "id": "3a002fb78f4047ada2c2dc3e6c4debda",
    "idx": 109,
    "time": "2021-01-29T05:37:58.484Z",
    "type": "execution"
   }
  ],
  "kernelspec": {
   "display_name": "Python 3",
   "language": "python",
   "name": "python3"
  },
  "language_info": {
   "codemirror_mode": {
    "name": "ipython",
    "version": 3
   },
   "file_extension": ".py",
   "mimetype": "text/x-python",
   "name": "python",
   "nbconvert_exporter": "python",
   "pygments_lexer": "ipython3",
   "version": "3.8.6"
  }
 },
 "nbformat": 4,
 "nbformat_minor": 1
}
