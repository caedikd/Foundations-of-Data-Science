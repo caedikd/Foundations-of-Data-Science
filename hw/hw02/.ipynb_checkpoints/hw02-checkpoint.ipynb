{
 "cells": [
  {
   "cell_type": "code",
   "execution_count": 4,
   "metadata": {
    "deletable": false,
    "editable": false
   },
   "outputs": [
    {
     "name": "stdout",
     "output_type": "stream",
     "text": [
      "=====================================================================\n",
      "Assignment: Homework 2: Arrays and Tables\n",
      "OK, version v1.18.1\n",
      "=====================================================================\n",
      "\n"
     ]
    }
   ],
   "source": [
    "# Initialize OK\n",
    "from client.api.notebook import Notebook\n",
    "ok = Notebook('hw02.ok')"
   ]
  },
  {
   "cell_type": "markdown",
   "metadata": {},
   "source": [
    "# Homework 2: Arrays and Tables\n",
    "\n",
    "Please complete this notebook by filling in the cells provided. Before you begin, execute the following cell to load the provided tests."
   ]
  },
  {
   "cell_type": "code",
   "execution_count": 65,
   "metadata": {},
   "outputs": [
    {
     "name": "stdout",
     "output_type": "stream",
     "text": [
      "=====================================================================\n",
      "Assignment: Homework 2: Arrays and Tables\n",
      "OK, version v1.18.1\n",
      "=====================================================================\n",
      "\n",
      "\n",
      "Open the following URL:\n",
      "\n",
      "https://okpy.org/client/login/\n",
      "\n",
      "After logging in, copy the code from the web page and paste it into the box.\n",
      "Then press the \"Enter\" key on your keyboard.\n",
      "\n"
     ]
    },
    {
     "ename": "KeyboardInterrupt",
     "evalue": "Interrupted by user",
     "output_type": "error",
     "traceback": [
      "\u001b[0;31m---------------------------------------------------------------------------\u001b[0m",
      "\u001b[0;31mKeyboardInterrupt\u001b[0m                         Traceback (most recent call last)",
      "\u001b[0;32m<ipython-input-65-83539d59b15e>\u001b[0m in \u001b[0;36m<module>\u001b[0;34m\u001b[0m\n\u001b[1;32m     60\u001b[0m \u001b[0;34m\u001b[0m\u001b[0m\n\u001b[1;32m     61\u001b[0m \u001b[0mok\u001b[0m \u001b[0;34m=\u001b[0m \u001b[0mNotebook\u001b[0m\u001b[0;34m(\u001b[0m\u001b[0;34m'hw02.ok'\u001b[0m\u001b[0;34m)\u001b[0m\u001b[0;34m\u001b[0m\u001b[0;34m\u001b[0m\u001b[0m\n\u001b[0;32m---> 62\u001b[0;31m \u001b[0mok\u001b[0m\u001b[0;34m.\u001b[0m\u001b[0mauth\u001b[0m\u001b[0;34m(\u001b[0m\u001b[0mforce\u001b[0m\u001b[0;34m=\u001b[0m\u001b[0;32mTrue\u001b[0m\u001b[0;34m)\u001b[0m\u001b[0;34m\u001b[0m\u001b[0;34m\u001b[0m\u001b[0m\n\u001b[0m\u001b[1;32m     63\u001b[0m \u001b[0m_\u001b[0m \u001b[0;34m=\u001b[0m \u001b[0mok\u001b[0m\u001b[0;34m.\u001b[0m\u001b[0mauth\u001b[0m\u001b[0;34m(\u001b[0m\u001b[0minline\u001b[0m\u001b[0;34m=\u001b[0m\u001b[0;32mTrue\u001b[0m\u001b[0;34m)\u001b[0m\u001b[0;34m\u001b[0m\u001b[0;34m\u001b[0m\u001b[0m\n",
      "\u001b[0;32m/opt/conda/lib/python3.8/site-packages/client/api/notebook.py\u001b[0m in \u001b[0;36mauth\u001b[0;34m(self, force, inline)\u001b[0m\n\u001b[1;32m     32\u001b[0m         \u001b[0;32mif\u001b[0m \u001b[0;32mnot\u001b[0m \u001b[0mforce\u001b[0m \u001b[0;32mand\u001b[0m \u001b[0mlogin_with_env\u001b[0m\u001b[0;34m(\u001b[0m\u001b[0mself\u001b[0m\u001b[0;34m.\u001b[0m\u001b[0massignment\u001b[0m\u001b[0;34m)\u001b[0m\u001b[0;34m:\u001b[0m\u001b[0;34m\u001b[0m\u001b[0;34m\u001b[0m\u001b[0m\n\u001b[1;32m     33\u001b[0m             \u001b[0;32mreturn\u001b[0m\u001b[0;34m\u001b[0m\u001b[0;34m\u001b[0m\u001b[0m\n\u001b[0;32m---> 34\u001b[0;31m         \u001b[0mself\u001b[0m\u001b[0;34m.\u001b[0m\u001b[0massignment\u001b[0m\u001b[0;34m.\u001b[0m\u001b[0mauthenticate\u001b[0m\u001b[0;34m(\u001b[0m\u001b[0mforce\u001b[0m\u001b[0;34m=\u001b[0m\u001b[0mforce\u001b[0m\u001b[0;34m,\u001b[0m \u001b[0minline\u001b[0m\u001b[0;34m=\u001b[0m\u001b[0minline\u001b[0m\u001b[0;34m)\u001b[0m\u001b[0;34m\u001b[0m\u001b[0;34m\u001b[0m\u001b[0m\n\u001b[0m\u001b[1;32m     35\u001b[0m \u001b[0;34m\u001b[0m\u001b[0m\n\u001b[1;32m     36\u001b[0m     \u001b[0;32mdef\u001b[0m \u001b[0mgrade\u001b[0m\u001b[0;34m(\u001b[0m\u001b[0mself\u001b[0m\u001b[0;34m,\u001b[0m \u001b[0;34m*\u001b[0m\u001b[0margs\u001b[0m\u001b[0;34m,\u001b[0m \u001b[0;34m**\u001b[0m\u001b[0mkwargs\u001b[0m\u001b[0;34m)\u001b[0m\u001b[0;34m:\u001b[0m\u001b[0;34m\u001b[0m\u001b[0;34m\u001b[0m\u001b[0m\n",
      "\u001b[0;32m/opt/conda/lib/python3.8/site-packages/client/api/assignment.py\u001b[0m in \u001b[0;36mauthenticate\u001b[0;34m(self, force, inline, nointeract)\u001b[0m\n\u001b[1;32m    301\u001b[0m             \u001b[0;32mreturn\u001b[0m \u001b[0mauth\u001b[0m\u001b[0;34m.\u001b[0m\u001b[0mauthenticate\u001b[0m\u001b[0;34m(\u001b[0m\u001b[0mself\u001b[0m\u001b[0;34m.\u001b[0m\u001b[0mcmd_args\u001b[0m\u001b[0;34m,\u001b[0m \u001b[0mendpoint\u001b[0m\u001b[0;34m=\u001b[0m\u001b[0mself\u001b[0m\u001b[0;34m.\u001b[0m\u001b[0mendpoint\u001b[0m\u001b[0;34m,\u001b[0m \u001b[0mforce\u001b[0m\u001b[0;34m=\u001b[0m\u001b[0mforce\u001b[0m\u001b[0;34m,\u001b[0m \u001b[0mnointeract\u001b[0m\u001b[0;34m=\u001b[0m\u001b[0mnointeract\u001b[0m\u001b[0;34m)\u001b[0m\u001b[0;34m\u001b[0m\u001b[0;34m\u001b[0m\u001b[0m\n\u001b[1;32m    302\u001b[0m         \u001b[0;32melse\u001b[0m\u001b[0;34m:\u001b[0m\u001b[0;34m\u001b[0m\u001b[0;34m\u001b[0m\u001b[0m\n\u001b[0;32m--> 303\u001b[0;31m             \u001b[0;32mreturn\u001b[0m \u001b[0mauth\u001b[0m\u001b[0;34m.\u001b[0m\u001b[0mnotebook_authenticate\u001b[0m\u001b[0;34m(\u001b[0m\u001b[0mself\u001b[0m\u001b[0;34m.\u001b[0m\u001b[0mcmd_args\u001b[0m\u001b[0;34m,\u001b[0m \u001b[0mforce\u001b[0m\u001b[0;34m=\u001b[0m\u001b[0mforce\u001b[0m\u001b[0;34m,\u001b[0m \u001b[0mnointeract\u001b[0m\u001b[0;34m=\u001b[0m\u001b[0mnointeract\u001b[0m\u001b[0;34m)\u001b[0m\u001b[0;34m\u001b[0m\u001b[0;34m\u001b[0m\u001b[0m\n\u001b[0m\u001b[1;32m    304\u001b[0m \u001b[0;34m\u001b[0m\u001b[0m\n\u001b[1;32m    305\u001b[0m     \u001b[0;32mdef\u001b[0m \u001b[0mget_student_email\u001b[0m\u001b[0;34m(\u001b[0m\u001b[0mself\u001b[0m\u001b[0;34m)\u001b[0m\u001b[0;34m:\u001b[0m\u001b[0;34m\u001b[0m\u001b[0;34m\u001b[0m\u001b[0m\n",
      "\u001b[0;32m/opt/conda/lib/python3.8/site-packages/client/utils/auth.py\u001b[0m in \u001b[0;36mnotebook_authenticate\u001b[0;34m(cmd_args, force, silent, nointeract)\u001b[0m\n\u001b[1;32m    232\u001b[0m \u001b[0;34m\u001b[0m\u001b[0m\n\u001b[1;32m    233\u001b[0m     \u001b[0;32mif\u001b[0m \u001b[0;32mnot\u001b[0m \u001b[0maccess_token\u001b[0m\u001b[0;34m:\u001b[0m\u001b[0;34m\u001b[0m\u001b[0;34m\u001b[0m\u001b[0m\n\u001b[0;32m--> 234\u001b[0;31m         access_token = perform_oauth(\n\u001b[0m\u001b[1;32m    235\u001b[0m             \u001b[0mget_code_via_terminal\u001b[0m\u001b[0;34m,\u001b[0m\u001b[0;34m\u001b[0m\u001b[0;34m\u001b[0m\u001b[0m\n\u001b[1;32m    236\u001b[0m             \u001b[0mcmd_args\u001b[0m\u001b[0;34m,\u001b[0m\u001b[0;34m\u001b[0m\u001b[0;34m\u001b[0m\u001b[0m\n",
      "\u001b[0;32m/opt/conda/lib/python3.8/site-packages/client/utils/auth.py\u001b[0m in \u001b[0;36mperform_oauth\u001b[0;34m(code_fn, *args, **kwargs)\u001b[0m\n\u001b[1;32m    168\u001b[0m \u001b[0;32mdef\u001b[0m \u001b[0mperform_oauth\u001b[0m\u001b[0;34m(\u001b[0m\u001b[0mcode_fn\u001b[0m\u001b[0;34m,\u001b[0m \u001b[0;34m*\u001b[0m\u001b[0margs\u001b[0m\u001b[0;34m,\u001b[0m \u001b[0;34m**\u001b[0m\u001b[0mkwargs\u001b[0m\u001b[0;34m)\u001b[0m\u001b[0;34m:\u001b[0m\u001b[0;34m\u001b[0m\u001b[0;34m\u001b[0m\u001b[0m\n\u001b[1;32m    169\u001b[0m     \u001b[0;32mtry\u001b[0m\u001b[0;34m:\u001b[0m\u001b[0;34m\u001b[0m\u001b[0;34m\u001b[0m\u001b[0m\n\u001b[0;32m--> 170\u001b[0;31m         \u001b[0maccess_token\u001b[0m\u001b[0;34m,\u001b[0m \u001b[0mexpires_in\u001b[0m\u001b[0;34m,\u001b[0m \u001b[0mrefresh_token\u001b[0m \u001b[0;34m=\u001b[0m \u001b[0mcode_fn\u001b[0m\u001b[0;34m(\u001b[0m\u001b[0;34m*\u001b[0m\u001b[0margs\u001b[0m\u001b[0;34m,\u001b[0m \u001b[0;34m**\u001b[0m\u001b[0mkwargs\u001b[0m\u001b[0;34m)\u001b[0m\u001b[0;34m\u001b[0m\u001b[0;34m\u001b[0m\u001b[0m\n\u001b[0m\u001b[1;32m    171\u001b[0m     \u001b[0;32mexcept\u001b[0m \u001b[0mUnicodeDecodeError\u001b[0m \u001b[0;32mas\u001b[0m \u001b[0me\u001b[0m\u001b[0;34m:\u001b[0m\u001b[0;34m\u001b[0m\u001b[0;34m\u001b[0m\u001b[0m\n\u001b[1;32m    172\u001b[0m         \u001b[0;32mwith\u001b[0m \u001b[0mformat\u001b[0m\u001b[0;34m.\u001b[0m\u001b[0mblock\u001b[0m\u001b[0;34m(\u001b[0m\u001b[0;34m'-'\u001b[0m\u001b[0;34m)\u001b[0m\u001b[0;34m:\u001b[0m\u001b[0;34m\u001b[0m\u001b[0;34m\u001b[0m\u001b[0m\n",
      "\u001b[0;32m/opt/conda/lib/python3.8/site-packages/client/utils/auth.py\u001b[0m in \u001b[0;36mget_code_via_terminal\u001b[0;34m(cmd_args, email, copy_msg, paste_msg)\u001b[0m\n\u001b[1;32m    349\u001b[0m     \u001b[0mprint\u001b[0m\u001b[0;34m(\u001b[0m\u001b[0mpaste_msg\u001b[0m\u001b[0;34m)\u001b[0m\u001b[0;34m\u001b[0m\u001b[0;34m\u001b[0m\u001b[0m\n\u001b[1;32m    350\u001b[0m     \u001b[0mprint\u001b[0m\u001b[0;34m(\u001b[0m\u001b[0;34m)\u001b[0m\u001b[0;34m\u001b[0m\u001b[0;34m\u001b[0m\u001b[0m\n\u001b[0;32m--> 351\u001b[0;31m     \u001b[0mcode\u001b[0m \u001b[0;34m=\u001b[0m \u001b[0minput\u001b[0m\u001b[0;34m(\u001b[0m\u001b[0;34m'Paste your code here: '\u001b[0m\u001b[0;34m)\u001b[0m\u001b[0;34m\u001b[0m\u001b[0;34m\u001b[0m\u001b[0m\n\u001b[0m\u001b[1;32m    352\u001b[0m     \u001b[0;32mreturn\u001b[0m \u001b[0mmake_code_post\u001b[0m\u001b[0;34m(\u001b[0m\u001b[0mserver_url\u001b[0m\u001b[0;34m(\u001b[0m\u001b[0mcmd_args\u001b[0m\u001b[0;34m)\u001b[0m\u001b[0;34m,\u001b[0m \u001b[0mcode\u001b[0m\u001b[0;34m,\u001b[0m \u001b[0mredirect_uri\u001b[0m\u001b[0;34m)\u001b[0m\u001b[0;34m\u001b[0m\u001b[0;34m\u001b[0m\u001b[0m\n\u001b[1;32m    353\u001b[0m \u001b[0;34m\u001b[0m\u001b[0m\n",
      "\u001b[0;32m/opt/conda/lib/python3.8/site-packages/ipykernel/kernelbase.py\u001b[0m in \u001b[0;36mraw_input\u001b[0;34m(self, prompt)\u001b[0m\n\u001b[1;32m    855\u001b[0m                 \u001b[0;34m\"raw_input was called, but this frontend does not support input requests.\"\u001b[0m\u001b[0;34m\u001b[0m\u001b[0;34m\u001b[0m\u001b[0m\n\u001b[1;32m    856\u001b[0m             )\n\u001b[0;32m--> 857\u001b[0;31m         return self._input_request(str(prompt),\n\u001b[0m\u001b[1;32m    858\u001b[0m             \u001b[0mself\u001b[0m\u001b[0;34m.\u001b[0m\u001b[0m_parent_ident\u001b[0m\u001b[0;34m,\u001b[0m\u001b[0;34m\u001b[0m\u001b[0;34m\u001b[0m\u001b[0m\n\u001b[1;32m    859\u001b[0m             \u001b[0mself\u001b[0m\u001b[0;34m.\u001b[0m\u001b[0m_parent_header\u001b[0m\u001b[0;34m,\u001b[0m\u001b[0;34m\u001b[0m\u001b[0;34m\u001b[0m\u001b[0m\n",
      "\u001b[0;32m/opt/conda/lib/python3.8/site-packages/ipykernel/kernelbase.py\u001b[0m in \u001b[0;36m_input_request\u001b[0;34m(self, prompt, ident, parent, password)\u001b[0m\n\u001b[1;32m    899\u001b[0m             \u001b[0;32mexcept\u001b[0m \u001b[0mKeyboardInterrupt\u001b[0m\u001b[0;34m:\u001b[0m\u001b[0;34m\u001b[0m\u001b[0;34m\u001b[0m\u001b[0m\n\u001b[1;32m    900\u001b[0m                 \u001b[0;31m# re-raise KeyboardInterrupt, to truncate traceback\u001b[0m\u001b[0;34m\u001b[0m\u001b[0;34m\u001b[0m\u001b[0;34m\u001b[0m\u001b[0m\n\u001b[0;32m--> 901\u001b[0;31m                 \u001b[0;32mraise\u001b[0m \u001b[0mKeyboardInterrupt\u001b[0m\u001b[0;34m(\u001b[0m\u001b[0;34m\"Interrupted by user\"\u001b[0m\u001b[0;34m)\u001b[0m \u001b[0;32mfrom\u001b[0m \u001b[0;32mNone\u001b[0m\u001b[0;34m\u001b[0m\u001b[0;34m\u001b[0m\u001b[0m\n\u001b[0m\u001b[1;32m    902\u001b[0m             \u001b[0;32mexcept\u001b[0m \u001b[0mException\u001b[0m \u001b[0;32mas\u001b[0m \u001b[0me\u001b[0m\u001b[0;34m:\u001b[0m\u001b[0;34m\u001b[0m\u001b[0;34m\u001b[0m\u001b[0m\n\u001b[1;32m    903\u001b[0m                 \u001b[0mself\u001b[0m\u001b[0;34m.\u001b[0m\u001b[0mlog\u001b[0m\u001b[0;34m.\u001b[0m\u001b[0mwarning\u001b[0m\u001b[0;34m(\u001b[0m\u001b[0;34m\"Invalid Message:\"\u001b[0m\u001b[0;34m,\u001b[0m \u001b[0mexc_info\u001b[0m\u001b[0;34m=\u001b[0m\u001b[0;32mTrue\u001b[0m\u001b[0;34m)\u001b[0m\u001b[0;34m\u001b[0m\u001b[0;34m\u001b[0m\u001b[0m\n",
      "\u001b[0;31mKeyboardInterrupt\u001b[0m: Interrupted by user"
     ]
    }
   ],
   "source": [
    "# Don't change this cell; just run it. \n",
    "# When you log-in please hit return (not shift + return) after typing in your email\n",
    "import numpy as np\n",
    "from datascience import *\n",
    "import warnings\n",
    "warnings.simplefilter('ignore', FutureWarning)\n",
    "\n",
    "from client.api.notebook import *\n",
    "def new_save_notebook(self):\n",
    "    \"\"\" Saves the current notebook by\n",
    "        injecting JavaScript to save to .ipynb file.\n",
    "    \"\"\"\n",
    "    try:\n",
    "        from IPython.display import display, Javascript\n",
    "    except ImportError:\n",
    "        log.warning(\"Could not import IPython Display Function\")\n",
    "        print(\"Make sure to save your notebook before sending it to OK!\")\n",
    "        return\n",
    "\n",
    "    if self.mode == \"jupyter\":\n",
    "        display(Javascript('IPython.notebook.save_checkpoint();'))\n",
    "        display(Javascript('IPython.notebook.save_notebook();'))\n",
    "    elif self.mode == \"jupyterlab\":\n",
    "        display(Javascript('document.querySelector(\\'[data-command=\"docmanager:save\"]\\').click();'))   \n",
    "\n",
    "    print('Saving notebook...', end=' ')\n",
    "\n",
    "    ipynbs = [path for path in self.assignment.src\n",
    "              if os.path.splitext(path)[1] == '.ipynb']\n",
    "    # Wait for first .ipynb to save\n",
    "    if ipynbs:\n",
    "        if wait_for_save(ipynbs[0]):\n",
    "            print(\"Saved '{}'.\".format(ipynbs[0]))\n",
    "        else:\n",
    "            log.warning(\"Timed out waiting for IPython save\")\n",
    "            print(\"Could not automatically save \\'{}\\'\".format(ipynbs[0]))\n",
    "            print(\"Make sure your notebook\"\n",
    "                  \" is correctly named and saved before submitting to OK!\".format(ipynbs[0]))\n",
    "            return False                \n",
    "    else:\n",
    "        print(\"No valid file sources found\")\n",
    "    return True\n",
    "\n",
    "def wait_for_save(filename, timeout=600):\n",
    "    \"\"\"Waits for FILENAME to update, waiting up to TIMEOUT seconds.\n",
    "    Returns True if a save was detected, and False otherwise.\n",
    "    \"\"\"\n",
    "    modification_time = os.path.getmtime(filename)\n",
    "    start_time = time.time()\n",
    "    while time.time() < start_time + timeout:\n",
    "        if (os.path.getmtime(filename) > modification_time and\n",
    "            os.path.getsize(filename) > 0):\n",
    "            return True\n",
    "        time.sleep(0.2)\n",
    "    print(\"\\nERROR!\\n YOUR SUBMISSION DID NOT GO THROUGH. PLEASE TRY AGAIN. IF THIS PROBLEM PERSISTS POST ON PIAZZA RIGHT AWAY.\\n ERROR!\" + \"\\n\" * 20)\n",
    "\n",
    "    return False\n",
    "\n",
    "Notebook.save_notebook = new_save_notebook\n",
    "\n",
    "ok = Notebook('hw02.ok')\n",
    "ok.auth(force=True) \n",
    "_ = ok.auth(inline=True)"
   ]
  },
  {
   "cell_type": "markdown",
   "metadata": {},
   "source": [
    "**Helpful Resource:**\n",
    "- [Python Reference](http://data8.org/sp21/python-reference.html): Cheat sheet of helpful array & table methods used in Data 8!\n",
    "\n",
    "**Recommended Reading:**\n",
    "- [What is Data Science](http://www.inferentialthinking.com/chapters/01/what-is-data-science.html)\n",
    "- [Causality and Experiments](http://www.inferentialthinking.com/chapters/02/causality-and-experiments.html) \n",
    "- [Programming in Python](http://www.inferentialthinking.com/chapters/03/programming-in-python.html)\n",
    "\n",
    "For all problems that you must write explanations and sentences for, you **must** provide your answer in the designated space. Moreover, throughout this homework and all future ones, please be sure to not re-assign variables throughout the notebook! For example, if you use `max_temperature` in your answer to one question, do not reassign it later on. Otherwise, you will fail tests that you thought you were passing previously!\n",
    "\n",
    "**Deadline:**\n",
    "\n",
    "This assignment is due Thursday, February 4 at 11:59 P.M PST. You will receive an early submission bonus point if you turn in your final submission by Wednesday, February 3 at 11:59 P.M PST. Late work will not be accepted as per the [policies](http://data8.org/sp21/policies.html) page.\n",
    "\n",
    "### **Note: This homework has hidden tests on it. That means even though tests may say 100% passed, doesn't mean your final grade will be 100%. We will be running more tests for correctness once everyone turns in the homework.**\n",
    "\n",
    "Directly sharing answers is not okay, but discussing problems with the course staff or with other students is encouraged. Refer to the policies page to learn more about how to learn cooperatively.\n",
    "\n",
    "You should start early so that you have time to get help if you're stuck. Office hours are held Monday-Friday. The schedule appears on [http://data8.org/sp21/office-hours.html](http://data8.org/sp21/office-hours.html).\n"
   ]
  },
  {
   "cell_type": "markdown",
   "metadata": {},
   "source": [
    "Before continuing the assignment, select \"Save and Checkpoint\" in the File menu and then execute the `submit` cell below. The result will contain a link that you can use to check that your assignment has been submitted successfully. If you submit more than once before the deadline, we will only grade your final submission. If you mistakenly submit the wrong one, you can head to okpy.org and flag the correct version. There will be another `submit` cell at the end of the assignment when you finish! "
   ]
  },
  {
   "cell_type": "code",
   "execution_count": null,
   "metadata": {},
   "outputs": [],
   "source": [
    "_ = ok.submit()"
   ]
  },
  {
   "cell_type": "markdown",
   "metadata": {},
   "source": [
    "## 1. Creating Arrays\n"
   ]
  },
  {
   "cell_type": "markdown",
   "metadata": {
    "deletable": false,
    "editable": false
   },
   "source": [
    "**Question 1.** Make an array called `weird_numbers` containing the following numbers (in the given order):\n",
    "\n",
    "1. -2\n",
    "2. the sine of 12\n",
    "3. 3\n",
    "4. 5 to the power of the cosine of 12\n",
    "\n",
    "*Hint:* `sin` and `cos` are functions in the `math` module. Importing modules is covered in 2.1 of Lab 2!\n",
    "\n",
    "*Note:* Python lists are different/behave differently than numpy arrays. In Data 8, we use numpy arrays, so please make an **array**, not a python list.\n",
    "\n",
    "<!--\n",
    "BEGIN QUESTION\n",
    "name: q1_1\n",
    "-->"
   ]
  },
  {
   "cell_type": "code",
   "execution_count": 85,
   "metadata": {},
   "outputs": [
    {
     "data": {
      "text/plain": [
       "array([-2.        , -0.53657292,  3.        ,  3.88891638])"
      ]
     },
     "execution_count": 85,
     "metadata": {},
     "output_type": "execute_result"
    }
   ],
   "source": [
    "# Our solution involved one extra line of code before creating\n",
    "# weird_numbers.\n",
    "...\n",
    "import math\n",
    "weird_numbers = make_array(-2, math.sin(12), 3, 5**math.cos(12))\n",
    "weird_numbers"
   ]
  },
  {
   "cell_type": "code",
   "execution_count": 86,
   "metadata": {
    "deletable": false,
    "editable": false
   },
   "outputs": [
    {
     "name": "stdout",
     "output_type": "stream",
     "text": [
      "~~~~~~~~~~~~~~~~~~~~~~~~~~~~~~~~~~~~~~~~~~~~~~~~~~~~~~~~~~~~~~~~~~~~~\n",
      "Running tests\n",
      "\n",
      "---------------------------------------------------------------------\n",
      "Test summary\n",
      "    Passed: 1\n",
      "    Failed: 0\n",
      "[ooooooooook] 100.0% passed\n",
      "\n"
     ]
    }
   ],
   "source": [
    "ok.grade(\"q1_1\");"
   ]
  },
  {
   "cell_type": "markdown",
   "metadata": {
    "deletable": false,
    "editable": false
   },
   "source": [
    "**Question 2.** Make an array called `book_title_words` containing the following three strings: \"Eats\", \"Shoots\", and \"and Leaves\".\n",
    "\n",
    "<!--\n",
    "BEGIN QUESTION\n",
    "name: q1_2\n",
    "-->"
   ]
  },
  {
   "cell_type": "code",
   "execution_count": 87,
   "metadata": {},
   "outputs": [
    {
     "data": {
      "text/plain": [
       "array(['Eats', 'Shoots', 'and Leaves'], dtype='<U10')"
      ]
     },
     "execution_count": 87,
     "metadata": {},
     "output_type": "execute_result"
    }
   ],
   "source": [
    "book_title_words = make_array('Eats', 'Shoots', 'and Leaves')\n",
    "book_title_words"
   ]
  },
  {
   "cell_type": "code",
   "execution_count": 88,
   "metadata": {
    "deletable": false,
    "editable": false
   },
   "outputs": [
    {
     "name": "stdout",
     "output_type": "stream",
     "text": [
      "~~~~~~~~~~~~~~~~~~~~~~~~~~~~~~~~~~~~~~~~~~~~~~~~~~~~~~~~~~~~~~~~~~~~~\n",
      "Running tests\n",
      "\n",
      "---------------------------------------------------------------------\n",
      "Test summary\n",
      "    Passed: 7\n",
      "    Failed: 0\n",
      "[ooooooooook] 100.0% passed\n",
      "\n"
     ]
    }
   ],
   "source": [
    "ok.grade(\"q1_2\");"
   ]
  },
  {
   "cell_type": "markdown",
   "metadata": {
    "deletable": false,
    "editable": false
   },
   "source": [
    "Strings have a method called `join`.  `join` takes one argument, an array of strings.  It returns a single string.  Specifically, the value of `a_string.join(an_array)` is a single string that's the [concatenation](https://en.wikipedia.org/wiki/Concatenation) (\"putting together\") of all the strings in `an_array`, **except** `a_string` is inserted in between each string.\n",
    "\n",
    "**Question 3.** Use the array `book_title_words` and the method `join` to make two strings:\n",
    "\n",
    "1. \"Eats, Shoots, and Leaves\" (call this one `with_commas`)\n",
    "2. \"Eats Shoots and Leaves\" (call this one `without_commas`)\n",
    "\n",
    "*Hint:* If you're not sure what `join` does, first try just calling, for example, `\"foo\".join(book_title_words)` .\n",
    "\n",
    "<!--\n",
    "BEGIN QUESTION\n",
    "name: q1_3\n",
    "-->"
   ]
  },
  {
   "cell_type": "code",
   "execution_count": 89,
   "metadata": {},
   "outputs": [
    {
     "name": "stdout",
     "output_type": "stream",
     "text": [
      "with_commas: Eats, Shoots, and Leaves\n",
      "without_commas: Eats Shoots and Leaves\n"
     ]
    }
   ],
   "source": [
    "with_commas = \", \".join(book_title_words)\n",
    "without_commas = \" \".join(book_title_words)\n",
    "\n",
    "# These lines are provided just to print out your answers.\n",
    "print('with_commas:', with_commas)\n",
    "print('without_commas:', without_commas)"
   ]
  },
  {
   "cell_type": "code",
   "execution_count": 90,
   "metadata": {
    "deletable": false,
    "editable": false
   },
   "outputs": [
    {
     "name": "stdout",
     "output_type": "stream",
     "text": [
      "~~~~~~~~~~~~~~~~~~~~~~~~~~~~~~~~~~~~~~~~~~~~~~~~~~~~~~~~~~~~~~~~~~~~~\n",
      "Running tests\n",
      "\n",
      "---------------------------------------------------------------------\n",
      "Test summary\n",
      "    Passed: 2\n",
      "    Failed: 0\n",
      "[ooooooooook] 100.0% passed\n",
      "\n"
     ]
    }
   ],
   "source": [
    "ok.grade(\"q1_3\");"
   ]
  },
  {
   "cell_type": "markdown",
   "metadata": {},
   "source": [
    "## 2. Indexing Arrays\n"
   ]
  },
  {
   "cell_type": "markdown",
   "metadata": {},
   "source": [
    "These exercises give you practice accessing individual elements of arrays.  In Python (and in many programming languages), elements are accessed by *index*, so the first element is the element at index 0. Indices must be **integers**.\n",
    "\n",
    "***Note:* If you have previous coding experience, you may be familiar with bracket notation. DO NOT use bracket notation when indexing (i.e. `arr[0]`), as this can yield different data type outputs than what we will be expecting. This can cause you to fail an autograder test.**\n",
    "\n",
    "Be sure to refer to the [Python Reference](http://data8.org/fa20/python-reference.html) on the website if you feel stuck!"
   ]
  },
  {
   "cell_type": "markdown",
   "metadata": {
    "deletable": false,
    "editable": false
   },
   "source": [
    "**Question 1.** The cell below creates an array of some numbers.  Set `third_element` to the third element of `some_numbers`.\n",
    "\n",
    "<!--\n",
    "BEGIN QUESTION\n",
    "name: q2_1\n",
    "-->"
   ]
  },
  {
   "cell_type": "code",
   "execution_count": 91,
   "metadata": {},
   "outputs": [
    {
     "data": {
      "text/plain": [
       "-6"
      ]
     },
     "execution_count": 91,
     "metadata": {},
     "output_type": "execute_result"
    }
   ],
   "source": [
    "some_numbers = make_array(-1, -3, -6, -10, -15)\n",
    "\n",
    "third_element = some_numbers.item(2)\n",
    "third_element"
   ]
  },
  {
   "cell_type": "code",
   "execution_count": 92,
   "metadata": {
    "deletable": false,
    "editable": false
   },
   "outputs": [
    {
     "name": "stdout",
     "output_type": "stream",
     "text": [
      "~~~~~~~~~~~~~~~~~~~~~~~~~~~~~~~~~~~~~~~~~~~~~~~~~~~~~~~~~~~~~~~~~~~~~\n",
      "Running tests\n",
      "\n",
      "---------------------------------------------------------------------\n",
      "Test summary\n",
      "    Passed: 2\n",
      "    Failed: 0\n",
      "[ooooooooook] 100.0% passed\n",
      "\n"
     ]
    }
   ],
   "source": [
    "ok.grade(\"q2_1\");"
   ]
  },
  {
   "cell_type": "markdown",
   "metadata": {
    "deletable": false,
    "editable": false
   },
   "source": [
    "**Question 2.** The next cell creates a table that displays some information about the elements of `some_numbers` and their order.  Run the cell to see the partially-completed table, then fill in the missing information (the cells that say \"Ellipsis\") by assigning `blank_a`, `blank_b`, `blank_c`, and `blank_d` to the correct elements in the table.\n",
    "\n",
    "Hint: Replace the … with strings or numbers. As a reminder, indices should be **integers**.\n",
    "\n",
    "<!--\n",
    "BEGIN QUESTION\n",
    "name: q2_2\n",
    "-->"
   ]
  },
  {
   "cell_type": "code",
   "execution_count": 93,
   "metadata": {
    "for_assignment_type": "student"
   },
   "outputs": [
    {
     "data": {
      "text/html": [
       "<table border=\"1\" class=\"dataframe\">\n",
       "    <thead>\n",
       "        <tr>\n",
       "            <th>English name for position</th> <th>Index</th> <th>Element</th>\n",
       "        </tr>\n",
       "    </thead>\n",
       "    <tbody>\n",
       "        <tr>\n",
       "            <td>first                    </td> <td>0    </td> <td>-1     </td>\n",
       "        </tr>\n",
       "        <tr>\n",
       "            <td>second                   </td> <td>1    </td> <td>-3     </td>\n",
       "        </tr>\n",
       "        <tr>\n",
       "            <td>third                    </td> <td>2    </td> <td>-6     </td>\n",
       "        </tr>\n",
       "        <tr>\n",
       "            <td>fourth                   </td> <td>3    </td> <td>-10    </td>\n",
       "        </tr>\n",
       "        <tr>\n",
       "            <td>fifth                    </td> <td>4    </td> <td>-15    </td>\n",
       "        </tr>\n",
       "    </tbody>\n",
       "</table>"
      ],
      "text/plain": [
       "English name for position | Index | Element\n",
       "first                     | 0     | -1\n",
       "second                    | 1     | -3\n",
       "third                     | 2     | -6\n",
       "fourth                    | 3     | -10\n",
       "fifth                     | 4     | -15"
      ]
     },
     "execution_count": 93,
     "metadata": {},
     "output_type": "execute_result"
    }
   ],
   "source": [
    "blank_a = \"third\"\n",
    "blank_b = \"fourth\"\n",
    "blank_c = 0\n",
    "blank_d = 3\n",
    "elements_of_some_numbers = Table().with_columns(\n",
    "    \"English name for position\", make_array(\"first\", \"second\", blank_a, blank_b, \"fifth\"),\n",
    "    \"Index\",                     make_array(blank_c, 1, 2, blank_d, 4),\n",
    "    \"Element\",                   some_numbers)\n",
    "elements_of_some_numbers"
   ]
  },
  {
   "cell_type": "code",
   "execution_count": 94,
   "metadata": {
    "deletable": false,
    "editable": false
   },
   "outputs": [
    {
     "name": "stdout",
     "output_type": "stream",
     "text": [
      "~~~~~~~~~~~~~~~~~~~~~~~~~~~~~~~~~~~~~~~~~~~~~~~~~~~~~~~~~~~~~~~~~~~~~\n",
      "Running tests\n",
      "\n",
      "---------------------------------------------------------------------\n",
      "Test summary\n",
      "    Passed: 4\n",
      "    Failed: 0\n",
      "[ooooooooook] 100.0% passed\n",
      "\n"
     ]
    }
   ],
   "source": [
    "ok.grade(\"q2_2\");"
   ]
  },
  {
   "cell_type": "markdown",
   "metadata": {
    "deletable": false,
    "editable": false
   },
   "source": [
    "**Question 3.** You'll sometimes want to find the **last** element of an array.  Suppose an array has 142 elements.  What is the index of its last element?\n",
    "\n",
    "<!--\n",
    "BEGIN QUESTION\n",
    "name: q2_3\n",
    "-->"
   ]
  },
  {
   "cell_type": "code",
   "execution_count": 95,
   "metadata": {},
   "outputs": [],
   "source": [
    "index_of_last_element = 141"
   ]
  },
  {
   "cell_type": "code",
   "execution_count": 96,
   "metadata": {
    "deletable": false,
    "editable": false
   },
   "outputs": [
    {
     "name": "stdout",
     "output_type": "stream",
     "text": [
      "~~~~~~~~~~~~~~~~~~~~~~~~~~~~~~~~~~~~~~~~~~~~~~~~~~~~~~~~~~~~~~~~~~~~~\n",
      "Running tests\n",
      "\n",
      "---------------------------------------------------------------------\n",
      "Test summary\n",
      "    Passed: 1\n",
      "    Failed: 0\n",
      "[ooooooooook] 100.0% passed\n",
      "\n"
     ]
    }
   ],
   "source": [
    "ok.grade(\"q2_3\");"
   ]
  },
  {
   "cell_type": "markdown",
   "metadata": {
    "deletable": false,
    "editable": false
   },
   "source": [
    "More often, you don't know the number of elements in an array, its *length*.  (For example, it might be a large dataset you found on the Internet.)  The function `len` takes a single argument, an array, and returns the `len`gth of that array (an integer).\n",
    "\n",
    "**Question 4.** The cell below loads an array called `president_birth_years`.  Calling `.column(...)` on a table returns an array of the column specified, in this case the `Birth Year` column of the `president_births` table. The last element in that array is the most recent birth year of any deceased president. Assign that year to `most_recent_birth_year`.\n",
    "\n",
    "<!--\n",
    "BEGIN QUESTION\n",
    "name: q2_4\n",
    "-->"
   ]
  },
  {
   "cell_type": "code",
   "execution_count": 97,
   "metadata": {},
   "outputs": [
    {
     "data": {
      "text/plain": [
       "1917"
      ]
     },
     "execution_count": 97,
     "metadata": {},
     "output_type": "execute_result"
    }
   ],
   "source": [
    "president_birth_years = Table.read_table(\"president_births.csv\").column('Birth Year')\n",
    "\n",
    "most_recent_birth_year = president_birth_years.item(len(president_birth_years)-1)\n",
    "most_recent_birth_year"
   ]
  },
  {
   "cell_type": "code",
   "execution_count": 98,
   "metadata": {
    "deletable": false,
    "editable": false
   },
   "outputs": [
    {
     "name": "stdout",
     "output_type": "stream",
     "text": [
      "~~~~~~~~~~~~~~~~~~~~~~~~~~~~~~~~~~~~~~~~~~~~~~~~~~~~~~~~~~~~~~~~~~~~~\n",
      "Running tests\n",
      "\n",
      "---------------------------------------------------------------------\n",
      "Test summary\n",
      "    Passed: 1\n",
      "    Failed: 0\n",
      "[ooooooooook] 100.0% passed\n",
      "\n"
     ]
    }
   ],
   "source": [
    "ok.grade(\"q2_4\");"
   ]
  },
  {
   "cell_type": "markdown",
   "metadata": {
    "deletable": false,
    "editable": false
   },
   "source": [
    "**Question 5.** Finally, assign `sum_of_birth_years` to the sum of the first, sixteenth, and last birth year in `president_birth_years`.\n",
    "\n",
    "<!--\n",
    "BEGIN QUESTION\n",
    "name: q2_5\n",
    "-->"
   ]
  },
  {
   "cell_type": "code",
   "execution_count": 99,
   "metadata": {},
   "outputs": [
    {
     "data": {
      "text/plain": [
       "5457"
      ]
     },
     "execution_count": 99,
     "metadata": {},
     "output_type": "execute_result"
    }
   ],
   "source": [
    "sum_of_birth_years = president_birth_years.item(0) + president_birth_years.item(15) + most_recent_birth_year\n",
    "sum_of_birth_years"
   ]
  },
  {
   "cell_type": "code",
   "execution_count": 100,
   "metadata": {
    "deletable": false,
    "editable": false
   },
   "outputs": [
    {
     "name": "stdout",
     "output_type": "stream",
     "text": [
      "~~~~~~~~~~~~~~~~~~~~~~~~~~~~~~~~~~~~~~~~~~~~~~~~~~~~~~~~~~~~~~~~~~~~~\n",
      "Running tests\n",
      "\n",
      "---------------------------------------------------------------------\n",
      "Test summary\n",
      "    Passed: 1\n",
      "    Failed: 0\n",
      "[ooooooooook] 100.0% passed\n",
      "\n"
     ]
    }
   ],
   "source": [
    "ok.grade(\"q2_5\");"
   ]
  },
  {
   "cell_type": "markdown",
   "metadata": {},
   "source": [
    "## 3. Basic Array Arithmetic\n"
   ]
  },
  {
   "cell_type": "markdown",
   "metadata": {
    "deletable": false,
    "editable": false
   },
   "source": [
    "**Question 1.** Multiply the numbers 42, -4224, 424224242, and 250 by 157. Assign each variable below such that `first_product` is assigned to the result of $42 * 157$, `second_product` is assigned to the result of $-4224 * 157$, and so on. \n",
    "\n",
    "For this question, **don't** use arrays.\n",
    "\n",
    "<!--\n",
    "BEGIN QUESTION\n",
    "name: q3_1\n",
    "-->"
   ]
  },
  {
   "cell_type": "code",
   "execution_count": 101,
   "metadata": {},
   "outputs": [
    {
     "name": "stdout",
     "output_type": "stream",
     "text": [
      "6594 -663168 66603205994 39250\n"
     ]
    }
   ],
   "source": [
    "first_product = 42 * 157\n",
    "second_product = -4224 * 157\n",
    "third_product = 424224242 * 157\n",
    "fourth_product = 250 * 157\n",
    "print(first_product, second_product, third_product, fourth_product)"
   ]
  },
  {
   "cell_type": "code",
   "execution_count": 102,
   "metadata": {
    "deletable": false,
    "editable": false
   },
   "outputs": [
    {
     "name": "stdout",
     "output_type": "stream",
     "text": [
      "~~~~~~~~~~~~~~~~~~~~~~~~~~~~~~~~~~~~~~~~~~~~~~~~~~~~~~~~~~~~~~~~~~~~~\n",
      "Running tests\n",
      "\n",
      "---------------------------------------------------------------------\n",
      "Test summary\n",
      "    Passed: 1\n",
      "    Failed: 0\n",
      "[ooooooooook] 100.0% passed\n",
      "\n"
     ]
    }
   ],
   "source": [
    "ok.grade(\"q3_1\");"
   ]
  },
  {
   "cell_type": "markdown",
   "metadata": {
    "deletable": false,
    "editable": false
   },
   "source": [
    "**Question 2.** Now, do the same calculation, but using an array called `numbers` and only a single multiplication (`*`) operator.  Store the 4 results in an array named `products`.\n",
    "\n",
    "<!--\n",
    "BEGIN QUESTION\n",
    "name: q3_2\n",
    "-->"
   ]
  },
  {
   "cell_type": "code",
   "execution_count": 103,
   "metadata": {},
   "outputs": [
    {
     "data": {
      "text/plain": [
       "array([       6594,     -663168, 66603205994,       39250])"
      ]
     },
     "execution_count": 103,
     "metadata": {},
     "output_type": "execute_result"
    }
   ],
   "source": [
    "numbers = make_array(42, -4224, 424224242, 250)\n",
    "products = numbers * 157\n",
    "products"
   ]
  },
  {
   "cell_type": "code",
   "execution_count": 104,
   "metadata": {
    "deletable": false,
    "editable": false
   },
   "outputs": [
    {
     "name": "stdout",
     "output_type": "stream",
     "text": [
      "~~~~~~~~~~~~~~~~~~~~~~~~~~~~~~~~~~~~~~~~~~~~~~~~~~~~~~~~~~~~~~~~~~~~~\n",
      "Running tests\n",
      "\n",
      "---------------------------------------------------------------------\n",
      "Test summary\n",
      "    Passed: 1\n",
      "    Failed: 0\n",
      "[ooooooooook] 100.0% passed\n",
      "\n"
     ]
    }
   ],
   "source": [
    "ok.grade(\"q3_2\");"
   ]
  },
  {
   "cell_type": "markdown",
   "metadata": {
    "deletable": false,
    "editable": false
   },
   "source": [
    "**Question 3.** Oops, we made a typo!  Instead of 157, we wanted to multiply each number by 1577.  Compute the correct products in the cell below using array arithmetic.  Notice that your job is really easy if you previously defined an array containing the 4 numbers.\n",
    "\n",
    "<!--\n",
    "BEGIN QUESTION\n",
    "name: q3_3\n",
    "-->"
   ]
  },
  {
   "cell_type": "code",
   "execution_count": 105,
   "metadata": {},
   "outputs": [
    {
     "data": {
      "text/plain": [
       "array([       66234,     -6661248, 669001629634,       394250])"
      ]
     },
     "execution_count": 105,
     "metadata": {},
     "output_type": "execute_result"
    }
   ],
   "source": [
    "correct_products = numbers * 1577\n",
    "correct_products"
   ]
  },
  {
   "cell_type": "code",
   "execution_count": 106,
   "metadata": {
    "deletable": false,
    "editable": false
   },
   "outputs": [
    {
     "name": "stdout",
     "output_type": "stream",
     "text": [
      "~~~~~~~~~~~~~~~~~~~~~~~~~~~~~~~~~~~~~~~~~~~~~~~~~~~~~~~~~~~~~~~~~~~~~\n",
      "Running tests\n",
      "\n",
      "---------------------------------------------------------------------\n",
      "Test summary\n",
      "    Passed: 1\n",
      "    Failed: 0\n",
      "[ooooooooook] 100.0% passed\n",
      "\n"
     ]
    }
   ],
   "source": [
    "ok.grade(\"q3_3\");"
   ]
  },
  {
   "cell_type": "markdown",
   "metadata": {
    "deletable": false,
    "editable": false
   },
   "source": [
    "**Question 4.** We've loaded an array of temperatures in the next cell.  Each number is the highest temperature observed on a day at a climate observation station, mostly from the US.  Since they're from the US government agency [NOAA](noaa.gov), all the temperatures are in Fahrenheit.  Convert them all to Celsius by first subtracting 32 from them, then multiplying the results by $\\frac{5}{9}$. Make sure to **ROUND** the final result after converting to Celsius to the nearest integer using the `np.round` function.\n",
    "\n",
    "<!--\n",
    "BEGIN QUESTION\n",
    "name: q3_4\n",
    "-->"
   ]
  },
  {
   "cell_type": "code",
   "execution_count": 107,
   "metadata": {},
   "outputs": [
    {
     "data": {
      "text/plain": [
       "array([-4., 31., 32., ..., 17., 23., 16.])"
      ]
     },
     "execution_count": 107,
     "metadata": {},
     "output_type": "execute_result"
    }
   ],
   "source": [
    "max_temperatures = Table.read_table(\"temperatures.csv\").column(\"Daily Max Temperature\")\n",
    "\n",
    "celsius_max_temperatures = np.round((max_temperatures - 32) * 5/9)\n",
    "celsius_max_temperatures"
   ]
  },
  {
   "cell_type": "code",
   "execution_count": 108,
   "metadata": {
    "deletable": false,
    "editable": false
   },
   "outputs": [
    {
     "name": "stdout",
     "output_type": "stream",
     "text": [
      "~~~~~~~~~~~~~~~~~~~~~~~~~~~~~~~~~~~~~~~~~~~~~~~~~~~~~~~~~~~~~~~~~~~~~\n",
      "Running tests\n",
      "\n",
      "---------------------------------------------------------------------\n",
      "Test summary\n",
      "    Passed: 4\n",
      "    Failed: 0\n",
      "[ooooooooook] 100.0% passed\n",
      "\n"
     ]
    }
   ],
   "source": [
    "ok.grade(\"q3_4\");"
   ]
  },
  {
   "cell_type": "markdown",
   "metadata": {
    "deletable": false,
    "editable": false
   },
   "source": [
    "**Question 5.** The cell below loads all the *lowest* temperatures from each day (in Fahrenheit).  Compute the size of the daily temperature range for each day.  That is, compute the difference between each daily maximum temperature and the corresponding daily minimum temperature.  **Pay attention to the units, give your answer in Celsius!** Make sure **NOT** to round your answer for this question! Note: Remember that in Question 4, `celsius_max_temperatures` was rounded, so you might not want to use that in this question.\n",
    "\n",
    "\n",
    "<!--\n",
    "BEGIN QUESTION\n",
    "name: q3_5\n",
    "-->"
   ]
  },
  {
   "cell_type": "code",
   "execution_count": 109,
   "metadata": {},
   "outputs": [
    {
     "data": {
      "text/plain": [
       "array([ 6.66666667, 10.        , 12.22222222, ..., 17.22222222,\n",
       "       11.66666667, 11.11111111])"
      ]
     },
     "execution_count": 109,
     "metadata": {},
     "output_type": "execute_result"
    }
   ],
   "source": [
    "min_temperatures = Table.read_table(\"temperatures.csv\").column(\"Daily Min Temperature\")\n",
    "\n",
    "celsius_temperature_ranges = ((max_temperatures -32) * 5/9) - ((min_temperatures -32) * 5/9)\n",
    "celsius_temperature_ranges"
   ]
  },
  {
   "cell_type": "code",
   "execution_count": 110,
   "metadata": {
    "deletable": false,
    "editable": false
   },
   "outputs": [
    {
     "name": "stdout",
     "output_type": "stream",
     "text": [
      "~~~~~~~~~~~~~~~~~~~~~~~~~~~~~~~~~~~~~~~~~~~~~~~~~~~~~~~~~~~~~~~~~~~~~\n",
      "Running tests\n",
      "\n",
      "---------------------------------------------------------------------\n",
      "Test summary\n",
      "    Passed: 3\n",
      "    Failed: 0\n",
      "[ooooooooook] 100.0% passed\n",
      "\n"
     ]
    }
   ],
   "source": [
    "ok.grade(\"q3_5\");"
   ]
  },
  {
   "cell_type": "markdown",
   "metadata": {},
   "source": [
    "## 4. World Population\n"
   ]
  },
  {
   "cell_type": "markdown",
   "metadata": {},
   "source": [
    "Remember that the tests from this point on will **not** necessarily tell you whether or not your answers are correct."
   ]
  },
  {
   "cell_type": "markdown",
   "metadata": {
    "collapsed": true
   },
   "source": [
    "The cell below loads a table of estimates of the world population for different years, starting in 1950. The estimates come from the [US Census Bureau website](https://www.census.gov/en.html)."
   ]
  },
  {
   "cell_type": "code",
   "execution_count": 111,
   "metadata": {},
   "outputs": [
    {
     "data": {
      "text/html": [
       "<table border=\"1\" class=\"dataframe\">\n",
       "    <thead>\n",
       "        <tr>\n",
       "            <th>Year</th> <th>Population</th>\n",
       "        </tr>\n",
       "    </thead>\n",
       "    <tbody>\n",
       "        <tr>\n",
       "            <td>1950</td> <td>2557628654</td>\n",
       "        </tr>\n",
       "        <tr>\n",
       "            <td>1951</td> <td>2594939877</td>\n",
       "        </tr>\n",
       "        <tr>\n",
       "            <td>1952</td> <td>2636772306</td>\n",
       "        </tr>\n",
       "        <tr>\n",
       "            <td>1953</td> <td>2682053389</td>\n",
       "        </tr>\n",
       "    </tbody>\n",
       "</table>\n",
       "<p>... (62 rows omitted)</p>"
      ],
      "text/plain": [
       "<IPython.core.display.HTML object>"
      ]
     },
     "metadata": {},
     "output_type": "display_data"
    }
   ],
   "source": [
    "world = Table.read_table(\"world_population.csv\").select('Year', 'Population')\n",
    "world.show(4)"
   ]
  },
  {
   "cell_type": "markdown",
   "metadata": {},
   "source": [
    "The name `population` is assigned to an array of population estimates."
   ]
  },
  {
   "cell_type": "code",
   "execution_count": 112,
   "metadata": {},
   "outputs": [
    {
     "data": {
      "text/plain": [
       "array([2557628654, 2594939877, 2636772306, 2682053389, 2730228104,\n",
       "       2782098943, 2835299673, 2891349717, 2948137248, 3000716593,\n",
       "       3043001508, 3083966929, 3140093217, 3209827882, 3281201306,\n",
       "       3350425793, 3420677923, 3490333715, 3562313822, 3637159050,\n",
       "       3712697742, 3790326948, 3866568653, 3942096442, 4016608813,\n",
       "       4089083233, 4160185010, 4232084578, 4304105753, 4379013942,\n",
       "       4451362735, 4534410125, 4614566561, 4695736743, 4774569391,\n",
       "       4856462699, 4940571232, 5027200492, 5114557167, 5201440110,\n",
       "       5288955934, 5371585922, 5456136278, 5538268316, 5618682132,\n",
       "       5699202985, 5779440593, 5857972543, 5935213248, 6012074922,\n",
       "       6088571383, 6165219247, 6242016348, 6318590956, 6395699509,\n",
       "       6473044732, 6551263534, 6629913759, 6709049780, 6788214394,\n",
       "       6866332358, 6944055583, 7022349283, 7101027895, 7178722893,\n",
       "       7256490011])"
      ]
     },
     "execution_count": 112,
     "metadata": {},
     "output_type": "execute_result"
    }
   ],
   "source": [
    "population = world.column(1)\n",
    "population"
   ]
  },
  {
   "cell_type": "markdown",
   "metadata": {},
   "source": [
    "In this question, you will apply some built-in Numpy functions to this array. Numpy is a module that is often used in Data Science!"
   ]
  },
  {
   "cell_type": "markdown",
   "metadata": {},
   "source": [
    "<img src=\"array_diff.png\" style=\"width: 600px;\"/>\n",
    "\n",
    "The difference function `np.diff` subtracts each element in an array from the element after it within the array. As a result, the length of the array `np.diff` returns will always be one less than the length of the input array."
   ]
  },
  {
   "cell_type": "markdown",
   "metadata": {},
   "source": [
    "<img src=\"array_cumsum.png\" style=\"width: 700px;\"/>\n",
    "\n",
    "The cumulative sum function `np.cumsum` outputs an array of partial sums. For example, the third element in the output array corresponds to the sum of the first, second, and third elements.\n",
    "\n",
    "**Note:** This homework aims to get you comfortable with array arithmetic using methods like `np.diff` and `np.cumsum`, but they are not heavily used later in the course."
   ]
  },
  {
   "cell_type": "markdown",
   "metadata": {
    "deletable": false,
    "editable": false
   },
   "source": [
    "**Question 1.** Very often in data science, we are interested in understanding how values change with time. Use `np.diff` and `np.max` (or just `max`) to calculate the largest annual change in population between any two consecutive years.\n",
    "\n",
    "<!--\n",
    "BEGIN QUESTION\n",
    "name: q4_1\n",
    "-->"
   ]
  },
  {
   "cell_type": "code",
   "execution_count": 113,
   "metadata": {},
   "outputs": [
    {
     "data": {
      "text/plain": [
       "87515824"
      ]
     },
     "execution_count": 113,
     "metadata": {},
     "output_type": "execute_result"
    }
   ],
   "source": [
    "largest_population_change = np.max(np.diff(population))\n",
    "largest_population_change"
   ]
  },
  {
   "cell_type": "code",
   "execution_count": 114,
   "metadata": {
    "deletable": false,
    "editable": false
   },
   "outputs": [
    {
     "name": "stdout",
     "output_type": "stream",
     "text": [
      "~~~~~~~~~~~~~~~~~~~~~~~~~~~~~~~~~~~~~~~~~~~~~~~~~~~~~~~~~~~~~~~~~~~~~\n",
      "Running tests\n",
      "\n",
      "---------------------------------------------------------------------\n",
      "Test summary\n",
      "    Passed: 1\n",
      "    Failed: 0\n",
      "[ooooooooook] 100.0% passed\n",
      "\n"
     ]
    }
   ],
   "source": [
    "ok.grade(\"q4_1\");"
   ]
  },
  {
   "cell_type": "markdown",
   "metadata": {},
   "source": [
    "**Question 2.** What do the values in the resulting array represent (choose one)?\n",
    "\n",
    "*Tip: Look at the population array and compute the actual population changes for the first couple years of each option.* "
   ]
  },
  {
   "cell_type": "code",
   "execution_count": 115,
   "metadata": {},
   "outputs": [
    {
     "data": {
      "text/plain": [
       "array([  37311223,   79143652,  124424735,  172599450,  224470289,\n",
       "        277671019,  333721063,  390508594,  443087939,  485372854,\n",
       "        526338275,  582464563,  652199228,  723572652,  792797139,\n",
       "        863049269,  932705061, 1004685168, 1079530396, 1155069088,\n",
       "       1232698294, 1308939999, 1384467788, 1458980159, 1531454579,\n",
       "       1602556356, 1674455924, 1746477099, 1821385288, 1893734081,\n",
       "       1976781471, 2056937907, 2138108089, 2216940737, 2298834045,\n",
       "       2382942578, 2469571838, 2556928513, 2643811456, 2731327280,\n",
       "       2813957268, 2898507624, 2980639662, 3061053478, 3141574331,\n",
       "       3221811939, 3300343889, 3377584594, 3454446268, 3530942729,\n",
       "       3607590593, 3684387694, 3760962302, 3838070855, 3915416078,\n",
       "       3993634880, 4072285105, 4151421126, 4230585740, 4308703704,\n",
       "       4386426929, 4464720629, 4543399241, 4621094239, 4698861357])"
      ]
     },
     "execution_count": 115,
     "metadata": {},
     "output_type": "execute_result"
    }
   ],
   "source": [
    "np.cumsum(np.diff(population))"
   ]
  },
  {
   "cell_type": "markdown",
   "metadata": {
    "deletable": false,
    "editable": false
   },
   "source": [
    "1) The total population change between consecutive years, starting at 1951.\n",
    "\n",
    "2) The total population change between 1950 and each later year, starting at 1951.\n",
    "\n",
    "3) The total population change between 1950 and each later year, starting inclusively at 1950.\n",
    "\n",
    "<!--\n",
    "BEGIN QUESTION\n",
    "name: q4_2\n",
    "-->"
   ]
  },
  {
   "cell_type": "code",
   "execution_count": 116,
   "metadata": {},
   "outputs": [],
   "source": [
    "# Assign cumulative_sum_answer to 1, 2, or 3\n",
    "cumulative_sum_answer = 1"
   ]
  },
  {
   "cell_type": "code",
   "execution_count": 117,
   "metadata": {
    "deletable": false,
    "editable": false
   },
   "outputs": [
    {
     "name": "stdout",
     "output_type": "stream",
     "text": [
      "~~~~~~~~~~~~~~~~~~~~~~~~~~~~~~~~~~~~~~~~~~~~~~~~~~~~~~~~~~~~~~~~~~~~~\n",
      "Running tests\n",
      "\n",
      "---------------------------------------------------------------------\n",
      "Test summary\n",
      "    Passed: 2\n",
      "    Failed: 0\n",
      "[ooooooooook] 100.0% passed\n",
      "\n"
     ]
    }
   ],
   "source": [
    "ok.grade(\"q4_2\");"
   ]
  },
  {
   "cell_type": "markdown",
   "metadata": {},
   "source": [
    "## 5. Old Faithful\n"
   ]
  },
  {
   "cell_type": "markdown",
   "metadata": {},
   "source": [
    "Old Faithful is a geyser in Yellowstone that erupts every 44 to 125 minutes (according to [Wikipedia](https://en.wikipedia.org/wiki/Old_Faithful)). People are [often told that the geyser erupts every hour](http://yellowstone.net/geysers/old-faithful/), but in fact the waiting time between eruptions is more variable. Let's take a look."
   ]
  },
  {
   "cell_type": "markdown",
   "metadata": {
    "deletable": false,
    "editable": false
   },
   "source": [
    "**Question 1.** The first line below assigns `waiting_times` to an array of 272 consecutive waiting times between eruptions, taken from a classic 1938 dataset. Assign the names `shortest`, `longest`, and `average` so that the `print` statement is correct.\n",
    "\n",
    "<!--\n",
    "BEGIN QUESTION\n",
    "name: q5_1\n",
    "-->"
   ]
  },
  {
   "cell_type": "code",
   "execution_count": 118,
   "metadata": {},
   "outputs": [
    {
     "name": "stdout",
     "output_type": "stream",
     "text": [
      "Old Faithful erupts every 43 to 96 minutes and every 70.8970588235294 minutes on average.\n"
     ]
    }
   ],
   "source": [
    "waiting_times = Table.read_table('old_faithful.csv').column('waiting')\n",
    "waiting_times\n",
    "\n",
    "shortest = min(waiting_times)\n",
    "longest = max(waiting_times)\n",
    "average = np.average(waiting_times)\n",
    "\n",
    "print(\"Old Faithful erupts every\", shortest, \"to\", longest, \"minutes and every\", average, \"minutes on average.\")"
   ]
  },
  {
   "cell_type": "code",
   "execution_count": 119,
   "metadata": {
    "deletable": false,
    "editable": false
   },
   "outputs": [
    {
     "name": "stdout",
     "output_type": "stream",
     "text": [
      "~~~~~~~~~~~~~~~~~~~~~~~~~~~~~~~~~~~~~~~~~~~~~~~~~~~~~~~~~~~~~~~~~~~~~\n",
      "Running tests\n",
      "\n",
      "---------------------------------------------------------------------\n",
      "Test summary\n",
      "    Passed: 2\n",
      "    Failed: 0\n",
      "[ooooooooook] 100.0% passed\n",
      "\n"
     ]
    }
   ],
   "source": [
    "ok.grade(\"q5_1\");"
   ]
  },
  {
   "cell_type": "markdown",
   "metadata": {
    "deletable": false,
    "editable": false
   },
   "source": [
    "**Question 2.** Assign `biggest_decrease` to the biggest decrease in waiting time between two consecutive eruptions. For example, the third eruption occurred after 74 minutes and the fourth after 62 minutes, so the decrease in waiting time was 74 - 62 = 12 minutes. \n",
    "\n",
    "*Hint 1*: You'll need an array arithmetic function [mentioned in the textbook](https://www.inferentialthinking.com/chapters/05/1/arrays.html#Functions-on-Arrays). You have also seen this function earlier in the homework!\n",
    "\n",
    "*Hint 2*: We want to return the absolute value of the biggest decrease.\n",
    "\n",
    "<!--\n",
    "BEGIN QUESTION\n",
    "name: q5_2\n",
    "-->"
   ]
  },
  {
   "cell_type": "code",
   "execution_count": 120,
   "metadata": {},
   "outputs": [
    {
     "data": {
      "text/plain": [
       "45"
      ]
     },
     "execution_count": 120,
     "metadata": {},
     "output_type": "execute_result"
    }
   ],
   "source": [
    "biggest_decrease = abs(min((np.diff(waiting_times))))\n",
    "biggest_decrease"
   ]
  },
  {
   "cell_type": "code",
   "execution_count": 121,
   "metadata": {
    "deletable": false,
    "editable": false
   },
   "outputs": [
    {
     "name": "stdout",
     "output_type": "stream",
     "text": [
      "~~~~~~~~~~~~~~~~~~~~~~~~~~~~~~~~~~~~~~~~~~~~~~~~~~~~~~~~~~~~~~~~~~~~~\n",
      "Running tests\n",
      "\n",
      "---------------------------------------------------------------------\n",
      "Test summary\n",
      "    Passed: 2\n",
      "    Failed: 0\n",
      "[ooooooooook] 100.0% passed\n",
      "\n"
     ]
    }
   ],
   "source": [
    "ok.grade(\"q5_2\");"
   ]
  },
  {
   "cell_type": "markdown",
   "metadata": {
    "deletable": false,
    "editable": false
   },
   "source": [
    "**Question 3.** If you expected Old Faithful to erupt every hour, you would expect to wait a total of `60 * k` minutes to see `k` eruptions. Set `difference_from_expected` to an array with 272 elements, where the element at index `i` is the absolute difference between the actual and expected total amount of waiting time to see the first `i+1` eruptions. \n",
    "\n",
    "*Hint*: You'll need to compare a cumulative sum to a range. You'll go through `np.arange` more thoroughly in Lab 3, but you can read about it in this [textbook section](https://www.inferentialthinking.com/chapters/05/2/Ranges.html).\n",
    "\n",
    "For example, since the first three waiting times are 79, 54, and 74, the total waiting time for 3 eruptions is 79 + 54 + 74 = 207. The expected waiting time for 3 eruptions is 60 * 3 = 180. Therefore, `difference_from_expected.item(2)` should be $|207 - 180| = 27$.\n",
    "\n",
    "<!--\n",
    "BEGIN QUESTION\n",
    "name: q5_3\n",
    "-->"
   ]
  },
  {
   "cell_type": "code",
   "execution_count": 122,
   "metadata": {},
   "outputs": [
    {
     "data": {
      "text/plain": [
       "array([16241, 16187, 16113, 16051, 15966, 15911, 15823, 15738, 15687,\n",
       "       15602, 15548, 15464, 15386, 15339, 15256, 15204, 15142, 15058,\n",
       "       15006, 14927, 14876, 14829, 14751, 14682, 14608, 14525, 14470,\n",
       "       14394, 14316, 14237, 14164, 14087, 14021, 13941, 13867, 13815,\n",
       "       13767, 13687, 13628, 13538, 13458, 13400, 13316, 13258, 13185,\n",
       "       13102, 13038, 12985, 12903, 12844, 12769, 12679, 12625, 12545,\n",
       "       12491, 12408, 12337, 12273, 12196, 12115, 12056, 11972, 11924,\n",
       "       11842, 11782, 11690, 11612, 11534, 11469, 11396, 11314, 11258,\n",
       "       11179, 11108, 11046, 10970, 10910, 10832, 10756, 10673, 10598,\n",
       "       10516, 10446, 10381, 10308, 10220, 10144, 10064, 10016,  9930,\n",
       "        9870,  9780,  9730,  9652,  9589,  9517,  9433,  9358,  9307,\n",
       "        9225,  9163,  9075,  9026,  8943,  8862,  8815,  8731,  8679,\n",
       "        8593,  8512,  8437,  8378,  8289,  8210,  8151,  8070,  8020,\n",
       "        7935,  7876,  7789,  7736,  7667,  7590,  7534,  7446,  7365,\n",
       "        7320,  7238,  7183,  7093,  7048,  6965,  6909,  6820,  6774,\n",
       "        6692,  6641,  6555,  6502,  6423,  6342,  6282,  6200,  6123,\n",
       "        6047,  5988,  5908,  5859,  5763,  5710,  5633,  5556,  5491,\n",
       "        5410,  5339,  5269,  5188,  5095,  5042,  4953,  4908,  4822,\n",
       "        4764,  4686,  4620,  4544,  4481,  4393,  4341,  4248,  4199,\n",
       "        4142,  4065,  3997,  3916,  3835,  3762,  3712,  3627,  3553,\n",
       "        3498,  3421,  3338,  3255,  3204,  3126,  3042,  2996,  2913,\n",
       "        2858,  2777,  2720,  2644,  2560,  2483,  2402,  2315,  2238,\n",
       "        2187,  2109,  2049,  1967,  1876,  1823,  1745,  1699,  1622,\n",
       "        1538,  1489,  1406,  1335,  1255,  1206,  1131,  1067,   991,\n",
       "         938,   844,   789,   713,   663,   581,   527,   452,   374,\n",
       "         295,   217,   139,    69,    10,    80,   134,   220,   270,\n",
       "         360,   414,   468,   545,   624,   688,   763,   810,   896,\n",
       "         959,  1044,  1126,  1183,  1265,  1332,  1406,  1460,  1543,\n",
       "        1616,  1689,  1777,  1857,  1928,  2011,  2067,  2146,  2224,\n",
       "        2308,  2366,  2449,  2492,  2552,  2627,  2708,  2754,  2844,\n",
       "        2890,  2964])"
      ]
     },
     "execution_count": 122,
     "metadata": {},
     "output_type": "execute_result"
    }
   ],
   "source": [
    "difference_from_expected = (abs(np.cumsum(waiting_times) - 60 * len(waiting_times)))\n",
    "difference_from_expected"
   ]
  },
  {
   "cell_type": "code",
   "execution_count": 123,
   "metadata": {
    "deletable": false,
    "editable": false
   },
   "outputs": [
    {
     "name": "stdout",
     "output_type": "stream",
     "text": [
      "~~~~~~~~~~~~~~~~~~~~~~~~~~~~~~~~~~~~~~~~~~~~~~~~~~~~~~~~~~~~~~~~~~~~~\n",
      "Running tests\n",
      "\n",
      "---------------------------------------------------------------------\n",
      "Test summary\n",
      "    Passed: 2\n",
      "    Failed: 0\n",
      "[ooooooooook] 100.0% passed\n",
      "\n"
     ]
    }
   ],
   "source": [
    "ok.grade(\"q5_3\");"
   ]
  },
  {
   "cell_type": "markdown",
   "metadata": {
    "deletable": false,
    "editable": false
   },
   "source": [
    "**Question 4.** Let’s imagine your guess for the next waiting time was always just the length of the previous waiting time. If you always guessed the previous waiting time, how big would your error in guessing the waiting times be, on average?\n",
    "\n",
    "For example, since the first three waiting times are 79, 54, and 74, the average difference between your guess and the actual time for just the second and third eruption would be $\\frac{|79-54|+ |54-74|}{2} = 22.5$.\n",
    "\n",
    "<!--\n",
    "BEGIN QUESTION\n",
    "name: q5_4\n",
    "-->"
   ]
  },
  {
   "cell_type": "code",
   "execution_count": 124,
   "metadata": {},
   "outputs": [
    {
     "data": {
      "text/plain": [
       "20.595737464727588"
      ]
     },
     "execution_count": 124,
     "metadata": {},
     "output_type": "execute_result"
    }
   ],
   "source": [
    "average_error = np.average(abs(np.diff(waiting_times)) + abs(np.diff(waiting_times))/len(waiting_times - 1)) \n",
    "average_error\n"
   ]
  },
  {
   "cell_type": "code",
   "execution_count": 125,
   "metadata": {
    "deletable": false,
    "editable": false
   },
   "outputs": [
    {
     "name": "stdout",
     "output_type": "stream",
     "text": [
      "~~~~~~~~~~~~~~~~~~~~~~~~~~~~~~~~~~~~~~~~~~~~~~~~~~~~~~~~~~~~~~~~~~~~~\n",
      "Running tests\n",
      "\n",
      "---------------------------------------------------------------------\n",
      "Test summary\n",
      "    Passed: 1\n",
      "    Failed: 0\n",
      "[ooooooooook] 100.0% passed\n",
      "\n"
     ]
    }
   ],
   "source": [
    "ok.grade(\"q5_4\");"
   ]
  },
  {
   "cell_type": "markdown",
   "metadata": {},
   "source": [
    "## 6. Tables\n"
   ]
  },
  {
   "cell_type": "markdown",
   "metadata": {
    "deletable": false,
    "editable": false
   },
   "source": [
    "**Question 1.** Suppose you have 4 apples, 3 oranges, and 3 pineapples.  (Perhaps you're using Python to solve a high school Algebra problem.)  Create a table that contains this information.  It should have two columns: `fruit name` and `count`.  Assign the new table to the variable `fruits`.\n",
    "\n",
    "**Note:** Use lower-case and singular words for the name of each fruit, like `\"apple\"`.\n",
    "\n",
    "<!--\n",
    "BEGIN QUESTION\n",
    "name: q6_1\n",
    "-->"
   ]
  },
  {
   "cell_type": "code",
   "execution_count": 126,
   "metadata": {},
   "outputs": [
    {
     "data": {
      "text/html": [
       "<table border=\"1\" class=\"dataframe\">\n",
       "    <thead>\n",
       "        <tr>\n",
       "            <th>fruit name</th> <th>count</th>\n",
       "        </tr>\n",
       "    </thead>\n",
       "    <tbody>\n",
       "        <tr>\n",
       "            <td>apple     </td> <td>4    </td>\n",
       "        </tr>\n",
       "        <tr>\n",
       "            <td>orange    </td> <td>3    </td>\n",
       "        </tr>\n",
       "        <tr>\n",
       "            <td>pineapple </td> <td>3    </td>\n",
       "        </tr>\n",
       "    </tbody>\n",
       "</table>"
      ],
      "text/plain": [
       "fruit name | count\n",
       "apple      | 4\n",
       "orange     | 3\n",
       "pineapple  | 3"
      ]
     },
     "execution_count": 126,
     "metadata": {},
     "output_type": "execute_result"
    }
   ],
   "source": [
    "# Our solution uses 1 statement split over 3 lines.\n",
    "fruits = Table().with_columns(\n",
    "        \"fruit name\", make_array('apple','orange', 'pineapple'),\n",
    "        \"count\", make_array(4, 3, 3))\n",
    "\n",
    "fruits"
   ]
  },
  {
   "cell_type": "code",
   "execution_count": 127,
   "metadata": {
    "deletable": false,
    "editable": false
   },
   "outputs": [
    {
     "name": "stdout",
     "output_type": "stream",
     "text": [
      "~~~~~~~~~~~~~~~~~~~~~~~~~~~~~~~~~~~~~~~~~~~~~~~~~~~~~~~~~~~~~~~~~~~~~\n",
      "Running tests\n",
      "\n",
      "---------------------------------------------------------------------\n",
      "Test summary\n",
      "    Passed: 1\n",
      "    Failed: 0\n",
      "[ooooooooook] 100.0% passed\n",
      "\n"
     ]
    }
   ],
   "source": [
    "ok.grade(\"q6_1\");"
   ]
  },
  {
   "cell_type": "markdown",
   "metadata": {
    "deletable": false,
    "editable": false
   },
   "source": [
    "**Question 2.** The file `inventory.csv` contains information about the inventory at a fruit stand.  Each row represents the contents of one box of fruit. Load it as a table named `inventory` using the `Table.read_table()` function. `Table.read_table(...)` takes one argument (data file name in string format) and returns a table.\n",
    "\n",
    "<!--\n",
    "BEGIN QUESTION\n",
    "name: q6_2\n",
    "-->"
   ]
  },
  {
   "cell_type": "code",
   "execution_count": 128,
   "metadata": {},
   "outputs": [
    {
     "data": {
      "text/html": [
       "<table border=\"1\" class=\"dataframe\">\n",
       "    <thead>\n",
       "        <tr>\n",
       "            <th>box ID</th> <th>fruit name</th> <th>count</th>\n",
       "        </tr>\n",
       "    </thead>\n",
       "    <tbody>\n",
       "        <tr>\n",
       "            <td>53686 </td> <td>kiwi      </td> <td>45   </td>\n",
       "        </tr>\n",
       "        <tr>\n",
       "            <td>57181 </td> <td>strawberry</td> <td>123  </td>\n",
       "        </tr>\n",
       "        <tr>\n",
       "            <td>25274 </td> <td>apple     </td> <td>20   </td>\n",
       "        </tr>\n",
       "        <tr>\n",
       "            <td>48800 </td> <td>orange    </td> <td>35   </td>\n",
       "        </tr>\n",
       "        <tr>\n",
       "            <td>26187 </td> <td>strawberry</td> <td>255  </td>\n",
       "        </tr>\n",
       "        <tr>\n",
       "            <td>57930 </td> <td>grape     </td> <td>517  </td>\n",
       "        </tr>\n",
       "        <tr>\n",
       "            <td>52357 </td> <td>strawberry</td> <td>102  </td>\n",
       "        </tr>\n",
       "        <tr>\n",
       "            <td>43566 </td> <td>peach     </td> <td>40   </td>\n",
       "        </tr>\n",
       "    </tbody>\n",
       "</table>"
      ],
      "text/plain": [
       "box ID | fruit name | count\n",
       "53686  | kiwi       | 45\n",
       "57181  | strawberry | 123\n",
       "25274  | apple      | 20\n",
       "48800  | orange     | 35\n",
       "26187  | strawberry | 255\n",
       "57930  | grape      | 517\n",
       "52357  | strawberry | 102\n",
       "43566  | peach      | 40"
      ]
     },
     "execution_count": 128,
     "metadata": {},
     "output_type": "execute_result"
    }
   ],
   "source": [
    "inventory = Table.read_table('inventory.csv')\n",
    "inventory"
   ]
  },
  {
   "cell_type": "code",
   "execution_count": 129,
   "metadata": {
    "deletable": false,
    "editable": false
   },
   "outputs": [
    {
     "name": "stdout",
     "output_type": "stream",
     "text": [
      "~~~~~~~~~~~~~~~~~~~~~~~~~~~~~~~~~~~~~~~~~~~~~~~~~~~~~~~~~~~~~~~~~~~~~\n",
      "Running tests\n",
      "\n",
      "---------------------------------------------------------------------\n",
      "Test summary\n",
      "    Passed: 1\n",
      "    Failed: 0\n",
      "[ooooooooook] 100.0% passed\n",
      "\n"
     ]
    }
   ],
   "source": [
    "ok.grade(\"q6_2\");"
   ]
  },
  {
   "cell_type": "markdown",
   "metadata": {
    "deletable": false,
    "editable": false
   },
   "source": [
    "**Question 3.** Does each box at the fruit stand contain a different fruit? Set `all_different` to `True` if each box contains a different fruit or to `False` if multiple boxes contain the same fruit.\n",
    "\n",
    "*Hint:* You don't have to write code to calculate the True/False value for `all_different`. Just look at the `inventory` table and assign `all_different` to either `True` or `False` according to what you can see from the table in answering the question.\n",
    "\n",
    "<!--\n",
    "BEGIN QUESTION\n",
    "name: q6_3\n",
    "-->"
   ]
  },
  {
   "cell_type": "code",
   "execution_count": 130,
   "metadata": {},
   "outputs": [
    {
     "data": {
      "text/plain": [
       "False"
      ]
     },
     "execution_count": 130,
     "metadata": {},
     "output_type": "execute_result"
    }
   ],
   "source": [
    "all_different = False\n",
    "all_different"
   ]
  },
  {
   "cell_type": "code",
   "execution_count": 131,
   "metadata": {
    "deletable": false,
    "editable": false
   },
   "outputs": [
    {
     "name": "stdout",
     "output_type": "stream",
     "text": [
      "~~~~~~~~~~~~~~~~~~~~~~~~~~~~~~~~~~~~~~~~~~~~~~~~~~~~~~~~~~~~~~~~~~~~~\n",
      "Running tests\n",
      "\n",
      "---------------------------------------------------------------------\n",
      "Test summary\n",
      "    Passed: 1\n",
      "    Failed: 0\n",
      "[ooooooooook] 100.0% passed\n",
      "\n"
     ]
    }
   ],
   "source": [
    "ok.grade(\"q6_3\");"
   ]
  },
  {
   "cell_type": "markdown",
   "metadata": {
    "deletable": false,
    "editable": false
   },
   "source": [
    "**Question 4.** The file `sales.csv` contains the number of fruit sold from each box last Saturday.  It has an extra column called \"price per fruit (\\$)\" that's the price *per item of fruit* for fruit in that box.  The rows are in the same order as the `inventory` table.  Load these data into a table called `sales`.\n",
    "\n",
    "<!--\n",
    "BEGIN QUESTION\n",
    "name: q6_4\n",
    "-->"
   ]
  },
  {
   "cell_type": "code",
   "execution_count": 132,
   "metadata": {},
   "outputs": [
    {
     "data": {
      "text/html": [
       "<table border=\"1\" class=\"dataframe\">\n",
       "    <thead>\n",
       "        <tr>\n",
       "            <th>box ID</th> <th>fruit name</th> <th>count sold</th> <th>price per fruit ($)</th>\n",
       "        </tr>\n",
       "    </thead>\n",
       "    <tbody>\n",
       "        <tr>\n",
       "            <td>53686 </td> <td>kiwi      </td> <td>3         </td> <td>0.5                </td>\n",
       "        </tr>\n",
       "        <tr>\n",
       "            <td>57181 </td> <td>strawberry</td> <td>101       </td> <td>0.2                </td>\n",
       "        </tr>\n",
       "        <tr>\n",
       "            <td>25274 </td> <td>apple     </td> <td>0         </td> <td>0.8                </td>\n",
       "        </tr>\n",
       "        <tr>\n",
       "            <td>48800 </td> <td>orange    </td> <td>35        </td> <td>0.6                </td>\n",
       "        </tr>\n",
       "        <tr>\n",
       "            <td>26187 </td> <td>strawberry</td> <td>25        </td> <td>0.15               </td>\n",
       "        </tr>\n",
       "        <tr>\n",
       "            <td>57930 </td> <td>grape     </td> <td>355       </td> <td>0.06               </td>\n",
       "        </tr>\n",
       "        <tr>\n",
       "            <td>52357 </td> <td>strawberry</td> <td>102       </td> <td>0.25               </td>\n",
       "        </tr>\n",
       "        <tr>\n",
       "            <td>43566 </td> <td>peach     </td> <td>17        </td> <td>0.8                </td>\n",
       "        </tr>\n",
       "    </tbody>\n",
       "</table>"
      ],
      "text/plain": [
       "box ID | fruit name | count sold | price per fruit ($)\n",
       "53686  | kiwi       | 3          | 0.5\n",
       "57181  | strawberry | 101        | 0.2\n",
       "25274  | apple      | 0          | 0.8\n",
       "48800  | orange     | 35         | 0.6\n",
       "26187  | strawberry | 25         | 0.15\n",
       "57930  | grape      | 355        | 0.06\n",
       "52357  | strawberry | 102        | 0.25\n",
       "43566  | peach      | 17         | 0.8"
      ]
     },
     "execution_count": 132,
     "metadata": {},
     "output_type": "execute_result"
    }
   ],
   "source": [
    "sales = Table.read_table('sales.csv')\n",
    "sales"
   ]
  },
  {
   "cell_type": "code",
   "execution_count": 133,
   "metadata": {
    "deletable": false,
    "editable": false
   },
   "outputs": [
    {
     "name": "stdout",
     "output_type": "stream",
     "text": [
      "~~~~~~~~~~~~~~~~~~~~~~~~~~~~~~~~~~~~~~~~~~~~~~~~~~~~~~~~~~~~~~~~~~~~~\n",
      "Running tests\n",
      "\n",
      "---------------------------------------------------------------------\n",
      "Test summary\n",
      "    Passed: 1\n",
      "    Failed: 0\n",
      "[ooooooooook] 100.0% passed\n",
      "\n"
     ]
    }
   ],
   "source": [
    "ok.grade(\"q6_4\");"
   ]
  },
  {
   "cell_type": "markdown",
   "metadata": {
    "deletable": false,
    "editable": false
   },
   "source": [
    "**Question 5.** How many fruits did the store sell in total on that day?\n",
    "\n",
    "<!--\n",
    "BEGIN QUESTION\n",
    "name: q6_5\n",
    "-->"
   ]
  },
  {
   "cell_type": "code",
   "execution_count": 134,
   "metadata": {},
   "outputs": [
    {
     "data": {
      "text/plain": [
       "638"
      ]
     },
     "execution_count": 134,
     "metadata": {},
     "output_type": "execute_result"
    }
   ],
   "source": [
    "total_fruits_sold = sum(sales.column('count sold'))\n",
    "total_fruits_sold"
   ]
  },
  {
   "cell_type": "code",
   "execution_count": 135,
   "metadata": {
    "deletable": false,
    "editable": false
   },
   "outputs": [
    {
     "name": "stdout",
     "output_type": "stream",
     "text": [
      "~~~~~~~~~~~~~~~~~~~~~~~~~~~~~~~~~~~~~~~~~~~~~~~~~~~~~~~~~~~~~~~~~~~~~\n",
      "Running tests\n",
      "\n",
      "---------------------------------------------------------------------\n",
      "Test summary\n",
      "    Passed: 1\n",
      "    Failed: 0\n",
      "[ooooooooook] 100.0% passed\n",
      "\n"
     ]
    }
   ],
   "source": [
    "ok.grade(\"q6_5\");"
   ]
  },
  {
   "cell_type": "markdown",
   "metadata": {
    "deletable": false,
    "editable": false
   },
   "source": [
    "**Question 6.** What was the store's total revenue (the total price of all fruits sold) on that day?\n",
    "\n",
    "*Hint:* If you're stuck, think first about how you would compute the total revenue from just the grape sales.\n",
    "\n",
    "<!--\n",
    "BEGIN QUESTION\n",
    "name: q6_6\n",
    "-->"
   ]
  },
  {
   "cell_type": "code",
   "execution_count": 136,
   "metadata": {},
   "outputs": [
    {
     "data": {
      "text/plain": [
       "106.85"
      ]
     },
     "execution_count": 136,
     "metadata": {},
     "output_type": "execute_result"
    }
   ],
   "source": [
    "total_revenue = sum(sales.column('count sold') * sales.column('price per fruit ($)'))\n",
    "total_revenue"
   ]
  },
  {
   "cell_type": "code",
   "execution_count": 137,
   "metadata": {
    "deletable": false,
    "editable": false
   },
   "outputs": [
    {
     "name": "stdout",
     "output_type": "stream",
     "text": [
      "~~~~~~~~~~~~~~~~~~~~~~~~~~~~~~~~~~~~~~~~~~~~~~~~~~~~~~~~~~~~~~~~~~~~~\n",
      "Running tests\n",
      "\n",
      "---------------------------------------------------------------------\n",
      "Test summary\n",
      "    Passed: 1\n",
      "    Failed: 0\n",
      "[ooooooooook] 100.0% passed\n",
      "\n"
     ]
    }
   ],
   "source": [
    "ok.grade(\"q6_6\");"
   ]
  },
  {
   "cell_type": "markdown",
   "metadata": {
    "deletable": false,
    "editable": false
   },
   "source": [
    "**Question 7.** Make a new table called `remaining_inventory`.  It should have the same rows and columns as `inventory`, except that the amount of fruit sold from each box should be subtracted from that box's **original** count, so that the \"count\" is **updated to be** the amount of fruit remaining after Saturday.\n",
    "\n",
    "<!--\n",
    "BEGIN QUESTION\n",
    "name: q6_7\n",
    "-->"
   ]
  },
  {
   "cell_type": "code",
   "execution_count": 138,
   "metadata": {},
   "outputs": [
    {
     "data": {
      "text/html": [
       "<table border=\"1\" class=\"dataframe\">\n",
       "    <thead>\n",
       "        <tr>\n",
       "            <th>box ID</th> <th>fruit name</th> <th>count</th>\n",
       "        </tr>\n",
       "    </thead>\n",
       "    <tbody>\n",
       "        <tr>\n",
       "            <td>53686 </td> <td>kiwi      </td> <td>42   </td>\n",
       "        </tr>\n",
       "        <tr>\n",
       "            <td>57181 </td> <td>strawberry</td> <td>22   </td>\n",
       "        </tr>\n",
       "        <tr>\n",
       "            <td>25274 </td> <td>apple     </td> <td>20   </td>\n",
       "        </tr>\n",
       "        <tr>\n",
       "            <td>48800 </td> <td>orange    </td> <td>0    </td>\n",
       "        </tr>\n",
       "        <tr>\n",
       "            <td>26187 </td> <td>strawberry</td> <td>230  </td>\n",
       "        </tr>\n",
       "        <tr>\n",
       "            <td>57930 </td> <td>grape     </td> <td>162  </td>\n",
       "        </tr>\n",
       "        <tr>\n",
       "            <td>52357 </td> <td>strawberry</td> <td>0    </td>\n",
       "        </tr>\n",
       "        <tr>\n",
       "            <td>43566 </td> <td>peach     </td> <td>23   </td>\n",
       "        </tr>\n",
       "    </tbody>\n",
       "</table>"
      ],
      "text/plain": [
       "box ID | fruit name | count\n",
       "53686  | kiwi       | 42\n",
       "57181  | strawberry | 22\n",
       "25274  | apple      | 20\n",
       "48800  | orange     | 0\n",
       "26187  | strawberry | 230\n",
       "57930  | grape      | 162\n",
       "52357  | strawberry | 0\n",
       "43566  | peach      | 23"
      ]
     },
     "execution_count": 138,
     "metadata": {},
     "output_type": "execute_result"
    }
   ],
   "source": [
    "remaining_inventory = Table().with_columns(\n",
    "    'box ID', inventory.column('box ID'),\n",
    "    'fruit name', inventory.column('fruit name'),\n",
    "    'count', (inventory.column('count') - sales.column('count sold')))\n",
    "\n",
    "remaining_inventory"
   ]
  },
  {
   "cell_type": "code",
   "execution_count": 139,
   "metadata": {
    "deletable": false,
    "editable": false
   },
   "outputs": [
    {
     "name": "stdout",
     "output_type": "stream",
     "text": [
      "~~~~~~~~~~~~~~~~~~~~~~~~~~~~~~~~~~~~~~~~~~~~~~~~~~~~~~~~~~~~~~~~~~~~~\n",
      "Running tests\n",
      "\n",
      "---------------------------------------------------------------------\n",
      "Test summary\n",
      "    Passed: 3\n",
      "    Failed: 0\n",
      "[ooooooooook] 100.0% passed\n",
      "\n"
     ]
    }
   ],
   "source": [
    "ok.grade(\"q6_7\");"
   ]
  },
  {
   "cell_type": "markdown",
   "metadata": {},
   "source": [
    "## 7. Submission\n"
   ]
  },
  {
   "cell_type": "markdown",
   "metadata": {
    "collapsed": true
   },
   "source": [
    "Once you're finished, select \"Save and Checkpoint\" in the File menu and then execute the `submit` cell below. The result will contain a link that you can use to check that your assignment has been submitted successfully. **IMPORTANT: Make sure to check that your submission is not empty. We cannot guarantee that the submission will be valid, so please check it now.** If you submit more than once before the deadline, we will only grade your final submission. If you mistakenly submit the wrong one, you can head to [okpy.org](https://okpy.org/) and flag the correct version. To do so, go to the website, click on this assignment, and find the version you would like to have graded. There should be an option to flag that submission for grading!"
   ]
  },
  {
   "cell_type": "code",
   "execution_count": null,
   "metadata": {},
   "outputs": [
    {
     "data": {
      "application/javascript": [
       "IPython.notebook.save_checkpoint();"
      ],
      "text/plain": [
       "<IPython.core.display.Javascript object>"
      ]
     },
     "metadata": {},
     "output_type": "display_data"
    }
   ],
   "source": [
    "_ = ok.submit()"
   ]
  },
  {
   "cell_type": "code",
   "execution_count": 84,
   "metadata": {},
   "outputs": [
    {
     "name": "stdout",
     "output_type": "stream",
     "text": [
      "Running all tests...\n",
      "~~~~~~~~~~~~~~~~~~~~~~~~~~~~~~~~~~~~~~~~~~~~~~~~~~~~~~~~~~~~~~~~~~~~~\n",
      "Running tests\n",
      "\n",
      "---------------------------------------------------------------------\n",
      "q1_1 > Suite 1 > Case 1\n",
      "\n",
      ">>> # Looks like you didn't create an array!;\n",
      ">>> len(weird_numbers) == 4\n",
      "NameError: name 'weird_numbers' is not defined\n",
      "\n",
      "# Error: expected\n",
      "#     True\n",
      "# but got\n",
      "#     Traceback (most recent call last):\n",
      "#       ...\n",
      "#     NameError: name 'weird_numbers' is not defined\n",
      "\n",
      "Run only this test case with \"python3 ok -q q1_1 --suite 1 --case 1\"\n",
      "---------------------------------------------------------------------\n",
      "Test summary\n",
      "    Passed: 0\n",
      "    Failed: 1\n",
      "[k..........] 0.0% passed\n",
      "\n",
      "~~~~~~~~~~~~~~~~~~~~~~~~~~~~~~~~~~~~~~~~~~~~~~~~~~~~~~~~~~~~~~~~~~~~~\n",
      "Running tests\n",
      "\n",
      "---------------------------------------------------------------------\n",
      "q1_2 > Suite 1 > Case 1\n",
      "\n",
      ">>> import numpy as np;\n",
      ">>> # It looks like you didn't make an array.;\n",
      ">>> type(book_title_words) == np.ndarray\n",
      "NameError: name 'book_title_words' is not defined\n",
      "\n",
      "# Error: expected\n",
      "#     True\n",
      "# but got\n",
      "#     Traceback (most recent call last):\n",
      "#       ...\n",
      "#     NameError: name 'book_title_words' is not defined\n",
      "\n",
      "Run only this test case with \"python3 ok -q q1_2 --suite 1 --case 1\"\n",
      "---------------------------------------------------------------------\n",
      "Test summary\n",
      "    Passed: 0\n",
      "    Failed: 1\n",
      "[k..........] 0.0% passed\n",
      "\n",
      "~~~~~~~~~~~~~~~~~~~~~~~~~~~~~~~~~~~~~~~~~~~~~~~~~~~~~~~~~~~~~~~~~~~~~\n",
      "Running tests\n",
      "\n",
      "---------------------------------------------------------------------\n",
      "q1_3 > Suite 1 > Case 1\n",
      "\n",
      ">>> with_commas\n",
      "NameError: name 'with_commas' is not defined\n",
      "\n",
      "# Error: expected\n",
      "#     'Eats, Shoots, and Leaves'\n",
      "# but got\n",
      "#     Traceback (most recent call last):\n",
      "#       ...\n",
      "#     NameError: name 'with_commas' is not defined\n",
      "\n",
      "Run only this test case with \"python3 ok -q q1_3 --suite 1 --case 1\"\n",
      "---------------------------------------------------------------------\n",
      "Test summary\n",
      "    Passed: 0\n",
      "    Failed: 1\n",
      "[k..........] 0.0% passed\n",
      "\n",
      "~~~~~~~~~~~~~~~~~~~~~~~~~~~~~~~~~~~~~~~~~~~~~~~~~~~~~~~~~~~~~~~~~~~~~\n",
      "Running tests\n",
      "\n",
      "---------------------------------------------------------------------\n",
      "q2_1 > Suite 1 > Case 1\n",
      "\n",
      ">>> # It looks like you wrote:;\n",
      ">>> #   some_numbers.item(3);\n",
      ">>> # But the third element has index 2, not 3.;\n",
      ">>> third_element != -10\n",
      "NameError: name 'third_element' is not defined\n",
      "\n",
      "# Error: expected\n",
      "#     True\n",
      "# but got\n",
      "#     Traceback (most recent call last):\n",
      "#       ...\n",
      "#     NameError: name 'third_element' is not defined\n",
      "\n",
      "Run only this test case with \"python3 ok -q q2_1 --suite 1 --case 1\"\n",
      "---------------------------------------------------------------------\n",
      "Test summary\n",
      "    Passed: 0\n",
      "    Failed: 1\n",
      "[k..........] 0.0% passed\n",
      "\n",
      "~~~~~~~~~~~~~~~~~~~~~~~~~~~~~~~~~~~~~~~~~~~~~~~~~~~~~~~~~~~~~~~~~~~~~\n",
      "Running tests\n",
      "\n",
      "---------------------------------------------------------------------\n",
      "q2_2 > Suite 1 > Case 1\n",
      "\n",
      ">>> elements_of_some_numbers.column(0).item(2) == \"third\"\n",
      "NameError: name 'elements_of_some_numbers' is not defined\n",
      "\n",
      "# Error: expected\n",
      "#     True\n",
      "# but got\n",
      "#     Traceback (most recent call last):\n",
      "#       ...\n",
      "#     NameError: name 'elements_of_some_numbers' is not defined\n",
      "\n",
      "Run only this test case with \"python3 ok -q q2_2 --suite 1 --case 1\"\n",
      "---------------------------------------------------------------------\n",
      "Test summary\n",
      "    Passed: 0\n",
      "    Failed: 1\n",
      "[k..........] 0.0% passed\n",
      "\n",
      "~~~~~~~~~~~~~~~~~~~~~~~~~~~~~~~~~~~~~~~~~~~~~~~~~~~~~~~~~~~~~~~~~~~~~\n",
      "Running tests\n",
      "\n",
      "---------------------------------------------------------------------\n",
      "q2_3 > Suite 1 > Case 1\n",
      "\n",
      ">>> index_of_last_element\n",
      "NameError: name 'index_of_last_element' is not defined\n",
      "\n",
      "# Error: expected\n",
      "#     141\n",
      "# but got\n",
      "#     Traceback (most recent call last):\n",
      "#       ...\n",
      "#     NameError: name 'index_of_last_element' is not defined\n",
      "\n",
      "Run only this test case with \"python3 ok -q q2_3 --suite 1 --case 1\"\n",
      "---------------------------------------------------------------------\n",
      "Test summary\n",
      "    Passed: 0\n",
      "    Failed: 1\n",
      "[k..........] 0.0% passed\n",
      "\n",
      "~~~~~~~~~~~~~~~~~~~~~~~~~~~~~~~~~~~~~~~~~~~~~~~~~~~~~~~~~~~~~~~~~~~~~\n",
      "Running tests\n",
      "\n",
      "---------------------------------------------------------------------\n",
      "q2_4 > Suite 1 > Case 1\n",
      "\n",
      ">>> most_recent_birth_year\n",
      "NameError: name 'most_recent_birth_year' is not defined\n",
      "\n",
      "# Error: expected\n",
      "#     1917\n",
      "# but got\n",
      "#     Traceback (most recent call last):\n",
      "#       ...\n",
      "#     NameError: name 'most_recent_birth_year' is not defined\n",
      "\n",
      "Run only this test case with \"python3 ok -q q2_4 --suite 1 --case 1\"\n",
      "---------------------------------------------------------------------\n",
      "Test summary\n",
      "    Passed: 0\n",
      "    Failed: 1\n",
      "[k..........] 0.0% passed\n",
      "\n",
      "~~~~~~~~~~~~~~~~~~~~~~~~~~~~~~~~~~~~~~~~~~~~~~~~~~~~~~~~~~~~~~~~~~~~~\n",
      "Running tests\n",
      "\n",
      "---------------------------------------------------------------------\n",
      "q2_5 > Suite 1 > Case 1\n",
      "\n",
      ">>> sum_of_birth_years > 0\n",
      "NameError: name 'sum_of_birth_years' is not defined\n",
      "\n",
      "# Error: expected\n",
      "#     True\n",
      "# but got\n",
      "#     Traceback (most recent call last):\n",
      "#       ...\n",
      "#     NameError: name 'sum_of_birth_years' is not defined\n",
      "\n",
      "Run only this test case with \"python3 ok -q q2_5 --suite 1 --case 1\"\n",
      "---------------------------------------------------------------------\n",
      "Test summary\n",
      "    Passed: 0\n",
      "    Failed: 1\n",
      "[k..........] 0.0% passed\n",
      "\n",
      "~~~~~~~~~~~~~~~~~~~~~~~~~~~~~~~~~~~~~~~~~~~~~~~~~~~~~~~~~~~~~~~~~~~~~\n",
      "Running tests\n",
      "\n",
      "---------------------------------------------------------------------\n",
      "q3_1 > Suite 1 > Case 1\n",
      "\n",
      ">>> first_product > 0, second_product < 0, third_product > 0, fourth_product > 0\n",
      "NameError: name 'first_product' is not defined\n",
      "\n",
      "# Error: expected\n",
      "#     (True, True, True, True)\n",
      "# but got\n",
      "#     Traceback (most recent call last):\n",
      "#       ...\n",
      "#     NameError: name 'first_product' is not defined\n",
      "\n",
      "Run only this test case with \"python3 ok -q q3_1 --suite 1 --case 1\"\n",
      "---------------------------------------------------------------------\n",
      "Test summary\n",
      "    Passed: 0\n",
      "    Failed: 1\n",
      "[k..........] 0.0% passed\n",
      "\n",
      "~~~~~~~~~~~~~~~~~~~~~~~~~~~~~~~~~~~~~~~~~~~~~~~~~~~~~~~~~~~~~~~~~~~~~\n",
      "Running tests\n",
      "\n",
      "---------------------------------------------------------------------\n",
      "q3_2 > Suite 1 > Case 1\n",
      "\n",
      ">>> len(products) == 4\n",
      "NameError: name 'products' is not defined\n",
      "\n",
      "# Error: expected\n",
      "#     True\n",
      "# but got\n",
      "#     Traceback (most recent call last):\n",
      "#       ...\n",
      "#     NameError: name 'products' is not defined\n",
      "\n",
      "Run only this test case with \"python3 ok -q q3_2 --suite 1 --case 1\"\n",
      "---------------------------------------------------------------------\n",
      "Test summary\n",
      "    Passed: 0\n",
      "    Failed: 1\n",
      "[k..........] 0.0% passed\n",
      "\n",
      "~~~~~~~~~~~~~~~~~~~~~~~~~~~~~~~~~~~~~~~~~~~~~~~~~~~~~~~~~~~~~~~~~~~~~\n",
      "Running tests\n",
      "\n",
      "---------------------------------------------------------------------\n",
      "q3_3 > Suite 1 > Case 1\n",
      "\n",
      ">>> len(correct_products) == 4\n",
      "NameError: name 'correct_products' is not defined\n",
      "\n",
      "# Error: expected\n",
      "#     True\n",
      "# but got\n",
      "#     Traceback (most recent call last):\n",
      "#       ...\n",
      "#     NameError: name 'correct_products' is not defined\n",
      "\n",
      "Run only this test case with \"python3 ok -q q3_3 --suite 1 --case 1\"\n",
      "---------------------------------------------------------------------\n",
      "Test summary\n",
      "    Passed: 0\n",
      "    Failed: 1\n",
      "[k..........] 0.0% passed\n",
      "\n",
      "~~~~~~~~~~~~~~~~~~~~~~~~~~~~~~~~~~~~~~~~~~~~~~~~~~~~~~~~~~~~~~~~~~~~~\n",
      "Running tests\n",
      "\n",
      "---------------------------------------------------------------------\n",
      "q3_4 > Suite 1 > Case 1\n",
      "\n",
      ">>> # It looks like you multiplied and subtracted in the wrong;\n",
      ">>> # order.;\n",
      ">>> sum(celsius_max_temperatures) != 356705.0\n",
      "NameError: name 'celsius_max_temperatures' is not defined\n",
      "\n",
      "# Error: expected\n",
      "#     True\n",
      "# but got\n",
      "#     Traceback (most recent call last):\n",
      "#       ...\n",
      "#     NameError: name 'celsius_max_temperatures' is not defined\n",
      "\n",
      "Run only this test case with \"python3 ok -q q3_4 --suite 1 --case 1\"\n",
      "---------------------------------------------------------------------\n",
      "Test summary\n",
      "    Passed: 0\n",
      "    Failed: 1\n",
      "[k..........] 0.0% passed\n",
      "\n",
      "~~~~~~~~~~~~~~~~~~~~~~~~~~~~~~~~~~~~~~~~~~~~~~~~~~~~~~~~~~~~~~~~~~~~~\n",
      "Running tests\n",
      "\n",
      "---------------------------------------------------------------------\n",
      "q3_5 > Suite 1 > Case 1\n",
      "\n",
      ">>> # celsius_temperature_ranges should be an array;\n",
      ">>> type(celsius_temperature_ranges) is np.ndarray\n",
      "NameError: name 'celsius_temperature_ranges' is not defined\n",
      "\n",
      "# Error: expected\n",
      "#     True\n",
      "# but got\n",
      "#     Traceback (most recent call last):\n",
      "#       ...\n",
      "#     NameError: name 'celsius_temperature_ranges' is not defined\n"
     ]
    },
    {
     "name": "stdout",
     "output_type": "stream",
     "text": [
      "\n",
      "Run only this test case with \"python3 ok -q q3_5 --suite 1 --case 1\"\n",
      "---------------------------------------------------------------------\n",
      "Test summary\n",
      "    Passed: 0\n",
      "    Failed: 1\n",
      "[k..........] 0.0% passed\n",
      "\n",
      "~~~~~~~~~~~~~~~~~~~~~~~~~~~~~~~~~~~~~~~~~~~~~~~~~~~~~~~~~~~~~~~~~~~~~\n",
      "Running tests\n",
      "\n",
      "---------------------------------------------------------------------\n",
      "q4_1 > Suite 1 > Case 1\n",
      "\n",
      ">>> largest_population_change\n",
      "NameError: name 'largest_population_change' is not defined\n",
      "\n",
      "# Error: expected\n",
      "#     87515824\n",
      "# but got\n",
      "#     Traceback (most recent call last):\n",
      "#       ...\n",
      "#     NameError: name 'largest_population_change' is not defined\n",
      "\n",
      "Run only this test case with \"python3 ok -q q4_1 --suite 1 --case 1\"\n",
      "---------------------------------------------------------------------\n",
      "Test summary\n",
      "    Passed: 0\n",
      "    Failed: 1\n",
      "[k..........] 0.0% passed\n",
      "\n",
      "~~~~~~~~~~~~~~~~~~~~~~~~~~~~~~~~~~~~~~~~~~~~~~~~~~~~~~~~~~~~~~~~~~~~~\n",
      "Running tests\n",
      "\n",
      "---------------------------------------------------------------------\n",
      "Test summary\n",
      "    Passed: 2\n",
      "    Failed: 0\n",
      "[ooooooooook] 100.0% passed\n",
      "\n",
      "~~~~~~~~~~~~~~~~~~~~~~~~~~~~~~~~~~~~~~~~~~~~~~~~~~~~~~~~~~~~~~~~~~~~~\n",
      "Running tests\n",
      "\n",
      "---------------------------------------------------------------------\n",
      "Test summary\n",
      "    Passed: 2\n",
      "    Failed: 0\n",
      "[ooooooooook] 100.0% passed\n",
      "\n",
      "~~~~~~~~~~~~~~~~~~~~~~~~~~~~~~~~~~~~~~~~~~~~~~~~~~~~~~~~~~~~~~~~~~~~~\n",
      "Running tests\n",
      "\n",
      "---------------------------------------------------------------------\n",
      "q5_2 > Suite 1 > Case 1\n",
      "\n",
      ">>> # Hint: If you are getting 47 as your answer, you might be computing the biggest change ;\n",
      ">>> # rather than the biggest decrease!;\n",
      ">>> biggest_decrease == 47\n",
      "NameError: name 'biggest_decrease' is not defined\n",
      "\n",
      "# Error: expected\n",
      "#     False\n",
      "# but got\n",
      "#     Traceback (most recent call last):\n",
      "#       ...\n",
      "#     NameError: name 'biggest_decrease' is not defined\n",
      "\n",
      "Run only this test case with \"python3 ok -q q5_2 --suite 1 --case 1\"\n",
      "---------------------------------------------------------------------\n",
      "Test summary\n",
      "    Passed: 0\n",
      "    Failed: 1\n",
      "[k..........] 0.0% passed\n",
      "\n",
      "~~~~~~~~~~~~~~~~~~~~~~~~~~~~~~~~~~~~~~~~~~~~~~~~~~~~~~~~~~~~~~~~~~~~~\n",
      "Running tests\n",
      "\n",
      "---------------------------------------------------------------------\n",
      "Test summary\n",
      "    Passed: 2\n",
      "    Failed: 0\n",
      "[ooooooooook] 100.0% passed\n",
      "\n",
      "~~~~~~~~~~~~~~~~~~~~~~~~~~~~~~~~~~~~~~~~~~~~~~~~~~~~~~~~~~~~~~~~~~~~~\n",
      "Running tests\n",
      "\n",
      "---------------------------------------------------------------------\n",
      "Test summary\n",
      "    Passed: 1\n",
      "    Failed: 0\n",
      "[ooooooooook] 100.0% passed\n",
      "\n",
      "~~~~~~~~~~~~~~~~~~~~~~~~~~~~~~~~~~~~~~~~~~~~~~~~~~~~~~~~~~~~~~~~~~~~~\n",
      "Running tests\n",
      "\n",
      "---------------------------------------------------------------------\n",
      "Test summary\n",
      "    Passed: 1\n",
      "    Failed: 0\n",
      "[ooooooooook] 100.0% passed\n",
      "\n",
      "~~~~~~~~~~~~~~~~~~~~~~~~~~~~~~~~~~~~~~~~~~~~~~~~~~~~~~~~~~~~~~~~~~~~~\n",
      "Running tests\n",
      "\n",
      "---------------------------------------------------------------------\n",
      "Test summary\n",
      "    Passed: 1\n",
      "    Failed: 0\n",
      "[ooooooooook] 100.0% passed\n",
      "\n",
      "~~~~~~~~~~~~~~~~~~~~~~~~~~~~~~~~~~~~~~~~~~~~~~~~~~~~~~~~~~~~~~~~~~~~~\n",
      "Running tests\n",
      "\n",
      "---------------------------------------------------------------------\n",
      "Test summary\n",
      "    Passed: 1\n",
      "    Failed: 0\n",
      "[ooooooooook] 100.0% passed\n",
      "\n",
      "~~~~~~~~~~~~~~~~~~~~~~~~~~~~~~~~~~~~~~~~~~~~~~~~~~~~~~~~~~~~~~~~~~~~~\n",
      "Running tests\n",
      "\n",
      "---------------------------------------------------------------------\n",
      "Test summary\n",
      "    Passed: 1\n",
      "    Failed: 0\n",
      "[ooooooooook] 100.0% passed\n",
      "\n",
      "~~~~~~~~~~~~~~~~~~~~~~~~~~~~~~~~~~~~~~~~~~~~~~~~~~~~~~~~~~~~~~~~~~~~~\n",
      "Running tests\n",
      "\n",
      "---------------------------------------------------------------------\n",
      "Test summary\n",
      "    Passed: 1\n",
      "    Failed: 0\n",
      "[ooooooooook] 100.0% passed\n",
      "\n",
      "~~~~~~~~~~~~~~~~~~~~~~~~~~~~~~~~~~~~~~~~~~~~~~~~~~~~~~~~~~~~~~~~~~~~~\n",
      "Running tests\n",
      "\n",
      "---------------------------------------------------------------------\n",
      "Test summary\n",
      "    Passed: 1\n",
      "    Failed: 0\n",
      "[ooooooooook] 100.0% passed\n",
      "\n",
      "~~~~~~~~~~~~~~~~~~~~~~~~~~~~~~~~~~~~~~~~~~~~~~~~~~~~~~~~~~~~~~~~~~~~~\n",
      "Running tests\n",
      "\n",
      "---------------------------------------------------------------------\n",
      "Test summary\n",
      "    Passed: 3\n",
      "    Failed: 0\n",
      "[ooooooooook] 100.0% passed\n",
      "\n",
      "Finished running all tests.\n"
     ]
    }
   ],
   "source": [
    "# For your convenience, you can run this cell to run all the tests at once!\n",
    "import os\n",
    "print(\"Running all tests...\")\n",
    "_ = [ok.grade(q[:-3]) for q in os.listdir(\"tests\") if q.startswith('q') and len(q) <= 10]\n",
    "print(\"Finished running all tests.\")"
   ]
  },
  {
   "cell_type": "code",
   "execution_count": null,
   "metadata": {},
   "outputs": [],
   "source": []
  }
 ],
 "metadata": {
  "history": [
   {
    "code": "# Initialize OK\nfrom client.api.notebook import Notebook\nok = Notebook('hw02.ok')",
    "id": "00eb53c3981744e4b608e1f56807e99f",
    "idx": 0,
    "time": "2021-02-03T22:01:52.331Z",
    "type": "execution"
   },
   {
    "id": "00eb53c3981744e4b608e1f56807e99f",
    "time": "2021-02-03T22:01:52.884Z",
    "type": "completion"
   },
   {
    "code": "# Don't change this cell; just run it. \n# When you log-in please hit return (not shift + return) after typing in your email\nimport numpy as np\nfrom datascience import *\nimport warnings\nwarnings.simplefilter('ignore', FutureWarning)\n\nfrom client.api.notebook import *\ndef new_save_notebook(self):\n    \"\"\" Saves the current notebook by\n        injecting JavaScript to save to .ipynb file.\n    \"\"\"\n    try:\n        from IPython.display import display, Javascript\n    except ImportError:\n        log.warning(\"Could not import IPython Display Function\")\n        print(\"Make sure to save your notebook before sending it to OK!\")\n        return\n\n    if self.mode == \"jupyter\":\n        display(Javascript('IPython.notebook.save_checkpoint();'))\n        display(Javascript('IPython.notebook.save_notebook();'))\n    elif self.mode == \"jupyterlab\":\n        display(Javascript('document.querySelector(\\'[data-command=\"docmanager:save\"]\\').click();'))   \n\n    print('Saving notebook...', end=' ')\n\n    ipynbs = [path for path in self.assignment.src\n              if os.path.splitext(path)[1] == '.ipynb']\n    # Wait for first .ipynb to save\n    if ipynbs:\n        if wait_for_save(ipynbs[0]):\n            print(\"Saved '{}'.\".format(ipynbs[0]))\n        else:\n            log.warning(\"Timed out waiting for IPython save\")\n            print(\"Could not automatically save \\'{}\\'\".format(ipynbs[0]))\n            print(\"Make sure your notebook\"\n                  \" is correctly named and saved before submitting to OK!\".format(ipynbs[0]))\n            return False                \n    else:\n        print(\"No valid file sources found\")\n    return True\n\ndef wait_for_save(filename, timeout=600):\n    \"\"\"Waits for FILENAME to update, waiting up to TIMEOUT seconds.\n    Returns True if a save was detected, and False otherwise.\n    \"\"\"\n    modification_time = os.path.getmtime(filename)\n    start_time = time.time()\n    while time.time() < start_time + timeout:\n        if (os.path.getmtime(filename) > modification_time and\n            os.path.getsize(filename) > 0):\n            return True\n        time.sleep(0.2)\n    print(\"\\nERROR!\\n YOUR SUBMISSION DID NOT GO THROUGH. PLEASE TRY AGAIN. IF THIS PROBLEM PERSISTS POST ON PIAZZA RIGHT AWAY.\\n ERROR!\" + \"\\n\" * 20)\n\n    return False\n\nNotebook.save_notebook = new_save_notebook\n\nok = Notebook('hw02.ok')\nok.auth(force=True) \n_ = ok.auth(inline=True)",
    "id": "675b8a5ef567479780f5f326d6dbfe6f",
    "idx": 2,
    "time": "2021-02-03T22:02:00.776Z",
    "type": "execution"
   },
   {
    "id": "675b8a5ef567479780f5f326d6dbfe6f",
    "time": "2021-02-03T22:02:16.834Z",
    "type": "completion"
   },
   {
    "code": "# Our solution involved one extra line of code before creating\n# weird_numbers.\n...\nweird_numbers = array([-2, math.sin(12), 3, 5**math.cos(12)])\nweird_numbers",
    "id": "c6b33a24edcd477f873053596b137003",
    "idx": 8,
    "time": "2021-02-03T22:04:13.355Z",
    "type": "execution"
   },
   {
    "id": "c6b33a24edcd477f873053596b137003",
    "time": "2021-02-03T22:04:13.789Z",
    "type": "completion"
   },
   {
    "code": "ok.grade(\"q1_1\");",
    "id": "29cdf500a28e4b8d8b91d541e623586b",
    "idx": 9,
    "time": "2021-02-03T22:04:14.220Z",
    "type": "execution"
   },
   {
    "id": "29cdf500a28e4b8d8b91d541e623586b",
    "time": "2021-02-03T22:04:14.439Z",
    "type": "completion"
   },
   {
    "code": "# Our solution involved one extra line of code before creating\n# weird_numbers.\n...\nweird_numbers = np.array([-2, math.sin(12), 3, 5**math.cos(12)])\nweird_numbers",
    "id": "c6b33a24edcd477f873053596b137003",
    "idx": 8,
    "time": "2021-02-03T22:04:19.866Z",
    "type": "execution"
   },
   {
    "id": "c6b33a24edcd477f873053596b137003",
    "time": "2021-02-03T22:04:21.110Z",
    "type": "completion"
   },
   {
    "code": "# Our solution involved one extra line of code before creating\n# weird_numbers.\n...\nimport math\nweird_numbers = np.array([-2, math.sin(12), 3, 5**math.cos(12)])\nweird_numbers",
    "id": "c6b33a24edcd477f873053596b137003",
    "idx": 8,
    "time": "2021-02-03T22:04:34.563Z",
    "type": "execution"
   },
   {
    "id": "c6b33a24edcd477f873053596b137003",
    "time": "2021-02-03T22:04:34.715Z",
    "type": "completion"
   },
   {
    "code": "# Our solution involved one extra line of code before creating\n# weird_numbers.\n...\nimport math\nweird_numbers = make_array(-2, math.sin(12), 3, 5**math.cos(12))\nweird_numbers",
    "id": "c6b33a24edcd477f873053596b137003",
    "idx": 8,
    "time": "2021-02-03T22:05:22.159Z",
    "type": "execution"
   },
   {
    "id": "c6b33a24edcd477f873053596b137003",
    "time": "2021-02-03T22:05:22.279Z",
    "type": "completion"
   },
   {
    "code": "ok.grade(\"q1_1\");",
    "id": "29cdf500a28e4b8d8b91d541e623586b",
    "idx": 9,
    "time": "2021-02-03T22:05:23.691Z",
    "type": "execution"
   },
   {
    "id": "29cdf500a28e4b8d8b91d541e623586b",
    "time": "2021-02-03T22:05:23.923Z",
    "type": "completion"
   },
   {
    "code": "book_title_words = make_array('Eats', 'Shoots', 'and Leaves')\nbook_title_words",
    "id": "b29441182f994080a2f5f3319d8ebf6f",
    "idx": 11,
    "time": "2021-02-03T22:05:48.480Z",
    "type": "execution"
   },
   {
    "id": "b29441182f994080a2f5f3319d8ebf6f",
    "time": "2021-02-03T22:05:49.095Z",
    "type": "completion"
   },
   {
    "code": "ok.grade(\"q1_2\");",
    "id": "cf83094b4e92492c8eab4ef32f8106e5",
    "idx": 12,
    "time": "2021-02-03T22:05:52.268Z",
    "type": "execution"
   },
   {
    "id": "cf83094b4e92492c8eab4ef32f8106e5",
    "time": "2021-02-03T22:05:53.798Z",
    "type": "completion"
   },
   {
    "code": "with_commas = book_title_words.join()\nwithout_commas = ...\n\n# These lines are provided just to print out your answers.\nprint('with_commas:', with_commas)\nprint('without_commas:', without_commas)",
    "id": "f38c8380f7564a1ab2230453a422ec1b",
    "idx": 14,
    "time": "2021-02-03T22:07:54.765Z",
    "type": "execution"
   },
   {
    "id": "f38c8380f7564a1ab2230453a422ec1b",
    "time": "2021-02-03T22:07:54.945Z",
    "type": "completion"
   },
   {
    "code": "with_commas = \"foo\".join(book_title_words)\nwithout_commas = ...\n\n# These lines are provided just to print out your answers.\nprint('with_commas:', with_commas)\nprint('without_commas:', without_commas)",
    "id": "f38c8380f7564a1ab2230453a422ec1b",
    "idx": 14,
    "time": "2021-02-03T22:08:10.616Z",
    "type": "execution"
   },
   {
    "id": "f38c8380f7564a1ab2230453a422ec1b",
    "time": "2021-02-03T22:08:11.764Z",
    "type": "completion"
   },
   {
    "code": "with_commas = \" \".join(book_title_words)\nwithout_commas = ...\n\n# These lines are provided just to print out your answers.\nprint('with_commas:', with_commas)\nprint('without_commas:', without_commas)",
    "id": "f38c8380f7564a1ab2230453a422ec1b",
    "idx": 14,
    "time": "2021-02-03T22:08:21.676Z",
    "type": "execution"
   },
   {
    "id": "f38c8380f7564a1ab2230453a422ec1b",
    "time": "2021-02-03T22:08:22.266Z",
    "type": "completion"
   },
   {
    "code": "with_commas = \", \".join(book_title_words)\nwithout_commas = \" \".join(book_title_words)\n\n# These lines are provided just to print out your answers.\nprint('with_commas:', with_commas)\nprint('without_commas:', without_commas)",
    "id": "f38c8380f7564a1ab2230453a422ec1b",
    "idx": 14,
    "time": "2021-02-03T22:08:52.843Z",
    "type": "execution"
   },
   {
    "id": "f38c8380f7564a1ab2230453a422ec1b",
    "time": "2021-02-03T22:08:54.373Z",
    "type": "completion"
   },
   {
    "code": "ok.grade(\"q1_3\");",
    "id": "08325b2ab88b494eac3d9918e6732a85",
    "idx": 15,
    "time": "2021-02-03T22:08:56.872Z",
    "type": "execution"
   },
   {
    "id": "08325b2ab88b494eac3d9918e6732a85",
    "time": "2021-02-03T22:09:01.710Z",
    "type": "completion"
   },
   {
    "code": "some_numbers = make_array(-1, -3, -6, -10, -15)\n\nthird_element = some_numbers.item(3)\nthird_element",
    "id": "b4f2e6572e23436fa9317cd530c2031c",
    "idx": 19,
    "time": "2021-02-03T22:10:18.609Z",
    "type": "execution"
   },
   {
    "id": "b4f2e6572e23436fa9317cd530c2031c",
    "time": "2021-02-03T22:10:18.677Z",
    "type": "completion"
   },
   {
    "code": "ok.grade(\"q2_1\");",
    "id": "e7fd9a15ef2945f88020d7b4751fa07d",
    "idx": 20,
    "time": "2021-02-03T22:10:22.135Z",
    "type": "execution"
   },
   {
    "id": "e7fd9a15ef2945f88020d7b4751fa07d",
    "time": "2021-02-03T22:10:23.002Z",
    "type": "completion"
   },
   {
    "code": "some_numbers = make_array(-1, -3, -6, -10, -15)\n\nthird_element = some_numbers.item(2)\nthird_element",
    "id": "b4f2e6572e23436fa9317cd530c2031c",
    "idx": 19,
    "time": "2021-02-03T22:10:30.880Z",
    "type": "execution"
   },
   {
    "id": "b4f2e6572e23436fa9317cd530c2031c",
    "time": "2021-02-03T22:10:31.000Z",
    "type": "completion"
   },
   {
    "code": "ok.grade(\"q2_1\");",
    "id": "e7fd9a15ef2945f88020d7b4751fa07d",
    "idx": 20,
    "time": "2021-02-03T22:10:31.917Z",
    "type": "execution"
   },
   {
    "id": "e7fd9a15ef2945f88020d7b4751fa07d",
    "time": "2021-02-03T22:10:32.403Z",
    "type": "completion"
   },
   {
    "code": "blank_a = ...\nblank_b = ...\nblank_c = ...\nblank_d = ...\nelements_of_some_numbers = Table().with_columns(\n    \"English name for position\", make_array(\"first\", \"second\", blank_a, blank_b, \"fifth\"),\n    \"Index\",                     make_array(blank_c, 1, 2, blank_d, 4),\n    \"Element\",                   some_numbers)\nelements_of_some_numbers",
    "id": "8b87a06af9ad46ad8191e5621bc3b538",
    "idx": 22,
    "time": "2021-02-03T22:10:46.505Z",
    "type": "execution"
   },
   {
    "id": "8b87a06af9ad46ad8191e5621bc3b538",
    "time": "2021-02-03T22:10:46.651Z",
    "type": "completion"
   },
   {
    "code": "blank_a = \"third\"\nblank_b = \"fourth\"\nblank_c = 0\nblank_d = 3\nelements_of_some_numbers = Table().with_columns(\n    \"English name for position\", make_array(\"first\", \"second\", blank_a, blank_b, \"fifth\"),\n    \"Index\",                     make_array(blank_c, 1, 2, blank_d, 4),\n    \"Element\",                   some_numbers)\nelements_of_some_numbers",
    "id": "8b87a06af9ad46ad8191e5621bc3b538",
    "idx": 22,
    "time": "2021-02-03T22:18:31.383Z",
    "type": "execution"
   },
   {
    "id": "8b87a06af9ad46ad8191e5621bc3b538",
    "time": "2021-02-03T22:18:31.815Z",
    "type": "completion"
   },
   {
    "code": "ok.grade(\"q2_2\");",
    "id": "86ca179e592447de9d60b8cf611b85b5",
    "idx": 23,
    "time": "2021-02-03T22:18:34.165Z",
    "type": "execution"
   },
   {
    "id": "86ca179e592447de9d60b8cf611b85b5",
    "time": "2021-02-03T22:18:36.422Z",
    "type": "completion"
   },
   {
    "code": "index_of_last_element = 141",
    "id": "1cfaf0769231489e960c6d2aef9edb81",
    "idx": 25,
    "time": "2021-02-03T22:18:57.485Z",
    "type": "execution"
   },
   {
    "id": "1cfaf0769231489e960c6d2aef9edb81",
    "time": "2021-02-03T22:18:57.552Z",
    "type": "completion"
   },
   {
    "code": "ok.grade(\"q2_3\");",
    "id": "cbc883b3034f40d8896a6985fda7065c",
    "idx": 26,
    "time": "2021-02-03T22:18:58.318Z",
    "type": "execution"
   },
   {
    "id": "cbc883b3034f40d8896a6985fda7065c",
    "time": "2021-02-03T22:18:59.771Z",
    "type": "completion"
   },
   {
    "code": "president_birth_years = Table.read_table(\"president_births.csv\").column('Birth Year')\n\nmost_recent_birth_year = len(president_birth_years)\nmost_recent_birth_year",
    "id": "5e818ebef9a64559a1591ac3dc0190e7",
    "idx": 28,
    "time": "2021-02-03T22:19:52.339Z",
    "type": "execution"
   },
   {
    "code": "ok.grade(\"q2_4\");",
    "id": "a26b8df5267642d68d7dcfd79c37c822",
    "idx": 29,
    "time": "2021-02-03T22:19:53.276Z",
    "type": "execution"
   },
   {
    "id": "5e818ebef9a64559a1591ac3dc0190e7",
    "time": "2021-02-03T22:19:53.561Z",
    "type": "completion"
   },
   {
    "id": "a26b8df5267642d68d7dcfd79c37c822",
    "time": "2021-02-03T22:20:03.764Z",
    "type": "completion"
   },
   {
    "code": "president_birth_years = Table.read_table(\"president_births.csv\").column('Birth Year')\n\nmost_recent_birth_year = president_birth_years.item(len(president_birth_years))\nmost_recent_birth_year",
    "id": "5e818ebef9a64559a1591ac3dc0190e7",
    "idx": 28,
    "time": "2021-02-03T22:26:21.571Z",
    "type": "execution"
   },
   {
    "id": "5e818ebef9a64559a1591ac3dc0190e7",
    "time": "2021-02-03T22:26:22.342Z",
    "type": "completion"
   },
   {
    "code": "president_birth_years = Table.read_table(\"president_births.csv\").column('Birth Year')\n\nmost_recent_birth_year = president_birth_years.item(len(president_birth_years)-1)\nmost_recent_birth_year",
    "id": "5e818ebef9a64559a1591ac3dc0190e7",
    "idx": 28,
    "time": "2021-02-03T22:26:31.228Z",
    "type": "execution"
   },
   {
    "id": "5e818ebef9a64559a1591ac3dc0190e7",
    "time": "2021-02-03T22:26:31.731Z",
    "type": "completion"
   },
   {
    "code": "ok.grade(\"q2_4\");",
    "id": "a26b8df5267642d68d7dcfd79c37c822",
    "idx": 29,
    "time": "2021-02-03T22:26:32.640Z",
    "type": "execution"
   },
   {
    "id": "a26b8df5267642d68d7dcfd79c37c822",
    "time": "2021-02-03T22:26:42.322Z",
    "type": "completion"
   },
   {
    "code": "sum_of_birth_years = president_birth_years.item(0) + president_birth_years.item(15) + most_recent_birth_year\nsum_of_birth_years",
    "id": "1b99ab326d76424581b57031343e3220",
    "idx": 31,
    "time": "2021-02-03T22:27:43.091Z",
    "type": "execution"
   },
   {
    "id": "1b99ab326d76424581b57031343e3220",
    "time": "2021-02-03T22:27:43.800Z",
    "type": "completion"
   },
   {
    "code": "ok.grade(\"q2_5\");",
    "id": "734a6ac8f3ab4db18426c9c1421f3d2e",
    "idx": 32,
    "time": "2021-02-03T22:27:44.852Z",
    "type": "execution"
   },
   {
    "id": "734a6ac8f3ab4db18426c9c1421f3d2e",
    "time": "2021-02-03T22:27:49.286Z",
    "type": "completion"
   },
   {
    "code": "first_product = 42 * 157\nsecond_product = -4224 * 157\nthird_product = 424224242 * 157\nfourth_product = 250 * 157\nprint(first_product, second_product, third_product, fourth_product)",
    "id": "4de14bc5c4304d6a8fb898207ce87cdb",
    "idx": 35,
    "time": "2021-02-03T22:28:51.407Z",
    "type": "execution"
   },
   {
    "code": "ok.grade(\"q3_1\");",
    "id": "08cdaf2154634f0ba26c5de6df66366a",
    "idx": 36,
    "time": "2021-02-03T22:28:52.427Z",
    "type": "execution"
   },
   {
    "id": "4de14bc5c4304d6a8fb898207ce87cdb",
    "time": "2021-02-03T22:28:56.539Z",
    "type": "completion"
   },
   {
    "id": "08cdaf2154634f0ba26c5de6df66366a",
    "time": "2021-02-03T22:28:59.706Z",
    "type": "completion"
   },
   {
    "code": "numbers = make_array(42, -4224, 424224242, 250)\nproducts = numbers * 157\nproducts",
    "id": "1a651f2f8fba4a0e92752f53e05677af",
    "idx": 38,
    "time": "2021-02-03T22:29:49.144Z",
    "type": "execution"
   },
   {
    "id": "1a651f2f8fba4a0e92752f53e05677af",
    "time": "2021-02-03T22:29:50.215Z",
    "type": "completion"
   },
   {
    "code": "ok.grade(\"q3_2\");",
    "id": "df207155ba494b0395b10d226c6d8352",
    "idx": 39,
    "time": "2021-02-03T22:29:50.243Z",
    "type": "execution"
   },
   {
    "id": "df207155ba494b0395b10d226c6d8352",
    "time": "2021-02-03T22:29:52.370Z",
    "type": "completion"
   },
   {
    "code": "correct_products = numbers * 1577\ncorrect_products",
    "id": "cbf62827631d488381dec1b879ca4794",
    "idx": 41,
    "time": "2021-02-03T22:30:18.263Z",
    "type": "execution"
   },
   {
    "id": "cbf62827631d488381dec1b879ca4794",
    "time": "2021-02-03T22:30:18.681Z",
    "type": "completion"
   },
   {
    "code": "ok.grade(\"q3_3\");",
    "id": "01930d620926428d8726ff7515bb8d05",
    "idx": 42,
    "time": "2021-02-03T22:30:19.866Z",
    "type": "execution"
   },
   {
    "id": "01930d620926428d8726ff7515bb8d05",
    "time": "2021-02-03T22:30:39.302Z",
    "type": "completion"
   },
   {
    "code": "max_temperatures = Table.read_table(\"temperatures.csv\").column(\"Daily Max Temperature\")\n\ncelsius_max_temperatures = np.round((max_temperatures - 32) * 5/9)\ncelsius_max_temperatures",
    "id": "5e228f84be9247098e2dc89c330b3478",
    "idx": 44,
    "time": "2021-02-03T22:41:57.462Z",
    "type": "execution"
   },
   {
    "id": "5e228f84be9247098e2dc89c330b3478",
    "time": "2021-02-03T22:41:57.780Z",
    "type": "completion"
   },
   {
    "code": "ok.grade(\"q3_4\");",
    "id": "ef15743af19f4a6c93f5c2f5fb02c57d",
    "idx": 45,
    "time": "2021-02-03T22:41:58.913Z",
    "type": "execution"
   },
   {
    "id": "ef15743af19f4a6c93f5c2f5fb02c57d",
    "time": "2021-02-03T22:41:59.768Z",
    "type": "completion"
   },
   {
    "code": "min_temperatures = Table.read_table(\"temperatures.csv\").column(\"Daily Min Temperature\")\n\ncelsius_temperature_ranges = ((max_temperatures - min_temperatures) - 32) * 5/9\ncelsius_temperature_ranges",
    "id": "2f8bd51ed97b40f4b93ceed3b3804afa",
    "idx": 47,
    "time": "2021-02-03T22:58:22.599Z",
    "type": "execution"
   },
   {
    "id": "2f8bd51ed97b40f4b93ceed3b3804afa",
    "time": "2021-02-03T22:58:22.750Z",
    "type": "completion"
   },
   {
    "code": "ok.grade(\"q3_5\");",
    "id": "472338214044459882fa30cb6ab48d57",
    "idx": 48,
    "time": "2021-02-03T22:58:23.794Z",
    "type": "execution"
   },
   {
    "id": "472338214044459882fa30cb6ab48d57",
    "time": "2021-02-03T22:58:24.026Z",
    "type": "completion"
   },
   {
    "code": "min_temperatures = Table.read_table(\"temperatures.csv\").column(\"Daily Min Temperature\")\n\ncelsius_temperature_ranges = ((max_temperatures -32) * 5/9) - ((min_temperatures -32) * 5/9)\ncelsius_temperature_ranges",
    "id": "2f8bd51ed97b40f4b93ceed3b3804afa",
    "idx": 47,
    "time": "2021-02-03T22:58:55.325Z",
    "type": "execution"
   },
   {
    "id": "2f8bd51ed97b40f4b93ceed3b3804afa",
    "time": "2021-02-03T22:58:55.977Z",
    "type": "completion"
   },
   {
    "code": "ok.grade(\"q3_5\");",
    "id": "472338214044459882fa30cb6ab48d57",
    "idx": 48,
    "time": "2021-02-03T22:58:56.382Z",
    "type": "execution"
   },
   {
    "id": "472338214044459882fa30cb6ab48d57",
    "time": "2021-02-03T22:58:56.825Z",
    "type": "completion"
   },
   {
    "code": "world = Table.read_table(\"world_population.csv\").select('Year', 'Population')\nworld.show(4)",
    "id": "db51a7b7bcc8442f85956808829dd037",
    "idx": 52,
    "time": "2021-02-03T22:59:11.063Z",
    "type": "execution"
   },
   {
    "id": "db51a7b7bcc8442f85956808829dd037",
    "time": "2021-02-03T22:59:11.894Z",
    "type": "completion"
   },
   {
    "code": "population = world.column(1)\npopulation",
    "id": "58c4a2350b784d558525a8f7bf0bb82f",
    "idx": 54,
    "time": "2021-02-03T22:59:20.870Z",
    "type": "execution"
   },
   {
    "id": "58c4a2350b784d558525a8f7bf0bb82f",
    "time": "2021-02-03T22:59:21.056Z",
    "type": "completion"
   },
   {
    "code": "largest_population_change = max(np.diff(population))\nlargest_population_change",
    "id": "51a7d4a30acb401b89a015f0ba854f57",
    "idx": 59,
    "time": "2021-02-03T23:10:14.379Z",
    "type": "execution"
   },
   {
    "code": "ok.grade(\"q4_1\");",
    "id": "deb3eaa579b042aca3106adb947a6acb",
    "idx": 60,
    "time": "2021-02-03T23:10:15.397Z",
    "type": "execution"
   },
   {
    "id": "51a7d4a30acb401b89a015f0ba854f57",
    "time": "2021-02-03T23:10:15.698Z",
    "type": "completion"
   },
   {
    "id": "deb3eaa579b042aca3106adb947a6acb",
    "time": "2021-02-03T23:10:17.583Z",
    "type": "completion"
   },
   {
    "code": "largest_population_change = np.max(np.diff(population))\nlargest_population_change",
    "id": "51a7d4a30acb401b89a015f0ba854f57",
    "idx": 59,
    "time": "2021-02-03T23:12:20.686Z",
    "type": "execution"
   },
   {
    "id": "51a7d4a30acb401b89a015f0ba854f57",
    "time": "2021-02-03T23:12:21.805Z",
    "type": "completion"
   },
   {
    "code": "np.cumsum(np.diff(population))",
    "id": "bb20128ffac448958d658b5a46127983",
    "idx": 62,
    "time": "2021-02-03T23:12:31.693Z",
    "type": "execution"
   },
   {
    "id": "bb20128ffac448958d658b5a46127983",
    "time": "2021-02-03T23:12:32.408Z",
    "type": "completion"
   },
   {
    "code": "# Assign cumulative_sum_answer to 1, 2, or 3\ncumulative_sum_answer = 2",
    "id": "78c79d205b73475088e503e75b8f115a",
    "idx": 64,
    "time": "2021-02-03T23:25:05.900Z",
    "type": "execution"
   },
   {
    "id": "78c79d205b73475088e503e75b8f115a",
    "time": "2021-02-03T23:25:06.280Z",
    "type": "completion"
   },
   {
    "code": "ok.grade(\"q4_2\");",
    "id": "ca159f7bfa914e3992eca096267a90a8",
    "idx": 65,
    "time": "2021-02-03T23:25:07.036Z",
    "type": "execution"
   },
   {
    "id": "ca159f7bfa914e3992eca096267a90a8",
    "time": "2021-02-03T23:25:07.716Z",
    "type": "completion"
   },
   {
    "code": "waiting_times = Table.read_table('old_faithful.csv').column('waiting')\n\nshortest = min(waiting_times)\nlongest = max(waiting_times)\naverage = np.average(waiting_times)\n\nprint(\"Old Faithful erupts every\", shortest, \"to\", longest, \"minutes and every\", average, \"minutes on average.\")",
    "id": "b73cb2e04c4b40ae96041d470fa7e0e6",
    "idx": 69,
    "time": "2021-02-03T23:26:38.785Z",
    "type": "execution"
   },
   {
    "id": "b73cb2e04c4b40ae96041d470fa7e0e6",
    "time": "2021-02-03T23:26:39.261Z",
    "type": "completion"
   },
   {
    "code": "ok.grade(\"q5_1\");",
    "id": "d8867a5413d146ed903abdb11515fe6e",
    "idx": 70,
    "time": "2021-02-03T23:26:40.586Z",
    "type": "execution"
   },
   {
    "id": "d8867a5413d146ed903abdb11515fe6e",
    "time": "2021-02-03T23:26:40.771Z",
    "type": "completion"
   },
   {
    "code": "biggest_decrease = max(np.diff(waiting_time))\nbiggest_decrease",
    "id": "7a35255d57de458387d8eced80454673",
    "idx": 72,
    "time": "2021-02-04T00:47:28.863Z",
    "type": "execution"
   },
   {
    "code": "ok.grade(\"q5_2\");",
    "id": "049c91d6a9364edfbd73d4dd6050e9c0",
    "idx": 73,
    "time": "2021-02-04T00:47:29.582Z",
    "type": "execution"
   },
   {
    "id": "7a35255d57de458387d8eced80454673",
    "time": "2021-02-04T00:47:29.596Z",
    "type": "completion"
   },
   {
    "id": "049c91d6a9364edfbd73d4dd6050e9c0",
    "time": "2021-02-04T00:47:30.142Z",
    "type": "completion"
   },
   {
    "code": "waiting_times = Table.read_table('old_faithful.csv').column('waiting')\n\nshortest = min(waiting_times)\nlongest = max(waiting_times)\naverage = np.average(waiting_times)\n\nprint(\"Old Faithful erupts every\", shortest, \"to\", longest, \"minutes and every\", average, \"minutes on average.\")",
    "id": "0d6e5dc9490e49b186c129f7697f8a88",
    "idx": 69,
    "time": "2021-02-04T00:47:38.190Z",
    "type": "execution"
   },
   {
    "id": "0d6e5dc9490e49b186c129f7697f8a88",
    "time": "2021-02-04T00:47:38.368Z",
    "type": "completion"
   },
   {
    "code": "# For your convenience, you can run this cell to run all the tests at once!\nimport os\nprint(\"Running all tests...\")\n_ = [ok.grade(q[:-3]) for q in os.listdir(\"tests\") if q.startswith('q') and len(q) <= 10]\nprint(\"Finished running all tests.\")",
    "id": "86813ff7b12f4b31a60fc51139a1630a",
    "idx": 105,
    "time": "2021-02-04T00:47:45.113Z",
    "type": "execution"
   },
   {
    "code": "waiting_times = Table.read_table('old_faithful.csv').column('waiting')\n\nshortest = min(waiting_times)\nlongest = max(waiting_times)\naverage = np.average(waiting_times)\n\nprint(\"Old Faithful erupts every\", shortest, \"to\", longest, \"minutes and every\", average, \"minutes on average.\")",
    "id": "0d6e5dc9490e49b186c129f7697f8a88",
    "idx": 69,
    "time": "2021-02-04T00:47:55.988Z",
    "type": "execution"
   },
   {
    "id": "86813ff7b12f4b31a60fc51139a1630a",
    "time": "2021-02-04T00:47:56.120Z",
    "type": "completion"
   },
   {
    "code": "ok.grade(\"q5_1\");",
    "id": "d881eff30d764e64b1446c8179d322fb",
    "idx": 70,
    "time": "2021-02-04T00:47:57.244Z",
    "type": "execution"
   },
   {
    "id": "0d6e5dc9490e49b186c129f7697f8a88",
    "time": "2021-02-04T00:48:00.235Z",
    "type": "completion"
   },
   {
    "id": "d881eff30d764e64b1446c8179d322fb",
    "time": "2021-02-04T00:48:00.281Z",
    "type": "completion"
   },
   {
    "code": "# Initialize OK\nfrom client.api.notebook import Notebook\nok = Notebook('hw02.ok')",
    "id": "9e5d24c2b9e34093801e64f3c571016e",
    "idx": 0,
    "time": "2021-02-04T00:48:19.903Z",
    "type": "execution"
   },
   {
    "code": "# Don't change this cell; just run it. \n# When you log-in please hit return (not shift + return) after typing in your email\nimport numpy as np\nfrom datascience import *\nimport warnings\nwarnings.simplefilter('ignore', FutureWarning)\n\nfrom client.api.notebook import *\ndef new_save_notebook(self):\n    \"\"\" Saves the current notebook by\n        injecting JavaScript to save to .ipynb file.\n    \"\"\"\n    try:\n        from IPython.display import display, Javascript\n    except ImportError:\n        log.warning(\"Could not import IPython Display Function\")\n        print(\"Make sure to save your notebook before sending it to OK!\")\n        return\n\n    if self.mode == \"jupyter\":\n        display(Javascript('IPython.notebook.save_checkpoint();'))\n        display(Javascript('IPython.notebook.save_notebook();'))\n    elif self.mode == \"jupyterlab\":\n        display(Javascript('document.querySelector(\\'[data-command=\"docmanager:save\"]\\').click();'))   \n\n    print('Saving notebook...', end=' ')\n\n    ipynbs = [path for path in self.assignment.src\n              if os.path.splitext(path)[1] == '.ipynb']\n    # Wait for first .ipynb to save\n    if ipynbs:\n        if wait_for_save(ipynbs[0]):\n            print(\"Saved '{}'.\".format(ipynbs[0]))\n        else:\n            log.warning(\"Timed out waiting for IPython save\")\n            print(\"Could not automatically save \\'{}\\'\".format(ipynbs[0]))\n            print(\"Make sure your notebook\"\n                  \" is correctly named and saved before submitting to OK!\".format(ipynbs[0]))\n            return False                \n    else:\n        print(\"No valid file sources found\")\n    return True\n\ndef wait_for_save(filename, timeout=600):\n    \"\"\"Waits for FILENAME to update, waiting up to TIMEOUT seconds.\n    Returns True if a save was detected, and False otherwise.\n    \"\"\"\n    modification_time = os.path.getmtime(filename)\n    start_time = time.time()\n    while time.time() < start_time + timeout:\n        if (os.path.getmtime(filename) > modification_time and\n            os.path.getsize(filename) > 0):\n            return True\n        time.sleep(0.2)\n    print(\"\\nERROR!\\n YOUR SUBMISSION DID NOT GO THROUGH. PLEASE TRY AGAIN. IF THIS PROBLEM PERSISTS POST ON PIAZZA RIGHT AWAY.\\n ERROR!\" + \"\\n\" * 20)\n\n    return False\n\nNotebook.save_notebook = new_save_notebook\n\nok = Notebook('hw02.ok')\nok.auth(force=True) \n_ = ok.auth(inline=True)",
    "id": "616f4bd41e0243a48f7c0d49f0e3ab46",
    "idx": 2,
    "time": "2021-02-04T00:48:19.905Z",
    "type": "execution"
   },
   {
    "code": "_ = ok.submit()",
    "id": "f5d56bedce7d497399924a4598a40216",
    "idx": 5,
    "time": "2021-02-04T00:48:19.911Z",
    "type": "execution"
   },
   {
    "code": "# Our solution involved one extra line of code before creating\n# weird_numbers.\n...\nimport math\nweird_numbers = make_array(-2, math.sin(12), 3, 5**math.cos(12))\nweird_numbers",
    "id": "643ead39aff04bc78e2feb9e05eb73be",
    "idx": 8,
    "time": "2021-02-04T00:48:19.913Z",
    "type": "execution"
   },
   {
    "code": "ok.grade(\"q1_1\");",
    "id": "d7d7005a0d39403d9365dae99c8b9381",
    "idx": 9,
    "time": "2021-02-04T00:48:19.914Z",
    "type": "execution"
   },
   {
    "code": "book_title_words = make_array('Eats', 'Shoots', 'and Leaves')\nbook_title_words",
    "id": "54f28fdf32f24d2a8c79b5d0196e9a77",
    "idx": 11,
    "time": "2021-02-04T00:48:19.916Z",
    "type": "execution"
   },
   {
    "code": "ok.grade(\"q1_2\");",
    "id": "a80b3ec002d542ec811801f01deb2fd4",
    "idx": 12,
    "time": "2021-02-04T00:48:19.917Z",
    "type": "execution"
   },
   {
    "code": "with_commas = \", \".join(book_title_words)\nwithout_commas = \" \".join(book_title_words)\n\n# These lines are provided just to print out your answers.\nprint('with_commas:', with_commas)\nprint('without_commas:', without_commas)",
    "id": "6e5f87b5d2474cab94c859840a50772b",
    "idx": 14,
    "time": "2021-02-04T00:48:19.920Z",
    "type": "execution"
   },
   {
    "code": "ok.grade(\"q1_3\");",
    "id": "c25d7afe25c24b7a9048d0e8b4288505",
    "idx": 15,
    "time": "2021-02-04T00:48:19.921Z",
    "type": "execution"
   },
   {
    "code": "some_numbers = make_array(-1, -3, -6, -10, -15)\n\nthird_element = some_numbers.item(2)\nthird_element",
    "id": "2988ed44b4ac4eb8966fe35775e87f98",
    "idx": 19,
    "time": "2021-02-04T00:48:19.923Z",
    "type": "execution"
   },
   {
    "code": "ok.grade(\"q2_1\");",
    "id": "3cfb3ac20e1044379799a66c425a2ae8",
    "idx": 20,
    "time": "2021-02-04T00:48:19.924Z",
    "type": "execution"
   },
   {
    "code": "blank_a = \"third\"\nblank_b = \"fourth\"\nblank_c = 0\nblank_d = 3\nelements_of_some_numbers = Table().with_columns(\n    \"English name for position\", make_array(\"first\", \"second\", blank_a, blank_b, \"fifth\"),\n    \"Index\",                     make_array(blank_c, 1, 2, blank_d, 4),\n    \"Element\",                   some_numbers)\nelements_of_some_numbers",
    "id": "e5eca93c093549628fabaa6b73611179",
    "idx": 22,
    "time": "2021-02-04T00:48:19.926Z",
    "type": "execution"
   },
   {
    "code": "ok.grade(\"q2_2\");",
    "id": "1875a46701f5496abee4c5010f850af1",
    "idx": 23,
    "time": "2021-02-04T00:48:19.927Z",
    "type": "execution"
   },
   {
    "code": "index_of_last_element = 141",
    "id": "66f5cac2ebe5401e8a83b522b80f7ddf",
    "idx": 25,
    "time": "2021-02-04T00:48:19.928Z",
    "type": "execution"
   },
   {
    "code": "ok.grade(\"q2_3\");",
    "id": "9d7b9c9cd69f4e0f8490226c44041e40",
    "idx": 26,
    "time": "2021-02-04T00:48:19.929Z",
    "type": "execution"
   },
   {
    "code": "president_birth_years = Table.read_table(\"president_births.csv\").column('Birth Year')\n\nmost_recent_birth_year = president_birth_years.item(len(president_birth_years)-1)\nmost_recent_birth_year",
    "id": "08d987d0657849f9a98d6e8569207983",
    "idx": 28,
    "time": "2021-02-04T00:48:19.931Z",
    "type": "execution"
   },
   {
    "code": "ok.grade(\"q2_4\");",
    "id": "030bfe76402a4f75b2614fbe90f41f2b",
    "idx": 29,
    "time": "2021-02-04T00:48:19.932Z",
    "type": "execution"
   },
   {
    "code": "sum_of_birth_years = president_birth_years.item(0) + president_birth_years.item(15) + most_recent_birth_year\nsum_of_birth_years",
    "id": "5bfd905f52b344788deef74868436742",
    "idx": 31,
    "time": "2021-02-04T00:48:19.934Z",
    "type": "execution"
   },
   {
    "code": "ok.grade(\"q2_5\");",
    "id": "c3753985a5b544158f4593210173f49b",
    "idx": 32,
    "time": "2021-02-04T00:48:19.935Z",
    "type": "execution"
   },
   {
    "code": "first_product = 42 * 157\nsecond_product = -4224 * 157\nthird_product = 424224242 * 157\nfourth_product = 250 * 157\nprint(first_product, second_product, third_product, fourth_product)",
    "id": "eac39cee23ef4800a1f43e493dd540ef",
    "idx": 35,
    "time": "2021-02-04T00:48:19.936Z",
    "type": "execution"
   },
   {
    "code": "ok.grade(\"q3_1\");",
    "id": "479537051d7246899c8a4630dfa0041d",
    "idx": 36,
    "time": "2021-02-04T00:48:19.937Z",
    "type": "execution"
   },
   {
    "code": "numbers = make_array(42, -4224, 424224242, 250)\nproducts = numbers * 157\nproducts",
    "id": "a549f6d11a9949ef8611f63cdacc24b8",
    "idx": 38,
    "time": "2021-02-04T00:48:19.939Z",
    "type": "execution"
   },
   {
    "code": "ok.grade(\"q3_2\");",
    "id": "7eedf9a0d0c14122a1e257c909edf1ea",
    "idx": 39,
    "time": "2021-02-04T00:48:19.940Z",
    "type": "execution"
   },
   {
    "code": "correct_products = numbers * 1577\ncorrect_products",
    "id": "dcc856837cdd4b018feee44f3ef3c407",
    "idx": 41,
    "time": "2021-02-04T00:48:19.941Z",
    "type": "execution"
   },
   {
    "code": "ok.grade(\"q3_3\");",
    "id": "4b52f58967fe41188ce239d4bbf261c2",
    "idx": 42,
    "time": "2021-02-04T00:48:19.942Z",
    "type": "execution"
   },
   {
    "code": "max_temperatures = Table.read_table(\"temperatures.csv\").column(\"Daily Max Temperature\")\n\ncelsius_max_temperatures = np.round((max_temperatures - 32) * 5/9)\ncelsius_max_temperatures",
    "id": "b592bce8797842c5889fcafb70bdc8e7",
    "idx": 44,
    "time": "2021-02-04T00:48:19.944Z",
    "type": "execution"
   },
   {
    "code": "ok.grade(\"q3_4\");",
    "id": "22882e7e19744eae91db90ba526eb267",
    "idx": 45,
    "time": "2021-02-04T00:48:19.946Z",
    "type": "execution"
   },
   {
    "code": "min_temperatures = Table.read_table(\"temperatures.csv\").column(\"Daily Min Temperature\")\n\ncelsius_temperature_ranges = ((max_temperatures -32) * 5/9) - ((min_temperatures -32) * 5/9)\ncelsius_temperature_ranges",
    "id": "3767129c9170424585bcab3219ee2fb6",
    "idx": 47,
    "time": "2021-02-04T00:48:19.951Z",
    "type": "execution"
   },
   {
    "code": "ok.grade(\"q3_5\");",
    "id": "665795993f10403d8a264492f339f040",
    "idx": 48,
    "time": "2021-02-04T00:48:19.953Z",
    "type": "execution"
   },
   {
    "code": "world = Table.read_table(\"world_population.csv\").select('Year', 'Population')\nworld.show(4)",
    "id": "19c4155b65ad41138b7126120a44786d",
    "idx": 52,
    "time": "2021-02-04T00:48:19.955Z",
    "type": "execution"
   },
   {
    "code": "population = world.column(1)\npopulation",
    "id": "84c812b9ece24eef8ceb959f6aeeb29f",
    "idx": 54,
    "time": "2021-02-04T00:48:19.957Z",
    "type": "execution"
   },
   {
    "code": "largest_population_change = np.max(np.diff(population))\nlargest_population_change",
    "id": "0baeefa23c6b4353a6d469d37c2050d6",
    "idx": 59,
    "time": "2021-02-04T00:48:19.959Z",
    "type": "execution"
   },
   {
    "code": "ok.grade(\"q4_1\");",
    "id": "2ce49adbeaf3440195a4c210a0e6b0fc",
    "idx": 60,
    "time": "2021-02-04T00:48:19.960Z",
    "type": "execution"
   },
   {
    "code": "np.cumsum(np.diff(population))",
    "id": "6c06b0b3e99347748c1ed47d788f90be",
    "idx": 62,
    "time": "2021-02-04T00:48:19.961Z",
    "type": "execution"
   },
   {
    "code": "# Assign cumulative_sum_answer to 1, 2, or 3\ncumulative_sum_answer = 2",
    "id": "ea2ab6baf459421cbfd27a0527bfa21a",
    "idx": 64,
    "time": "2021-02-04T00:48:19.963Z",
    "type": "execution"
   },
   {
    "code": "ok.grade(\"q4_2\");",
    "id": "db3b63982df7408f9f2dba0486d83b91",
    "idx": 65,
    "time": "2021-02-04T00:48:19.964Z",
    "type": "execution"
   },
   {
    "code": "waiting_times = Table.read_table('old_faithful.csv').column('waiting')\n\nshortest = min(waiting_times)\nlongest = max(waiting_times)\naverage = np.average(waiting_times)\n\nprint(\"Old Faithful erupts every\", shortest, \"to\", longest, \"minutes and every\", average, \"minutes on average.\")",
    "id": "0d6e5dc9490e49b186c129f7697f8a88",
    "idx": 69,
    "time": "2021-02-04T00:48:19.966Z",
    "type": "execution"
   },
   {
    "code": "ok.grade(\"q5_1\");",
    "id": "d881eff30d764e64b1446c8179d322fb",
    "idx": 70,
    "time": "2021-02-04T00:48:19.967Z",
    "type": "execution"
   },
   {
    "code": "biggest_decrease = max(np.diff(waiting_time))\nbiggest_decrease",
    "id": "7a35255d57de458387d8eced80454673",
    "idx": 72,
    "time": "2021-02-04T00:48:19.969Z",
    "type": "execution"
   },
   {
    "code": "ok.grade(\"q5_2\");",
    "id": "049c91d6a9364edfbd73d4dd6050e9c0",
    "idx": 73,
    "time": "2021-02-04T00:48:19.970Z",
    "type": "execution"
   },
   {
    "code": "difference_from_expected = ...\ndifference_from_expected",
    "id": "a65df1167dd0409c8ade088a7e460841",
    "idx": 75,
    "time": "2021-02-04T00:48:19.971Z",
    "type": "execution"
   },
   {
    "code": "ok.grade(\"q5_3\");",
    "id": "8e46a85aa3c645908803ad51aa92ea0e",
    "idx": 76,
    "time": "2021-02-04T00:48:19.972Z",
    "type": "execution"
   },
   {
    "code": "average_error = ...\naverage_error",
    "id": "da6ea80ffd75410888392fee1bcd7c31",
    "idx": 78,
    "time": "2021-02-04T00:48:19.973Z",
    "type": "execution"
   },
   {
    "code": "ok.grade(\"q5_4\");",
    "id": "bb05ef3902fd4c8d855a1cef5adebd7e",
    "idx": 79,
    "time": "2021-02-04T00:48:19.974Z",
    "type": "execution"
   },
   {
    "code": "# Our solution uses 1 statement split over 3 lines.\nfruits = ...\n        ...\n        ...\nfruits",
    "id": "e758b068bbae445a8ae1307e60856d9c",
    "idx": 82,
    "time": "2021-02-04T00:48:19.976Z",
    "type": "execution"
   },
   {
    "code": "ok.grade(\"q6_1\");",
    "id": "c26f1da1ecb4476881e412a8bfcae731",
    "idx": 83,
    "time": "2021-02-04T00:48:19.977Z",
    "type": "execution"
   },
   {
    "code": "inventory = ...\ninventory",
    "id": "2093e46e964c4da29fa7b28dcd2d4f13",
    "idx": 85,
    "time": "2021-02-04T00:48:19.978Z",
    "type": "execution"
   },
   {
    "code": "ok.grade(\"q6_2\");",
    "id": "bbbfcd0987d74545a15ae92aa48f0f9d",
    "idx": 86,
    "time": "2021-02-04T00:48:19.979Z",
    "type": "execution"
   },
   {
    "code": "all_different = ...\nall_different",
    "id": "b99f5ecc550d498b84506509db82acdd",
    "idx": 88,
    "time": "2021-02-04T00:48:19.980Z",
    "type": "execution"
   },
   {
    "code": "ok.grade(\"q6_3\");",
    "id": "e9e73daffd7e4adb8fac88b3d8c89c06",
    "idx": 89,
    "time": "2021-02-04T00:48:19.981Z",
    "type": "execution"
   },
   {
    "code": "sales = ...\nsales",
    "id": "7a301855af9e48be8161d48ac1f23073",
    "idx": 91,
    "time": "2021-02-04T00:48:19.982Z",
    "type": "execution"
   },
   {
    "code": "ok.grade(\"q6_4\");",
    "id": "6df20e5fc6af426a894deb50b092db42",
    "idx": 92,
    "time": "2021-02-04T00:48:19.983Z",
    "type": "execution"
   },
   {
    "code": "total_fruits_sold = ...\ntotal_fruits_sold",
    "id": "b03919a3ef2c466c8de6d7acb89b2808",
    "idx": 94,
    "time": "2021-02-04T00:48:19.984Z",
    "type": "execution"
   },
   {
    "code": "ok.grade(\"q6_5\");",
    "id": "c78e06ec5f944b9991eee71360e753f6",
    "idx": 95,
    "time": "2021-02-04T00:48:19.985Z",
    "type": "execution"
   },
   {
    "code": "total_revenue = ...\ntotal_revenue",
    "id": "15b700ae4f2a42cd8ff5ad9d00dc6521",
    "idx": 97,
    "time": "2021-02-04T00:48:19.986Z",
    "type": "execution"
   },
   {
    "code": "ok.grade(\"q6_6\");",
    "id": "1cffb632e2a244ee8ac5884be1412838",
    "idx": 98,
    "time": "2021-02-04T00:48:19.987Z",
    "type": "execution"
   },
   {
    "code": "remaining_inventory = ...\n    ...\n    ...\n    ...\nremaining_inventory",
    "id": "1444f0a137d846348cb4dd7992581ea7",
    "idx": 100,
    "time": "2021-02-04T00:48:19.988Z",
    "type": "execution"
   },
   {
    "code": "ok.grade(\"q6_7\");",
    "id": "78b8b4095d804da3bcbedd914ebe4df1",
    "idx": 101,
    "time": "2021-02-04T00:48:19.990Z",
    "type": "execution"
   },
   {
    "code": "_ = ok.submit()",
    "id": "279c9a41cc504e70a44b311fbccfdcf3",
    "idx": 104,
    "time": "2021-02-04T00:48:19.997Z",
    "type": "execution"
   },
   {
    "code": "# For your convenience, you can run this cell to run all the tests at once!\nimport os\nprint(\"Running all tests...\")\n_ = [ok.grade(q[:-3]) for q in os.listdir(\"tests\") if q.startswith('q') and len(q) <= 10]\nprint(\"Finished running all tests.\")",
    "id": "86813ff7b12f4b31a60fc51139a1630a",
    "idx": 105,
    "time": "2021-02-04T00:48:19.998Z",
    "type": "execution"
   },
   {
    "id": "9e5d24c2b9e34093801e64f3c571016e",
    "time": "2021-02-04T00:48:23.913Z",
    "type": "completion"
   },
   {
    "code": "waiting_times = Table.read_table('old_faithful.csv').column('waiting')\n\nshortest = min(waiting_times)\nlongest = max(waiting_times)\naverage = np.average(waiting_times)\n\nprint(\"Old Faithful erupts every\", shortest, \"to\", longest, \"minutes and every\", average, \"minutes on average.\")",
    "id": "0d6e5dc9490e49b186c129f7697f8a88",
    "idx": 69,
    "time": "2021-02-04T00:48:44.348Z",
    "type": "execution"
   },
   {
    "code": "ok.grade(\"q5_1\");",
    "id": "d881eff30d764e64b1446c8179d322fb",
    "idx": 70,
    "time": "2021-02-04T00:48:47.244Z",
    "type": "execution"
   },
   {
    "code": "waiting_times = Table.read_table('old_faithful.csv').column('waiting')\n\nshortest = min(waiting_times)\nlongest = max(waiting_times)\naverage = np.average(waiting_times)\n\nprint(\"Old Faithful erupts every\", shortest, \"to\", longest, \"minutes and every\", average, \"minutes on average.\")",
    "id": "0d6e5dc9490e49b186c129f7697f8a88",
    "idx": 69,
    "time": "2021-02-04T00:48:59.077Z",
    "type": "execution"
   },
   {
    "code": "ok.grade(\"q5_1\");",
    "id": "d881eff30d764e64b1446c8179d322fb",
    "idx": 70,
    "time": "2021-02-04T00:48:59.959Z",
    "type": "execution"
   },
   {
    "id": "616f4bd41e0243a48f7c0d49f0e3ab46",
    "time": "2021-02-04T00:49:10.624Z",
    "type": "completion"
   },
   {
    "id": "f5d56bedce7d497399924a4598a40216",
    "time": "2021-02-04T00:49:10.634Z",
    "type": "completion"
   },
   {
    "id": "643ead39aff04bc78e2feb9e05eb73be",
    "time": "2021-02-04T00:49:10.674Z",
    "type": "completion"
   },
   {
    "id": "d7d7005a0d39403d9365dae99c8b9381",
    "time": "2021-02-04T00:49:10.685Z",
    "type": "completion"
   },
   {
    "id": "54f28fdf32f24d2a8c79b5d0196e9a77",
    "time": "2021-02-04T00:49:10.735Z",
    "type": "completion"
   },
   {
    "id": "a80b3ec002d542ec811801f01deb2fd4",
    "time": "2021-02-04T00:49:10.747Z",
    "type": "completion"
   },
   {
    "id": "6e5f87b5d2474cab94c859840a50772b",
    "time": "2021-02-04T00:49:10.749Z",
    "type": "completion"
   },
   {
    "id": "c25d7afe25c24b7a9048d0e8b4288505",
    "time": "2021-02-04T00:49:10.813Z",
    "type": "completion"
   },
   {
    "id": "2988ed44b4ac4eb8966fe35775e87f98",
    "time": "2021-02-04T00:49:10.817Z",
    "type": "completion"
   },
   {
    "id": "3cfb3ac20e1044379799a66c425a2ae8",
    "time": "2021-02-04T00:49:10.865Z",
    "type": "completion"
   },
   {
    "id": "e5eca93c093549628fabaa6b73611179",
    "time": "2021-02-04T00:49:10.914Z",
    "type": "completion"
   },
   {
    "id": "1875a46701f5496abee4c5010f850af1",
    "time": "2021-02-04T00:49:10.918Z",
    "type": "completion"
   },
   {
    "id": "66f5cac2ebe5401e8a83b522b80f7ddf",
    "time": "2021-02-04T00:49:10.928Z",
    "type": "completion"
   },
   {
    "id": "9d7b9c9cd69f4e0f8490226c44041e40",
    "time": "2021-02-04T00:49:10.964Z",
    "type": "completion"
   },
   {
    "id": "08d987d0657849f9a98d6e8569207983",
    "time": "2021-02-04T00:49:10.967Z",
    "type": "completion"
   },
   {
    "id": "030bfe76402a4f75b2614fbe90f41f2b",
    "time": "2021-02-04T00:49:10.970Z",
    "type": "completion"
   },
   {
    "id": "5bfd905f52b344788deef74868436742",
    "time": "2021-02-04T00:49:11.284Z",
    "type": "completion"
   },
   {
    "id": "c3753985a5b544158f4593210173f49b",
    "time": "2021-02-04T00:49:11.287Z",
    "type": "completion"
   },
   {
    "id": "eac39cee23ef4800a1f43e493dd540ef",
    "time": "2021-02-04T00:49:11.290Z",
    "type": "completion"
   },
   {
    "id": "479537051d7246899c8a4630dfa0041d",
    "time": "2021-02-04T00:49:11.332Z",
    "type": "completion"
   },
   {
    "id": "a549f6d11a9949ef8611f63cdacc24b8",
    "time": "2021-02-04T00:49:11.336Z",
    "type": "completion"
   },
   {
    "id": "7eedf9a0d0c14122a1e257c909edf1ea",
    "time": "2021-02-04T00:49:11.388Z",
    "type": "completion"
   },
   {
    "id": "dcc856837cdd4b018feee44f3ef3c407",
    "time": "2021-02-04T00:49:11.723Z",
    "type": "completion"
   },
   {
    "id": "4b52f58967fe41188ce239d4bbf261c2",
    "time": "2021-02-04T00:49:11.738Z",
    "type": "completion"
   },
   {
    "id": "b592bce8797842c5889fcafb70bdc8e7",
    "time": "2021-02-04T00:49:11.739Z",
    "type": "completion"
   },
   {
    "id": "22882e7e19744eae91db90ba526eb267",
    "time": "2021-02-04T00:49:11.790Z",
    "type": "completion"
   },
   {
    "id": "3767129c9170424585bcab3219ee2fb6",
    "time": "2021-02-04T00:49:11.795Z",
    "type": "completion"
   },
   {
    "id": "665795993f10403d8a264492f339f040",
    "time": "2021-02-04T00:49:11.847Z",
    "type": "completion"
   },
   {
    "id": "19c4155b65ad41138b7126120a44786d",
    "time": "2021-02-04T00:49:11.848Z",
    "type": "completion"
   },
   {
    "id": "84c812b9ece24eef8ceb959f6aeeb29f",
    "time": "2021-02-04T00:49:11.902Z",
    "type": "completion"
   },
   {
    "id": "0baeefa23c6b4353a6d469d37c2050d6",
    "time": "2021-02-04T00:49:11.903Z",
    "type": "completion"
   },
   {
    "id": "2ce49adbeaf3440195a4c210a0e6b0fc",
    "time": "2021-02-04T00:49:11.903Z",
    "type": "completion"
   },
   {
    "id": "6c06b0b3e99347748c1ed47d788f90be",
    "time": "2021-02-04T00:49:11.948Z",
    "type": "completion"
   },
   {
    "id": "ea2ab6baf459421cbfd27a0527bfa21a",
    "time": "2021-02-04T00:49:11.952Z",
    "type": "completion"
   },
   {
    "id": "db3b63982df7408f9f2dba0486d83b91",
    "time": "2021-02-04T00:49:11.953Z",
    "type": "completion"
   },
   {
    "code": "waiting_times = Table.read_table('old_faithful.csv').column('waiting')\n\nshortest = min(waiting_times)\nlongest = max(waiting_times)\naverage = np.average(waiting_times)\n\nprint(\"Old Faithful erupts every\", shortest, \"to\", longest, \"minutes and every\", average, \"minutes on average.\")",
    "id": "0d6e5dc9490e49b186c129f7697f8a88",
    "idx": 69,
    "time": "2021-02-04T00:49:12.219Z",
    "type": "execution"
   },
   {
    "id": "7a35255d57de458387d8eced80454673",
    "time": "2021-02-04T00:49:12.250Z",
    "type": "completion"
   },
   {
    "id": "049c91d6a9364edfbd73d4dd6050e9c0",
    "time": "2021-02-04T00:49:12.250Z",
    "type": "completion"
   },
   {
    "id": "a65df1167dd0409c8ade088a7e460841",
    "time": "2021-02-04T00:49:12.250Z",
    "type": "completion"
   },
   {
    "id": "8e46a85aa3c645908803ad51aa92ea0e",
    "time": "2021-02-04T00:49:12.250Z",
    "type": "completion"
   },
   {
    "id": "da6ea80ffd75410888392fee1bcd7c31",
    "time": "2021-02-04T00:49:12.251Z",
    "type": "completion"
   },
   {
    "id": "bb05ef3902fd4c8d855a1cef5adebd7e",
    "time": "2021-02-04T00:49:12.251Z",
    "type": "completion"
   },
   {
    "id": "e758b068bbae445a8ae1307e60856d9c",
    "time": "2021-02-04T00:49:12.284Z",
    "type": "completion"
   },
   {
    "id": "c26f1da1ecb4476881e412a8bfcae731",
    "time": "2021-02-04T00:49:12.284Z",
    "type": "completion"
   },
   {
    "id": "2093e46e964c4da29fa7b28dcd2d4f13",
    "time": "2021-02-04T00:49:12.288Z",
    "type": "completion"
   },
   {
    "id": "bbbfcd0987d74545a15ae92aa48f0f9d",
    "time": "2021-02-04T00:49:12.288Z",
    "type": "completion"
   },
   {
    "id": "b99f5ecc550d498b84506509db82acdd",
    "time": "2021-02-04T00:49:12.289Z",
    "type": "completion"
   },
   {
    "id": "e9e73daffd7e4adb8fac88b3d8c89c06",
    "time": "2021-02-04T00:49:12.353Z",
    "type": "completion"
   },
   {
    "id": "7a301855af9e48be8161d48ac1f23073",
    "time": "2021-02-04T00:49:12.354Z",
    "type": "completion"
   },
   {
    "id": "6df20e5fc6af426a894deb50b092db42",
    "time": "2021-02-04T00:49:12.355Z",
    "type": "completion"
   },
   {
    "id": "b03919a3ef2c466c8de6d7acb89b2808",
    "time": "2021-02-04T00:49:12.355Z",
    "type": "completion"
   },
   {
    "id": "c78e06ec5f944b9991eee71360e753f6",
    "time": "2021-02-04T00:49:12.356Z",
    "type": "completion"
   },
   {
    "id": "15b700ae4f2a42cd8ff5ad9d00dc6521",
    "time": "2021-02-04T00:49:12.406Z",
    "type": "completion"
   },
   {
    "id": "1cffb632e2a244ee8ac5884be1412838",
    "time": "2021-02-04T00:49:12.407Z",
    "type": "completion"
   },
   {
    "id": "1444f0a137d846348cb4dd7992581ea7",
    "time": "2021-02-04T00:49:12.412Z",
    "type": "completion"
   },
   {
    "id": "78b8b4095d804da3bcbedd914ebe4df1",
    "time": "2021-02-04T00:49:12.413Z",
    "type": "completion"
   },
   {
    "id": "279c9a41cc504e70a44b311fbccfdcf3",
    "time": "2021-02-04T00:49:12.480Z",
    "type": "completion"
   },
   {
    "id": "86813ff7b12f4b31a60fc51139a1630a",
    "time": "2021-02-04T00:49:12.486Z",
    "type": "completion"
   },
   {
    "id": "d881eff30d764e64b1446c8179d322fb",
    "time": "2021-02-04T00:49:12.539Z",
    "type": "completion"
   },
   {
    "id": "d881eff30d764e64b1446c8179d322fb",
    "time": "2021-02-04T00:49:12.539Z",
    "type": "completion"
   },
   {
    "id": "d881eff30d764e64b1446c8179d322fb",
    "time": "2021-02-04T00:49:12.540Z",
    "type": "completion"
   },
   {
    "id": "0d6e5dc9490e49b186c129f7697f8a88",
    "time": "2021-02-04T00:49:12.652Z",
    "type": "completion"
   },
   {
    "id": "0d6e5dc9490e49b186c129f7697f8a88",
    "time": "2021-02-04T00:49:12.652Z",
    "type": "completion"
   },
   {
    "id": "0d6e5dc9490e49b186c129f7697f8a88",
    "time": "2021-02-04T00:49:12.652Z",
    "type": "completion"
   },
   {
    "id": "0d6e5dc9490e49b186c129f7697f8a88",
    "time": "2021-02-04T00:49:12.652Z",
    "type": "completion"
   },
   {
    "code": "ok.grade(\"q5_1\");",
    "id": "d881eff30d764e64b1446c8179d322fb",
    "idx": 70,
    "time": "2021-02-04T00:49:14.426Z",
    "type": "execution"
   },
   {
    "id": "d881eff30d764e64b1446c8179d322fb",
    "time": "2021-02-04T00:49:14.597Z",
    "type": "completion"
   },
   {
    "code": "biggest_decrease = max(np.diff(waiting_time))\nbiggest_decrease",
    "id": "7a35255d57de458387d8eced80454673",
    "idx": 72,
    "time": "2021-02-04T00:49:19.684Z",
    "type": "execution"
   },
   {
    "id": "7a35255d57de458387d8eced80454673",
    "time": "2021-02-04T00:49:20.326Z",
    "type": "completion"
   },
   {
    "code": "biggest_decrease = max(np.diff(waiting_times))\nbiggest_decrease",
    "id": "7a35255d57de458387d8eced80454673",
    "idx": 72,
    "time": "2021-02-04T00:49:37.673Z",
    "type": "execution"
   },
   {
    "id": "7a35255d57de458387d8eced80454673",
    "time": "2021-02-04T00:49:37.902Z",
    "type": "completion"
   },
   {
    "code": "ok.grade(\"q5_2\");",
    "id": "049c91d6a9364edfbd73d4dd6050e9c0",
    "idx": 73,
    "time": "2021-02-04T00:49:39.011Z",
    "type": "execution"
   },
   {
    "id": "049c91d6a9364edfbd73d4dd6050e9c0",
    "time": "2021-02-04T00:49:39.780Z",
    "type": "completion"
   },
   {
    "code": "biggest_decrease = min(np.diff(waiting_times))\nbiggest_decrease",
    "id": "7a35255d57de458387d8eced80454673",
    "idx": 72,
    "time": "2021-02-04T01:01:42.119Z",
    "type": "execution"
   },
   {
    "id": "7a35255d57de458387d8eced80454673",
    "time": "2021-02-04T01:01:42.183Z",
    "type": "completion"
   },
   {
    "code": "ok.grade(\"q5_2\");",
    "id": "049c91d6a9364edfbd73d4dd6050e9c0",
    "idx": 73,
    "time": "2021-02-04T01:01:47.828Z",
    "type": "execution"
   },
   {
    "id": "049c91d6a9364edfbd73d4dd6050e9c0",
    "time": "2021-02-04T01:01:48.177Z",
    "type": "completion"
   },
   {
    "code": "biggest_decrease = min(abs(np.diff(waiting_times))\nbiggest_decrease",
    "id": "7a35255d57de458387d8eced80454673",
    "idx": 72,
    "time": "2021-02-04T01:02:03.304Z",
    "type": "execution"
   },
   {
    "id": "7a35255d57de458387d8eced80454673",
    "time": "2021-02-04T01:02:03.368Z",
    "type": "completion"
   },
   {
    "code": "biggest_decrease = min(np.abs(np.diff(waiting_times)))\nbiggest_decrease",
    "id": "7a35255d57de458387d8eced80454673",
    "idx": 72,
    "time": "2021-02-04T01:02:34.569Z",
    "type": "execution"
   },
   {
    "id": "7a35255d57de458387d8eced80454673",
    "time": "2021-02-04T01:02:34.637Z",
    "type": "completion"
   },
   {
    "code": "ok.grade(\"q5_2\");",
    "id": "049c91d6a9364edfbd73d4dd6050e9c0",
    "idx": 73,
    "time": "2021-02-04T01:02:35.560Z",
    "type": "execution"
   },
   {
    "id": "049c91d6a9364edfbd73d4dd6050e9c0",
    "time": "2021-02-04T01:02:36.046Z",
    "type": "completion"
   },
   {
    "code": "biggest_decrease = max(np.abs(np.diff(waiting_times)))\nbiggest_decrease",
    "id": "7a35255d57de458387d8eced80454673",
    "idx": 72,
    "time": "2021-02-04T01:02:46.095Z",
    "type": "execution"
   },
   {
    "id": "7a35255d57de458387d8eced80454673",
    "time": "2021-02-04T01:02:46.165Z",
    "type": "completion"
   },
   {
    "code": "ok.grade(\"q5_2\");",
    "id": "049c91d6a9364edfbd73d4dd6050e9c0",
    "idx": 73,
    "time": "2021-02-04T01:02:47.822Z",
    "type": "execution"
   },
   {
    "id": "049c91d6a9364edfbd73d4dd6050e9c0",
    "time": "2021-02-04T01:02:48.267Z",
    "type": "completion"
   },
   {
    "code": "biggest_decrease = min(np.abs(np.diff(waiting_times)))\nbiggest_decrease",
    "id": "7a35255d57de458387d8eced80454673",
    "idx": 72,
    "time": "2021-02-04T01:14:13.714Z",
    "type": "execution"
   },
   {
    "id": "7a35255d57de458387d8eced80454673",
    "time": "2021-02-04T01:14:13.780Z",
    "type": "completion"
   },
   {
    "code": "biggest_decrease = min((np.diff(waiting_times)))\nbiggest_decrease",
    "id": "7a35255d57de458387d8eced80454673",
    "idx": 72,
    "time": "2021-02-04T01:14:19.610Z",
    "type": "execution"
   },
   {
    "id": "7a35255d57de458387d8eced80454673",
    "time": "2021-02-04T01:14:19.681Z",
    "type": "completion"
   },
   {
    "code": "biggest_decrease = abs(min((np.diff(waiting_times))))\nbiggest_decrease",
    "id": "7a35255d57de458387d8eced80454673",
    "idx": 72,
    "time": "2021-02-04T01:14:35.498Z",
    "type": "execution"
   },
   {
    "id": "7a35255d57de458387d8eced80454673",
    "time": "2021-02-04T01:14:35.565Z",
    "type": "completion"
   },
   {
    "code": "ok.grade(\"q5_2\");",
    "id": "049c91d6a9364edfbd73d4dd6050e9c0",
    "idx": 73,
    "time": "2021-02-04T01:14:36.384Z",
    "type": "execution"
   },
   {
    "id": "049c91d6a9364edfbd73d4dd6050e9c0",
    "time": "2021-02-04T01:14:36.701Z",
    "type": "completion"
   },
   {
    "code": "inventory = Table.read_table('inventory.csv')\ninventory",
    "id": "2093e46e964c4da29fa7b28dcd2d4f13",
    "idx": 85,
    "time": "2021-02-04T01:39:31.371Z",
    "type": "execution"
   },
   {
    "id": "2093e46e964c4da29fa7b28dcd2d4f13",
    "time": "2021-02-04T01:39:32.006Z",
    "type": "completion"
   },
   {
    "code": "ok.grade(\"q6_2\");",
    "id": "bbbfcd0987d74545a15ae92aa48f0f9d",
    "idx": 86,
    "time": "2021-02-04T01:39:32.451Z",
    "type": "execution"
   },
   {
    "id": "bbbfcd0987d74545a15ae92aa48f0f9d",
    "time": "2021-02-04T01:39:32.625Z",
    "type": "completion"
   },
   {
    "code": "# Assign cumulative_sum_answer to 1, 2, or 3\ncumulative_sum_answer = 1",
    "id": "26714febdc2f455f8b644496e280053d",
    "idx": 64,
    "time": "2021-02-04T04:10:55.122Z",
    "type": "execution"
   },
   {
    "code": "ok.grade(\"q4_2\");",
    "id": "320ceabb6c2f478aa59d584f1ad56a47",
    "idx": 65,
    "time": "2021-02-04T04:10:55.854Z",
    "type": "execution"
   },
   {
    "id": "26714febdc2f455f8b644496e280053d",
    "time": "2021-02-04T04:10:56.778Z",
    "type": "completion"
   },
   {
    "id": "320ceabb6c2f478aa59d584f1ad56a47",
    "time": "2021-02-04T04:10:57.533Z",
    "type": "completion"
   },
   {
    "code": "# Initialize OK\nfrom client.api.notebook import Notebook\nok = Notebook('hw02.ok')",
    "id": "7dfe2246f3ae4d55a936f6276959ed43",
    "idx": 0,
    "time": "2021-02-04T04:11:05.479Z",
    "type": "execution"
   },
   {
    "code": "# Initialize OK\nfrom client.api.notebook import Notebook\nok = Notebook('hw02.ok')",
    "id": "7dfe2246f3ae4d55a936f6276959ed43",
    "idx": 0,
    "time": "2021-02-04T04:11:23.900Z",
    "type": "execution"
   },
   {
    "id": "7dfe2246f3ae4d55a936f6276959ed43",
    "time": "2021-02-04T04:11:35.243Z",
    "type": "completion"
   },
   {
    "id": "7dfe2246f3ae4d55a936f6276959ed43",
    "time": "2021-02-04T04:11:35.243Z",
    "type": "completion"
   },
   {
    "code": "# Don't change this cell; just run it. \n# When you log-in please hit return (not shift + return) after typing in your email\nimport numpy as np\nfrom datascience import *\nimport warnings\nwarnings.simplefilter('ignore', FutureWarning)\n\nfrom client.api.notebook import *\ndef new_save_notebook(self):\n    \"\"\" Saves the current notebook by\n        injecting JavaScript to save to .ipynb file.\n    \"\"\"\n    try:\n        from IPython.display import display, Javascript\n    except ImportError:\n        log.warning(\"Could not import IPython Display Function\")\n        print(\"Make sure to save your notebook before sending it to OK!\")\n        return\n\n    if self.mode == \"jupyter\":\n        display(Javascript('IPython.notebook.save_checkpoint();'))\n        display(Javascript('IPython.notebook.save_notebook();'))\n    elif self.mode == \"jupyterlab\":\n        display(Javascript('document.querySelector(\\'[data-command=\"docmanager:save\"]\\').click();'))   \n\n    print('Saving notebook...', end=' ')\n\n    ipynbs = [path for path in self.assignment.src\n              if os.path.splitext(path)[1] == '.ipynb']\n    # Wait for first .ipynb to save\n    if ipynbs:\n        if wait_for_save(ipynbs[0]):\n            print(\"Saved '{}'.\".format(ipynbs[0]))\n        else:\n            log.warning(\"Timed out waiting for IPython save\")\n            print(\"Could not automatically save \\'{}\\'\".format(ipynbs[0]))\n            print(\"Make sure your notebook\"\n                  \" is correctly named and saved before submitting to OK!\".format(ipynbs[0]))\n            return False                \n    else:\n        print(\"No valid file sources found\")\n    return True\n\ndef wait_for_save(filename, timeout=600):\n    \"\"\"Waits for FILENAME to update, waiting up to TIMEOUT seconds.\n    Returns True if a save was detected, and False otherwise.\n    \"\"\"\n    modification_time = os.path.getmtime(filename)\n    start_time = time.time()\n    while time.time() < start_time + timeout:\n        if (os.path.getmtime(filename) > modification_time and\n            os.path.getsize(filename) > 0):\n            return True\n        time.sleep(0.2)\n    print(\"\\nERROR!\\n YOUR SUBMISSION DID NOT GO THROUGH. PLEASE TRY AGAIN. IF THIS PROBLEM PERSISTS POST ON PIAZZA RIGHT AWAY.\\n ERROR!\" + \"\\n\" * 20)\n\n    return False\n\nNotebook.save_notebook = new_save_notebook\n\nok = Notebook('hw02.ok')\nok.auth(force=True) \n_ = ok.auth(inline=True)",
    "id": "42c3fef05b88447ca69bd376e2be0fb0",
    "idx": 2,
    "time": "2021-02-04T04:11:38.798Z",
    "type": "execution"
   },
   {
    "code": "difference_from_expected = make_array(abs(np.arange(272) - 60 * index))\ndifference_from_expected",
    "id": "0a25445b3d004012845658036f4c9c92",
    "idx": 75,
    "time": "2021-02-04T04:18:34.074Z",
    "type": "execution"
   },
   {
    "code": "difference_from_expected = make_array(abs(np.arange(272) - 60 * index))\ndifference_from_expected",
    "id": "0a25445b3d004012845658036f4c9c92",
    "idx": 75,
    "time": "2021-02-04T04:18:58.607Z",
    "type": "execution"
   },
   {
    "code": "difference_from_expected = make_array(abs(np.arange(272) - 60 * index))\ndifference_from_expected",
    "id": "0a25445b3d004012845658036f4c9c92",
    "idx": 75,
    "time": "2021-02-04T04:19:08.059Z",
    "type": "execution"
   },
   {
    "id": "42c3fef05b88447ca69bd376e2be0fb0",
    "time": "2021-02-04T04:19:14.572Z",
    "type": "completion"
   },
   {
    "code": "ok.grade(\"q5_3\");",
    "id": "9002260ca914449c9dfe91dcfe3b42d2",
    "idx": 76,
    "time": "2021-02-04T04:19:18.349Z",
    "type": "execution"
   },
   {
    "id": "9002260ca914449c9dfe91dcfe3b42d2",
    "time": "2021-02-04T04:19:19.015Z",
    "type": "completion"
   },
   {
    "code": "difference_from_expected = make_array(abs(np.arange(272) - 60 * index))\ndifference_from_expected",
    "id": "0a25445b3d004012845658036f4c9c92",
    "idx": 75,
    "time": "2021-02-04T04:19:27.952Z",
    "type": "execution"
   },
   {
    "id": "0a25445b3d004012845658036f4c9c92",
    "time": "2021-02-04T04:19:29.052Z",
    "type": "completion"
   },
   {
    "id": "0a25445b3d004012845658036f4c9c92",
    "time": "2021-02-04T04:19:29.052Z",
    "type": "completion"
   },
   {
    "id": "0a25445b3d004012845658036f4c9c92",
    "time": "2021-02-04T04:19:29.052Z",
    "type": "completion"
   },
   {
    "id": "0a25445b3d004012845658036f4c9c92",
    "time": "2021-02-04T04:19:29.052Z",
    "type": "completion"
   },
   {
    "code": "difference_from_expected = make_array(abs(np.arange(272) - 60))\ndifference_from_expected",
    "id": "0a25445b3d004012845658036f4c9c92",
    "idx": 75,
    "time": "2021-02-04T04:20:28.913Z",
    "type": "execution"
   },
   {
    "id": "0a25445b3d004012845658036f4c9c92",
    "time": "2021-02-04T04:20:29.364Z",
    "type": "completion"
   },
   {
    "code": "ok.grade(\"q5_3\");",
    "id": "9002260ca914449c9dfe91dcfe3b42d2",
    "idx": 76,
    "time": "2021-02-04T04:20:34.472Z",
    "type": "execution"
   },
   {
    "id": "9002260ca914449c9dfe91dcfe3b42d2",
    "time": "2021-02-04T04:20:34.758Z",
    "type": "completion"
   },
   {
    "code": "difference_from_expected = make_array(abs(np.arange(272) - 60*waiting_times))\ndifference_from_expected",
    "id": "0a25445b3d004012845658036f4c9c92",
    "idx": 75,
    "time": "2021-02-04T04:21:36.309Z",
    "type": "execution"
   },
   {
    "id": "0a25445b3d004012845658036f4c9c92",
    "time": "2021-02-04T04:21:36.706Z",
    "type": "completion"
   },
   {
    "code": "waiting_times = Table.read_table('old_faithful.csv').column('waiting')\n\nshortest = min(waiting_times)\nlongest = max(waiting_times)\naverage = np.average(waiting_times)\n\nprint(\"Old Faithful erupts every\", shortest, \"to\", longest, \"minutes and every\", average, \"minutes on average.\")",
    "id": "fd9d7bd9f1d64820a56a84c258d8ae54",
    "idx": 69,
    "time": "2021-02-04T04:21:44.054Z",
    "type": "execution"
   },
   {
    "code": "ok.grade(\"q5_1\");",
    "id": "f6a564169249453681581e2248da3079",
    "idx": 70,
    "time": "2021-02-04T04:21:47.571Z",
    "type": "execution"
   },
   {
    "id": "fd9d7bd9f1d64820a56a84c258d8ae54",
    "time": "2021-02-04T04:21:54.695Z",
    "type": "completion"
   },
   {
    "id": "f6a564169249453681581e2248da3079",
    "time": "2021-02-04T04:21:56.744Z",
    "type": "completion"
   },
   {
    "code": "difference_from_expected = make_array(abs(np.arange(272) - 60*waiting_times))\ndifference_from_expected",
    "id": "0a25445b3d004012845658036f4c9c92",
    "idx": 75,
    "time": "2021-02-04T04:22:01.453Z",
    "type": "execution"
   },
   {
    "id": "0a25445b3d004012845658036f4c9c92",
    "time": "2021-02-04T04:22:02.470Z",
    "type": "completion"
   },
   {
    "code": "ok.grade(\"q5_3\");",
    "id": "9002260ca914449c9dfe91dcfe3b42d2",
    "idx": 76,
    "time": "2021-02-04T04:22:05.977Z",
    "type": "execution"
   },
   {
    "id": "9002260ca914449c9dfe91dcfe3b42d2",
    "time": "2021-02-04T04:22:06.535Z",
    "type": "completion"
   },
   {
    "code": "difference_from_expected = make_array(abs(np.arange(272) - 60* (waiting_times + 1)))\ndifference_from_expected",
    "id": "0a25445b3d004012845658036f4c9c92",
    "idx": 75,
    "time": "2021-02-04T04:22:37.231Z",
    "type": "execution"
   },
   {
    "id": "0a25445b3d004012845658036f4c9c92",
    "time": "2021-02-04T04:22:38.230Z",
    "type": "completion"
   },
   {
    "code": "ok.grade(\"q5_3\");",
    "id": "9002260ca914449c9dfe91dcfe3b42d2",
    "idx": 76,
    "time": "2021-02-04T04:22:39.353Z",
    "type": "execution"
   },
   {
    "id": "9002260ca914449c9dfe91dcfe3b42d2",
    "time": "2021-02-04T04:22:51.492Z",
    "type": "completion"
   },
   {
    "code": "difference_from_expected = make_array(abs(np.arange(273) - 60* (waiting_times + 1)))\ndifference_from_expected",
    "id": "0a25445b3d004012845658036f4c9c92",
    "idx": 75,
    "time": "2021-02-04T04:23:51.764Z",
    "type": "execution"
   },
   {
    "code": "ok.grade(\"q5_3\");",
    "id": "9002260ca914449c9dfe91dcfe3b42d2",
    "idx": 76,
    "time": "2021-02-04T04:23:53.987Z",
    "type": "execution"
   },
   {
    "id": "0a25445b3d004012845658036f4c9c92",
    "time": "2021-02-04T04:23:57.999Z",
    "type": "completion"
   },
   {
    "code": "difference_from_expected = make_array(abs(np.arange(271) - 60* (waiting_times + 1)))\ndifference_from_expected",
    "id": "0a25445b3d004012845658036f4c9c92",
    "idx": 75,
    "time": "2021-02-04T04:24:04.012Z",
    "type": "execution"
   },
   {
    "id": "9002260ca914449c9dfe91dcfe3b42d2",
    "time": "2021-02-04T04:24:07.000Z",
    "type": "completion"
   },
   {
    "id": "0a25445b3d004012845658036f4c9c92",
    "time": "2021-02-04T04:24:07.968Z",
    "type": "completion"
   },
   {
    "code": "ok.grade(\"q5_3\");",
    "id": "9002260ca914449c9dfe91dcfe3b42d2",
    "idx": 76,
    "time": "2021-02-04T04:24:11.712Z",
    "type": "execution"
   },
   {
    "id": "9002260ca914449c9dfe91dcfe3b42d2",
    "time": "2021-02-04T04:24:15.798Z",
    "type": "completion"
   },
   {
    "code": "difference_from_expected = make_array(abs(np.arange(1, 272) - 60* (waiting_times + 1)))\ndifference_from_expected",
    "id": "0a25445b3d004012845658036f4c9c92",
    "idx": 75,
    "time": "2021-02-04T04:24:53.994Z",
    "type": "execution"
   },
   {
    "id": "0a25445b3d004012845658036f4c9c92",
    "time": "2021-02-04T04:24:57.833Z",
    "type": "completion"
   },
   {
    "code": "difference_from_expected = make_array(abs(np.arange(272) - 60* (waiting_times + 1)))\ndifference_from_expected",
    "id": "0a25445b3d004012845658036f4c9c92",
    "idx": 75,
    "time": "2021-02-04T04:26:21.604Z",
    "type": "execution"
   },
   {
    "code": "difference_from_expected = make_array((waiting_times + 1) *abs(np.arange(272) - 60* (waiting_times + 1)))\ndifference_from_expected",
    "id": "0a25445b3d004012845658036f4c9c92",
    "idx": 75,
    "time": "2021-02-04T04:29:17.011Z",
    "type": "execution"
   },
   {
    "code": "ok.grade(\"q5_3\");",
    "id": "9002260ca914449c9dfe91dcfe3b42d2",
    "idx": 76,
    "time": "2021-02-04T04:29:33.660Z",
    "type": "execution"
   },
   {
    "code": "difference_from_expected = make_array((waiting_times + 1) *abs(np.arange(272) - 60* (waiting_times + 1)))\ndifference_from_expected",
    "id": "0a25445b3d004012845658036f4c9c92",
    "idx": 75,
    "time": "2021-02-04T04:30:21.959Z",
    "type": "execution"
   },
   {
    "id": "0a25445b3d004012845658036f4c9c92",
    "time": "2021-02-04T04:30:23.400Z",
    "type": "completion"
   },
   {
    "id": "0a25445b3d004012845658036f4c9c92",
    "time": "2021-02-04T04:30:23.400Z",
    "type": "completion"
   },
   {
    "id": "0a25445b3d004012845658036f4c9c92",
    "time": "2021-02-04T04:30:23.400Z",
    "type": "completion"
   },
   {
    "code": "ok.grade(\"q5_3\");",
    "id": "9002260ca914449c9dfe91dcfe3b42d2",
    "idx": 76,
    "time": "2021-02-04T04:30:25.742Z",
    "type": "execution"
   },
   {
    "id": "9002260ca914449c9dfe91dcfe3b42d2",
    "time": "2021-02-04T04:30:31.617Z",
    "type": "completion"
   },
   {
    "id": "9002260ca914449c9dfe91dcfe3b42d2",
    "time": "2021-02-04T04:30:31.617Z",
    "type": "completion"
   },
   {
    "code": "difference_from_expected = make_array(abs(np.arange(272) - 60* (waiting_times + 1)))\ndifference_from_expected",
    "id": "0a25445b3d004012845658036f4c9c92",
    "idx": 75,
    "time": "2021-02-04T04:30:42.607Z",
    "type": "execution"
   },
   {
    "id": "0a25445b3d004012845658036f4c9c92",
    "time": "2021-02-04T04:30:45.273Z",
    "type": "completion"
   },
   {
    "code": "difference_from_expected = make_array(np.cumsum(np.arange(272) - 60* (waiting_times + 1)))\ndifference_from_expected",
    "id": "0a25445b3d004012845658036f4c9c92",
    "idx": 75,
    "time": "2021-02-04T04:40:15.861Z",
    "type": "execution"
   },
   {
    "id": "0a25445b3d004012845658036f4c9c92",
    "time": "2021-02-04T04:40:17.628Z",
    "type": "completion"
   },
   {
    "code": "difference_from_expected = np.cumsum(abs(60*waiting_times.num_rows - waiting_times))\ndifference_from_expected",
    "id": "0a25445b3d004012845658036f4c9c92",
    "idx": 75,
    "time": "2021-02-04T04:51:32.728Z",
    "type": "execution"
   },
   {
    "id": "0a25445b3d004012845658036f4c9c92",
    "time": "2021-02-04T04:51:33.925Z",
    "type": "completion"
   },
   {
    "code": "waiting_times = Table.read_table('old_faithful.csv').column('waiting')\nwaiting_times\n\nshortest = min(waiting_times)\nlongest = max(waiting_times)\naverage = np.average(waiting_times)\n\nprint(\"Old Faithful erupts every\", shortest, \"to\", longest, \"minutes and every\", average, \"minutes on average.\")",
    "id": "fd9d7bd9f1d64820a56a84c258d8ae54",
    "idx": 69,
    "time": "2021-02-04T04:52:54.801Z",
    "type": "execution"
   },
   {
    "id": "fd9d7bd9f1d64820a56a84c258d8ae54",
    "time": "2021-02-04T04:52:55.781Z",
    "type": "completion"
   },
   {
    "code": "waiting_times = Table.read_table('old_faithful.csv').column('waiting')\nwaiting_times\n\nshortest = min(waiting_times)\nlongest = max(waiting_times)\naverage = np.average(waiting_times)\n\nprint(\"Old Faithful erupts every\", shortest, \"to\", longest, \"minutes and every\", average, \"minutes on average.\")",
    "id": "fd9d7bd9f1d64820a56a84c258d8ae54",
    "idx": 69,
    "time": "2021-02-04T04:53:45.283Z",
    "type": "execution"
   },
   {
    "id": "fd9d7bd9f1d64820a56a84c258d8ae54",
    "time": "2021-02-04T04:53:45.833Z",
    "type": "completion"
   },
   {
    "code": "difference_from_expected = abs(np.cumsum(waiting_times) - np.arange(272))\ndifference_from_expected",
    "id": "0a25445b3d004012845658036f4c9c92",
    "idx": 75,
    "time": "2021-02-04T05:07:35.460Z",
    "type": "execution"
   },
   {
    "id": "0a25445b3d004012845658036f4c9c92",
    "time": "2021-02-04T05:07:36.316Z",
    "type": "completion"
   },
   {
    "code": "ok.grade(\"q5_3\");",
    "id": "9002260ca914449c9dfe91dcfe3b42d2",
    "idx": 76,
    "time": "2021-02-04T05:07:44.097Z",
    "type": "execution"
   },
   {
    "id": "9002260ca914449c9dfe91dcfe3b42d2",
    "time": "2021-02-04T05:07:48.719Z",
    "type": "completion"
   },
   {
    "code": "difference_from_expected = np.arange(abs(np.cumsum(waiting_times) - 60)\ndifference_from_expected",
    "id": "0a25445b3d004012845658036f4c9c92",
    "idx": 75,
    "time": "2021-02-04T05:08:46.897Z",
    "type": "execution"
   },
   {
    "id": "0a25445b3d004012845658036f4c9c92",
    "time": "2021-02-04T05:08:47.758Z",
    "type": "completion"
   },
   {
    "code": "difference_from_expected = np.arange(abs(np.cumsum(waiting_times) - 60))\ndifference_from_expected",
    "id": "0a25445b3d004012845658036f4c9c92",
    "idx": 75,
    "time": "2021-02-04T05:08:59.840Z",
    "type": "execution"
   },
   {
    "id": "0a25445b3d004012845658036f4c9c92",
    "time": "2021-02-04T05:09:00.418Z",
    "type": "completion"
   },
   {
    "code": "difference_from_expected = (abs(np.cumsum(waiting_times) - 60))\ndifference_from_expected",
    "id": "0a25445b3d004012845658036f4c9c92",
    "idx": 75,
    "time": "2021-02-04T05:09:20.986Z",
    "type": "execution"
   },
   {
    "id": "0a25445b3d004012845658036f4c9c92",
    "time": "2021-02-04T05:09:21.542Z",
    "type": "completion"
   },
   {
    "code": "difference_from_expected = (abs(np.cumsum(waiting_times) - 60 * np.arange(272)))\ndifference_from_expected",
    "id": "0a25445b3d004012845658036f4c9c92",
    "idx": 75,
    "time": "2021-02-04T05:09:57.947Z",
    "type": "execution"
   },
   {
    "id": "0a25445b3d004012845658036f4c9c92",
    "time": "2021-02-04T05:09:58.569Z",
    "type": "completion"
   },
   {
    "code": "difference_from_expected = (abs(np.cumsum(waiting_times) - 60 * np.arange(272)+1))\ndifference_from_expected",
    "id": "0a25445b3d004012845658036f4c9c92",
    "idx": 75,
    "time": "2021-02-04T05:10:36.671Z",
    "type": "execution"
   },
   {
    "id": "0a25445b3d004012845658036f4c9c92",
    "time": "2021-02-04T05:10:37.630Z",
    "type": "completion"
   },
   {
    "code": "difference_from_expected = (abs(np.cumsum(waiting_times) - 60 * 1)\ndifference_from_expected",
    "id": "0a25445b3d004012845658036f4c9c92",
    "idx": 75,
    "time": "2021-02-04T05:10:48.946Z",
    "type": "execution"
   },
   {
    "id": "0a25445b3d004012845658036f4c9c92",
    "time": "2021-02-04T05:10:49.411Z",
    "type": "completion"
   },
   {
    "code": "difference_from_expected = (abs(np.cumsum(waiting_times) - 60 * 1))\ndifference_from_expected",
    "id": "0a25445b3d004012845658036f4c9c92",
    "idx": 75,
    "time": "2021-02-04T05:10:57.971Z",
    "type": "execution"
   },
   {
    "id": "0a25445b3d004012845658036f4c9c92",
    "time": "2021-02-04T05:10:58.686Z",
    "type": "completion"
   },
   {
    "code": "difference_from_expected = (abs(np.cumsum(waiting_times) - 60 * (waiting_times.num_rows + 1))\ndifference_from_expected",
    "id": "0a25445b3d004012845658036f4c9c92",
    "idx": 75,
    "time": "2021-02-04T05:19:47.940Z",
    "type": "execution"
   },
   {
    "id": "0a25445b3d004012845658036f4c9c92",
    "time": "2021-02-04T05:19:49.796Z",
    "type": "completion"
   },
   {
    "code": "difference_from_expected = (abs(np.cumsum(waiting_times) - 60 * (waiting_times.num_rows + 1)))\ndifference_from_expected",
    "id": "0a25445b3d004012845658036f4c9c92",
    "idx": 75,
    "time": "2021-02-04T05:20:00.166Z",
    "type": "execution"
   },
   {
    "id": "0a25445b3d004012845658036f4c9c92",
    "time": "2021-02-04T05:20:03.398Z",
    "type": "completion"
   },
   {
    "code": "difference_from_expected = make_array(abs(np.cumsum(waiting_times) - 60 * (waiting_times.num_rows + 1)))\ndifference_from_expected",
    "id": "0a25445b3d004012845658036f4c9c92",
    "idx": 75,
    "time": "2021-02-04T05:20:31.223Z",
    "type": "execution"
   },
   {
    "id": "0a25445b3d004012845658036f4c9c92",
    "time": "2021-02-04T05:20:31.361Z",
    "type": "completion"
   },
   {
    "code": "difference_from_expected = (abs(np.cumsum(waiting_times) - 60 * (waiting_times + 1)))\ndifference_from_expected",
    "id": "0a25445b3d004012845658036f4c9c92",
    "idx": 75,
    "time": "2021-02-04T05:20:57.825Z",
    "type": "execution"
   },
   {
    "id": "0a25445b3d004012845658036f4c9c92",
    "time": "2021-02-04T05:20:58.241Z",
    "type": "completion"
   },
   {
    "code": "difference_from_expected = (abs(np.cumsum(waiting_times) - 60 * len(waiting_times)))\ndifference_from_expected",
    "id": "0a25445b3d004012845658036f4c9c92",
    "idx": 75,
    "time": "2021-02-04T05:22:03.329Z",
    "type": "execution"
   },
   {
    "id": "0a25445b3d004012845658036f4c9c92",
    "time": "2021-02-04T05:22:04.081Z",
    "type": "completion"
   },
   {
    "code": "ok.grade(\"q5_3\");",
    "id": "9002260ca914449c9dfe91dcfe3b42d2",
    "idx": 76,
    "time": "2021-02-04T05:22:08.314Z",
    "type": "execution"
   },
   {
    "id": "9002260ca914449c9dfe91dcfe3b42d2",
    "time": "2021-02-04T05:22:08.541Z",
    "type": "completion"
   },
   {
    "code": "average_error = np.average(np.diff(waiting_times))\naverage_error",
    "id": "5ce4d8e7548c4c869790b2830c81673a",
    "idx": 78,
    "time": "2021-02-04T05:30:48.111Z",
    "type": "execution"
   },
   {
    "id": "5ce4d8e7548c4c869790b2830c81673a",
    "time": "2021-02-04T05:30:48.446Z",
    "type": "completion"
   },
   {
    "code": "ok.grade(\"q5_4\");",
    "id": "5ff6e6713cc84f97aab451e28bfb2ae1",
    "idx": 79,
    "time": "2021-02-04T05:31:00.128Z",
    "type": "execution"
   },
   {
    "id": "5ff6e6713cc84f97aab451e28bfb2ae1",
    "time": "2021-02-04T05:31:00.713Z",
    "type": "completion"
   },
   {
    "code": "average_error = (abs(np.diff(waiting_times)))/len(waiting_times)\naverage_error",
    "id": "5ce4d8e7548c4c869790b2830c81673a",
    "idx": 78,
    "time": "2021-02-04T05:40:49.057Z",
    "type": "execution"
   },
   {
    "id": "5ce4d8e7548c4c869790b2830c81673a",
    "time": "2021-02-04T05:40:49.186Z",
    "type": "completion"
   },
   {
    "code": "ok.grade(\"q5_4\");",
    "id": "5ff6e6713cc84f97aab451e28bfb2ae1",
    "idx": 79,
    "time": "2021-02-04T05:40:53.192Z",
    "type": "execution"
   },
   {
    "id": "5ff6e6713cc84f97aab451e28bfb2ae1",
    "time": "2021-02-04T05:40:54.132Z",
    "type": "completion"
   },
   {
    "code": "average_error = (abs(np.diff(waiting_times)) + abs(np.diff(waiting_times)))/ len(waiting_times)\naverage_error",
    "id": "5ce4d8e7548c4c869790b2830c81673a",
    "idx": 78,
    "time": "2021-02-04T05:42:34.099Z",
    "type": "execution"
   },
   {
    "id": "5ce4d8e7548c4c869790b2830c81673a",
    "time": "2021-02-04T05:42:34.248Z",
    "type": "completion"
   },
   {
    "code": "average_error = (abs(np.diff(waiting_times)) + abs(np.diff(waiting_times)))\naverage_error",
    "id": "5ce4d8e7548c4c869790b2830c81673a",
    "idx": 78,
    "time": "2021-02-04T05:43:00.884Z",
    "type": "execution"
   },
   {
    "id": "5ce4d8e7548c4c869790b2830c81673a",
    "time": "2021-02-04T05:43:01.331Z",
    "type": "completion"
   },
   {
    "code": "ok.grade(\"q5_4\");",
    "id": "5ff6e6713cc84f97aab451e28bfb2ae1",
    "idx": 79,
    "time": "2021-02-04T05:43:11.431Z",
    "type": "execution"
   },
   {
    "id": "5ff6e6713cc84f97aab451e28bfb2ae1",
    "time": "2021-02-04T05:43:11.958Z",
    "type": "completion"
   },
   {
    "code": "average_error = (abs(np.diff(waiting_times)) + abs(np.diff(waiting_times))) / (len(waiting_times) - 1)\naverage_error",
    "id": "5ce4d8e7548c4c869790b2830c81673a",
    "idx": 78,
    "time": "2021-02-04T05:44:17.198Z",
    "type": "execution"
   },
   {
    "id": "5ce4d8e7548c4c869790b2830c81673a",
    "time": "2021-02-04T05:44:17.570Z",
    "type": "completion"
   },
   {
    "code": "average_error = np.average(abs(np.diff(waiting_times)) + abs(np.diff(waiting_times))) / (len(waiting_times) - 1)\naverage_error",
    "id": "5ce4d8e7548c4c869790b2830c81673a",
    "idx": 78,
    "time": "2021-02-04T05:45:43.891Z",
    "type": "execution"
   },
   {
    "id": "5ce4d8e7548c4c869790b2830c81673a",
    "time": "2021-02-04T05:45:44.021Z",
    "type": "completion"
   },
   {
    "code": "ok.grade(\"q5_4\");",
    "id": "5ff6e6713cc84f97aab451e28bfb2ae1",
    "idx": 79,
    "time": "2021-02-04T05:45:45.723Z",
    "type": "execution"
   },
   {
    "id": "5ff6e6713cc84f97aab451e28bfb2ae1",
    "time": "2021-02-04T05:45:46.023Z",
    "type": "completion"
   },
   {
    "code": "average_error = np.average(abs(np.diff(waiting_times)) + abs(np.diff(waiting_times))) / (len(waiting_times) - 1)\naverage_error\nave = np.diff(waiting_times)",
    "id": "5ce4d8e7548c4c869790b2830c81673a",
    "idx": 78,
    "time": "2021-02-04T05:46:20.650Z",
    "type": "execution"
   },
   {
    "id": "5ce4d8e7548c4c869790b2830c81673a",
    "time": "2021-02-04T05:46:20.726Z",
    "type": "completion"
   },
   {
    "code": "average_error = np.average(abs(np.diff(waiting_times)) + abs(np.diff(waiting_times))) / (len(waiting_times) - 1)\naverage_error\nave = np.diff(waiting_times)\nave",
    "id": "5ce4d8e7548c4c869790b2830c81673a",
    "idx": 78,
    "time": "2021-02-04T05:46:27.856Z",
    "type": "execution"
   },
   {
    "id": "5ce4d8e7548c4c869790b2830c81673a",
    "time": "2021-02-04T05:46:28.001Z",
    "type": "completion"
   },
   {
    "code": "average_error = np.average(abs(np.diff(waiting_times)) + abs(np.diff(waiting_times))) / (len(waiting_times) - 1)\naverage_error\nave = abs(np.diff(waiting_times)) + abs(np.diff(waiting_times))\nave",
    "id": "5ce4d8e7548c4c869790b2830c81673a",
    "idx": 78,
    "time": "2021-02-04T05:47:22.282Z",
    "type": "execution"
   },
   {
    "id": "5ce4d8e7548c4c869790b2830c81673a",
    "time": "2021-02-04T05:47:22.904Z",
    "type": "completion"
   },
   {
    "code": "average_error = np.average(abs(np.diff(waiting_times)) + abs(np.diff(waiting_times))) \naverage_error\n",
    "id": "5ce4d8e7548c4c869790b2830c81673a",
    "idx": 78,
    "time": "2021-02-04T05:47:50.014Z",
    "type": "execution"
   },
   {
    "id": "5ce4d8e7548c4c869790b2830c81673a",
    "time": "2021-02-04T05:47:50.133Z",
    "type": "completion"
   },
   {
    "code": "ok.grade(\"q5_4\");",
    "id": "5ff6e6713cc84f97aab451e28bfb2ae1",
    "idx": 79,
    "time": "2021-02-04T05:47:51.696Z",
    "type": "execution"
   },
   {
    "id": "5ff6e6713cc84f97aab451e28bfb2ae1",
    "time": "2021-02-04T05:47:51.921Z",
    "type": "completion"
   },
   {
    "code": "average_error = np.average(abs(np.diff(waiting_times)) + abs(np.diff(waiting_times))/len(waiting_times - 1)) \naverage_error\n",
    "id": "5ce4d8e7548c4c869790b2830c81673a",
    "idx": 78,
    "time": "2021-02-04T05:48:17.208Z",
    "type": "execution"
   },
   {
    "id": "5ce4d8e7548c4c869790b2830c81673a",
    "time": "2021-02-04T05:48:17.273Z",
    "type": "completion"
   },
   {
    "code": "ok.grade(\"q5_4\");",
    "id": "5ff6e6713cc84f97aab451e28bfb2ae1",
    "idx": 79,
    "time": "2021-02-04T05:48:18.769Z",
    "type": "execution"
   },
   {
    "id": "5ff6e6713cc84f97aab451e28bfb2ae1",
    "time": "2021-02-04T05:48:18.959Z",
    "type": "completion"
   },
   {
    "code": "# Our solution uses 1 statement split over 3 lines.\nfruits = Table().with_columns(\n        \"fruit name\", fruit_name,\n        \"count\", count)\n\nfruits",
    "id": "83df6264ac43436189dc859c304c64b3",
    "idx": 82,
    "time": "2021-02-04T05:51:33.670Z",
    "type": "execution"
   },
   {
    "id": "83df6264ac43436189dc859c304c64b3",
    "time": "2021-02-04T05:51:33.763Z",
    "type": "completion"
   },
   {
    "code": "# Our solution uses 1 statement split over 3 lines.\nfruits = Table().with_columns(\n        \"fruit name\",\n        \"count\")\n\nfruits",
    "id": "83df6264ac43436189dc859c304c64b3",
    "idx": 82,
    "time": "2021-02-04T05:52:12.790Z",
    "type": "execution"
   },
   {
    "id": "83df6264ac43436189dc859c304c64b3",
    "time": "2021-02-04T05:52:12.874Z",
    "type": "completion"
   },
   {
    "code": "ok.grade(\"q6_1\");",
    "id": "5ff9bcec193e47f9908f6268de40ec78",
    "idx": 83,
    "time": "2021-02-04T05:52:14.262Z",
    "type": "execution"
   },
   {
    "id": "5ff9bcec193e47f9908f6268de40ec78",
    "time": "2021-02-04T05:52:14.464Z",
    "type": "completion"
   },
   {
    "code": "# Don't change this cell; just run it. \n# When you log-in please hit return (not shift + return) after typing in your email\nimport numpy as np\nfrom datascience import *\nimport warnings\nwarnings.simplefilter('ignore', FutureWarning)\n\nfrom client.api.notebook import *\ndef new_save_notebook(self):\n    \"\"\" Saves the current notebook by\n        injecting JavaScript to save to .ipynb file.\n    \"\"\"\n    try:\n        from IPython.display import display, Javascript\n    except ImportError:\n        log.warning(\"Could not import IPython Display Function\")\n        print(\"Make sure to save your notebook before sending it to OK!\")\n        return\n\n    if self.mode == \"jupyter\":\n        display(Javascript('IPython.notebook.save_checkpoint();'))\n        display(Javascript('IPython.notebook.save_notebook();'))\n    elif self.mode == \"jupyterlab\":\n        display(Javascript('document.querySelector(\\'[data-command=\"docmanager:save\"]\\').click();'))   \n\n    print('Saving notebook...', end=' ')\n\n    ipynbs = [path for path in self.assignment.src\n              if os.path.splitext(path)[1] == '.ipynb']\n    # Wait for first .ipynb to save\n    if ipynbs:\n        if wait_for_save(ipynbs[0]):\n            print(\"Saved '{}'.\".format(ipynbs[0]))\n        else:\n            log.warning(\"Timed out waiting for IPython save\")\n            print(\"Could not automatically save \\'{}\\'\".format(ipynbs[0]))\n            print(\"Make sure your notebook\"\n                  \" is correctly named and saved before submitting to OK!\".format(ipynbs[0]))\n            return False                \n    else:\n        print(\"No valid file sources found\")\n    return True\n\ndef wait_for_save(filename, timeout=600):\n    \"\"\"Waits for FILENAME to update, waiting up to TIMEOUT seconds.\n    Returns True if a save was detected, and False otherwise.\n    \"\"\"\n    modification_time = os.path.getmtime(filename)\n    start_time = time.time()\n    while time.time() < start_time + timeout:\n        if (os.path.getmtime(filename) > modification_time and\n            os.path.getsize(filename) > 0):\n            return True\n        time.sleep(0.2)\n    print(\"\\nERROR!\\n YOUR SUBMISSION DID NOT GO THROUGH. PLEASE TRY AGAIN. IF THIS PROBLEM PERSISTS POST ON PIAZZA RIGHT AWAY.\\n ERROR!\" + \"\\n\" * 20)\n\n    return False\n\nNotebook.save_notebook = new_save_notebook\n\nok = Notebook('hw02.ok')\nok.auth(force=True) \n_ = ok.auth(inline=True)",
    "id": "42c3fef05b88447ca69bd376e2be0fb0",
    "idx": 2,
    "time": "2021-02-04T05:54:38.004Z",
    "type": "execution"
   },
   {
    "code": "# Our solution uses 1 statement split over 3 lines.\nfruits = Table().with_columns(\n        \"fruit name\", make_array('apple','orange', 'pineapple'),\n        \"count\", make_array(4, 3, 3))\n\nfruits",
    "id": "83df6264ac43436189dc859c304c64b3",
    "idx": 82,
    "time": "2021-02-04T05:55:56.541Z",
    "type": "execution"
   },
   {
    "code": "ok.grade(\"q6_1\");",
    "id": "5ff9bcec193e47f9908f6268de40ec78",
    "idx": 83,
    "time": "2021-02-04T05:56:36.210Z",
    "type": "execution"
   },
   {
    "id": "42c3fef05b88447ca69bd376e2be0fb0",
    "time": "2021-02-04T05:57:13.332Z",
    "type": "completion"
   },
   {
    "id": "83df6264ac43436189dc859c304c64b3",
    "time": "2021-02-04T05:57:13.335Z",
    "type": "completion"
   },
   {
    "id": "5ff9bcec193e47f9908f6268de40ec78",
    "time": "2021-02-04T05:57:13.336Z",
    "type": "completion"
   },
   {
    "code": "# Our solution uses 1 statement split over 3 lines.\nfruits = Table().with_columns(\n        \"fruit name\", make_array('apple','orange', 'pineapple'),\n        \"count\", make_array(4, 3, 3))\n\nfruits",
    "id": "83df6264ac43436189dc859c304c64b3",
    "idx": 82,
    "time": "2021-02-04T05:57:14.056Z",
    "type": "execution"
   },
   {
    "id": "83df6264ac43436189dc859c304c64b3",
    "time": "2021-02-04T05:57:14.121Z",
    "type": "completion"
   },
   {
    "code": "ok.grade(\"q6_1\");",
    "id": "5ff9bcec193e47f9908f6268de40ec78",
    "idx": 83,
    "time": "2021-02-04T05:57:15.684Z",
    "type": "execution"
   },
   {
    "id": "5ff9bcec193e47f9908f6268de40ec78",
    "time": "2021-02-04T05:57:15.840Z",
    "type": "completion"
   },
   {
    "code": "all_different = False\nall_different",
    "id": "c248799ba9e34de08e6ed76691dd3d75",
    "idx": 88,
    "time": "2021-02-04T05:58:11.954Z",
    "type": "execution"
   },
   {
    "id": "c248799ba9e34de08e6ed76691dd3d75",
    "time": "2021-02-04T05:58:12.020Z",
    "type": "completion"
   },
   {
    "code": "ok.grade(\"q6_3\");",
    "id": "fa94414c2a4f450d8e300abb5fb0571a",
    "idx": 89,
    "time": "2021-02-04T05:58:14.947Z",
    "type": "execution"
   },
   {
    "id": "fa94414c2a4f450d8e300abb5fb0571a",
    "time": "2021-02-04T05:58:15.100Z",
    "type": "completion"
   },
   {
    "code": "sales = Table.read_table('sales.csv')\nsales",
    "id": "1663699462e5497b87f871c3ad4caa33",
    "idx": 91,
    "time": "2021-02-04T05:59:16.496Z",
    "type": "execution"
   },
   {
    "id": "1663699462e5497b87f871c3ad4caa33",
    "time": "2021-02-04T05:59:16.649Z",
    "type": "completion"
   },
   {
    "code": "ok.grade(\"q6_4\");",
    "id": "ff2e8e3c0caa47e2ae0fc04681ab55d0",
    "idx": 92,
    "time": "2021-02-04T05:59:17.564Z",
    "type": "execution"
   },
   {
    "id": "ff2e8e3c0caa47e2ae0fc04681ab55d0",
    "time": "2021-02-04T05:59:17.706Z",
    "type": "completion"
   },
   {
    "code": "total_fruits_sold = sum(sales.column('count sold'))\ntotal_fruits_sold",
    "id": "72de743bf06e4da78923a46262ce8a6b",
    "idx": 94,
    "time": "2021-02-04T06:01:47.043Z",
    "type": "execution"
   },
   {
    "id": "72de743bf06e4da78923a46262ce8a6b",
    "time": "2021-02-04T06:01:47.380Z",
    "type": "completion"
   },
   {
    "code": "ok.grade(\"q6_5\");",
    "id": "b72e9faadea14f75a800f8e880a51ba9",
    "idx": 95,
    "time": "2021-02-04T06:01:48.325Z",
    "type": "execution"
   },
   {
    "id": "b72e9faadea14f75a800f8e880a51ba9",
    "time": "2021-02-04T06:01:48.498Z",
    "type": "completion"
   },
   {
    "code": "total_revenue = sum(sales.column('price per fruit ($)'))\ntotal_revenue",
    "id": "f810d1fcb29a43588ee7eaa60cd394d9",
    "idx": 97,
    "time": "2021-02-04T06:02:40.947Z",
    "type": "execution"
   },
   {
    "id": "f810d1fcb29a43588ee7eaa60cd394d9",
    "time": "2021-02-04T06:02:41.044Z",
    "type": "completion"
   },
   {
    "code": "ok.grade(\"q6_6\");",
    "id": "138ad3ce9b504781bed38ca548cab4be",
    "idx": 98,
    "time": "2021-02-04T06:02:42.411Z",
    "type": "execution"
   },
   {
    "id": "138ad3ce9b504781bed38ca548cab4be",
    "time": "2021-02-04T06:02:42.802Z",
    "type": "completion"
   },
   {
    "code": "total_revenue = sum(sales.column('count sold') * sales.column('price per fruit ($)'))\ntotal_revenue",
    "id": "f810d1fcb29a43588ee7eaa60cd394d9",
    "idx": 97,
    "time": "2021-02-04T06:04:29.702Z",
    "type": "execution"
   },
   {
    "id": "f810d1fcb29a43588ee7eaa60cd394d9",
    "time": "2021-02-04T06:04:29.772Z",
    "type": "completion"
   },
   {
    "code": "ok.grade(\"q6_6\");",
    "id": "138ad3ce9b504781bed38ca548cab4be",
    "idx": 98,
    "time": "2021-02-04T06:04:31.313Z",
    "type": "execution"
   },
   {
    "id": "138ad3ce9b504781bed38ca548cab4be",
    "time": "2021-02-04T06:04:31.546Z",
    "type": "completion"
   },
   {
    "code": "remaining_inventory = Table.with_columns(\n    'box ID', inventory.column('box ID'),\n    'fruit name', inventory.column('fruit name'),\n    'count', (inventory.column('count') - sales.column('count sold')))\n\nremaining_inventory",
    "id": "032c4ab49223468bb6418ca90fa1cd47",
    "idx": 100,
    "time": "2021-02-04T06:46:10.269Z",
    "type": "execution"
   },
   {
    "id": "032c4ab49223468bb6418ca90fa1cd47",
    "time": "2021-02-04T06:46:10.417Z",
    "type": "completion"
   },
   {
    "code": "inventory = Table.read_table('inventory.csv')\ninventory",
    "id": "9db9c3458d2e4b8b82f8dc44f4d927c2",
    "idx": 85,
    "time": "2021-02-04T06:46:24.137Z",
    "type": "execution"
   },
   {
    "id": "9db9c3458d2e4b8b82f8dc44f4d927c2",
    "time": "2021-02-04T06:46:24.769Z",
    "type": "completion"
   },
   {
    "code": "remaining_inventory = Table.with_columns(\n    'box ID', inventory.column('box ID'),\n    'fruit name', inventory.column('fruit name'),\n    'count', (inventory.column('count') - sales.column('count sold')))\n\nremaining_inventory",
    "id": "032c4ab49223468bb6418ca90fa1cd47",
    "idx": 100,
    "time": "2021-02-04T06:46:34.221Z",
    "type": "execution"
   },
   {
    "id": "032c4ab49223468bb6418ca90fa1cd47",
    "time": "2021-02-04T06:46:34.365Z",
    "type": "completion"
   },
   {
    "code": "remaining_inventory = Table().with_columns(\n    'box ID', inventory.column('box ID'),\n    'fruit name', inventory.column('fruit name'),\n    'count', (inventory.column('count') - sales.column('count sold')))\n\nremaining_inventory",
    "id": "032c4ab49223468bb6418ca90fa1cd47",
    "idx": 100,
    "time": "2021-02-04T06:47:00.598Z",
    "type": "execution"
   },
   {
    "id": "032c4ab49223468bb6418ca90fa1cd47",
    "time": "2021-02-04T06:47:00.753Z",
    "type": "completion"
   },
   {
    "code": "ok.grade(\"q6_7\");",
    "id": "078e2b299adc4c85bebed1c169238c54",
    "idx": 101,
    "time": "2021-02-04T06:47:03.633Z",
    "type": "execution"
   },
   {
    "id": "078e2b299adc4c85bebed1c169238c54",
    "time": "2021-02-04T06:47:04.147Z",
    "type": "completion"
   },
   {
    "code": "_ = ok.submit()",
    "id": "92372aa1f86e4d71a359dde851725442",
    "idx": 104,
    "time": "2021-02-04T06:47:07.918Z",
    "type": "execution"
   },
   {
    "id": "92372aa1f86e4d71a359dde851725442",
    "time": "2021-02-04T06:47:09.046Z",
    "type": "completion"
   },
   {
    "code": "# For your convenience, you can run this cell to run all the tests at once!\nimport os\nprint(\"Running all tests...\")\n_ = [ok.grade(q[:-3]) for q in os.listdir(\"tests\") if q.startswith('q') and len(q) <= 10]\nprint(\"Finished running all tests.\")",
    "id": "1f308071bb2641f388ffffd406faf630",
    "idx": 105,
    "time": "2021-02-04T06:47:10.835Z",
    "type": "execution"
   },
   {
    "id": "1f308071bb2641f388ffffd406faf630",
    "time": "2021-02-04T06:47:14.999Z",
    "type": "completion"
   },
   {
    "code": "# Our solution involved one extra line of code before creating\n# weird_numbers.\n...\nimport math\nweird_numbers = make_array(-2, math.sin(12), 3, 5**math.cos(12))\nweird_numbers",
    "id": "6a824817899046999ceaaf07aea0226d",
    "idx": 8,
    "time": "2021-02-04T06:48:15.524Z",
    "type": "execution"
   },
   {
    "id": "6a824817899046999ceaaf07aea0226d",
    "time": "2021-02-04T06:48:15.614Z",
    "type": "completion"
   },
   {
    "code": "ok.grade(\"q1_1\");",
    "id": "3117addaf6b64ea5b472d8a6bd2073ca",
    "idx": 9,
    "time": "2021-02-04T06:48:16.731Z",
    "type": "execution"
   },
   {
    "id": "3117addaf6b64ea5b472d8a6bd2073ca",
    "time": "2021-02-04T06:48:16.858Z",
    "type": "completion"
   },
   {
    "code": "book_title_words = make_array('Eats', 'Shoots', 'and Leaves')\nbook_title_words",
    "id": "395f2623536044228e6c64d82c94e829",
    "idx": 11,
    "time": "2021-02-04T06:48:19.599Z",
    "type": "execution"
   },
   {
    "id": "395f2623536044228e6c64d82c94e829",
    "time": "2021-02-04T06:48:19.698Z",
    "type": "completion"
   },
   {
    "code": "ok.grade(\"q1_2\");",
    "id": "fecedce92daf4b67970a95271ae8d88c",
    "idx": 12,
    "time": "2021-02-04T06:48:20.440Z",
    "type": "execution"
   },
   {
    "id": "fecedce92daf4b67970a95271ae8d88c",
    "time": "2021-02-04T06:48:20.575Z",
    "type": "completion"
   },
   {
    "code": "with_commas = \", \".join(book_title_words)\nwithout_commas = \" \".join(book_title_words)\n\n# These lines are provided just to print out your answers.\nprint('with_commas:', with_commas)\nprint('without_commas:', without_commas)",
    "id": "b7c61874c6424fb99e146d92e85e347f",
    "idx": 14,
    "time": "2021-02-04T06:48:22.651Z",
    "type": "execution"
   },
   {
    "id": "b7c61874c6424fb99e146d92e85e347f",
    "time": "2021-02-04T06:48:22.782Z",
    "type": "completion"
   },
   {
    "code": "ok.grade(\"q1_3\");",
    "id": "eacd011aba3244408ba9fb30b9e70426",
    "idx": 15,
    "time": "2021-02-04T06:48:23.392Z",
    "type": "execution"
   },
   {
    "id": "eacd011aba3244408ba9fb30b9e70426",
    "time": "2021-02-04T06:48:23.517Z",
    "type": "completion"
   },
   {
    "code": "some_numbers = make_array(-1, -3, -6, -10, -15)\n\nthird_element = some_numbers.item(2)\nthird_element",
    "id": "b7d4537a824e4e4980f97a0cf2464fd2",
    "idx": 19,
    "time": "2021-02-04T06:48:26.236Z",
    "type": "execution"
   },
   {
    "id": "b7d4537a824e4e4980f97a0cf2464fd2",
    "time": "2021-02-04T06:48:26.308Z",
    "type": "completion"
   },
   {
    "code": "ok.grade(\"q2_1\");",
    "id": "c2a80ae17c3f4c348cf4d4075ee3e326",
    "idx": 20,
    "time": "2021-02-04T06:48:26.965Z",
    "type": "execution"
   },
   {
    "id": "c2a80ae17c3f4c348cf4d4075ee3e326",
    "time": "2021-02-04T06:48:27.101Z",
    "type": "completion"
   },
   {
    "code": "blank_a = \"third\"\nblank_b = \"fourth\"\nblank_c = 0\nblank_d = 3\nelements_of_some_numbers = Table().with_columns(\n    \"English name for position\", make_array(\"first\", \"second\", blank_a, blank_b, \"fifth\"),\n    \"Index\",                     make_array(blank_c, 1, 2, blank_d, 4),\n    \"Element\",                   some_numbers)\nelements_of_some_numbers",
    "id": "8ab80cce8b7c401f9bf7a898d79fa3ab",
    "idx": 22,
    "time": "2021-02-04T06:48:29.297Z",
    "type": "execution"
   },
   {
    "id": "8ab80cce8b7c401f9bf7a898d79fa3ab",
    "time": "2021-02-04T06:48:29.382Z",
    "type": "completion"
   },
   {
    "code": "ok.grade(\"q2_2\");",
    "id": "dcbcd81fd03e464eb08e6ef5a8e65bb6",
    "idx": 23,
    "time": "2021-02-04T06:48:29.950Z",
    "type": "execution"
   },
   {
    "id": "dcbcd81fd03e464eb08e6ef5a8e65bb6",
    "time": "2021-02-04T06:48:30.324Z",
    "type": "completion"
   },
   {
    "code": "index_of_last_element = 141",
    "id": "a62d04bbe4b7489eb6fd78ec3b23dc57",
    "idx": 25,
    "time": "2021-02-04T06:48:32.673Z",
    "type": "execution"
   },
   {
    "id": "a62d04bbe4b7489eb6fd78ec3b23dc57",
    "time": "2021-02-04T06:48:32.748Z",
    "type": "completion"
   },
   {
    "code": "ok.grade(\"q2_3\");",
    "id": "bcb01e18229241d38bb844276eee80a0",
    "idx": 26,
    "time": "2021-02-04T06:48:33.313Z",
    "type": "execution"
   },
   {
    "id": "bcb01e18229241d38bb844276eee80a0",
    "time": "2021-02-04T06:48:33.688Z",
    "type": "completion"
   },
   {
    "code": "president_birth_years = Table.read_table(\"president_births.csv\").column('Birth Year')\n\nmost_recent_birth_year = president_birth_years.item(len(president_birth_years)-1)\nmost_recent_birth_year",
    "id": "2b025a929f5f4bbfae5013a25af42990",
    "idx": 28,
    "time": "2021-02-04T06:48:35.380Z",
    "type": "execution"
   },
   {
    "id": "2b025a929f5f4bbfae5013a25af42990",
    "time": "2021-02-04T06:48:35.466Z",
    "type": "completion"
   },
   {
    "code": "ok.grade(\"q2_4\");",
    "id": "223d9f86acfc4aab8086962949536def",
    "idx": 29,
    "time": "2021-02-04T06:48:35.892Z",
    "type": "execution"
   },
   {
    "id": "223d9f86acfc4aab8086962949536def",
    "time": "2021-02-04T06:48:36.286Z",
    "type": "completion"
   },
   {
    "code": "sum_of_birth_years = president_birth_years.item(0) + president_birth_years.item(15) + most_recent_birth_year\nsum_of_birth_years",
    "id": "b43c6fa098814f6189633ac10a5df884",
    "idx": 31,
    "time": "2021-02-04T06:48:37.583Z",
    "type": "execution"
   },
   {
    "id": "b43c6fa098814f6189633ac10a5df884",
    "time": "2021-02-04T06:48:37.667Z",
    "type": "completion"
   },
   {
    "code": "ok.grade(\"q2_5\");",
    "id": "acee2a1e8045452c8e361910e749f10f",
    "idx": 32,
    "time": "2021-02-04T06:48:38.277Z",
    "type": "execution"
   },
   {
    "id": "acee2a1e8045452c8e361910e749f10f",
    "time": "2021-02-04T06:48:38.446Z",
    "type": "completion"
   },
   {
    "code": "first_product = 42 * 157\nsecond_product = -4224 * 157\nthird_product = 424224242 * 157\nfourth_product = 250 * 157\nprint(first_product, second_product, third_product, fourth_product)",
    "id": "07e4eb1a5195454dbc4576db559d4f25",
    "idx": 35,
    "time": "2021-02-04T06:48:40.248Z",
    "type": "execution"
   },
   {
    "id": "07e4eb1a5195454dbc4576db559d4f25",
    "time": "2021-02-04T06:48:40.430Z",
    "type": "completion"
   },
   {
    "code": "ok.grade(\"q3_1\");",
    "id": "4e1922e339814bd68dac07f1e5ae7637",
    "idx": 36,
    "time": "2021-02-04T06:48:40.850Z",
    "type": "execution"
   },
   {
    "id": "4e1922e339814bd68dac07f1e5ae7637",
    "time": "2021-02-04T06:48:41.005Z",
    "type": "completion"
   },
   {
    "code": "numbers = make_array(42, -4224, 424224242, 250)\nproducts = numbers * 157\nproducts",
    "id": "9b6cbc3c1e414c9385a72a745883b3a7",
    "idx": 38,
    "time": "2021-02-04T06:48:42.641Z",
    "type": "execution"
   },
   {
    "id": "9b6cbc3c1e414c9385a72a745883b3a7",
    "time": "2021-02-04T06:48:42.709Z",
    "type": "completion"
   },
   {
    "code": "ok.grade(\"q3_2\");",
    "id": "ee77e0a29aed4ea6a7c8874e6b463623",
    "idx": 39,
    "time": "2021-02-04T06:48:43.213Z",
    "type": "execution"
   },
   {
    "id": "ee77e0a29aed4ea6a7c8874e6b463623",
    "time": "2021-02-04T06:48:43.493Z",
    "type": "completion"
   },
   {
    "code": "correct_products = numbers * 1577\ncorrect_products",
    "id": "ddc39d7dfbde417187f161c260112e9a",
    "idx": 41,
    "time": "2021-02-04T06:48:44.676Z",
    "type": "execution"
   },
   {
    "id": "ddc39d7dfbde417187f161c260112e9a",
    "time": "2021-02-04T06:48:45.041Z",
    "type": "completion"
   },
   {
    "code": "ok.grade(\"q3_3\");",
    "id": "0f53219ecf9b49d6a5a763d7e09494cb",
    "idx": 42,
    "time": "2021-02-04T06:48:45.328Z",
    "type": "execution"
   },
   {
    "id": "0f53219ecf9b49d6a5a763d7e09494cb",
    "time": "2021-02-04T06:48:46.105Z",
    "type": "completion"
   },
   {
    "code": "max_temperatures = Table.read_table(\"temperatures.csv\").column(\"Daily Max Temperature\")\n\ncelsius_max_temperatures = np.round((max_temperatures - 32) * 5/9)\ncelsius_max_temperatures",
    "id": "7675a9e92cec410c92a41297caa7711e",
    "idx": 44,
    "time": "2021-02-04T06:48:46.818Z",
    "type": "execution"
   },
   {
    "id": "7675a9e92cec410c92a41297caa7711e",
    "time": "2021-02-04T06:48:46.931Z",
    "type": "completion"
   },
   {
    "code": "ok.grade(\"q3_4\");",
    "id": "db0ba4020c6d494e97be127281edce69",
    "idx": 45,
    "time": "2021-02-04T06:48:47.436Z",
    "type": "execution"
   },
   {
    "id": "db0ba4020c6d494e97be127281edce69",
    "time": "2021-02-04T06:48:47.668Z",
    "type": "completion"
   },
   {
    "code": "min_temperatures = Table.read_table(\"temperatures.csv\").column(\"Daily Min Temperature\")\n\ncelsius_temperature_ranges = ((max_temperatures -32) * 5/9) - ((min_temperatures -32) * 5/9)\ncelsius_temperature_ranges",
    "id": "bdfefe059d804b5997e72b30e312cc21",
    "idx": 47,
    "time": "2021-02-04T06:48:48.865Z",
    "type": "execution"
   },
   {
    "id": "bdfefe059d804b5997e72b30e312cc21",
    "time": "2021-02-04T06:48:48.971Z",
    "type": "completion"
   },
   {
    "code": "ok.grade(\"q3_5\");",
    "id": "7bcf5a5d33d142428d1c7e01c1448bb2",
    "idx": 48,
    "time": "2021-02-04T06:48:49.471Z",
    "type": "execution"
   },
   {
    "id": "7bcf5a5d33d142428d1c7e01c1448bb2",
    "time": "2021-02-04T06:48:49.652Z",
    "type": "completion"
   },
   {
    "code": "world = Table.read_table(\"world_population.csv\").select('Year', 'Population')\nworld.show(4)",
    "id": "f070fdcef5fe431e8f8ac360e8319450",
    "idx": 52,
    "time": "2021-02-04T06:48:52.262Z",
    "type": "execution"
   },
   {
    "id": "f070fdcef5fe431e8f8ac360e8319450",
    "time": "2021-02-04T06:48:52.340Z",
    "type": "completion"
   },
   {
    "code": "population = world.column(1)\npopulation",
    "id": "dec41ba4f1ad4cdf8e716dc1a3e44c26",
    "idx": 54,
    "time": "2021-02-04T06:48:53.764Z",
    "type": "execution"
   },
   {
    "id": "dec41ba4f1ad4cdf8e716dc1a3e44c26",
    "time": "2021-02-04T06:48:53.854Z",
    "type": "completion"
   },
   {
    "code": "largest_population_change = np.max(np.diff(population))\nlargest_population_change",
    "id": "f91f22f580d446898f4979fa54cb0e8e",
    "idx": 59,
    "time": "2021-02-04T06:48:57.546Z",
    "type": "execution"
   },
   {
    "id": "f91f22f580d446898f4979fa54cb0e8e",
    "time": "2021-02-04T06:48:57.623Z",
    "type": "completion"
   },
   {
    "code": "ok.grade(\"q4_1\");",
    "id": "f9341aedd95f4ebaae39e050cdb4ece7",
    "idx": 60,
    "time": "2021-02-04T06:48:58.150Z",
    "type": "execution"
   },
   {
    "id": "f9341aedd95f4ebaae39e050cdb4ece7",
    "time": "2021-02-04T06:48:58.287Z",
    "type": "completion"
   },
   {
    "code": "np.cumsum(np.diff(population))",
    "id": "9dc5df88577545148a7939ab243e9f57",
    "idx": 62,
    "time": "2021-02-04T06:48:59.409Z",
    "type": "execution"
   },
   {
    "id": "9dc5df88577545148a7939ab243e9f57",
    "time": "2021-02-04T06:48:59.477Z",
    "type": "completion"
   },
   {
    "code": "# Assign cumulative_sum_answer to 1, 2, or 3\ncumulative_sum_answer = 1",
    "id": "26714febdc2f455f8b644496e280053d",
    "idx": 64,
    "time": "2021-02-04T06:49:00.682Z",
    "type": "execution"
   },
   {
    "id": "26714febdc2f455f8b644496e280053d",
    "time": "2021-02-04T06:49:00.754Z",
    "type": "completion"
   },
   {
    "code": "ok.grade(\"q4_2\");",
    "id": "320ceabb6c2f478aa59d584f1ad56a47",
    "idx": 65,
    "time": "2021-02-04T06:49:01.320Z",
    "type": "execution"
   },
   {
    "id": "320ceabb6c2f478aa59d584f1ad56a47",
    "time": "2021-02-04T06:49:01.522Z",
    "type": "completion"
   },
   {
    "code": "waiting_times = Table.read_table('old_faithful.csv').column('waiting')\nwaiting_times\n\nshortest = min(waiting_times)\nlongest = max(waiting_times)\naverage = np.average(waiting_times)\n\nprint(\"Old Faithful erupts every\", shortest, \"to\", longest, \"minutes and every\", average, \"minutes on average.\")",
    "id": "fd9d7bd9f1d64820a56a84c258d8ae54",
    "idx": 69,
    "time": "2021-02-04T06:49:04.125Z",
    "type": "execution"
   },
   {
    "id": "fd9d7bd9f1d64820a56a84c258d8ae54",
    "time": "2021-02-04T06:49:04.256Z",
    "type": "completion"
   },
   {
    "code": "ok.grade(\"q5_1\");",
    "id": "f6a564169249453681581e2248da3079",
    "idx": 70,
    "time": "2021-02-04T06:49:04.773Z",
    "type": "execution"
   },
   {
    "id": "f6a564169249453681581e2248da3079",
    "time": "2021-02-04T06:49:04.935Z",
    "type": "completion"
   },
   {
    "code": "biggest_decrease = abs(min((np.diff(waiting_times))))\nbiggest_decrease",
    "id": "04f3cb575a8a45498e354d0373633879",
    "idx": 72,
    "time": "2021-02-04T06:49:06.171Z",
    "type": "execution"
   },
   {
    "id": "04f3cb575a8a45498e354d0373633879",
    "time": "2021-02-04T06:49:06.394Z",
    "type": "completion"
   },
   {
    "code": "ok.grade(\"q5_2\");",
    "id": "51abe4c63bd943b6b4f15e6ef4701978",
    "idx": 73,
    "time": "2021-02-04T06:49:06.879Z",
    "type": "execution"
   },
   {
    "id": "51abe4c63bd943b6b4f15e6ef4701978",
    "time": "2021-02-04T06:49:07.257Z",
    "type": "completion"
   },
   {
    "code": "difference_from_expected = (abs(np.cumsum(waiting_times) - 60 * len(waiting_times)))\ndifference_from_expected",
    "id": "0a25445b3d004012845658036f4c9c92",
    "idx": 75,
    "time": "2021-02-04T06:49:08.632Z",
    "type": "execution"
   },
   {
    "id": "0a25445b3d004012845658036f4c9c92",
    "time": "2021-02-04T06:49:08.929Z",
    "type": "completion"
   },
   {
    "code": "ok.grade(\"q5_3\");",
    "id": "9002260ca914449c9dfe91dcfe3b42d2",
    "idx": 76,
    "time": "2021-02-04T06:49:09.388Z",
    "type": "execution"
   },
   {
    "id": "9002260ca914449c9dfe91dcfe3b42d2",
    "time": "2021-02-04T06:49:09.761Z",
    "type": "completion"
   },
   {
    "code": "average_error = np.average(abs(np.diff(waiting_times)) + abs(np.diff(waiting_times))/len(waiting_times - 1)) \naverage_error\n",
    "id": "5ce4d8e7548c4c869790b2830c81673a",
    "idx": 78,
    "time": "2021-02-04T06:49:10.912Z",
    "type": "execution"
   },
   {
    "id": "5ce4d8e7548c4c869790b2830c81673a",
    "time": "2021-02-04T06:49:10.982Z",
    "type": "completion"
   },
   {
    "code": "ok.grade(\"q5_4\");",
    "id": "5ff6e6713cc84f97aab451e28bfb2ae1",
    "idx": 79,
    "time": "2021-02-04T06:49:11.754Z",
    "type": "execution"
   },
   {
    "id": "5ff6e6713cc84f97aab451e28bfb2ae1",
    "time": "2021-02-04T06:49:12.695Z",
    "type": "completion"
   },
   {
    "code": "# Our solution uses 1 statement split over 3 lines.\nfruits = Table().with_columns(\n        \"fruit name\", make_array('apple','orange', 'pineapple'),\n        \"count\", make_array(4, 3, 3))\n\nfruits",
    "id": "83df6264ac43436189dc859c304c64b3",
    "idx": 82,
    "time": "2021-02-04T06:49:14.113Z",
    "type": "execution"
   },
   {
    "id": "83df6264ac43436189dc859c304c64b3",
    "time": "2021-02-04T06:49:14.232Z",
    "type": "completion"
   },
   {
    "code": "ok.grade(\"q6_1\");",
    "id": "5ff9bcec193e47f9908f6268de40ec78",
    "idx": 83,
    "time": "2021-02-04T06:49:14.843Z",
    "type": "execution"
   },
   {
    "id": "5ff9bcec193e47f9908f6268de40ec78",
    "time": "2021-02-04T06:49:14.976Z",
    "type": "completion"
   },
   {
    "code": "inventory = Table.read_table('inventory.csv')\ninventory",
    "id": "9db9c3458d2e4b8b82f8dc44f4d927c2",
    "idx": 85,
    "time": "2021-02-04T06:49:16.714Z",
    "type": "execution"
   },
   {
    "id": "9db9c3458d2e4b8b82f8dc44f4d927c2",
    "time": "2021-02-04T06:49:16.803Z",
    "type": "completion"
   },
   {
    "code": "ok.grade(\"q6_2\");",
    "id": "722763d1f47741c3b43ff580bcfa73d9",
    "idx": 86,
    "time": "2021-02-04T06:49:17.474Z",
    "type": "execution"
   },
   {
    "id": "722763d1f47741c3b43ff580bcfa73d9",
    "time": "2021-02-04T06:49:17.665Z",
    "type": "completion"
   },
   {
    "code": "all_different = False\nall_different",
    "id": "c248799ba9e34de08e6ed76691dd3d75",
    "idx": 88,
    "time": "2021-02-04T06:49:19.073Z",
    "type": "execution"
   },
   {
    "id": "c248799ba9e34de08e6ed76691dd3d75",
    "time": "2021-02-04T06:49:19.142Z",
    "type": "completion"
   },
   {
    "code": "ok.grade(\"q6_3\");",
    "id": "fa94414c2a4f450d8e300abb5fb0571a",
    "idx": 89,
    "time": "2021-02-04T06:49:19.803Z",
    "type": "execution"
   },
   {
    "id": "fa94414c2a4f450d8e300abb5fb0571a",
    "time": "2021-02-04T06:49:19.966Z",
    "type": "completion"
   },
   {
    "code": "sales = Table.read_table('sales.csv')\nsales",
    "id": "1663699462e5497b87f871c3ad4caa33",
    "idx": 91,
    "time": "2021-02-04T06:49:21.211Z",
    "type": "execution"
   },
   {
    "id": "1663699462e5497b87f871c3ad4caa33",
    "time": "2021-02-04T06:49:21.488Z",
    "type": "completion"
   },
   {
    "code": "ok.grade(\"q6_4\");",
    "id": "ff2e8e3c0caa47e2ae0fc04681ab55d0",
    "idx": 92,
    "time": "2021-02-04T06:49:21.788Z",
    "type": "execution"
   },
   {
    "id": "ff2e8e3c0caa47e2ae0fc04681ab55d0",
    "time": "2021-02-04T06:49:22.318Z",
    "type": "completion"
   },
   {
    "code": "total_fruits_sold = sum(sales.column('count sold'))\ntotal_fruits_sold",
    "id": "72de743bf06e4da78923a46262ce8a6b",
    "idx": 94,
    "time": "2021-02-04T06:49:23.416Z",
    "type": "execution"
   },
   {
    "id": "72de743bf06e4da78923a46262ce8a6b",
    "time": "2021-02-04T06:49:23.486Z",
    "type": "completion"
   },
   {
    "code": "ok.grade(\"q6_5\");",
    "id": "b72e9faadea14f75a800f8e880a51ba9",
    "idx": 95,
    "time": "2021-02-04T06:49:23.976Z",
    "type": "execution"
   },
   {
    "id": "b72e9faadea14f75a800f8e880a51ba9",
    "time": "2021-02-04T06:49:24.133Z",
    "type": "completion"
   },
   {
    "code": "total_revenue = sum(sales.column('count sold') * sales.column('price per fruit ($)'))\ntotal_revenue",
    "id": "f810d1fcb29a43588ee7eaa60cd394d9",
    "idx": 97,
    "time": "2021-02-04T06:49:25.462Z",
    "type": "execution"
   },
   {
    "id": "f810d1fcb29a43588ee7eaa60cd394d9",
    "time": "2021-02-04T06:49:25.532Z",
    "type": "completion"
   },
   {
    "code": "ok.grade(\"q6_6\");",
    "id": "138ad3ce9b504781bed38ca548cab4be",
    "idx": 98,
    "time": "2021-02-04T06:49:26.095Z",
    "type": "execution"
   },
   {
    "id": "138ad3ce9b504781bed38ca548cab4be",
    "time": "2021-02-04T06:49:26.489Z",
    "type": "completion"
   },
   {
    "code": "remaining_inventory = Table().with_columns(\n    'box ID', inventory.column('box ID'),\n    'fruit name', inventory.column('fruit name'),\n    'count', (inventory.column('count') - sales.column('count sold')))\n\nremaining_inventory",
    "id": "032c4ab49223468bb6418ca90fa1cd47",
    "idx": 100,
    "time": "2021-02-04T06:49:27.479Z",
    "type": "execution"
   },
   {
    "id": "032c4ab49223468bb6418ca90fa1cd47",
    "time": "2021-02-04T06:49:27.547Z",
    "type": "completion"
   },
   {
    "code": "ok.grade(\"q6_7\");",
    "id": "078e2b299adc4c85bebed1c169238c54",
    "idx": 101,
    "time": "2021-02-04T06:49:28.207Z",
    "type": "execution"
   },
   {
    "id": "078e2b299adc4c85bebed1c169238c54",
    "time": "2021-02-04T06:49:28.420Z",
    "type": "completion"
   },
   {
    "code": "_ = ok.submit()",
    "id": "92372aa1f86e4d71a359dde851725442",
    "idx": 104,
    "time": "2021-02-04T06:49:33.148Z",
    "type": "execution"
   }
  ],
  "kernelspec": {
   "display_name": "Python 3",
   "language": "python",
   "name": "python3"
  },
  "language_info": {
   "codemirror_mode": {
    "name": "ipython",
    "version": 3
   },
   "file_extension": ".py",
   "mimetype": "text/x-python",
   "name": "python",
   "nbconvert_exporter": "python",
   "pygments_lexer": "ipython3",
   "version": "3.8.6"
  }
 },
 "nbformat": 4,
 "nbformat_minor": 1
}
